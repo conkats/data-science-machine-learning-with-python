{
 "cells": [
  {
   "cell_type": "markdown",
   "id": "2bf5ad43-227f-4768-b978-810d0f1dbcd7",
   "metadata": {},
   "source": [
    "#Introduction to Machine Learning"
   ]
  },
  {
   "cell_type": "code",
   "execution_count": 93,
   "id": "eace4c21-d30f-41b8-af01-084b348682a6",
   "metadata": {},
   "outputs": [],
   "source": [
    "######################DATA Preparation#############################################"
   ]
  },
  {
   "cell_type": "code",
   "execution_count": 3,
   "id": "6f17893b-b03f-46a3-828b-b22e5de24d5f",
   "metadata": {},
   "outputs": [],
   "source": [
    "import pandas as pd"
   ]
  },
  {
   "cell_type": "code",
   "execution_count": 4,
   "id": "0d6f04a6-7f3b-4048-9283-fc29a9729ba3",
   "metadata": {},
   "outputs": [],
   "source": [
    "#Load the data"
   ]
  },
  {
   "cell_type": "code",
   "execution_count": 9,
   "id": "9d09540d-71f1-4e7e-a821-bdc76e9a2d35",
   "metadata": {},
   "outputs": [],
   "source": [
    "cohort = pd.read_csv('./eicu_cohort.csv')"
   ]
  },
  {
   "cell_type": "code",
   "execution_count": 10,
   "id": "e501d7cc-11ad-40ae-8bd9-8ab9351e7630",
   "metadata": {},
   "outputs": [
    {
     "data": {
      "text/html": [
       "<div>\n",
       "<style scoped>\n",
       "    .dataframe tbody tr th:only-of-type {\n",
       "        vertical-align: middle;\n",
       "    }\n",
       "\n",
       "    .dataframe tbody tr th {\n",
       "        vertical-align: top;\n",
       "    }\n",
       "\n",
       "    .dataframe thead th {\n",
       "        text-align: right;\n",
       "    }\n",
       "</style>\n",
       "<table border=\"1\" class=\"dataframe\">\n",
       "  <thead>\n",
       "    <tr style=\"text-align: right;\">\n",
       "      <th></th>\n",
       "      <th>gender</th>\n",
       "      <th>age</th>\n",
       "      <th>admissionweight</th>\n",
       "      <th>unabridgedhosplos</th>\n",
       "      <th>acutephysiologyscore</th>\n",
       "      <th>apachescore</th>\n",
       "      <th>actualhospitalmortality</th>\n",
       "      <th>heartrate</th>\n",
       "      <th>meanbp</th>\n",
       "      <th>creatinine</th>\n",
       "      <th>temperature</th>\n",
       "      <th>respiratoryrate</th>\n",
       "      <th>wbc</th>\n",
       "      <th>admissionheight</th>\n",
       "    </tr>\n",
       "  </thead>\n",
       "  <tbody>\n",
       "    <tr>\n",
       "      <th>0</th>\n",
       "      <td>Male</td>\n",
       "      <td>45.0</td>\n",
       "      <td>116.0</td>\n",
       "      <td>3.0778</td>\n",
       "      <td>41</td>\n",
       "      <td>46</td>\n",
       "      <td>ALIVE</td>\n",
       "      <td>109.0</td>\n",
       "      <td>154.0</td>\n",
       "      <td>1.01</td>\n",
       "      <td>36.20</td>\n",
       "      <td>41.0</td>\n",
       "      <td>10.0</td>\n",
       "      <td>178.0</td>\n",
       "    </tr>\n",
       "    <tr>\n",
       "      <th>1</th>\n",
       "      <td>Male</td>\n",
       "      <td>57.0</td>\n",
       "      <td>NaN</td>\n",
       "      <td>7.6736</td>\n",
       "      <td>26</td>\n",
       "      <td>31</td>\n",
       "      <td>ALIVE</td>\n",
       "      <td>106.0</td>\n",
       "      <td>46.0</td>\n",
       "      <td>-1.00</td>\n",
       "      <td>36.30</td>\n",
       "      <td>6.0</td>\n",
       "      <td>10.1</td>\n",
       "      <td>172.7</td>\n",
       "    </tr>\n",
       "    <tr>\n",
       "      <th>2</th>\n",
       "      <td>Female</td>\n",
       "      <td>59.0</td>\n",
       "      <td>66.6</td>\n",
       "      <td>15.0778</td>\n",
       "      <td>56</td>\n",
       "      <td>61</td>\n",
       "      <td>ALIVE</td>\n",
       "      <td>134.0</td>\n",
       "      <td>172.0</td>\n",
       "      <td>1.03</td>\n",
       "      <td>34.80</td>\n",
       "      <td>32.0</td>\n",
       "      <td>25.5</td>\n",
       "      <td>170.2</td>\n",
       "    </tr>\n",
       "    <tr>\n",
       "      <th>3</th>\n",
       "      <td>Male</td>\n",
       "      <td>63.0</td>\n",
       "      <td>71.9</td>\n",
       "      <td>1.3201</td>\n",
       "      <td>77</td>\n",
       "      <td>88</td>\n",
       "      <td>EXPIRED</td>\n",
       "      <td>133.0</td>\n",
       "      <td>40.0</td>\n",
       "      <td>4.30</td>\n",
       "      <td>32.60</td>\n",
       "      <td>39.0</td>\n",
       "      <td>12.6</td>\n",
       "      <td>167.6</td>\n",
       "    </tr>\n",
       "    <tr>\n",
       "      <th>4</th>\n",
       "      <td>Male</td>\n",
       "      <td>67.0</td>\n",
       "      <td>104.8</td>\n",
       "      <td>1.5257</td>\n",
       "      <td>75</td>\n",
       "      <td>88</td>\n",
       "      <td>EXPIRED</td>\n",
       "      <td>31.0</td>\n",
       "      <td>133.0</td>\n",
       "      <td>0.70</td>\n",
       "      <td>36.44</td>\n",
       "      <td>31.0</td>\n",
       "      <td>11.3</td>\n",
       "      <td>182.9</td>\n",
       "    </tr>\n",
       "  </tbody>\n",
       "</table>\n",
       "</div>"
      ],
      "text/plain": [
       "   gender   age  admissionweight  unabridgedhosplos  acutephysiologyscore  \\\n",
       "0    Male  45.0            116.0             3.0778                    41   \n",
       "1    Male  57.0              NaN             7.6736                    26   \n",
       "2  Female  59.0             66.6            15.0778                    56   \n",
       "3    Male  63.0             71.9             1.3201                    77   \n",
       "4    Male  67.0            104.8             1.5257                    75   \n",
       "\n",
       "   apachescore actualhospitalmortality  heartrate  meanbp  creatinine  \\\n",
       "0           46                   ALIVE      109.0   154.0        1.01   \n",
       "1           31                   ALIVE      106.0    46.0       -1.00   \n",
       "2           61                   ALIVE      134.0   172.0        1.03   \n",
       "3           88                 EXPIRED      133.0    40.0        4.30   \n",
       "4           88                 EXPIRED       31.0   133.0        0.70   \n",
       "\n",
       "   temperature  respiratoryrate   wbc  admissionheight  \n",
       "0        36.20             41.0  10.0            178.0  \n",
       "1        36.30              6.0  10.1            172.7  \n",
       "2        34.80             32.0  25.5            170.2  \n",
       "3        32.60             39.0  12.6            167.6  \n",
       "4        36.44             31.0  11.3            182.9  "
      ]
     },
     "execution_count": 10,
     "metadata": {},
     "output_type": "execute_result"
    }
   ],
   "source": [
    "cohort.head()"
   ]
  },
  {
   "cell_type": "code",
   "execution_count": 12,
   "id": "3f37702e-c665-4adb-8a52-5c3a4cca79cd",
   "metadata": {},
   "outputs": [],
   "source": [
    "#pip install tableone"
   ]
  },
  {
   "cell_type": "code",
   "execution_count": 13,
   "id": "265b2d10-21af-4ba5-8121-3f9cb095e26f",
   "metadata": {},
   "outputs": [],
   "source": [
    "from tableone import tableone"
   ]
  },
  {
   "cell_type": "code",
   "execution_count": 21,
   "id": "9500a435-e8c6-42b8-9532-e9e01404351a",
   "metadata": {},
   "outputs": [],
   "source": [
    "#rename columns using a Dictionary and change key names"
   ]
  },
  {
   "cell_type": "code",
   "execution_count": 15,
   "id": "938eaa34-2d30-49f9-a0b2-cfbb0d7d80cb",
   "metadata": {},
   "outputs": [],
   "source": [
    "rename = {\"unabridgedhosplos\":\"length of stay\", \"meanbp\": \"mean blood pressure\", \"wbc\": \"white cell count\"}"
   ]
  },
  {
   "cell_type": "code",
   "execution_count": 30,
   "id": "a7ea541a-0712-4922-801e-8260bbe9e5b4",
   "metadata": {},
   "outputs": [],
   "source": [
    "#tableone?? or help(tableone) #to get help"
   ]
  },
  {
   "cell_type": "code",
   "execution_count": 16,
   "id": "9463aa85-91c2-435b-a32e-0cabba4c7814",
   "metadata": {},
   "outputs": [],
   "source": [
    "#view summary characteristics"
   ]
  },
  {
   "cell_type": "code",
   "execution_count": 28,
   "id": "cebef7d4-2957-4f11-8e19-0f200e1c6071",
   "metadata": {},
   "outputs": [],
   "source": [
    "t1 = tableone (cohort, groupby=\"actualhospitalmortality\", rename=rename, pval=True, htest_name=True)"
   ]
  },
  {
   "cell_type": "code",
   "execution_count": 29,
   "id": "4ca22fa9-dca4-4486-9b75-a718a5bfa4b7",
   "metadata": {},
   "outputs": [
    {
     "data": {
      "text/html": [
       "<div>\n",
       "<style scoped>\n",
       "    .dataframe tbody tr th:only-of-type {\n",
       "        vertical-align: middle;\n",
       "    }\n",
       "\n",
       "    .dataframe tbody tr th {\n",
       "        vertical-align: top;\n",
       "    }\n",
       "\n",
       "    .dataframe thead tr th {\n",
       "        text-align: left;\n",
       "    }\n",
       "</style>\n",
       "<table border=\"1\" class=\"dataframe\">\n",
       "  <thead>\n",
       "    <tr>\n",
       "      <th></th>\n",
       "      <th></th>\n",
       "      <th colspan=\"6\" halign=\"left\">Grouped by actualhospitalmortality</th>\n",
       "    </tr>\n",
       "    <tr>\n",
       "      <th></th>\n",
       "      <th></th>\n",
       "      <th>Missing</th>\n",
       "      <th>Overall</th>\n",
       "      <th>ALIVE</th>\n",
       "      <th>EXPIRED</th>\n",
       "      <th>P-Value</th>\n",
       "      <th>Test</th>\n",
       "    </tr>\n",
       "  </thead>\n",
       "  <tbody>\n",
       "    <tr>\n",
       "      <th>n</th>\n",
       "      <th></th>\n",
       "      <td></td>\n",
       "      <td>235</td>\n",
       "      <td>195</td>\n",
       "      <td>40</td>\n",
       "      <td></td>\n",
       "      <td></td>\n",
       "    </tr>\n",
       "    <tr>\n",
       "      <th rowspan=\"3\" valign=\"top\">gender, n (%)</th>\n",
       "      <th>Female</th>\n",
       "      <td>0</td>\n",
       "      <td>116 (49.4)</td>\n",
       "      <td>101 (51.8)</td>\n",
       "      <td>15 (37.5)</td>\n",
       "      <td>0.028</td>\n",
       "      <td>Chi-squared (warning: expected count &lt; 5)</td>\n",
       "    </tr>\n",
       "    <tr>\n",
       "      <th>Male</th>\n",
       "      <td></td>\n",
       "      <td>118 (50.2)</td>\n",
       "      <td>94 (48.2)</td>\n",
       "      <td>24 (60.0)</td>\n",
       "      <td></td>\n",
       "      <td></td>\n",
       "    </tr>\n",
       "    <tr>\n",
       "      <th>Unknown</th>\n",
       "      <td></td>\n",
       "      <td>1 (0.4)</td>\n",
       "      <td></td>\n",
       "      <td>1 (2.5)</td>\n",
       "      <td></td>\n",
       "      <td></td>\n",
       "    </tr>\n",
       "    <tr>\n",
       "      <th>age, mean (SD)</th>\n",
       "      <th></th>\n",
       "      <td>9</td>\n",
       "      <td>61.9 (15.5)</td>\n",
       "      <td>60.5 (15.8)</td>\n",
       "      <td>69.3 (11.5)</td>\n",
       "      <td>&lt;0.001</td>\n",
       "      <td>Two Sample T-test</td>\n",
       "    </tr>\n",
       "    <tr>\n",
       "      <th>admissionweight, mean (SD)</th>\n",
       "      <th></th>\n",
       "      <td>5</td>\n",
       "      <td>87.6 (28.0)</td>\n",
       "      <td>88.6 (28.8)</td>\n",
       "      <td>82.3 (23.3)</td>\n",
       "      <td>0.140</td>\n",
       "      <td>Two Sample T-test</td>\n",
       "    </tr>\n",
       "    <tr>\n",
       "      <th>length of stay, mean (SD)</th>\n",
       "      <th></th>\n",
       "      <td>0</td>\n",
       "      <td>9.2 (8.6)</td>\n",
       "      <td>9.6 (7.5)</td>\n",
       "      <td>6.9 (12.5)</td>\n",
       "      <td>0.189</td>\n",
       "      <td>Two Sample T-test</td>\n",
       "    </tr>\n",
       "    <tr>\n",
       "      <th>acutephysiologyscore, mean (SD)</th>\n",
       "      <th></th>\n",
       "      <td>0</td>\n",
       "      <td>59.9 (28.1)</td>\n",
       "      <td>54.5 (23.1)</td>\n",
       "      <td>86.7 (34.7)</td>\n",
       "      <td>&lt;0.001</td>\n",
       "      <td>Two Sample T-test</td>\n",
       "    </tr>\n",
       "    <tr>\n",
       "      <th>apachescore, mean (SD)</th>\n",
       "      <th></th>\n",
       "      <td>0</td>\n",
       "      <td>71.2 (30.3)</td>\n",
       "      <td>64.6 (24.5)</td>\n",
       "      <td>103.5 (34.9)</td>\n",
       "      <td>&lt;0.001</td>\n",
       "      <td>Two Sample T-test</td>\n",
       "    </tr>\n",
       "    <tr>\n",
       "      <th>heartrate, mean (SD)</th>\n",
       "      <th></th>\n",
       "      <td>0</td>\n",
       "      <td>108.7 (33.1)</td>\n",
       "      <td>107.9 (30.6)</td>\n",
       "      <td>112.9 (43.2)</td>\n",
       "      <td>0.490</td>\n",
       "      <td>Two Sample T-test</td>\n",
       "    </tr>\n",
       "    <tr>\n",
       "      <th>mean blood pressure, mean (SD)</th>\n",
       "      <th></th>\n",
       "      <td>0</td>\n",
       "      <td>93.2 (47.0)</td>\n",
       "      <td>92.1 (45.4)</td>\n",
       "      <td>98.6 (54.5)</td>\n",
       "      <td>0.482</td>\n",
       "      <td>Two Sample T-test</td>\n",
       "    </tr>\n",
       "    <tr>\n",
       "      <th>creatinine, mean (SD)</th>\n",
       "      <th></th>\n",
       "      <td>0</td>\n",
       "      <td>1.0 (1.7)</td>\n",
       "      <td>0.9 (1.7)</td>\n",
       "      <td>1.7 (1.6)</td>\n",
       "      <td>0.007</td>\n",
       "      <td>Two Sample T-test</td>\n",
       "    </tr>\n",
       "    <tr>\n",
       "      <th>temperature, mean (SD)</th>\n",
       "      <th></th>\n",
       "      <td>0</td>\n",
       "      <td>35.2 (6.5)</td>\n",
       "      <td>36.1 (3.9)</td>\n",
       "      <td>31.2 (12.4)</td>\n",
       "      <td>0.018</td>\n",
       "      <td>Two Sample T-test</td>\n",
       "    </tr>\n",
       "    <tr>\n",
       "      <th>respiratoryrate, mean (SD)</th>\n",
       "      <th></th>\n",
       "      <td>0</td>\n",
       "      <td>30.7 (15.2)</td>\n",
       "      <td>29.9 (15.1)</td>\n",
       "      <td>34.3 (15.6)</td>\n",
       "      <td>0.110</td>\n",
       "      <td>Two Sample T-test</td>\n",
       "    </tr>\n",
       "    <tr>\n",
       "      <th>white cell count, mean (SD)</th>\n",
       "      <th></th>\n",
       "      <td>0</td>\n",
       "      <td>10.5 (8.4)</td>\n",
       "      <td>10.7 (8.2)</td>\n",
       "      <td>9.7 (9.7)</td>\n",
       "      <td>0.576</td>\n",
       "      <td>Two Sample T-test</td>\n",
       "    </tr>\n",
       "    <tr>\n",
       "      <th>admissionheight, mean (SD)</th>\n",
       "      <th></th>\n",
       "      <td>2</td>\n",
       "      <td>168.0 (12.8)</td>\n",
       "      <td>167.7 (13.4)</td>\n",
       "      <td>169.4 (9.1)</td>\n",
       "      <td>0.353</td>\n",
       "      <td>Two Sample T-test</td>\n",
       "    </tr>\n",
       "  </tbody>\n",
       "</table>\n",
       "</div><br />[1] Chi-squared tests for the following variables may be invalid due to the low number of observations: gender.<br />"
      ],
      "text/plain": [
       "                                        Grouped by actualhospitalmortality                                                                                             \n",
       "                                                                   Missing       Overall         ALIVE       EXPIRED P-Value                                       Test\n",
       "n                                                                                    235           195            40                                                   \n",
       "gender, n (%)                   Female                                   0    116 (49.4)    101 (51.8)     15 (37.5)   0.028  Chi-squared (warning: expected count < 5)\n",
       "                                Male                                          118 (50.2)     94 (48.2)     24 (60.0)                                                   \n",
       "                                Unknown                                          1 (0.4)                     1 (2.5)                                                   \n",
       "age, mean (SD)                                                           9   61.9 (15.5)   60.5 (15.8)   69.3 (11.5)  <0.001                          Two Sample T-test\n",
       "admissionweight, mean (SD)                                               5   87.6 (28.0)   88.6 (28.8)   82.3 (23.3)   0.140                          Two Sample T-test\n",
       "length of stay, mean (SD)                                                0     9.2 (8.6)     9.6 (7.5)    6.9 (12.5)   0.189                          Two Sample T-test\n",
       "acutephysiologyscore, mean (SD)                                          0   59.9 (28.1)   54.5 (23.1)   86.7 (34.7)  <0.001                          Two Sample T-test\n",
       "apachescore, mean (SD)                                                   0   71.2 (30.3)   64.6 (24.5)  103.5 (34.9)  <0.001                          Two Sample T-test\n",
       "heartrate, mean (SD)                                                     0  108.7 (33.1)  107.9 (30.6)  112.9 (43.2)   0.490                          Two Sample T-test\n",
       "mean blood pressure, mean (SD)                                           0   93.2 (47.0)   92.1 (45.4)   98.6 (54.5)   0.482                          Two Sample T-test\n",
       "creatinine, mean (SD)                                                    0     1.0 (1.7)     0.9 (1.7)     1.7 (1.6)   0.007                          Two Sample T-test\n",
       "temperature, mean (SD)                                                   0    35.2 (6.5)    36.1 (3.9)   31.2 (12.4)   0.018                          Two Sample T-test\n",
       "respiratoryrate, mean (SD)                                               0   30.7 (15.2)   29.9 (15.1)   34.3 (15.6)   0.110                          Two Sample T-test\n",
       "white cell count, mean (SD)                                              0    10.5 (8.4)    10.7 (8.2)     9.7 (9.7)   0.576                          Two Sample T-test\n",
       "admissionheight, mean (SD)                                               2  168.0 (12.8)  167.7 (13.4)   169.4 (9.1)   0.353                          Two Sample T-test\n",
       "[1] Chi-squared tests for the following variables may be invalid due to the low number of observations: gender."
      ]
     },
     "execution_count": 29,
     "metadata": {},
     "output_type": "execute_result"
    }
   ],
   "source": [
    "t1"
   ]
  },
  {
   "cell_type": "code",
   "execution_count": 19,
   "id": "71cf5aae-9dac-4066-825f-982a67f70347",
   "metadata": {},
   "outputs": [],
   "source": [
    "#Output to laTeX"
   ]
  },
  {
   "cell_type": "code",
   "execution_count": 20,
   "id": "72002a34-caed-4e2e-a90b-f9ffb72faa4e",
   "metadata": {},
   "outputs": [
    {
     "name": "stdout",
     "output_type": "stream",
     "text": [
      "\\begin{tabular}{llllll}\n",
      "\\hline\n",
      "                                 &         & Missing   & Overall      & ALIVE        & EXPIRED      \\\\\n",
      "\\hline\n",
      " n                               &         &           & 235          & 195          & 40           \\\\\n",
      " gender, n (\\%)                   & Female  & 0         & 116 (49.4)   & 101 (51.8)   & 15 (37.5)    \\\\\n",
      "                                 & Male    &           & 118 (50.2)   & 94 (48.2)    & 24 (60.0)    \\\\\n",
      "                                 & Unknown &           & 1 (0.4)      &              & 1 (2.5)      \\\\\n",
      " age, mean (SD)                  &         & 9         & 61.9 (15.5)  & 60.5 (15.8)  & 69.3 (11.5)  \\\\\n",
      " admissionweight, mean (SD)      &         & 5         & 87.6 (28.0)  & 88.6 (28.8)  & 82.3 (23.3)  \\\\\n",
      " length of stay, mean (SD)       &         & 0         & 9.2 (8.6)    & 9.6 (7.5)    & 6.9 (12.5)   \\\\\n",
      " acutephysiologyscore, mean (SD) &         & 0         & 59.9 (28.1)  & 54.5 (23.1)  & 86.7 (34.7)  \\\\\n",
      " apachescore, mean (SD)          &         & 0         & 71.2 (30.3)  & 64.6 (24.5)  & 103.5 (34.9) \\\\\n",
      " heartrate, mean (SD)            &         & 0         & 108.7 (33.1) & 107.9 (30.6) & 112.9 (43.2) \\\\\n",
      " mean blood pressure, mean (SD)  &         & 0         & 93.2 (47.0)  & 92.1 (45.4)  & 98.6 (54.5)  \\\\\n",
      " creatinine, mean (SD)           &         & 0         & 1.0 (1.7)    & 0.9 (1.7)    & 1.7 (1.6)    \\\\\n",
      " temperature, mean (SD)          &         & 0         & 35.2 (6.5)   & 36.1 (3.9)   & 31.2 (12.4)  \\\\\n",
      " respiratoryrate, mean (SD)      &         & 0         & 30.7 (15.2)  & 29.9 (15.1)  & 34.3 (15.6)  \\\\\n",
      " white cell count, mean (SD)     &         & 0         & 10.5 (8.4)   & 10.7 (8.2)   & 9.7 (9.7)    \\\\\n",
      " admissionheight, mean (SD)      &         & 2         & 168.0 (12.8) & 167.7 (13.4) & 169.4 (9.1)  \\\\\n",
      "\\hline\n",
      "\\end{tabular}\n"
     ]
    }
   ],
   "source": [
    "print(t1.tabulate(tablefmt = \"latex\"))"
   ]
  },
  {
   "cell_type": "code",
   "execution_count": 33,
   "id": "342881c8-5275-4238-9a19-5a1d8ed8cbc8",
   "metadata": {},
   "outputs": [],
   "source": [
    "#check current type-Encoding"
   ]
  },
  {
   "cell_type": "code",
   "execution_count": 32,
   "id": "48fdebce-3e38-49dc-ad14-3072aff9931a",
   "metadata": {},
   "outputs": [
    {
     "name": "stdout",
     "output_type": "stream",
     "text": [
      "gender                      object\n",
      "age                        float64\n",
      "admissionweight            float64\n",
      "unabridgedhosplos          float64\n",
      "acutephysiologyscore         int64\n",
      "apachescore                  int64\n",
      "actualhospitalmortality     object\n",
      "heartrate                  float64\n",
      "meanbp                     float64\n",
      "creatinine                 float64\n",
      "temperature                float64\n",
      "respiratoryrate            float64\n",
      "wbc                        float64\n",
      "admissionheight            float64\n",
      "dtype: object\n"
     ]
    }
   ],
   "source": [
    "print(cohort.dtypes)"
   ]
  },
  {
   "cell_type": "code",
   "execution_count": 34,
   "id": "f7c0bcc5-fabc-48e1-87eb-a60c586ff0ca",
   "metadata": {},
   "outputs": [],
   "source": [
    "# convert to a categorical type"
   ]
  },
  {
   "cell_type": "code",
   "execution_count": 35,
   "id": "226f0d11-11a9-4dff-b382-f5c30ac75327",
   "metadata": {},
   "outputs": [],
   "source": [
    "categories=['ALIVE', 'EXPIRED']"
   ]
  },
  {
   "cell_type": "code",
   "execution_count": 38,
   "id": "57ae5f6b-5b92-460c-af77-eb72ed73976c",
   "metadata": {},
   "outputs": [],
   "source": [
    "#overwrite actualhospitalmortality with actualhospitalmortality but best to create a new column"
   ]
  },
  {
   "cell_type": "code",
   "execution_count": 36,
   "id": "cba07f50-4f8c-4af7-91a8-756a7e5eca7d",
   "metadata": {},
   "outputs": [],
   "source": [
    "cohort['actualhospitalmortality']  = pd.Categorical(cohort['actualhospitalmortality'], categories=categories)"
   ]
  },
  {
   "cell_type": "code",
   "execution_count": 39,
   "id": "a7711596-7d31-4fce-bfd6-9aca9e2e74f4",
   "metadata": {},
   "outputs": [
    {
     "data": {
      "text/plain": [
       "0      ALIVE\n",
       "1      ALIVE\n",
       "2      ALIVE\n",
       "3    EXPIRED\n",
       "4    EXPIRED\n",
       "Name: actualhospitalmortality, dtype: category\n",
       "Categories (2, object): ['ALIVE', 'EXPIRED']"
      ]
     },
     "execution_count": 39,
     "metadata": {},
     "output_type": "execute_result"
    }
   ],
   "source": [
    "cohort['actualhospitalmortality'].head()"
   ]
  },
  {
   "cell_type": "code",
   "execution_count": 40,
   "id": "361d3372-5605-4645-b8bf-7e8d2e141059",
   "metadata": {},
   "outputs": [],
   "source": [
    "# add the encoded value to a new column"
   ]
  },
  {
   "cell_type": "code",
   "execution_count": 44,
   "id": "e02eff49-0656-41fc-8070-ab284dbfc3ee",
   "metadata": {},
   "outputs": [],
   "source": [
    "cohort['actualhospitalmortality_enc'] = cohort['actualhospitalmortality'].cat.codes"
   ]
  },
  {
   "cell_type": "code",
   "execution_count": 45,
   "id": "41341ea4-ddd4-4bfc-94c2-9a01f043d69c",
   "metadata": {},
   "outputs": [
    {
     "data": {
      "text/html": [
       "<div>\n",
       "<style scoped>\n",
       "    .dataframe tbody tr th:only-of-type {\n",
       "        vertical-align: middle;\n",
       "    }\n",
       "\n",
       "    .dataframe tbody tr th {\n",
       "        vertical-align: top;\n",
       "    }\n",
       "\n",
       "    .dataframe thead th {\n",
       "        text-align: right;\n",
       "    }\n",
       "</style>\n",
       "<table border=\"1\" class=\"dataframe\">\n",
       "  <thead>\n",
       "    <tr style=\"text-align: right;\">\n",
       "      <th></th>\n",
       "      <th>actualhospitalmortality_enc</th>\n",
       "      <th>actualhospitalmortality</th>\n",
       "    </tr>\n",
       "  </thead>\n",
       "  <tbody>\n",
       "    <tr>\n",
       "      <th>0</th>\n",
       "      <td>0</td>\n",
       "      <td>ALIVE</td>\n",
       "    </tr>\n",
       "    <tr>\n",
       "      <th>1</th>\n",
       "      <td>0</td>\n",
       "      <td>ALIVE</td>\n",
       "    </tr>\n",
       "    <tr>\n",
       "      <th>2</th>\n",
       "      <td>0</td>\n",
       "      <td>ALIVE</td>\n",
       "    </tr>\n",
       "    <tr>\n",
       "      <th>3</th>\n",
       "      <td>1</td>\n",
       "      <td>EXPIRED</td>\n",
       "    </tr>\n",
       "    <tr>\n",
       "      <th>4</th>\n",
       "      <td>1</td>\n",
       "      <td>EXPIRED</td>\n",
       "    </tr>\n",
       "  </tbody>\n",
       "</table>\n",
       "</div>"
      ],
      "text/plain": [
       "   actualhospitalmortality_enc actualhospitalmortality\n",
       "0                            0                   ALIVE\n",
       "1                            0                   ALIVE\n",
       "2                            0                   ALIVE\n",
       "3                            1                 EXPIRED\n",
       "4                            1                 EXPIRED"
      ]
     },
     "execution_count": 45,
     "metadata": {},
     "output_type": "execute_result"
    }
   ],
   "source": [
    "cohort[['actualhospitalmortality_enc','actualhospitalmortality']].head()"
   ]
  },
  {
   "cell_type": "code",
   "execution_count": 52,
   "id": "a7b7d878-c39a-44b7-a45c-4f600e912f61",
   "metadata": {},
   "outputs": [],
   "source": [
    "# convert to a categorical type"
   ]
  },
  {
   "cell_type": "code",
   "execution_count": 49,
   "id": "0b5fe834-fc81-48fc-a848-88a30a17cc57",
   "metadata": {},
   "outputs": [],
   "source": [
    "cohort['gender'] = pd.Categorical(cohort['gender'])"
   ]
  },
  {
   "cell_type": "code",
   "execution_count": 50,
   "id": "032a36d4-c601-4de7-af28-36b558cf3315",
   "metadata": {},
   "outputs": [],
   "source": [
    "cohort['gender'] = cohort['gender'].cat.codes"
   ]
  },
  {
   "cell_type": "code",
   "execution_count": 51,
   "id": "9b64bb26-90eb-46a0-a046-15657e593834",
   "metadata": {},
   "outputs": [
    {
     "data": {
      "text/plain": [
       "0    1\n",
       "1    1\n",
       "2    0\n",
       "3    1\n",
       "4    1\n",
       "Name: gender, dtype: int8"
      ]
     },
     "execution_count": 51,
     "metadata": {},
     "output_type": "execute_result"
    }
   ],
   "source": [
    "cohort['gender'].head()"
   ]
  },
  {
   "cell_type": "code",
   "execution_count": 73,
   "id": "c14ba83f-f566-42a5-a8fe-e60909751d32",
   "metadata": {},
   "outputs": [],
   "source": [
    "from sklearn.model_selection import train_test_split# split our data into training and test datasets i.e patient 1 into x and patient 2 into y"
   ]
  },
  {
   "cell_type": "code",
   "execution_count": 72,
   "id": "d2272359-47d4-46a9-a9c6-96dc3e87e089",
   "metadata": {},
   "outputs": [
    {
     "data": {
      "text/html": [
       "<div>\n",
       "<style scoped>\n",
       "    .dataframe tbody tr th:only-of-type {\n",
       "        vertical-align: middle;\n",
       "    }\n",
       "\n",
       "    .dataframe tbody tr th {\n",
       "        vertical-align: top;\n",
       "    }\n",
       "\n",
       "    .dataframe thead th {\n",
       "        text-align: right;\n",
       "    }\n",
       "</style>\n",
       "<table border=\"1\" class=\"dataframe\">\n",
       "  <thead>\n",
       "    <tr style=\"text-align: right;\">\n",
       "      <th></th>\n",
       "      <th>gender</th>\n",
       "      <th>age</th>\n",
       "      <th>admissionweight</th>\n",
       "      <th>unabridgedhosplos</th>\n",
       "      <th>acutephysiologyscore</th>\n",
       "      <th>apachescore</th>\n",
       "      <th>actualhospitalmortality</th>\n",
       "      <th>heartrate</th>\n",
       "      <th>meanbp</th>\n",
       "      <th>creatinine</th>\n",
       "      <th>temperature</th>\n",
       "      <th>respiratoryrate</th>\n",
       "      <th>wbc</th>\n",
       "      <th>admissionheight</th>\n",
       "      <th>actualhospitalmortality_enc</th>\n",
       "    </tr>\n",
       "  </thead>\n",
       "  <tbody>\n",
       "    <tr>\n",
       "      <th>0</th>\n",
       "      <td>1</td>\n",
       "      <td>45.0</td>\n",
       "      <td>116.00</td>\n",
       "      <td>3.0778</td>\n",
       "      <td>41</td>\n",
       "      <td>46</td>\n",
       "      <td>ALIVE</td>\n",
       "      <td>109.0</td>\n",
       "      <td>154.0</td>\n",
       "      <td>1.01</td>\n",
       "      <td>36.20</td>\n",
       "      <td>41.0</td>\n",
       "      <td>10.0</td>\n",
       "      <td>178.0</td>\n",
       "      <td>0</td>\n",
       "    </tr>\n",
       "    <tr>\n",
       "      <th>1</th>\n",
       "      <td>1</td>\n",
       "      <td>57.0</td>\n",
       "      <td>NaN</td>\n",
       "      <td>7.6736</td>\n",
       "      <td>26</td>\n",
       "      <td>31</td>\n",
       "      <td>ALIVE</td>\n",
       "      <td>106.0</td>\n",
       "      <td>46.0</td>\n",
       "      <td>-1.00</td>\n",
       "      <td>36.30</td>\n",
       "      <td>6.0</td>\n",
       "      <td>10.1</td>\n",
       "      <td>172.7</td>\n",
       "      <td>0</td>\n",
       "    </tr>\n",
       "    <tr>\n",
       "      <th>2</th>\n",
       "      <td>0</td>\n",
       "      <td>59.0</td>\n",
       "      <td>66.60</td>\n",
       "      <td>15.0778</td>\n",
       "      <td>56</td>\n",
       "      <td>61</td>\n",
       "      <td>ALIVE</td>\n",
       "      <td>134.0</td>\n",
       "      <td>172.0</td>\n",
       "      <td>1.03</td>\n",
       "      <td>34.80</td>\n",
       "      <td>32.0</td>\n",
       "      <td>25.5</td>\n",
       "      <td>170.2</td>\n",
       "      <td>0</td>\n",
       "    </tr>\n",
       "    <tr>\n",
       "      <th>3</th>\n",
       "      <td>1</td>\n",
       "      <td>63.0</td>\n",
       "      <td>71.90</td>\n",
       "      <td>1.3201</td>\n",
       "      <td>77</td>\n",
       "      <td>88</td>\n",
       "      <td>EXPIRED</td>\n",
       "      <td>133.0</td>\n",
       "      <td>40.0</td>\n",
       "      <td>4.30</td>\n",
       "      <td>32.60</td>\n",
       "      <td>39.0</td>\n",
       "      <td>12.6</td>\n",
       "      <td>167.6</td>\n",
       "      <td>1</td>\n",
       "    </tr>\n",
       "    <tr>\n",
       "      <th>4</th>\n",
       "      <td>1</td>\n",
       "      <td>67.0</td>\n",
       "      <td>104.80</td>\n",
       "      <td>1.5257</td>\n",
       "      <td>75</td>\n",
       "      <td>88</td>\n",
       "      <td>EXPIRED</td>\n",
       "      <td>31.0</td>\n",
       "      <td>133.0</td>\n",
       "      <td>0.70</td>\n",
       "      <td>36.44</td>\n",
       "      <td>31.0</td>\n",
       "      <td>11.3</td>\n",
       "      <td>182.9</td>\n",
       "      <td>1</td>\n",
       "    </tr>\n",
       "    <tr>\n",
       "      <th>...</th>\n",
       "      <td>...</td>\n",
       "      <td>...</td>\n",
       "      <td>...</td>\n",
       "      <td>...</td>\n",
       "      <td>...</td>\n",
       "      <td>...</td>\n",
       "      <td>...</td>\n",
       "      <td>...</td>\n",
       "      <td>...</td>\n",
       "      <td>...</td>\n",
       "      <td>...</td>\n",
       "      <td>...</td>\n",
       "      <td>...</td>\n",
       "      <td>...</td>\n",
       "      <td>...</td>\n",
       "    </tr>\n",
       "    <tr>\n",
       "      <th>230</th>\n",
       "      <td>-1</td>\n",
       "      <td>54.0</td>\n",
       "      <td>72.50</td>\n",
       "      <td>9.0049</td>\n",
       "      <td>102</td>\n",
       "      <td>107</td>\n",
       "      <td>ALIVE</td>\n",
       "      <td>113.0</td>\n",
       "      <td>69.0</td>\n",
       "      <td>1.70</td>\n",
       "      <td>38.50</td>\n",
       "      <td>41.0</td>\n",
       "      <td>24.3</td>\n",
       "      <td>177.8</td>\n",
       "      <td>0</td>\n",
       "    </tr>\n",
       "    <tr>\n",
       "      <th>231</th>\n",
       "      <td>-1</td>\n",
       "      <td>70.0</td>\n",
       "      <td>89.70</td>\n",
       "      <td>6.0743</td>\n",
       "      <td>49</td>\n",
       "      <td>75</td>\n",
       "      <td>ALIVE</td>\n",
       "      <td>86.0</td>\n",
       "      <td>51.0</td>\n",
       "      <td>0.90</td>\n",
       "      <td>36.70</td>\n",
       "      <td>34.0</td>\n",
       "      <td>0.7</td>\n",
       "      <td>162.5</td>\n",
       "      <td>0</td>\n",
       "    </tr>\n",
       "    <tr>\n",
       "      <th>232</th>\n",
       "      <td>-1</td>\n",
       "      <td>54.0</td>\n",
       "      <td>109.10</td>\n",
       "      <td>12.7549</td>\n",
       "      <td>40</td>\n",
       "      <td>45</td>\n",
       "      <td>ALIVE</td>\n",
       "      <td>52.0</td>\n",
       "      <td>126.0</td>\n",
       "      <td>1.50</td>\n",
       "      <td>37.00</td>\n",
       "      <td>4.0</td>\n",
       "      <td>6.9</td>\n",
       "      <td>162.5</td>\n",
       "      <td>0</td>\n",
       "    </tr>\n",
       "    <tr>\n",
       "      <th>233</th>\n",
       "      <td>-1</td>\n",
       "      <td>25.0</td>\n",
       "      <td>99.79</td>\n",
       "      <td>0.7896</td>\n",
       "      <td>23</td>\n",
       "      <td>23</td>\n",
       "      <td>ALIVE</td>\n",
       "      <td>102.0</td>\n",
       "      <td>125.0</td>\n",
       "      <td>1.00</td>\n",
       "      <td>36.10</td>\n",
       "      <td>34.0</td>\n",
       "      <td>12.1</td>\n",
       "      <td>69.0</td>\n",
       "      <td>0</td>\n",
       "    </tr>\n",
       "    <tr>\n",
       "      <th>234</th>\n",
       "      <td>-1</td>\n",
       "      <td>72.0</td>\n",
       "      <td>NaN</td>\n",
       "      <td>3.0431</td>\n",
       "      <td>125</td>\n",
       "      <td>141</td>\n",
       "      <td>EXPIRED</td>\n",
       "      <td>95.0</td>\n",
       "      <td>40.0</td>\n",
       "      <td>3.30</td>\n",
       "      <td>35.70</td>\n",
       "      <td>32.0</td>\n",
       "      <td>13.8</td>\n",
       "      <td>165.0</td>\n",
       "      <td>1</td>\n",
       "    </tr>\n",
       "  </tbody>\n",
       "</table>\n",
       "<p>235 rows × 15 columns</p>\n",
       "</div>"
      ],
      "text/plain": [
       "     gender   age  admissionweight  unabridgedhosplos  acutephysiologyscore  \\\n",
       "0         1  45.0           116.00             3.0778                    41   \n",
       "1         1  57.0              NaN             7.6736                    26   \n",
       "2         0  59.0            66.60            15.0778                    56   \n",
       "3         1  63.0            71.90             1.3201                    77   \n",
       "4         1  67.0           104.80             1.5257                    75   \n",
       "..      ...   ...              ...                ...                   ...   \n",
       "230      -1  54.0            72.50             9.0049                   102   \n",
       "231      -1  70.0            89.70             6.0743                    49   \n",
       "232      -1  54.0           109.10            12.7549                    40   \n",
       "233      -1  25.0            99.79             0.7896                    23   \n",
       "234      -1  72.0              NaN             3.0431                   125   \n",
       "\n",
       "     apachescore actualhospitalmortality  heartrate  meanbp  creatinine  \\\n",
       "0             46                   ALIVE      109.0   154.0        1.01   \n",
       "1             31                   ALIVE      106.0    46.0       -1.00   \n",
       "2             61                   ALIVE      134.0   172.0        1.03   \n",
       "3             88                 EXPIRED      133.0    40.0        4.30   \n",
       "4             88                 EXPIRED       31.0   133.0        0.70   \n",
       "..           ...                     ...        ...     ...         ...   \n",
       "230          107                   ALIVE      113.0    69.0        1.70   \n",
       "231           75                   ALIVE       86.0    51.0        0.90   \n",
       "232           45                   ALIVE       52.0   126.0        1.50   \n",
       "233           23                   ALIVE      102.0   125.0        1.00   \n",
       "234          141                 EXPIRED       95.0    40.0        3.30   \n",
       "\n",
       "     temperature  respiratoryrate   wbc  admissionheight  \\\n",
       "0          36.20             41.0  10.0            178.0   \n",
       "1          36.30              6.0  10.1            172.7   \n",
       "2          34.80             32.0  25.5            170.2   \n",
       "3          32.60             39.0  12.6            167.6   \n",
       "4          36.44             31.0  11.3            182.9   \n",
       "..           ...              ...   ...              ...   \n",
       "230        38.50             41.0  24.3            177.8   \n",
       "231        36.70             34.0   0.7            162.5   \n",
       "232        37.00              4.0   6.9            162.5   \n",
       "233        36.10             34.0  12.1             69.0   \n",
       "234        35.70             32.0  13.8            165.0   \n",
       "\n",
       "     actualhospitalmortality_enc  \n",
       "0                              0  \n",
       "1                              0  \n",
       "2                              0  \n",
       "3                              1  \n",
       "4                              1  \n",
       "..                           ...  \n",
       "230                            0  \n",
       "231                            0  \n",
       "232                            0  \n",
       "233                            0  \n",
       "234                            1  \n",
       "\n",
       "[235 rows x 15 columns]"
      ]
     },
     "execution_count": 72,
     "metadata": {},
     "output_type": "execute_result"
    }
   ],
   "source": [
    "cohort"
   ]
  },
  {
   "cell_type": "code",
   "execution_count": 67,
   "id": "f1f1b030-0957-4adf-9693-2f367dc06b97",
   "metadata": {},
   "outputs": [],
   "source": [
    "x = cohort.drop('actualhospitalmortality', axis=1) #the dataset variable x and drop a column"
   ]
  },
  {
   "cell_type": "code",
   "execution_count": 76,
   "id": "86b87780-16ee-40ce-bf70-a8bb23d914fc",
   "metadata": {},
   "outputs": [],
   "source": [
    "y = cohort['actualhospitalmortality']# predict our label 'y',  i.e. ALIVE or EXPIRED"
   ]
  },
  {
   "cell_type": "code",
   "execution_count": 59,
   "id": "57d08011-ed16-4875-a0ba-37814ec77e77",
   "metadata": {},
   "outputs": [],
   "source": [
    "#outcome variable is actualhospitalmortality, y_test, x_test "
   ]
  },
  {
   "cell_type": "code",
   "execution_count": 116,
   "id": "4335d787-e5b9-4919-86ff-08a0500d95c7",
   "metadata": {},
   "outputs": [],
   "source": [
    "x_train, x_test, y_train, y_test = train_test_split(x, y, train_size= 0.7, random_state=42)#create a training and a test set"
   ]
  },
  {
   "cell_type": "code",
   "execution_count": 117,
   "id": "376a8a82-6fa8-4bf3-bea5-4bbd798d4172",
   "metadata": {},
   "outputs": [
    {
     "data": {
      "text/html": [
       "<div>\n",
       "<style scoped>\n",
       "    .dataframe tbody tr th:only-of-type {\n",
       "        vertical-align: middle;\n",
       "    }\n",
       "\n",
       "    .dataframe tbody tr th {\n",
       "        vertical-align: top;\n",
       "    }\n",
       "\n",
       "    .dataframe thead th {\n",
       "        text-align: right;\n",
       "    }\n",
       "</style>\n",
       "<table border=\"1\" class=\"dataframe\">\n",
       "  <thead>\n",
       "    <tr style=\"text-align: right;\">\n",
       "      <th></th>\n",
       "      <th>gender</th>\n",
       "      <th>age</th>\n",
       "      <th>admissionweight</th>\n",
       "      <th>unabridgedhosplos</th>\n",
       "      <th>acutephysiologyscore</th>\n",
       "      <th>apachescore</th>\n",
       "      <th>heartrate</th>\n",
       "      <th>meanbp</th>\n",
       "      <th>creatinine</th>\n",
       "      <th>temperature</th>\n",
       "      <th>respiratoryrate</th>\n",
       "      <th>wbc</th>\n",
       "      <th>admissionheight</th>\n",
       "      <th>actualhospitalmortality_enc</th>\n",
       "    </tr>\n",
       "  </thead>\n",
       "  <tbody>\n",
       "    <tr>\n",
       "      <th>126</th>\n",
       "      <td>-1</td>\n",
       "      <td>77.0</td>\n",
       "      <td>102.00</td>\n",
       "      <td>9.4910</td>\n",
       "      <td>66</td>\n",
       "      <td>83</td>\n",
       "      <td>51.0</td>\n",
       "      <td>40.0</td>\n",
       "      <td>1.10</td>\n",
       "      <td>35.0</td>\n",
       "      <td>4.0</td>\n",
       "      <td>10.43</td>\n",
       "      <td>150.00</td>\n",
       "      <td>0</td>\n",
       "    </tr>\n",
       "    <tr>\n",
       "      <th>79</th>\n",
       "      <td>-1</td>\n",
       "      <td>51.0</td>\n",
       "      <td>92.00</td>\n",
       "      <td>11.5667</td>\n",
       "      <td>76</td>\n",
       "      <td>81</td>\n",
       "      <td>111.0</td>\n",
       "      <td>146.0</td>\n",
       "      <td>0.60</td>\n",
       "      <td>36.9</td>\n",
       "      <td>53.0</td>\n",
       "      <td>9.30</td>\n",
       "      <td>163.80</td>\n",
       "      <td>0</td>\n",
       "    </tr>\n",
       "    <tr>\n",
       "      <th>5</th>\n",
       "      <td>-1</td>\n",
       "      <td>61.0</td>\n",
       "      <td>57.80</td>\n",
       "      <td>4.9063</td>\n",
       "      <td>56</td>\n",
       "      <td>67</td>\n",
       "      <td>126.0</td>\n",
       "      <td>52.0</td>\n",
       "      <td>0.48</td>\n",
       "      <td>36.6</td>\n",
       "      <td>30.0</td>\n",
       "      <td>28.40</td>\n",
       "      <td>172.70</td>\n",
       "      <td>0</td>\n",
       "    </tr>\n",
       "    <tr>\n",
       "      <th>56</th>\n",
       "      <td>-1</td>\n",
       "      <td>75.0</td>\n",
       "      <td>112.90</td>\n",
       "      <td>4.0521</td>\n",
       "      <td>36</td>\n",
       "      <td>53</td>\n",
       "      <td>132.0</td>\n",
       "      <td>154.0</td>\n",
       "      <td>1.05</td>\n",
       "      <td>36.7</td>\n",
       "      <td>40.0</td>\n",
       "      <td>-1.00</td>\n",
       "      <td>177.80</td>\n",
       "      <td>0</td>\n",
       "    </tr>\n",
       "    <tr>\n",
       "      <th>120</th>\n",
       "      <td>-1</td>\n",
       "      <td>47.0</td>\n",
       "      <td>67.50</td>\n",
       "      <td>7.3410</td>\n",
       "      <td>51</td>\n",
       "      <td>56</td>\n",
       "      <td>106.0</td>\n",
       "      <td>134.0</td>\n",
       "      <td>0.58</td>\n",
       "      <td>37.1</td>\n",
       "      <td>30.0</td>\n",
       "      <td>9.70</td>\n",
       "      <td>160.00</td>\n",
       "      <td>0</td>\n",
       "    </tr>\n",
       "    <tr>\n",
       "      <th>...</th>\n",
       "      <td>...</td>\n",
       "      <td>...</td>\n",
       "      <td>...</td>\n",
       "      <td>...</td>\n",
       "      <td>...</td>\n",
       "      <td>...</td>\n",
       "      <td>...</td>\n",
       "      <td>...</td>\n",
       "      <td>...</td>\n",
       "      <td>...</td>\n",
       "      <td>...</td>\n",
       "      <td>...</td>\n",
       "      <td>...</td>\n",
       "      <td>...</td>\n",
       "    </tr>\n",
       "    <tr>\n",
       "      <th>106</th>\n",
       "      <td>-1</td>\n",
       "      <td>NaN</td>\n",
       "      <td>58.96</td>\n",
       "      <td>0.5000</td>\n",
       "      <td>85</td>\n",
       "      <td>109</td>\n",
       "      <td>39.0</td>\n",
       "      <td>40.0</td>\n",
       "      <td>1.50</td>\n",
       "      <td>-1.0</td>\n",
       "      <td>28.0</td>\n",
       "      <td>14.70</td>\n",
       "      <td>162.56</td>\n",
       "      <td>1</td>\n",
       "    </tr>\n",
       "    <tr>\n",
       "      <th>14</th>\n",
       "      <td>-1</td>\n",
       "      <td>55.0</td>\n",
       "      <td>99.00</td>\n",
       "      <td>10.0049</td>\n",
       "      <td>72</td>\n",
       "      <td>77</td>\n",
       "      <td>104.0</td>\n",
       "      <td>126.0</td>\n",
       "      <td>0.51</td>\n",
       "      <td>35.6</td>\n",
       "      <td>8.0</td>\n",
       "      <td>8.50</td>\n",
       "      <td>172.70</td>\n",
       "      <td>0</td>\n",
       "    </tr>\n",
       "    <tr>\n",
       "      <th>92</th>\n",
       "      <td>-1</td>\n",
       "      <td>22.0</td>\n",
       "      <td>51.40</td>\n",
       "      <td>4.0264</td>\n",
       "      <td>55</td>\n",
       "      <td>55</td>\n",
       "      <td>128.0</td>\n",
       "      <td>158.0</td>\n",
       "      <td>3.43</td>\n",
       "      <td>35.8</td>\n",
       "      <td>4.0</td>\n",
       "      <td>15.20</td>\n",
       "      <td>157.50</td>\n",
       "      <td>0</td>\n",
       "    </tr>\n",
       "    <tr>\n",
       "      <th>179</th>\n",
       "      <td>-1</td>\n",
       "      <td>35.0</td>\n",
       "      <td>101.70</td>\n",
       "      <td>5.9097</td>\n",
       "      <td>57</td>\n",
       "      <td>67</td>\n",
       "      <td>112.0</td>\n",
       "      <td>183.0</td>\n",
       "      <td>0.80</td>\n",
       "      <td>36.4</td>\n",
       "      <td>6.0</td>\n",
       "      <td>26.90</td>\n",
       "      <td>167.60</td>\n",
       "      <td>0</td>\n",
       "    </tr>\n",
       "    <tr>\n",
       "      <th>102</th>\n",
       "      <td>-1</td>\n",
       "      <td>60.0</td>\n",
       "      <td>125.90</td>\n",
       "      <td>6.8840</td>\n",
       "      <td>41</td>\n",
       "      <td>52</td>\n",
       "      <td>108.0</td>\n",
       "      <td>56.0</td>\n",
       "      <td>-1.00</td>\n",
       "      <td>36.2</td>\n",
       "      <td>41.0</td>\n",
       "      <td>15.40</td>\n",
       "      <td>172.70</td>\n",
       "      <td>0</td>\n",
       "    </tr>\n",
       "  </tbody>\n",
       "</table>\n",
       "<p>164 rows × 14 columns</p>\n",
       "</div>"
      ],
      "text/plain": [
       "     gender   age  admissionweight  unabridgedhosplos  acutephysiologyscore  \\\n",
       "126      -1  77.0           102.00             9.4910                    66   \n",
       "79       -1  51.0            92.00            11.5667                    76   \n",
       "5        -1  61.0            57.80             4.9063                    56   \n",
       "56       -1  75.0           112.90             4.0521                    36   \n",
       "120      -1  47.0            67.50             7.3410                    51   \n",
       "..      ...   ...              ...                ...                   ...   \n",
       "106      -1   NaN            58.96             0.5000                    85   \n",
       "14       -1  55.0            99.00            10.0049                    72   \n",
       "92       -1  22.0            51.40             4.0264                    55   \n",
       "179      -1  35.0           101.70             5.9097                    57   \n",
       "102      -1  60.0           125.90             6.8840                    41   \n",
       "\n",
       "     apachescore  heartrate  meanbp  creatinine  temperature  respiratoryrate  \\\n",
       "126           83       51.0    40.0        1.10         35.0              4.0   \n",
       "79            81      111.0   146.0        0.60         36.9             53.0   \n",
       "5             67      126.0    52.0        0.48         36.6             30.0   \n",
       "56            53      132.0   154.0        1.05         36.7             40.0   \n",
       "120           56      106.0   134.0        0.58         37.1             30.0   \n",
       "..           ...        ...     ...         ...          ...              ...   \n",
       "106          109       39.0    40.0        1.50         -1.0             28.0   \n",
       "14            77      104.0   126.0        0.51         35.6              8.0   \n",
       "92            55      128.0   158.0        3.43         35.8              4.0   \n",
       "179           67      112.0   183.0        0.80         36.4              6.0   \n",
       "102           52      108.0    56.0       -1.00         36.2             41.0   \n",
       "\n",
       "       wbc  admissionheight  actualhospitalmortality_enc  \n",
       "126  10.43           150.00                            0  \n",
       "79    9.30           163.80                            0  \n",
       "5    28.40           172.70                            0  \n",
       "56   -1.00           177.80                            0  \n",
       "120   9.70           160.00                            0  \n",
       "..     ...              ...                          ...  \n",
       "106  14.70           162.56                            1  \n",
       "14    8.50           172.70                            0  \n",
       "92   15.20           157.50                            0  \n",
       "179  26.90           167.60                            0  \n",
       "102  15.40           172.70                            0  \n",
       "\n",
       "[164 rows x 14 columns]"
      ]
     },
     "execution_count": 117,
     "metadata": {},
     "output_type": "execute_result"
    }
   ],
   "source": [
    "x_train"
   ]
  },
  {
   "cell_type": "code",
   "execution_count": 118,
   "id": "846691f3-0288-4e08-b06f-5c90032aa4d5",
   "metadata": {},
   "outputs": [
    {
     "data": {
      "text/plain": [
       "126      ALIVE\n",
       "79       ALIVE\n",
       "5        ALIVE\n",
       "56       ALIVE\n",
       "120      ALIVE\n",
       "        ...   \n",
       "106    EXPIRED\n",
       "14       ALIVE\n",
       "92       ALIVE\n",
       "179      ALIVE\n",
       "102      ALIVE\n",
       "Name: actualhospitalmortality, Length: 164, dtype: category\n",
       "Categories (2, object): ['ALIVE', 'EXPIRED']"
      ]
     },
     "execution_count": 118,
     "metadata": {},
     "output_type": "execute_result"
    }
   ],
   "source": [
    "y_train"
   ]
  },
  {
   "cell_type": "code",
   "execution_count": 66,
   "id": "46355121-7a4b-451d-a6bd-fd1b806c76ee",
   "metadata": {},
   "outputs": [],
   "source": [
    "# impute missing values from the training set"
   ]
  },
  {
   "cell_type": "code",
   "execution_count": 119,
   "id": "06ef5b17-63e4-46c5-a868-5e628416c6ba",
   "metadata": {},
   "outputs": [],
   "source": [
    "x_train = x_train.fillna(x_train.median())#fill and a method to get the median and fill the missing values in the training set with the median to avoid\n",
    "#data leakage or sparse data"
   ]
  },
  {
   "cell_type": "code",
   "execution_count": 120,
   "id": "77496468-1df9-4250-bbde-05e406072097",
   "metadata": {},
   "outputs": [],
   "source": [
    "x_test = x_test.fillna(x_train.median())#same for training test data"
   ]
  },
  {
   "cell_type": "code",
   "execution_count": 121,
   "id": "fa380016-7498-47d9-a144-491fee628010",
   "metadata": {},
   "outputs": [
    {
     "data": {
      "text/html": [
       "<div>\n",
       "<style scoped>\n",
       "    .dataframe tbody tr th:only-of-type {\n",
       "        vertical-align: middle;\n",
       "    }\n",
       "\n",
       "    .dataframe tbody tr th {\n",
       "        vertical-align: top;\n",
       "    }\n",
       "\n",
       "    .dataframe thead th {\n",
       "        text-align: right;\n",
       "    }\n",
       "</style>\n",
       "<table border=\"1\" class=\"dataframe\">\n",
       "  <thead>\n",
       "    <tr style=\"text-align: right;\">\n",
       "      <th></th>\n",
       "      <th>gender</th>\n",
       "      <th>age</th>\n",
       "      <th>admissionweight</th>\n",
       "      <th>unabridgedhosplos</th>\n",
       "      <th>acutephysiologyscore</th>\n",
       "      <th>apachescore</th>\n",
       "      <th>heartrate</th>\n",
       "      <th>meanbp</th>\n",
       "      <th>creatinine</th>\n",
       "      <th>temperature</th>\n",
       "      <th>respiratoryrate</th>\n",
       "      <th>wbc</th>\n",
       "      <th>admissionheight</th>\n",
       "      <th>actualhospitalmortality_enc</th>\n",
       "    </tr>\n",
       "  </thead>\n",
       "  <tbody>\n",
       "    <tr>\n",
       "      <th>126</th>\n",
       "      <td>-1</td>\n",
       "      <td>77.0</td>\n",
       "      <td>102.0</td>\n",
       "      <td>9.4910</td>\n",
       "      <td>66</td>\n",
       "      <td>83</td>\n",
       "      <td>51.0</td>\n",
       "      <td>40.0</td>\n",
       "      <td>1.10</td>\n",
       "      <td>35.0</td>\n",
       "      <td>4.0</td>\n",
       "      <td>10.43</td>\n",
       "      <td>150.0</td>\n",
       "      <td>0</td>\n",
       "    </tr>\n",
       "    <tr>\n",
       "      <th>79</th>\n",
       "      <td>-1</td>\n",
       "      <td>51.0</td>\n",
       "      <td>92.0</td>\n",
       "      <td>11.5667</td>\n",
       "      <td>76</td>\n",
       "      <td>81</td>\n",
       "      <td>111.0</td>\n",
       "      <td>146.0</td>\n",
       "      <td>0.60</td>\n",
       "      <td>36.9</td>\n",
       "      <td>53.0</td>\n",
       "      <td>9.30</td>\n",
       "      <td>163.8</td>\n",
       "      <td>0</td>\n",
       "    </tr>\n",
       "    <tr>\n",
       "      <th>5</th>\n",
       "      <td>-1</td>\n",
       "      <td>61.0</td>\n",
       "      <td>57.8</td>\n",
       "      <td>4.9063</td>\n",
       "      <td>56</td>\n",
       "      <td>67</td>\n",
       "      <td>126.0</td>\n",
       "      <td>52.0</td>\n",
       "      <td>0.48</td>\n",
       "      <td>36.6</td>\n",
       "      <td>30.0</td>\n",
       "      <td>28.40</td>\n",
       "      <td>172.7</td>\n",
       "      <td>0</td>\n",
       "    </tr>\n",
       "    <tr>\n",
       "      <th>56</th>\n",
       "      <td>-1</td>\n",
       "      <td>75.0</td>\n",
       "      <td>112.9</td>\n",
       "      <td>4.0521</td>\n",
       "      <td>36</td>\n",
       "      <td>53</td>\n",
       "      <td>132.0</td>\n",
       "      <td>154.0</td>\n",
       "      <td>1.05</td>\n",
       "      <td>36.7</td>\n",
       "      <td>40.0</td>\n",
       "      <td>-1.00</td>\n",
       "      <td>177.8</td>\n",
       "      <td>0</td>\n",
       "    </tr>\n",
       "    <tr>\n",
       "      <th>120</th>\n",
       "      <td>-1</td>\n",
       "      <td>47.0</td>\n",
       "      <td>67.5</td>\n",
       "      <td>7.3410</td>\n",
       "      <td>51</td>\n",
       "      <td>56</td>\n",
       "      <td>106.0</td>\n",
       "      <td>134.0</td>\n",
       "      <td>0.58</td>\n",
       "      <td>37.1</td>\n",
       "      <td>30.0</td>\n",
       "      <td>9.70</td>\n",
       "      <td>160.0</td>\n",
       "      <td>0</td>\n",
       "    </tr>\n",
       "  </tbody>\n",
       "</table>\n",
       "</div>"
      ],
      "text/plain": [
       "     gender   age  admissionweight  unabridgedhosplos  acutephysiologyscore  \\\n",
       "126      -1  77.0            102.0             9.4910                    66   \n",
       "79       -1  51.0             92.0            11.5667                    76   \n",
       "5        -1  61.0             57.8             4.9063                    56   \n",
       "56       -1  75.0            112.9             4.0521                    36   \n",
       "120      -1  47.0             67.5             7.3410                    51   \n",
       "\n",
       "     apachescore  heartrate  meanbp  creatinine  temperature  respiratoryrate  \\\n",
       "126           83       51.0    40.0        1.10         35.0              4.0   \n",
       "79            81      111.0   146.0        0.60         36.9             53.0   \n",
       "5             67      126.0    52.0        0.48         36.6             30.0   \n",
       "56            53      132.0   154.0        1.05         36.7             40.0   \n",
       "120           56      106.0   134.0        0.58         37.1             30.0   \n",
       "\n",
       "       wbc  admissionheight  actualhospitalmortality_enc  \n",
       "126  10.43            150.0                            0  \n",
       "79    9.30            163.8                            0  \n",
       "5    28.40            172.7                            0  \n",
       "56   -1.00            177.8                            0  \n",
       "120   9.70            160.0                            0  "
      ]
     },
     "execution_count": 121,
     "metadata": {},
     "output_type": "execute_result"
    }
   ],
   "source": [
    "x_train.head()"
   ]
  },
  {
   "cell_type": "code",
   "execution_count": 122,
   "id": "004839e1-3b9b-42c2-871a-1138574a6f79",
   "metadata": {},
   "outputs": [],
   "source": [
    "#Normalise the variables before putting into the model i.e. scaling variables"
   ]
  },
  {
   "cell_type": "code",
   "execution_count": 81,
   "id": "11d97db9-61f9-42bc-a4f3-76f4937eb6b9",
   "metadata": {},
   "outputs": [],
   "source": [
    "# Define the scaler"
   ]
  },
  {
   "cell_type": "code",
   "execution_count": 82,
   "id": "0f11d127-593d-4fde-9277-c1001837b316",
   "metadata": {},
   "outputs": [],
   "source": [
    "from sklearn.preprocessing import MinMaxScaler"
   ]
  },
  {
   "cell_type": "code",
   "execution_count": 87,
   "id": "a1270c87-76ff-4a8d-b08f-27902d0878d4",
   "metadata": {},
   "outputs": [],
   "source": [
    "scaler = MinMaxScaler() # create a class"
   ]
  },
  {
   "cell_type": "code",
   "execution_count": 111,
   "id": "1feecef7-700f-4250-a177-417ae253ba64",
   "metadata": {},
   "outputs": [],
   "source": [
    "# Alternative is zero mean, unit variance\n",
    "## Subtract mean, divide by standard deviation\n",
    "from sklearn.preprocessing import StandardScaler"
   ]
  },
  {
   "cell_type": "code",
   "execution_count": 124,
   "id": "24a17e7c-0a99-4b82-9e7b-66601dac904e",
   "metadata": {},
   "outputs": [
    {
     "data": {
      "text/html": [
       "<style>#sk-container-id-4 {color: black;background-color: white;}#sk-container-id-4 pre{padding: 0;}#sk-container-id-4 div.sk-toggleable {background-color: white;}#sk-container-id-4 label.sk-toggleable__label {cursor: pointer;display: block;width: 100%;margin-bottom: 0;padding: 0.3em;box-sizing: border-box;text-align: center;}#sk-container-id-4 label.sk-toggleable__label-arrow:before {content: \"▸\";float: left;margin-right: 0.25em;color: #696969;}#sk-container-id-4 label.sk-toggleable__label-arrow:hover:before {color: black;}#sk-container-id-4 div.sk-estimator:hover label.sk-toggleable__label-arrow:before {color: black;}#sk-container-id-4 div.sk-toggleable__content {max-height: 0;max-width: 0;overflow: hidden;text-align: left;background-color: #f0f8ff;}#sk-container-id-4 div.sk-toggleable__content pre {margin: 0.2em;color: black;border-radius: 0.25em;background-color: #f0f8ff;}#sk-container-id-4 input.sk-toggleable__control:checked~div.sk-toggleable__content {max-height: 200px;max-width: 100%;overflow: auto;}#sk-container-id-4 input.sk-toggleable__control:checked~label.sk-toggleable__label-arrow:before {content: \"▾\";}#sk-container-id-4 div.sk-estimator input.sk-toggleable__control:checked~label.sk-toggleable__label {background-color: #d4ebff;}#sk-container-id-4 div.sk-label input.sk-toggleable__control:checked~label.sk-toggleable__label {background-color: #d4ebff;}#sk-container-id-4 input.sk-hidden--visually {border: 0;clip: rect(1px 1px 1px 1px);clip: rect(1px, 1px, 1px, 1px);height: 1px;margin: -1px;overflow: hidden;padding: 0;position: absolute;width: 1px;}#sk-container-id-4 div.sk-estimator {font-family: monospace;background-color: #f0f8ff;border: 1px dotted black;border-radius: 0.25em;box-sizing: border-box;margin-bottom: 0.5em;}#sk-container-id-4 div.sk-estimator:hover {background-color: #d4ebff;}#sk-container-id-4 div.sk-parallel-item::after {content: \"\";width: 100%;border-bottom: 1px solid gray;flex-grow: 1;}#sk-container-id-4 div.sk-label:hover label.sk-toggleable__label {background-color: #d4ebff;}#sk-container-id-4 div.sk-serial::before {content: \"\";position: absolute;border-left: 1px solid gray;box-sizing: border-box;top: 0;bottom: 0;left: 50%;z-index: 0;}#sk-container-id-4 div.sk-serial {display: flex;flex-direction: column;align-items: center;background-color: white;padding-right: 0.2em;padding-left: 0.2em;position: relative;}#sk-container-id-4 div.sk-item {position: relative;z-index: 1;}#sk-container-id-4 div.sk-parallel {display: flex;align-items: stretch;justify-content: center;background-color: white;position: relative;}#sk-container-id-4 div.sk-item::before, #sk-container-id-4 div.sk-parallel-item::before {content: \"\";position: absolute;border-left: 1px solid gray;box-sizing: border-box;top: 0;bottom: 0;left: 50%;z-index: -1;}#sk-container-id-4 div.sk-parallel-item {display: flex;flex-direction: column;z-index: 1;position: relative;background-color: white;}#sk-container-id-4 div.sk-parallel-item:first-child::after {align-self: flex-end;width: 50%;}#sk-container-id-4 div.sk-parallel-item:last-child::after {align-self: flex-start;width: 50%;}#sk-container-id-4 div.sk-parallel-item:only-child::after {width: 0;}#sk-container-id-4 div.sk-dashed-wrapped {border: 1px dashed gray;margin: 0 0.4em 0.5em 0.4em;box-sizing: border-box;padding-bottom: 0.4em;background-color: white;}#sk-container-id-4 div.sk-label label {font-family: monospace;font-weight: bold;display: inline-block;line-height: 1.2em;}#sk-container-id-4 div.sk-label-container {text-align: center;}#sk-container-id-4 div.sk-container {/* jupyter's `normalize.less` sets `[hidden] { display: none; }` but bootstrap.min.css set `[hidden] { display: none !important; }` so we also need the `!important` here to be able to override the default hidden behavior on the sphinx rendered scikit-learn.org. See: https://github.com/scikit-learn/scikit-learn/issues/21755 */display: inline-block !important;position: relative;}#sk-container-id-4 div.sk-text-repr-fallback {display: none;}</style><div id=\"sk-container-id-4\" class=\"sk-top-container\"><div class=\"sk-text-repr-fallback\"><pre>MinMaxScaler()</pre><b>In a Jupyter environment, please rerun this cell to show the HTML representation or trust the notebook. <br />On GitHub, the HTML representation is unable to render, please try loading this page with nbviewer.org.</b></div><div class=\"sk-container\" hidden><div class=\"sk-item\"><div class=\"sk-estimator sk-toggleable\"><input class=\"sk-toggleable__control sk-hidden--visually\" id=\"sk-estimator-id-4\" type=\"checkbox\" checked><label for=\"sk-estimator-id-4\" class=\"sk-toggleable__label sk-toggleable__label-arrow\">MinMaxScaler</label><div class=\"sk-toggleable__content\"><pre>MinMaxScaler()</pre></div></div></div></div></div>"
      ],
      "text/plain": [
       "MinMaxScaler()"
      ]
     },
     "execution_count": 124,
     "metadata": {},
     "output_type": "execute_result"
    }
   ],
   "source": [
    "# fit the scaler on the training dataset\n",
    "scaler.fit(x_train)#scaler object"
   ]
  },
  {
   "cell_type": "code",
   "execution_count": 125,
   "id": "27627e14-8968-4c45-b4a8-96d57c91a9f0",
   "metadata": {},
   "outputs": [],
   "source": [
    "# scale the training set and transform\n",
    "x_train = scaler.transform(x_train)"
   ]
  },
  {
   "cell_type": "code",
   "execution_count": 126,
   "id": "abc7d6d5-c6cf-406f-9d47-5e2c19a0d0fd",
   "metadata": {},
   "outputs": [],
   "source": [
    "# scale the test set\n",
    "x_test = scaler.transform(x_test)"
   ]
  },
  {
   "cell_type": "code",
   "execution_count": 127,
   "id": "d045282c-e79b-4b02-ad63-90543d4d98fd",
   "metadata": {},
   "outputs": [
    {
     "data": {
      "text/plain": [
       "array([[0.        , 0.83823529, 0.2604887 , ..., 0.38877551, 0.66666667,\n",
       "        0.        ],\n",
       "       [0.        , 0.45588235, 0.21438451, ..., 0.35034014, 0.78024691,\n",
       "        0.        ],\n",
       "       [0.        , 0.60294118, 0.05670816, ..., 1.        , 0.85349794,\n",
       "        0.        ],\n",
       "       ...,\n",
       "       [0.        , 0.02941176, 0.02720148, ..., 0.55102041, 0.72839506,\n",
       "        0.        ],\n",
       "       [0.        , 0.22058824, 0.25910558, ..., 0.94897959, 0.81152263,\n",
       "        0.        ],\n",
       "       [0.        , 0.58823529, 0.37067773, ..., 0.55782313, 0.85349794,\n",
       "        0.        ]])"
      ]
     },
     "execution_count": 127,
     "metadata": {},
     "output_type": "execute_result"
    }
   ],
   "source": [
    "x_train"
   ]
  },
  {
   "cell_type": "code",
   "execution_count": 92,
   "id": "7d7dc1b3-32bd-45f3-8284-7233445a62aa",
   "metadata": {},
   "outputs": [],
   "source": [
    "######################end of DATA Preparation#############################################"
   ]
  },
  {
   "cell_type": "code",
   "execution_count": 128,
   "id": "3e24b95c-33e3-422c-a717-28011d06b889",
   "metadata": {},
   "outputs": [],
   "source": [
    "###################start of Learning #######################################"
   ]
  },
  {
   "cell_type": "code",
   "execution_count": 129,
   "id": "dbe263a8-a582-4357-a1ec-e696932010e8",
   "metadata": {},
   "outputs": [],
   "source": [
    "import pandas as pd"
   ]
  },
  {
   "cell_type": "code",
   "execution_count": 130,
   "id": "4c28ff34-96e9-4bec-b4ff-a76731417794",
   "metadata": {},
   "outputs": [],
   "source": [
    "# Create sample labelled data for supervised learning"
   ]
  },
  {
   "cell_type": "code",
   "execution_count": 131,
   "id": "11842970-58e2-427a-88db-2347cdb54e83",
   "metadata": {},
   "outputs": [],
   "source": [
    "data = {'x': [1, 2, 3, 4, 5], 'y': [-0.5, 1, 2, 4, 7]}"
   ]
  },
  {
   "cell_type": "code",
   "execution_count": 132,
   "id": "1c3cd327-1a8c-48b7-bab1-622f0594dc68",
   "metadata": {},
   "outputs": [],
   "source": [
    "df = pd.DataFrame(data)"
   ]
  },
  {
   "cell_type": "code",
   "execution_count": 133,
   "id": "55160823-4e07-452a-8649-c610b8558fbe",
   "metadata": {},
   "outputs": [
    {
     "data": {
      "text/html": [
       "<div>\n",
       "<style scoped>\n",
       "    .dataframe tbody tr th:only-of-type {\n",
       "        vertical-align: middle;\n",
       "    }\n",
       "\n",
       "    .dataframe tbody tr th {\n",
       "        vertical-align: top;\n",
       "    }\n",
       "\n",
       "    .dataframe thead th {\n",
       "        text-align: right;\n",
       "    }\n",
       "</style>\n",
       "<table border=\"1\" class=\"dataframe\">\n",
       "  <thead>\n",
       "    <tr style=\"text-align: right;\">\n",
       "      <th></th>\n",
       "      <th>x</th>\n",
       "      <th>y</th>\n",
       "    </tr>\n",
       "  </thead>\n",
       "  <tbody>\n",
       "    <tr>\n",
       "      <th>0</th>\n",
       "      <td>1</td>\n",
       "      <td>-0.5</td>\n",
       "    </tr>\n",
       "    <tr>\n",
       "      <th>1</th>\n",
       "      <td>2</td>\n",
       "      <td>1.0</td>\n",
       "    </tr>\n",
       "    <tr>\n",
       "      <th>2</th>\n",
       "      <td>3</td>\n",
       "      <td>2.0</td>\n",
       "    </tr>\n",
       "    <tr>\n",
       "      <th>3</th>\n",
       "      <td>4</td>\n",
       "      <td>4.0</td>\n",
       "    </tr>\n",
       "    <tr>\n",
       "      <th>4</th>\n",
       "      <td>5</td>\n",
       "      <td>7.0</td>\n",
       "    </tr>\n",
       "  </tbody>\n",
       "</table>\n",
       "</div>"
      ],
      "text/plain": [
       "   x    y\n",
       "0  1 -0.5\n",
       "1  2  1.0\n",
       "2  3  2.0\n",
       "3  4  4.0\n",
       "4  5  7.0"
      ]
     },
     "execution_count": 133,
     "metadata": {},
     "output_type": "execute_result"
    }
   ],
   "source": [
    "df"
   ]
  },
  {
   "cell_type": "code",
   "execution_count": 141,
   "id": "d8016109-e77f-4504-b608-b4eb3f601a5d",
   "metadata": {},
   "outputs": [],
   "source": [
    "# Add predictions-manual predictions\n",
    "df['y_hat'] = [0, 2, 4, 6, 8]#changing this so the model gets closer to the data"
   ]
  },
  {
   "cell_type": "code",
   "execution_count": 136,
   "id": "8461224d-d49a-46d4-8651-ef6f90de4683",
   "metadata": {},
   "outputs": [
    {
     "data": {
      "text/plain": [
       "Text(0.5, 1.0, 'Prediction error')"
      ]
     },
     "execution_count": 136,
     "metadata": {},
     "output_type": "execute_result"
    },
    {
     "data": {
      "image/png": "[encoded data removed]",
      "text/plain": [
       "<Figure size 432x288 with 1 Axes>"
      ]
     },
     "metadata": {
      "needs_background": "light"
     },
     "output_type": "display_data"
    }
   ],
   "source": [
    "# plot the data\n",
    "ax = df.plot(x='x', y='y', kind='scatter', xlim=[0,6], ylim=[-1,9])\n",
    "# plot approx line of best fit\n",
    "ax.plot(df['x'], df['y_hat'], color='blue');\n",
    "# plot error\n",
    "ax.vlines(x=df['x'], ymin=df['y'], ymax=df['y_hat'], color='red', linestyle='dashed')\n",
    "ax.text(x=3.1, y=3, s='Error')\n",
    "ax.set_title('Prediction error')"
   ]
  },
  {
   "cell_type": "code",
   "execution_count": 143,
   "id": "ace8ab4a-7999-4b81-b1c3-508b308346b9",
   "metadata": {},
   "outputs": [],
   "source": [
    "import numpy as np\n",
    "\n",
    "def loss(y,y_hat):\n",
    "    \"\"\"\n",
    "    Loss function (mean squared error). for Linear Regression method as above\n",
    "\n",
    "    Args:\n",
    "        y (numpy array): The known target values.\n",
    "        y_hat (numpy array): The predicted values.\n",
    "\n",
    "    Returns:\n",
    "        numpy float: The mean squared error.\n",
    "    \"\"\"\n",
    "    \n",
    "    distances = y-y_hat\n",
    "    squared_distances = np.square(distances)\n",
    "    return np.mean(squared_distances)"
   ]
  },
  {
   "cell_type": "code",
   "execution_count": 144,
   "id": "20347719-e545-4ee2-9584-e84aff0c5732",
   "metadata": {},
   "outputs": [
    {
     "data": {
      "text/plain": [
       "2.05"
      ]
     },
     "execution_count": 144,
     "metadata": {},
     "output_type": "execute_result"
    }
   ],
   "source": [
    "loss(df['y'],df['y_hat'])"
   ]
  },
  {
   "cell_type": "code",
   "execution_count": 152,
   "id": "387b8395-2128-4009-9b82-d832a385f296",
   "metadata": {},
   "outputs": [
    {
     "data": {
      "text/plain": [
       "Text(0, 0.5, 'Loss (squared error)')"
      ]
     },
     "execution_count": 152,
     "metadata": {},
     "output_type": "execute_result"
    },
    {
     "data": {
      "image/png": "[encoded data removed]",
      "text/plain": [
       "<Figure size 432x288 with 1 Axes>"
      ]
     },
     "metadata": {
      "needs_background": "light"
     },
     "output_type": "display_data"
    }
   ],
   "source": [
    "import numpy as np\n",
    "import matplotlib.pyplot as plt\n",
    "x = np.arange(-50, 50, 0.05)\n",
    "y = np.square(x)\n",
    "\n",
    "plt.plot(x, y)\n",
    "plt.xlabel('Difference between y and y_hat')\n",
    "plt.ylabel('Loss (squared error)')\n",
    "#the plot shows the losses of the loss function-mean square error (M.S.E) and how the model fits the data/how the model is doing\n",
    "#loss functions are used to decide what parameters to train the Machine Learning model"
   ]
  },
  {
   "cell_type": "code",
   "execution_count": 153,
   "id": "5a0de3c7-7e2c-4e1a-96cd-641e0dfba2d8",
   "metadata": {},
   "outputs": [],
   "source": [
    "###########################Modelling###############################################"
   ]
  },
  {
   "cell_type": "code",
   "execution_count": 154,
   "id": "c2dd0da0-71b1-45e1-a451-30035c022f6c",
   "metadata": {},
   "outputs": [],
   "source": [
    "########Linear regression model for Machine Learning#############"
   ]
  },
  {
   "cell_type": "code",
   "execution_count": 163,
   "id": "f37a4895-ef9b-47e3-bef4-7ef696aa3297",
   "metadata": {},
   "outputs": [
    {
     "data": {
      "image/png": "[encoded data removed]",
      "text/plain": [
       "<Figure size 432x288 with 1 Axes>"
      ]
     },
     "metadata": {
      "needs_background": "light"
     },
     "output_type": "display_data"
    }
   ],
   "source": [
    "# import the regression model\n",
    "#we need the model to learn the w weight and the bias b\n",
    "#y_hat = wX+b\n",
    "import numpy as np\n",
    "from matplotlib import pyplot as plt\n",
    "from sklearn.linear_model import LinearRegression\n",
    "reg = LinearRegression()#create an instance of the model from sklearn\n",
    "\n",
    "# use a single feature (apache score)\n",
    "# note: remove the reshape if fitting to >1 input variable\n",
    "#and reshape the data\n",
    "X = cohort.apachescore.values.reshape(-1, 1)#apache-IV score\n",
    "y = cohort.actualhospitalmortality_enc.values\n",
    "#1 partients survived-mortality\n",
    "#0 patients died\n",
    "\n",
    "# fit the model to our data\n",
    "reg = reg.fit(X, y)\n",
    "\n",
    "# get the y values\n",
    "buffer = 0.2*max(X)\n",
    "X_fit = np.linspace(min(X) - buffer, max(X) + buffer, num=50)\n",
    "y_fit = reg.predict(X_fit)\n",
    "\n",
    "# plot\n",
    "plt.scatter(X, y,  color='black', marker = 'x')\n",
    "plt.plot(X_fit, y_fit, color='red', linewidth=2)\n",
    "plt.show()"
   ]
  },
  {
   "cell_type": "code",
   "execution_count": 166,
   "id": "7e125699-99eb-4a82-907d-44696bdcfe15",
   "metadata": {},
   "outputs": [
    {
     "data": {
      "image/png": "[encoded data removed]",
      "text/plain": [
       "<Figure size 432x288 with 1 Axes>"
      ]
     },
     "metadata": {
      "needs_background": "light"
     },
     "output_type": "display_data"
    }
   ],
   "source": [
    "def sigmoid(x, k=0.1):\n",
    "    #k is the kernel value of the function and affects the steepness\n",
    "    \"\"\"\n",
    "    Sigmoid function. \n",
    "    Adjust k to set slope.\n",
    "    To create an S shape curve to take any number and map it from 0 and 1\n",
    "    \"\"\"\n",
    "    s = 1 / (1 + np.exp(-x / k)) \n",
    "    return s\n",
    "\n",
    "# set range of values for x\n",
    "x = np.linspace(-1, 1, 50)\n",
    "\n",
    "plt.plot(x, sigmoid(x))\n",
    "plt.show()"
   ]
  },
  {
   "cell_type": "code",
   "execution_count": 167,
   "id": "1533c324-0feb-464c-a330-e29de55fdaa6",
   "metadata": {},
   "outputs": [
    {
     "data": {
      "image/png": "[encoded data removed]",
      "text/plain": [
       "<Figure size 432x288 with 1 Axes>"
      ]
     },
     "metadata": {
      "needs_background": "light"
     },
     "output_type": "display_data"
    }
   ],
   "source": [
    "# import the regression model\n",
    "import numpy as np\n",
    "from matplotlib import pyplot as plt\n",
    "from sklearn.linear_model import LogisticRegression\n",
    "reg = LogisticRegression()\n",
    "\n",
    "# use a single feature (apache score)\n",
    "# note: remove the reshape if fitting to >1 input variable\n",
    "X = cohort.apachescore.values.reshape(-1, 1)\n",
    "y = cohort.actualhospitalmortality_enc.values\n",
    "\n",
    "# fit the model to our data\n",
    "reg = reg.fit(X, y)\n",
    "\n",
    "# get the y values\n",
    "buffer = 0.2*max(X)\n",
    "X_fit = np.linspace(min(X) - buffer, max(X) + buffer, num=50)\n",
    "y_fit = reg.predict(X_fit)\n",
    "\n",
    "# plot\n",
    "plt.scatter(X, y,  color='black', marker = 'x')\n",
    "plt.plot(X_fit, y_fit, color='red', linewidth=2)\n",
    "plt.show()"
   ]
  },
  {
   "cell_type": "code",
   "execution_count": 177,
   "id": "1da8b2db-4f19-4a70-b273-8300940cdd7b",
   "metadata": {},
   "outputs": [],
   "source": [
    "#For example, we could classify probabilities of < 0.5 as “ALIVE” and >= 0.5 as “EXPIRED”\n",
    "x = [[90]]#set apache score of 90\n",
    "outcome = reg.predict(x)"
   ]
  },
  {
   "cell_type": "code",
   "execution_count": 172,
   "id": "4c1e5372-a9a8-457f-a9f0-0c8ee782c65b",
   "metadata": {},
   "outputs": [
    {
     "data": {
      "text/plain": [
       "array([0], dtype=int8)"
      ]
     },
     "execution_count": 172,
     "metadata": {},
     "output_type": "execute_result"
    }
   ],
   "source": [
    "outcome"
   ]
  },
  {
   "cell_type": "code",
   "execution_count": 175,
   "id": "50ea20e3-b650-454b-bff7-b785eb5f0728",
   "metadata": {},
   "outputs": [
    {
     "data": {
      "text/plain": [
       "array([0.76578699, 0.23421301])"
      ]
     },
     "execution_count": 175,
     "metadata": {},
     "output_type": "execute_result"
    }
   ],
   "source": [
    "probs = reg.predict_proba(x)[0]\n",
    "probs"
   ]
  },
  {
   "cell_type": "code",
   "execution_count": 176,
   "id": "f6f8a508-da96-4bfc-b4f6-faf68c58dccb",
   "metadata": {},
   "outputs": [
    {
     "name": "stdout",
     "output_type": "stream",
     "text": [
      "For x=90, we predict an outcome of \"0\".\n",
      "Class probabilities (0, 1): (0.77, 0.23).\n"
     ]
    }
   ],
   "source": [
    "print(f'For x={x[0][0]}, we predict an outcome of \"{outcome[0]}\".\\n'\n",
    "      f'Class probabilities (0, 1): {round(probs[0],2), round(probs[1],2)}.')"
   ]
  },
  {
   "cell_type": "code",
   "execution_count": 181,
   "id": "6c0b9b65-dd0a-41a5-adca-caf1698d1660",
   "metadata": {},
   "outputs": [
    {
     "name": "stdout",
     "output_type": "stream",
     "text": [
      "Accuracy on training set: 0.86\n",
      "Accuracy on test set: 0.82\n"
     ]
    }
   ],
   "source": [
    "from sklearn.linear_model import LogisticRegression\n",
    "from sklearn.model_selection import train_test_split\n",
    "# convert outcome to a categorical type\n",
    "categories=['ALIVE', 'EXPIRED']\n",
    "cohort['actualhospitalmortality'] = pd.Categorical(cohort['actualhospitalmortality'], categories=categories)\n",
    "# add the encoded value to a new column\n",
    "cohort['actualhospitalmortality_enc'] = cohort['actualhospitalmortality'].cat.codes\n",
    "cohort[['actualhospitalmortality_enc','actualhospitalmortality']].head()\n",
    "\n",
    "# define features and outcome\n",
    "features = ['apachescore']\n",
    "outcome = ['actualhospitalmortality_enc']\n",
    "\n",
    "# partition data into training and test sets\n",
    "X = cohort[features]\n",
    "y = cohort[outcome]\n",
    "x_train, x_test, y_train, y_test = train_test_split(X, y, train_size = 0.7, random_state = 42)\n",
    "\n",
    "# restructure data for input into model\n",
    "# note: remove the reshape if fitting to >1 input variable\n",
    "x_train = x_train.values.reshape(-1, 1)\n",
    "y_train = y_train.values.ravel()\n",
    "x_test = x_test.values.reshape(-1, 1)\n",
    "y_test = y_test.values.ravel()\n",
    "\n",
    "# train model and fit logistic regression\n",
    "reg = LogisticRegression(random_state=0)\n",
    "reg.fit(x_train, y_train)\n",
    "\n",
    "# generate some predictions\n",
    "y_hat_train = reg.predict(x_train)\n",
    "y_hat_test = reg.predict(x_test)\n",
    "\n",
    "#  accuracy on training set\n",
    "acc_train = np.mean(y_hat_train == y_train)\n",
    "print(f'Accuracy on training set: {acc_train:.2f}')\n",
    "\n",
    "#  accuracy on test set\n",
    "acc_test = np.mean(y_hat_test == y_test)\n",
    "print(f'Accuracy on test set: {acc_test:.2f}')\n"
   ]
  },
  {
   "cell_type": "code",
   "execution_count": 187,
   "id": "28185669-07de-473d-a9a2-f0098aa19571",
   "metadata": {},
   "outputs": [],
   "source": [
    "####################Cross Validation##########################\n",
    "#partition data into 5 folds-splits,repetition of 3 times =15 model training steps"
   ]
  },
  {
   "cell_type": "code",
   "execution_count": 188,
   "id": "b0751516-4277-404c-ac5a-3f5af7255ef4",
   "metadata": {},
   "outputs": [
    {
     "name": "stdout",
     "output_type": "stream",
     "text": [
      "Cross-validation accuracy, mean (std): 81.53 (3.31)\n"
     ]
    }
   ],
   "source": [
    "from numpy import mean, std\n",
    "from sklearn.model_selection import cross_val_score, RepeatedStratifiedKFold\n",
    "from sklearn.preprocessing import MinMaxScaler\n",
    "from sklearn.pipeline import Pipeline\n",
    "\n",
    "# define dataset\n",
    "X = x_train\n",
    "y = y_train\n",
    "\n",
    "# define the pipeline\n",
    "steps = list()\n",
    "steps.append(('scaler', MinMaxScaler()))#item in the list to scale data\n",
    "steps.append(('model', LogisticRegression()))#step that train model\n",
    "pipeline = Pipeline(steps=steps)#create pipeline object\n",
    "\n",
    "# define the evaluation procedure\n",
    "#cv =cross-validation object\n",
    "cv = RepeatedStratifiedKFold(n_splits=5, n_repeats=3, random_state=1)\n",
    "\n",
    "# evaluate the model using cross-validation\n",
    "scores = cross_val_score(pipeline, X, y, scoring='accuracy', cv=cv, n_jobs=-1)\n",
    "\n",
    "# report performance\n",
    "print('Cross-validation accuracy, mean (std): %.2f (%.2f)' % (mean(scores)*100, std(scores)*100))"
   ]
  },
  {
   "cell_type": "code",
   "execution_count": 191,
   "id": "dbbb79a9-6a1d-4e29-9940-675c69258716",
   "metadata": {},
   "outputs": [],
   "source": [
    "#################### Model Evaluation##########################"
   ]
  },
  {
   "cell_type": "code",
   "execution_count": 192,
   "id": "6705e7cd-ed74-43bb-85d3-ad22f7f802f7",
   "metadata": {},
   "outputs": [],
   "source": [
    "from sklearn.linear_model import LogisticRegression\n",
    "from sklearn.model_selection import train_test_split\n",
    "\n",
    "# convert outcome to a categorical type\n",
    "categories=['ALIVE', 'EXPIRED']\n",
    "cohort['actualhospitalmortality'] = pd.Categorical(cohort['actualhospitalmortality'], categories=categories)\n",
    "\n",
    "# add the encoded value to a new column\n",
    "cohort['actualhospitalmortality_enc'] = cohort['actualhospitalmortality'].cat.codes\n",
    "cohort[['actualhospitalmortality_enc','actualhospitalmortality']].head()\n",
    "\n",
    "# define features and outcome\n",
    "features = ['apachescore']\n",
    "outcome = ['actualhospitalmortality_enc']\n",
    "\n",
    "# partition data into training and test sets\n",
    "X = cohort[features]\n",
    "y = cohort[outcome]\n",
    "x_train, x_test, y_train, y_test = train_test_split(X, y, train_size = 0.7, random_state =  42)\n",
    "\n",
    "# restructure data for input into model\n",
    "# note: remove the reshape if fitting to >1 input variable\n",
    "x_train = x_train.values.reshape(-1, 1)\n",
    "y_train = y_train.values.ravel()\n",
    "x_test = x_test.values.reshape(-1, 1)\n",
    "y_test = y_test.values.ravel()\n",
    "\n",
    "# train model\n",
    "reg = LogisticRegression(random_state=0)\n",
    "reg.fit(x_train, y_train)\n",
    "\n",
    "# generate predictions\n",
    "y_hat_test = reg.predict(x_test)\n",
    "y_hat_test_proba = reg.predict_proba(x_test)"
   ]
  },
  {
   "cell_type": "code",
   "execution_count": 194,
   "id": "4988e8c2-cd5b-4920-b9c2-09fba3cc0334",
   "metadata": {},
   "outputs": [
    {
     "name": "stdout",
     "output_type": "stream",
     "text": [
      "[0.09, 0.11, 0.23, 0.21, 0.23, 0.21, 0.19, 0.03, 0.2, 0.67, 0.54, 0.72]\n"
     ]
    }
   ],
   "source": [
    "probs = y_hat_test_proba[:,1][:12]#chosen cut offs\n",
    "rounded_probs = [round(x,2) for x in probs]\n",
    "print(rounded_probs)#ground tree values"
   ]
  },
  {
   "cell_type": "code",
   "execution_count": 195,
   "id": "3040f4ff-f672-444c-80bb-8d7dcbee5fd4",
   "metadata": {},
   "outputs": [
    {
     "name": "stdout",
     "output_type": "stream",
     "text": [
      "[0 0 0 0 0 0 0 0 0 1 1 1]\n"
     ]
    }
   ],
   "source": [
    "print(y_hat_test[:12])# y_hat_test the prediction"
   ]
  },
  {
   "cell_type": "code",
   "execution_count": 196,
   "id": "83e0062b-e6da-405a-ae39-dad52fc08a18",
   "metadata": {},
   "outputs": [],
   "source": [
    "#True Negative =TN=0-survived patient\n",
    "#True Positive =TP= 1"
   ]
  },
  {
   "cell_type": "code",
   "execution_count": 197,
   "id": "85899306-7501-4c9b-9efe-56547dfbbbd9",
   "metadata": {},
   "outputs": [],
   "source": [
    "######################Confusion matrices#######################"
   ]
  },
  {
   "cell_type": "code",
   "execution_count": 204,
   "id": "333f5bae-6645-4e8e-88ec-ed1bb8448d44",
   "metadata": {},
   "outputs": [
    {
     "data": {
      "image/png": "[encoded data removed]",
      "text/plain": [
       "<Figure size 432x288 with 2 Axes>"
      ]
     },
     "metadata": {
      "needs_background": "light"
     },
     "output_type": "display_data"
    }
   ],
   "source": [
    "# import the metrics class \n",
    "#show classification\n",
    "from sklearn import metrics\n",
    "confusion = metrics.confusion_matrix(y_test, y_hat_test)#y_test ground tree values, y_hat_test the prediction\n",
    "\n",
    "class_names=cohort['actualhospitalmortality'].cat.categories\n",
    "disp = metrics.ConfusionMatrixDisplay.from_estimator(\n",
    "    reg, x_test, y_test, display_labels=class_names,\n",
    "    cmap=plt.cm.Blues)\n",
    "\n",
    "plt.show()"
   ]
  },
  {
   "cell_type": "code",
   "execution_count": 200,
   "id": "545b370a-72d1-4c62-8701-c13569b3957e",
   "metadata": {},
   "outputs": [
    {
     "name": "stdout",
     "output_type": "stream",
     "text": [
      "Accuracy (model) = 0.82\n"
     ]
    }
   ],
   "source": [
    "acc = metrics.accuracy_score(y_test, y_hat_test)\n",
    "print(f\"Accuracy (model) = {acc:.2f}\")"
   ]
  },
  {
   "cell_type": "code",
   "execution_count": 202,
   "id": "74ad84b1-8ca5-4922-b663-51369572893d",
   "metadata": {},
   "outputs": [
    {
     "name": "stdout",
     "output_type": "stream",
     "text": [
      "Accuracy (zeros) = 0.92\n"
     ]
    }
   ],
   "source": [
    "zeros = np.zeros(len(y_test))\n",
    "acc = metrics.accuracy_score(y_test, zeros)\n",
    "print(f\"Accuracy (zeros) = {acc:.2f}\")"
   ]
  },
  {
   "cell_type": "code",
   "execution_count": 203,
   "id": "13fb9a1c-392d-495e-b7f3-2a82439f048d",
   "metadata": {},
   "outputs": [
    {
     "name": "stderr",
     "output_type": "stream",
     "text": [
      "/opt/conda/lib/python3.9/site-packages/sklearn/utils/deprecation.py:87: FutureWarning: Function plot_roc_curve is deprecated; Function :func:`plot_roc_curve` is deprecated in 1.0 and will be removed in 1.2. Use one of the class methods: :meth:`sklearn.metric.RocCurveDisplay.from_predictions` or :meth:`sklearn.metric.RocCurveDisplay.from_estimator`.\n",
      "  warnings.warn(msg, category=FutureWarning)\n"
     ]
    },
    {
     "data": {
      "text/plain": [
       "<sklearn.metrics._plot.roc_curve.RocCurveDisplay at 0x7f60fc720d60>"
      ]
     },
     "execution_count": 203,
     "metadata": {},
     "output_type": "execute_result"
    },
    {
     "data": {
      "image/png": "[encoded data removed]",
      "text/plain": [
       "<Figure size 432x288 with 1 Axes>"
      ]
     },
     "metadata": {
      "needs_background": "light"
     },
     "output_type": "display_data"
    }
   ],
   "source": [
    "metrics.plot_roc_curve(reg, x_test, y_test)"
   ]
  },
  {
   "cell_type": "code",
   "execution_count": 205,
   "id": "8e835e39-7956-4c3d-ab1a-7341ae61a7e1",
   "metadata": {},
   "outputs": [],
   "source": [
    "###################Boosttrapping#################################"
   ]
  },
  {
   "cell_type": "code",
   "execution_count": 206,
   "id": "e821e915-ccfc-48e2-bc48-8485e3804e4c",
   "metadata": {},
   "outputs": [],
   "source": [
    "import matplotlib.pyplot as plt\n",
    "from sklearn.linear_model import LogisticRegression\n",
    "from sklearn.model_selection import train_test_split\n",
    "from sklearn.utils import resample\n",
    "from sklearn.metrics import accuracy_score\n",
    "\n",
    "# convert outcome to a categorical type\n",
    "categories=['ALIVE', 'EXPIRED']\n",
    "cohort['actualhospitalmortality'] = pd.Categorical(cohort['actualhospitalmortality'], categories=categories)\n",
    "\n",
    "# add the encoded value to a new column\n",
    "cohort['actualhospitalmortality_enc'] = cohort['actualhospitalmortality'].cat.codes\n",
    "cohort[['actualhospitalmortality_enc','actualhospitalmortality']].head()\n",
    "\n",
    "# define features and outcome\n",
    "features = ['apachescore']\n",
    "outcome = ['actualhospitalmortality_enc']\n",
    "\n",
    "# partition data into training and test sets\n",
    "X = cohort[features]\n",
    "y = cohort[outcome]\n",
    "x_train, x_test, y_train, y_test = train_test_split(X, y, train_size = 0.7, random_state = 42)\n",
    "\n",
    "# restructure data for input into model\n",
    "# note: remove the reshape if fitting to >1 input variable\n",
    "x_train = x_train.values.reshape(-1, 1)\n",
    "y_train = y_train.values.ravel()\n",
    "x_test = x_test.values.reshape(-1, 1)\n",
    "y_test = y_test.values.ravel()\n",
    "\n",
    "# train model\n",
    "reg = LogisticRegression(random_state=0)\n",
    "reg.fit(x_train, y_train)\n",
    "\n",
    "# bootstrap predictions\n",
    "accuracy = []\n",
    "n_iterations = 1000\n",
    "for i in range(n_iterations):\n",
    "    X_bs, y_bs = resample(x_train, y_train, replace=True)\n",
    "    # make predictions\n",
    "    y_hat = reg.predict(X_bs)\n",
    "    # evaluate model\n",
    "    score = accuracy_score(y_bs, y_hat)\n",
    "    accuracy.append(score)"
   ]
  },
  {
   "cell_type": "code",
   "execution_count": 207,
   "id": "5a78bc75-8b49-476e-9d8d-beefe4015335",
   "metadata": {},
   "outputs": [
    {
     "name": "stderr",
     "output_type": "stream",
     "text": [
      "/opt/conda/lib/python3.9/site-packages/seaborn/rcmod.py:82: DeprecationWarning: distutils Version classes are deprecated. Use packaging.version instead.\n",
      "  if LooseVersion(mpl.__version__) >= \"3.0\":\n",
      "/opt/conda/lib/python3.9/site-packages/setuptools/_distutils/version.py:351: DeprecationWarning: distutils Version classes are deprecated. Use packaging.version instead.\n",
      "  other = LooseVersion(other)\n"
     ]
    },
    {
     "data": {
      "image/png": "[encoded data removed]",
      "text/plain": [
       "<Figure size 432x288 with 1 Axes>"
      ]
     },
     "metadata": {
      "needs_background": "light"
     },
     "output_type": "display_data"
    }
   ],
   "source": [
    "import seaborn as sns\n",
    "# plot distribution of accuracy\n",
    "sns.kdeplot(accuracy)\n",
    "plt.title(\"Accuracy across 1000 bootstrap samples of the held-out test set\")\n",
    "plt.xlabel(\"Accuracy\")\n",
    "plt.show()"
   ]
  },
  {
   "cell_type": "code",
   "execution_count": 208,
   "id": "2519cfe4-79d3-4a0f-b8ab-0b9021738d93",
   "metadata": {},
   "outputs": [],
   "source": [
    "##################Percentile method####################"
   ]
  },
  {
   "cell_type": "code",
   "execution_count": 209,
   "id": "b03cd73b-4be1-425c-819f-2d1c3e1b2ec9",
   "metadata": {},
   "outputs": [
    {
     "name": "stdout",
     "output_type": "stream",
     "text": [
      "Model accuracy is reported on the test set. 1000 bootstrapped samples were used to calculate 95% confidence intervals.\n",
      "Median accuracy is 0.86 with a 95% a confidence interval of [0.80,0.91].\n"
     ]
    }
   ],
   "source": [
    "# get median\n",
    "median = np.percentile(accuracy, 50)\n",
    "\n",
    "# get 95% interval\n",
    "alpha = 100-95\n",
    "lower_ci = np.percentile(accuracy, alpha/2)\n",
    "upper_ci = np.percentile(accuracy, 100-alpha/2)\n",
    "\n",
    "print(f\"Model accuracy is reported on the test set. 1000 bootstrapped samples \" \n",
    "      f\"were used to calculate 95% confidence intervals.\\n\"\n",
    "      f\"Median accuracy is {median:.2f} with a 95% a confidence \"\n",
    "      f\"interval of [{lower_ci:.2f},{upper_ci:.2f}].\")"
   ]
  },
  {
   "cell_type": "code",
   "execution_count": 210,
   "id": "78fe4af7-2029-4d0b-8119-a866c8303142",
   "metadata": {},
   "outputs": [
    {
     "data": {
      "image/png": "[encoded data removed]",
      "text/plain": [
       "<Figure size 432x288 with 1 Axes>"
      ]
     },
     "metadata": {
      "needs_background": "light"
     },
     "output_type": "display_data"
    }
   ],
   "source": [
    "sns.kdeplot(accuracy)\n",
    "plt.title(\"Accuracy across 1000 bootstrap samples of the held-out test set\\n\"\n",
    "          \"showing median with 95\\\\% confidence intervals\")\n",
    "plt.xlabel(\"Accuracy\")\n",
    "plt.axvline(median,0, 14, linestyle=\"--\", color=\"red\")\n",
    "plt.axvline(lower_ci,0, 14, linestyle=\"--\", color=\"red\")\n",
    "plt.axvline(upper_ci,0, 14, linestyle=\"--\", color=\"red\")\n",
    "plt.show()"
   ]
  },
  {
   "cell_type": "code",
   "execution_count": 211,
   "id": "9e0b54b1-7f92-4a94-a8d7-425a66ad6e19",
   "metadata": {},
   "outputs": [],
   "source": [
    "################Data Leakage####################"
   ]
  },
  {
   "cell_type": "code",
   "execution_count": null,
   "id": "1b8c6262-bf68-4db9-9295-617fe9765207",
   "metadata": {},
   "outputs": [],
   "source": []
  }
 ],
 "metadata": {
  "kernelspec": {
   "display_name": "Python 3 (ipykernel)",
   "language": "python",
   "name": "python3"
  },
  "language_info": {
   "codemirror_mode": {
    "name": "ipython",
    "version": 3
   },
   "file_extension": ".py",
   "mimetype": "text/x-python",
   "name": "python",
   "nbconvert_exporter": "python",
   "pygments_lexer": "ipython3",
   "version": "3.9.12"
  }
 },
 "nbformat": 4,
 "nbformat_minor": 5
}
