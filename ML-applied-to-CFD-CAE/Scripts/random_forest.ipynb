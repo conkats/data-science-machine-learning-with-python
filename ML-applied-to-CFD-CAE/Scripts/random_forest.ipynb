{
 "cells": [
  {
   "cell_type": "markdown",
   "id": "5fd522b9",
   "metadata": {},
   "source": [
    "# Random Forest Regressor vs Decision Tree models FIFA 18\n",
    "(Application of ML in CAE and CFD)"
   ]
  },
  {
   "cell_type": "markdown",
   "id": "f27f4caf",
   "metadata": {},
   "source": [
    "Random forests are made from numerous decisions trees, created on various subsets of the data\n",
    "The final output is aggregated average of individual subsets.\n",
    "This helps preventing overfitting.\n",
    "\n",
    "Advantages of random forest and decision trees:\n",
    "- Easy-to-use setup and their ability to be quite accurate on datasets with many features.\n",
    "- Abily to gauge the importance \"ranking\" of the different features used.\n",
    "- Variety of interpretations to the model predictions.\n",
    "\n",
    "The objective of the ML model is to make accurate prediction on who was the man of the match award is given and capture non-linear relatioship.\n",
    "\n",
    "For this work, the FIFA 2018 World Cup dataset will be used which comprises of statistics from all the matches in the 2018 tournament (refer to):\n",
    "1) [Dataset from Kaggle](https://www.kaggle.com/mathan/datasets)\n",
    "2) [Random Forest Regressor exampe](https://www.kaggle.com/code/adityadeshpande23/fifa-19-random-forest-regressor). \n",
    "3) [Further resources.](https://medium.com/@jainvidip/understanding-random-forest-0ca15aaa443c)"
   ]
  },
  {
   "cell_type": "code",
   "execution_count": 189,
   "id": "0ef1bfd4",
   "metadata": {},
   "outputs": [],
   "source": [
    "# importing libraries\n",
    "import numpy as np#linear algebra\n",
    "import pandas as pd#data processing\n",
    "import sklearn.model_selection as model_selection\n",
    "from sklearn.model_selection import train_test_split\n",
    "from sklearn import tree\n",
    "\n",
    "\n",
    "# for visualisation\n",
    "import matplotlib.pyplot as plt\n",
    "from sklearn.tree import export_graphviz\n",
    "from IPython.display import Image  \n",
    "from subprocess import call"
   ]
  },
  {
   "cell_type": "markdown",
   "id": "5d4a54ba",
   "metadata": {},
   "source": [
    "#### Loading the dataset"
   ]
  },
  {
   "cell_type": "code",
   "execution_count": 190,
   "id": "e5058185",
   "metadata": {},
   "outputs": [
    {
     "data": {
      "text/html": [
       "<div>\n",
       "<style scoped>\n",
       "    .dataframe tbody tr th:only-of-type {\n",
       "        vertical-align: middle;\n",
       "    }\n",
       "\n",
       "    .dataframe tbody tr th {\n",
       "        vertical-align: top;\n",
       "    }\n",
       "\n",
       "    .dataframe thead th {\n",
       "        text-align: right;\n",
       "    }\n",
       "</style>\n",
       "<table border=\"1\" class=\"dataframe\">\n",
       "  <thead>\n",
       "    <tr style=\"text-align: right;\">\n",
       "      <th></th>\n",
       "      <th>Date</th>\n",
       "      <th>Team</th>\n",
       "      <th>Opponent</th>\n",
       "      <th>Goal Scored</th>\n",
       "      <th>Ball Possession %</th>\n",
       "      <th>Attempts</th>\n",
       "      <th>On-Target</th>\n",
       "      <th>Off-Target</th>\n",
       "      <th>Blocked</th>\n",
       "      <th>Corners</th>\n",
       "      <th>...</th>\n",
       "      <th>Yellow Card</th>\n",
       "      <th>Yellow &amp; Red</th>\n",
       "      <th>Red</th>\n",
       "      <th>Man of the Match</th>\n",
       "      <th>1st Goal</th>\n",
       "      <th>Round</th>\n",
       "      <th>PSO</th>\n",
       "      <th>Goals in PSO</th>\n",
       "      <th>Own goals</th>\n",
       "      <th>Own goal Time</th>\n",
       "    </tr>\n",
       "  </thead>\n",
       "  <tbody>\n",
       "    <tr>\n",
       "      <th>0</th>\n",
       "      <td>14-06-2018</td>\n",
       "      <td>Russia</td>\n",
       "      <td>Saudi Arabia</td>\n",
       "      <td>5</td>\n",
       "      <td>40</td>\n",
       "      <td>13</td>\n",
       "      <td>7</td>\n",
       "      <td>3</td>\n",
       "      <td>3</td>\n",
       "      <td>6</td>\n",
       "      <td>...</td>\n",
       "      <td>0</td>\n",
       "      <td>0</td>\n",
       "      <td>0</td>\n",
       "      <td>Yes</td>\n",
       "      <td>12.0</td>\n",
       "      <td>Group Stage</td>\n",
       "      <td>No</td>\n",
       "      <td>0</td>\n",
       "      <td>NaN</td>\n",
       "      <td>NaN</td>\n",
       "    </tr>\n",
       "    <tr>\n",
       "      <th>1</th>\n",
       "      <td>14-06-2018</td>\n",
       "      <td>Saudi Arabia</td>\n",
       "      <td>Russia</td>\n",
       "      <td>0</td>\n",
       "      <td>60</td>\n",
       "      <td>6</td>\n",
       "      <td>0</td>\n",
       "      <td>3</td>\n",
       "      <td>3</td>\n",
       "      <td>2</td>\n",
       "      <td>...</td>\n",
       "      <td>0</td>\n",
       "      <td>0</td>\n",
       "      <td>0</td>\n",
       "      <td>No</td>\n",
       "      <td>NaN</td>\n",
       "      <td>Group Stage</td>\n",
       "      <td>No</td>\n",
       "      <td>0</td>\n",
       "      <td>NaN</td>\n",
       "      <td>NaN</td>\n",
       "    </tr>\n",
       "    <tr>\n",
       "      <th>2</th>\n",
       "      <td>15-06-2018</td>\n",
       "      <td>Egypt</td>\n",
       "      <td>Uruguay</td>\n",
       "      <td>0</td>\n",
       "      <td>43</td>\n",
       "      <td>8</td>\n",
       "      <td>3</td>\n",
       "      <td>3</td>\n",
       "      <td>2</td>\n",
       "      <td>0</td>\n",
       "      <td>...</td>\n",
       "      <td>2</td>\n",
       "      <td>0</td>\n",
       "      <td>0</td>\n",
       "      <td>No</td>\n",
       "      <td>NaN</td>\n",
       "      <td>Group Stage</td>\n",
       "      <td>No</td>\n",
       "      <td>0</td>\n",
       "      <td>NaN</td>\n",
       "      <td>NaN</td>\n",
       "    </tr>\n",
       "    <tr>\n",
       "      <th>3</th>\n",
       "      <td>15-06-2018</td>\n",
       "      <td>Uruguay</td>\n",
       "      <td>Egypt</td>\n",
       "      <td>1</td>\n",
       "      <td>57</td>\n",
       "      <td>14</td>\n",
       "      <td>4</td>\n",
       "      <td>6</td>\n",
       "      <td>4</td>\n",
       "      <td>5</td>\n",
       "      <td>...</td>\n",
       "      <td>0</td>\n",
       "      <td>0</td>\n",
       "      <td>0</td>\n",
       "      <td>Yes</td>\n",
       "      <td>89.0</td>\n",
       "      <td>Group Stage</td>\n",
       "      <td>No</td>\n",
       "      <td>0</td>\n",
       "      <td>NaN</td>\n",
       "      <td>NaN</td>\n",
       "    </tr>\n",
       "    <tr>\n",
       "      <th>4</th>\n",
       "      <td>15-06-2018</td>\n",
       "      <td>Morocco</td>\n",
       "      <td>Iran</td>\n",
       "      <td>0</td>\n",
       "      <td>64</td>\n",
       "      <td>13</td>\n",
       "      <td>3</td>\n",
       "      <td>6</td>\n",
       "      <td>4</td>\n",
       "      <td>5</td>\n",
       "      <td>...</td>\n",
       "      <td>1</td>\n",
       "      <td>0</td>\n",
       "      <td>0</td>\n",
       "      <td>No</td>\n",
       "      <td>NaN</td>\n",
       "      <td>Group Stage</td>\n",
       "      <td>No</td>\n",
       "      <td>0</td>\n",
       "      <td>1.0</td>\n",
       "      <td>90.0</td>\n",
       "    </tr>\n",
       "  </tbody>\n",
       "</table>\n",
       "<p>5 rows × 27 columns</p>\n",
       "</div>"
      ],
      "text/plain": [
       "         Date          Team      Opponent  Goal Scored  Ball Possession %  \\\n",
       "0  14-06-2018        Russia  Saudi Arabia            5                 40   \n",
       "1  14-06-2018  Saudi Arabia        Russia            0                 60   \n",
       "2  15-06-2018         Egypt       Uruguay            0                 43   \n",
       "3  15-06-2018       Uruguay         Egypt            1                 57   \n",
       "4  15-06-2018       Morocco          Iran            0                 64   \n",
       "\n",
       "   Attempts  On-Target  Off-Target  Blocked  Corners  ...  Yellow Card  \\\n",
       "0        13          7           3        3        6  ...            0   \n",
       "1         6          0           3        3        2  ...            0   \n",
       "2         8          3           3        2        0  ...            2   \n",
       "3        14          4           6        4        5  ...            0   \n",
       "4        13          3           6        4        5  ...            1   \n",
       "\n",
       "   Yellow & Red  Red  Man of the Match  1st Goal        Round  PSO  \\\n",
       "0             0    0               Yes      12.0  Group Stage   No   \n",
       "1             0    0                No       NaN  Group Stage   No   \n",
       "2             0    0                No       NaN  Group Stage   No   \n",
       "3             0    0               Yes      89.0  Group Stage   No   \n",
       "4             0    0                No       NaN  Group Stage   No   \n",
       "\n",
       "   Goals in PSO  Own goals  Own goal Time  \n",
       "0             0        NaN            NaN  \n",
       "1             0        NaN            NaN  \n",
       "2             0        NaN            NaN  \n",
       "3             0        NaN            NaN  \n",
       "4             0        1.0           90.0  \n",
       "\n",
       "[5 rows x 27 columns]"
      ]
     },
     "execution_count": 190,
     "metadata": {},
     "output_type": "execute_result"
    }
   ],
   "source": [
    "# Importing the FIFA dataset\n",
    "# and inspecting the data\n",
    "path =\"/home/conmec/Python/Machine_learning_Deep_learning/input/\"\n",
    "\n",
    "# read the dataset from FIFA2018 World \n",
    "df = pd.read_csv(path+\"FIFA2018Statistics.csv\")\n",
    "df.head()\n"
   ]
  },
  {
   "cell_type": "markdown",
   "id": "d87f6df4",
   "metadata": {},
   "source": [
    "Exploratory Data Analysis on the FIFA dataset"
   ]
  },
  {
   "cell_type": "code",
   "execution_count": 191,
   "id": "f6c0aca3",
   "metadata": {},
   "outputs": [
    {
     "data": {
      "text/plain": [
       "(128, 27)"
      ]
     },
     "execution_count": 191,
     "metadata": {},
     "output_type": "execute_result"
    }
   ],
   "source": [
    "df.shape"
   ]
  },
  {
   "cell_type": "code",
   "execution_count": 192,
   "id": "c672fd42",
   "metadata": {},
   "outputs": [
    {
     "name": "stdout",
     "output_type": "stream",
     "text": [
      "<class 'pandas.core.frame.DataFrame'>\n",
      "RangeIndex: 128 entries, 0 to 127\n",
      "Data columns (total 27 columns):\n",
      " #   Column                  Non-Null Count  Dtype  \n",
      "---  ------                  --------------  -----  \n",
      " 0   Date                    128 non-null    object \n",
      " 1   Team                    128 non-null    object \n",
      " 2   Opponent                128 non-null    object \n",
      " 3   Goal Scored             128 non-null    int64  \n",
      " 4   Ball Possession %       128 non-null    int64  \n",
      " 5   Attempts                128 non-null    int64  \n",
      " 6   On-Target               128 non-null    int64  \n",
      " 7   Off-Target              128 non-null    int64  \n",
      " 8   Blocked                 128 non-null    int64  \n",
      " 9   Corners                 128 non-null    int64  \n",
      " 10  Offsides                128 non-null    int64  \n",
      " 11  Free Kicks              128 non-null    int64  \n",
      " 12  Saves                   128 non-null    int64  \n",
      " 13  Pass Accuracy %         128 non-null    int64  \n",
      " 14  Passes                  128 non-null    int64  \n",
      " 15  Distance Covered (Kms)  128 non-null    int64  \n",
      " 16  Fouls Committed         128 non-null    int64  \n",
      " 17  Yellow Card             128 non-null    int64  \n",
      " 18  Yellow & Red            128 non-null    int64  \n",
      " 19  Red                     128 non-null    int64  \n",
      " 20  Man of the Match        128 non-null    object \n",
      " 21  1st Goal                94 non-null     float64\n",
      " 22  Round                   128 non-null    object \n",
      " 23  PSO                     128 non-null    object \n",
      " 24  Goals in PSO            128 non-null    int64  \n",
      " 25  Own goals               12 non-null     float64\n",
      " 26  Own goal Time           12 non-null     float64\n",
      "dtypes: float64(3), int64(18), object(6)\n",
      "memory usage: 27.1+ KB\n"
     ]
    }
   ],
   "source": [
    "df.info()"
   ]
  },
  {
   "cell_type": "markdown",
   "id": "933ba88c",
   "metadata": {},
   "source": [
    "Find if there are missing values"
   ]
  },
  {
   "cell_type": "code",
   "execution_count": 193,
   "id": "2daa7be3",
   "metadata": {},
   "outputs": [
    {
     "data": {
      "text/plain": [
       "Date                        0\n",
       "Team                        0\n",
       "Opponent                    0\n",
       "Goal Scored                 0\n",
       "Ball Possession %           0\n",
       "Attempts                    0\n",
       "On-Target                   0\n",
       "Off-Target                  0\n",
       "Blocked                     0\n",
       "Corners                     0\n",
       "Offsides                    0\n",
       "Free Kicks                  0\n",
       "Saves                       0\n",
       "Pass Accuracy %             0\n",
       "Passes                      0\n",
       "Distance Covered (Kms)      0\n",
       "Fouls Committed             0\n",
       "Yellow Card                 0\n",
       "Yellow & Red                0\n",
       "Red                         0\n",
       "Man of the Match            0\n",
       "1st Goal                   34\n",
       "Round                       0\n",
       "PSO                         0\n",
       "Goals in PSO                0\n",
       "Own goals                 116\n",
       "Own goal Time             116\n",
       "dtype: int64"
      ]
     },
     "execution_count": 193,
     "metadata": {},
     "output_type": "execute_result"
    }
   ],
   "source": [
    "# get the number of missing data points per column\n",
    "missing_values_count = df.isnull().sum()\n",
    "missing_values_count"
   ]
  },
  {
   "cell_type": "code",
   "execution_count": 194,
   "id": "b79d1be1",
   "metadata": {},
   "outputs": [
    {
     "data": {
      "text/plain": [
       "7.696759259259259"
      ]
     },
     "execution_count": 194,
     "metadata": {},
     "output_type": "execute_result"
    }
   ],
   "source": [
    "# how many total missing values do we have?\n",
    "total_cells = np.product(df.shape)\n",
    "total_missing = missing_values_count.sum()\n",
    "\n",
    "# percent of data that is missing\n",
    "(total_missing/total_cells) * 100"
   ]
  },
  {
   "cell_type": "markdown",
   "id": "84895a08",
   "metadata": {},
   "source": [
    "Seems like 7.69% of the values are missing\n",
    "##Filling in missing values automatically\n",
    "Use Panda's fillna() function to fill in missing values in a dataframe.i.e fill NaN with 0."
   ]
  },
  {
   "cell_type": "code",
   "execution_count": 195,
   "id": "45a78d78",
   "metadata": {},
   "outputs": [
    {
     "data": {
      "text/html": [
       "<div>\n",
       "<style scoped>\n",
       "    .dataframe tbody tr th:only-of-type {\n",
       "        vertical-align: middle;\n",
       "    }\n",
       "\n",
       "    .dataframe tbody tr th {\n",
       "        vertical-align: top;\n",
       "    }\n",
       "\n",
       "    .dataframe thead th {\n",
       "        text-align: right;\n",
       "    }\n",
       "</style>\n",
       "<table border=\"1\" class=\"dataframe\">\n",
       "  <thead>\n",
       "    <tr style=\"text-align: right;\">\n",
       "      <th></th>\n",
       "      <th>Date</th>\n",
       "      <th>Team</th>\n",
       "      <th>Opponent</th>\n",
       "      <th>Goal Scored</th>\n",
       "      <th>Ball Possession %</th>\n",
       "      <th>Attempts</th>\n",
       "      <th>On-Target</th>\n",
       "      <th>Off-Target</th>\n",
       "      <th>Blocked</th>\n",
       "      <th>Corners</th>\n",
       "      <th>...</th>\n",
       "      <th>Yellow Card</th>\n",
       "      <th>Yellow &amp; Red</th>\n",
       "      <th>Red</th>\n",
       "      <th>Man of the Match</th>\n",
       "      <th>1st Goal</th>\n",
       "      <th>Round</th>\n",
       "      <th>PSO</th>\n",
       "      <th>Goals in PSO</th>\n",
       "      <th>Own goals</th>\n",
       "      <th>Own goal Time</th>\n",
       "    </tr>\n",
       "  </thead>\n",
       "  <tbody>\n",
       "    <tr>\n",
       "      <th>0</th>\n",
       "      <td>14-06-2018</td>\n",
       "      <td>Russia</td>\n",
       "      <td>Saudi Arabia</td>\n",
       "      <td>5</td>\n",
       "      <td>40</td>\n",
       "      <td>13</td>\n",
       "      <td>7</td>\n",
       "      <td>3</td>\n",
       "      <td>3</td>\n",
       "      <td>6</td>\n",
       "      <td>...</td>\n",
       "      <td>0</td>\n",
       "      <td>0</td>\n",
       "      <td>0</td>\n",
       "      <td>Yes</td>\n",
       "      <td>12.0</td>\n",
       "      <td>Group Stage</td>\n",
       "      <td>No</td>\n",
       "      <td>0</td>\n",
       "      <td>0.0</td>\n",
       "      <td>0.0</td>\n",
       "    </tr>\n",
       "    <tr>\n",
       "      <th>1</th>\n",
       "      <td>14-06-2018</td>\n",
       "      <td>Saudi Arabia</td>\n",
       "      <td>Russia</td>\n",
       "      <td>0</td>\n",
       "      <td>60</td>\n",
       "      <td>6</td>\n",
       "      <td>0</td>\n",
       "      <td>3</td>\n",
       "      <td>3</td>\n",
       "      <td>2</td>\n",
       "      <td>...</td>\n",
       "      <td>0</td>\n",
       "      <td>0</td>\n",
       "      <td>0</td>\n",
       "      <td>No</td>\n",
       "      <td>0.0</td>\n",
       "      <td>Group Stage</td>\n",
       "      <td>No</td>\n",
       "      <td>0</td>\n",
       "      <td>0.0</td>\n",
       "      <td>0.0</td>\n",
       "    </tr>\n",
       "    <tr>\n",
       "      <th>2</th>\n",
       "      <td>15-06-2018</td>\n",
       "      <td>Egypt</td>\n",
       "      <td>Uruguay</td>\n",
       "      <td>0</td>\n",
       "      <td>43</td>\n",
       "      <td>8</td>\n",
       "      <td>3</td>\n",
       "      <td>3</td>\n",
       "      <td>2</td>\n",
       "      <td>0</td>\n",
       "      <td>...</td>\n",
       "      <td>2</td>\n",
       "      <td>0</td>\n",
       "      <td>0</td>\n",
       "      <td>No</td>\n",
       "      <td>0.0</td>\n",
       "      <td>Group Stage</td>\n",
       "      <td>No</td>\n",
       "      <td>0</td>\n",
       "      <td>0.0</td>\n",
       "      <td>0.0</td>\n",
       "    </tr>\n",
       "    <tr>\n",
       "      <th>3</th>\n",
       "      <td>15-06-2018</td>\n",
       "      <td>Uruguay</td>\n",
       "      <td>Egypt</td>\n",
       "      <td>1</td>\n",
       "      <td>57</td>\n",
       "      <td>14</td>\n",
       "      <td>4</td>\n",
       "      <td>6</td>\n",
       "      <td>4</td>\n",
       "      <td>5</td>\n",
       "      <td>...</td>\n",
       "      <td>0</td>\n",
       "      <td>0</td>\n",
       "      <td>0</td>\n",
       "      <td>Yes</td>\n",
       "      <td>89.0</td>\n",
       "      <td>Group Stage</td>\n",
       "      <td>No</td>\n",
       "      <td>0</td>\n",
       "      <td>0.0</td>\n",
       "      <td>0.0</td>\n",
       "    </tr>\n",
       "    <tr>\n",
       "      <th>4</th>\n",
       "      <td>15-06-2018</td>\n",
       "      <td>Morocco</td>\n",
       "      <td>Iran</td>\n",
       "      <td>0</td>\n",
       "      <td>64</td>\n",
       "      <td>13</td>\n",
       "      <td>3</td>\n",
       "      <td>6</td>\n",
       "      <td>4</td>\n",
       "      <td>5</td>\n",
       "      <td>...</td>\n",
       "      <td>1</td>\n",
       "      <td>0</td>\n",
       "      <td>0</td>\n",
       "      <td>No</td>\n",
       "      <td>0.0</td>\n",
       "      <td>Group Stage</td>\n",
       "      <td>No</td>\n",
       "      <td>0</td>\n",
       "      <td>1.0</td>\n",
       "      <td>90.0</td>\n",
       "    </tr>\n",
       "  </tbody>\n",
       "</table>\n",
       "<p>5 rows × 27 columns</p>\n",
       "</div>"
      ],
      "text/plain": [
       "         Date          Team      Opponent  Goal Scored  Ball Possession %  \\\n",
       "0  14-06-2018        Russia  Saudi Arabia            5                 40   \n",
       "1  14-06-2018  Saudi Arabia        Russia            0                 60   \n",
       "2  15-06-2018         Egypt       Uruguay            0                 43   \n",
       "3  15-06-2018       Uruguay         Egypt            1                 57   \n",
       "4  15-06-2018       Morocco          Iran            0                 64   \n",
       "\n",
       "   Attempts  On-Target  Off-Target  Blocked  Corners  ...  Yellow Card  \\\n",
       "0        13          7           3        3        6  ...            0   \n",
       "1         6          0           3        3        2  ...            0   \n",
       "2         8          3           3        2        0  ...            2   \n",
       "3        14          4           6        4        5  ...            0   \n",
       "4        13          3           6        4        5  ...            1   \n",
       "\n",
       "   Yellow & Red  Red  Man of the Match  1st Goal        Round  PSO  \\\n",
       "0             0    0               Yes      12.0  Group Stage   No   \n",
       "1             0    0                No       0.0  Group Stage   No   \n",
       "2             0    0                No       0.0  Group Stage   No   \n",
       "3             0    0               Yes      89.0  Group Stage   No   \n",
       "4             0    0                No       0.0  Group Stage   No   \n",
       "\n",
       "   Goals in PSO  Own goals  Own goal Time  \n",
       "0             0        0.0            0.0  \n",
       "1             0        0.0            0.0  \n",
       "2             0        0.0            0.0  \n",
       "3             0        0.0            0.0  \n",
       "4             0        1.0           90.0  \n",
       "\n",
       "[5 rows x 27 columns]"
      ]
     },
     "execution_count": 195,
     "metadata": {},
     "output_type": "execute_result"
    }
   ],
   "source": [
    "# Create a temporary dataset\n",
    "df_temp = df\n",
    "\n",
    "# replace all NA's with 0\n",
    "df_temp.fillna(0).head()"
   ]
  },
  {
   "cell_type": "markdown",
   "id": "470122f4",
   "metadata": {},
   "source": [
    "Check the goals by grouping by"
   ]
  },
  {
   "cell_type": "code",
   "execution_count": 196,
   "id": "d50fea4e",
   "metadata": {},
   "outputs": [
    {
     "data": {
      "text/html": [
       "<div>\n",
       "<style scoped>\n",
       "    .dataframe tbody tr th:only-of-type {\n",
       "        vertical-align: middle;\n",
       "    }\n",
       "\n",
       "    .dataframe tbody tr th {\n",
       "        vertical-align: top;\n",
       "    }\n",
       "\n",
       "    .dataframe thead th {\n",
       "        text-align: right;\n",
       "    }\n",
       "</style>\n",
       "<table border=\"1\" class=\"dataframe\">\n",
       "  <thead>\n",
       "    <tr style=\"text-align: right;\">\n",
       "      <th></th>\n",
       "      <th>Date</th>\n",
       "      <th>Team</th>\n",
       "      <th>Opponent</th>\n",
       "      <th>Ball Possession %</th>\n",
       "      <th>Attempts</th>\n",
       "      <th>On-Target</th>\n",
       "      <th>Off-Target</th>\n",
       "      <th>Blocked</th>\n",
       "      <th>Corners</th>\n",
       "      <th>Offsides</th>\n",
       "      <th>...</th>\n",
       "      <th>Yellow Card</th>\n",
       "      <th>Yellow &amp; Red</th>\n",
       "      <th>Red</th>\n",
       "      <th>Man of the Match</th>\n",
       "      <th>1st Goal</th>\n",
       "      <th>Round</th>\n",
       "      <th>PSO</th>\n",
       "      <th>Goals in PSO</th>\n",
       "      <th>Own goals</th>\n",
       "      <th>Own goal Time</th>\n",
       "    </tr>\n",
       "    <tr>\n",
       "      <th>Goal Scored</th>\n",
       "      <th></th>\n",
       "      <th></th>\n",
       "      <th></th>\n",
       "      <th></th>\n",
       "      <th></th>\n",
       "      <th></th>\n",
       "      <th></th>\n",
       "      <th></th>\n",
       "      <th></th>\n",
       "      <th></th>\n",
       "      <th></th>\n",
       "      <th></th>\n",
       "      <th></th>\n",
       "      <th></th>\n",
       "      <th></th>\n",
       "      <th></th>\n",
       "      <th></th>\n",
       "      <th></th>\n",
       "      <th></th>\n",
       "      <th></th>\n",
       "      <th></th>\n",
       "    </tr>\n",
       "  </thead>\n",
       "  <tbody>\n",
       "    <tr>\n",
       "      <th>0</th>\n",
       "      <td>33</td>\n",
       "      <td>33</td>\n",
       "      <td>33</td>\n",
       "      <td>33</td>\n",
       "      <td>33</td>\n",
       "      <td>33</td>\n",
       "      <td>33</td>\n",
       "      <td>33</td>\n",
       "      <td>33</td>\n",
       "      <td>33</td>\n",
       "      <td>...</td>\n",
       "      <td>33</td>\n",
       "      <td>33</td>\n",
       "      <td>33</td>\n",
       "      <td>33</td>\n",
       "      <td>0</td>\n",
       "      <td>33</td>\n",
       "      <td>33</td>\n",
       "      <td>33</td>\n",
       "      <td>4</td>\n",
       "      <td>4</td>\n",
       "    </tr>\n",
       "    <tr>\n",
       "      <th>1</th>\n",
       "      <td>45</td>\n",
       "      <td>45</td>\n",
       "      <td>45</td>\n",
       "      <td>45</td>\n",
       "      <td>45</td>\n",
       "      <td>45</td>\n",
       "      <td>45</td>\n",
       "      <td>45</td>\n",
       "      <td>45</td>\n",
       "      <td>45</td>\n",
       "      <td>...</td>\n",
       "      <td>45</td>\n",
       "      <td>45</td>\n",
       "      <td>45</td>\n",
       "      <td>45</td>\n",
       "      <td>44</td>\n",
       "      <td>45</td>\n",
       "      <td>45</td>\n",
       "      <td>45</td>\n",
       "      <td>5</td>\n",
       "      <td>5</td>\n",
       "    </tr>\n",
       "    <tr>\n",
       "      <th>2</th>\n",
       "      <td>35</td>\n",
       "      <td>35</td>\n",
       "      <td>35</td>\n",
       "      <td>35</td>\n",
       "      <td>35</td>\n",
       "      <td>35</td>\n",
       "      <td>35</td>\n",
       "      <td>35</td>\n",
       "      <td>35</td>\n",
       "      <td>35</td>\n",
       "      <td>...</td>\n",
       "      <td>35</td>\n",
       "      <td>35</td>\n",
       "      <td>35</td>\n",
       "      <td>35</td>\n",
       "      <td>35</td>\n",
       "      <td>35</td>\n",
       "      <td>35</td>\n",
       "      <td>35</td>\n",
       "      <td>2</td>\n",
       "      <td>2</td>\n",
       "    </tr>\n",
       "    <tr>\n",
       "      <th>3</th>\n",
       "      <td>10</td>\n",
       "      <td>10</td>\n",
       "      <td>10</td>\n",
       "      <td>10</td>\n",
       "      <td>10</td>\n",
       "      <td>10</td>\n",
       "      <td>10</td>\n",
       "      <td>10</td>\n",
       "      <td>10</td>\n",
       "      <td>10</td>\n",
       "      <td>...</td>\n",
       "      <td>10</td>\n",
       "      <td>10</td>\n",
       "      <td>10</td>\n",
       "      <td>10</td>\n",
       "      <td>10</td>\n",
       "      <td>10</td>\n",
       "      <td>10</td>\n",
       "      <td>10</td>\n",
       "      <td>0</td>\n",
       "      <td>0</td>\n",
       "    </tr>\n",
       "    <tr>\n",
       "      <th>4</th>\n",
       "      <td>2</td>\n",
       "      <td>2</td>\n",
       "      <td>2</td>\n",
       "      <td>2</td>\n",
       "      <td>2</td>\n",
       "      <td>2</td>\n",
       "      <td>2</td>\n",
       "      <td>2</td>\n",
       "      <td>2</td>\n",
       "      <td>2</td>\n",
       "      <td>...</td>\n",
       "      <td>2</td>\n",
       "      <td>2</td>\n",
       "      <td>2</td>\n",
       "      <td>2</td>\n",
       "      <td>2</td>\n",
       "      <td>2</td>\n",
       "      <td>2</td>\n",
       "      <td>2</td>\n",
       "      <td>1</td>\n",
       "      <td>1</td>\n",
       "    </tr>\n",
       "    <tr>\n",
       "      <th>5</th>\n",
       "      <td>2</td>\n",
       "      <td>2</td>\n",
       "      <td>2</td>\n",
       "      <td>2</td>\n",
       "      <td>2</td>\n",
       "      <td>2</td>\n",
       "      <td>2</td>\n",
       "      <td>2</td>\n",
       "      <td>2</td>\n",
       "      <td>2</td>\n",
       "      <td>...</td>\n",
       "      <td>2</td>\n",
       "      <td>2</td>\n",
       "      <td>2</td>\n",
       "      <td>2</td>\n",
       "      <td>2</td>\n",
       "      <td>2</td>\n",
       "      <td>2</td>\n",
       "      <td>2</td>\n",
       "      <td>0</td>\n",
       "      <td>0</td>\n",
       "    </tr>\n",
       "    <tr>\n",
       "      <th>6</th>\n",
       "      <td>1</td>\n",
       "      <td>1</td>\n",
       "      <td>1</td>\n",
       "      <td>1</td>\n",
       "      <td>1</td>\n",
       "      <td>1</td>\n",
       "      <td>1</td>\n",
       "      <td>1</td>\n",
       "      <td>1</td>\n",
       "      <td>1</td>\n",
       "      <td>...</td>\n",
       "      <td>1</td>\n",
       "      <td>1</td>\n",
       "      <td>1</td>\n",
       "      <td>1</td>\n",
       "      <td>1</td>\n",
       "      <td>1</td>\n",
       "      <td>1</td>\n",
       "      <td>1</td>\n",
       "      <td>0</td>\n",
       "      <td>0</td>\n",
       "    </tr>\n",
       "  </tbody>\n",
       "</table>\n",
       "<p>7 rows × 26 columns</p>\n",
       "</div>"
      ],
      "text/plain": [
       "             Date  Team  Opponent  Ball Possession %  Attempts  On-Target  \\\n",
       "Goal Scored                                                                 \n",
       "0              33    33        33                 33        33         33   \n",
       "1              45    45        45                 45        45         45   \n",
       "2              35    35        35                 35        35         35   \n",
       "3              10    10        10                 10        10         10   \n",
       "4               2     2         2                  2         2          2   \n",
       "5               2     2         2                  2         2          2   \n",
       "6               1     1         1                  1         1          1   \n",
       "\n",
       "             Off-Target  Blocked  Corners  Offsides  ...  Yellow Card  \\\n",
       "Goal Scored                                          ...                \n",
       "0                    33       33       33        33  ...           33   \n",
       "1                    45       45       45        45  ...           45   \n",
       "2                    35       35       35        35  ...           35   \n",
       "3                    10       10       10        10  ...           10   \n",
       "4                     2        2        2         2  ...            2   \n",
       "5                     2        2        2         2  ...            2   \n",
       "6                     1        1        1         1  ...            1   \n",
       "\n",
       "             Yellow & Red  Red  Man of the Match  1st Goal  Round  PSO  \\\n",
       "Goal Scored                                                              \n",
       "0                      33   33                33         0     33   33   \n",
       "1                      45   45                45        44     45   45   \n",
       "2                      35   35                35        35     35   35   \n",
       "3                      10   10                10        10     10   10   \n",
       "4                       2    2                 2         2      2    2   \n",
       "5                       2    2                 2         2      2    2   \n",
       "6                       1    1                 1         1      1    1   \n",
       "\n",
       "             Goals in PSO  Own goals  Own goal Time  \n",
       "Goal Scored                                          \n",
       "0                      33          4              4  \n",
       "1                      45          5              5  \n",
       "2                      35          2              2  \n",
       "3                      10          0              0  \n",
       "4                       2          1              1  \n",
       "5                       2          0              0  \n",
       "6                       1          0              0  \n",
       "\n",
       "[7 rows x 26 columns]"
      ]
     },
     "execution_count": 196,
     "metadata": {},
     "output_type": "execute_result"
    }
   ],
   "source": [
    "df_goals = df_temp.groupby(by = \"Goal Scored\").count()\n",
    "df_goals"
   ]
  },
  {
   "cell_type": "code",
   "execution_count": 197,
   "id": "25fc2ce1",
   "metadata": {},
   "outputs": [
    {
     "name": "stdout",
     "output_type": "stream",
     "text": [
      "Man of the match = Date                      64\n",
      "Team                      64\n",
      "Opponent                  64\n",
      "Goal Scored               64\n",
      "Ball Possession %         64\n",
      "Attempts                  64\n",
      "On-Target                 64\n",
      "Off-Target                64\n",
      "Blocked                   64\n",
      "Corners                   64\n",
      "Offsides                  64\n",
      "Free Kicks                64\n",
      "Saves                     64\n",
      "Pass Accuracy %           64\n",
      "Passes                    64\n",
      "Distance Covered (Kms)    64\n",
      "Fouls Committed           64\n",
      "Yellow Card               64\n",
      "Yellow & Red              64\n",
      "Red                       64\n",
      "Man of the Match          64\n",
      "1st Goal                  62\n",
      "Round                     64\n",
      "PSO                       64\n",
      "Goals in PSO              64\n",
      "Own goals                  4\n",
      "Own goal Time              4\n",
      "dtype: int64 failed =  Date                      64\n",
      "Team                      64\n",
      "Opponent                  64\n",
      "Goal Scored               64\n",
      "Ball Possession %         64\n",
      "Attempts                  64\n",
      "On-Target                 64\n",
      "Off-Target                64\n",
      "Blocked                   64\n",
      "Corners                   64\n",
      "Offsides                  64\n",
      "Free Kicks                64\n",
      "Saves                     64\n",
      "Pass Accuracy %           64\n",
      "Passes                    64\n",
      "Distance Covered (Kms)    64\n",
      "Fouls Committed           64\n",
      "Yellow Card               64\n",
      "Yellow & Red              64\n",
      "Red                       64\n",
      "Man of the Match          64\n",
      "1st Goal                  32\n",
      "Round                     64\n",
      "PSO                       64\n",
      "Goals in PSO              64\n",
      "Own goals                  8\n",
      "Own goal Time              8\n",
      "dtype: int64\n"
     ]
    }
   ],
   "source": [
    "positive = df_temp[df_temp['Man of the Match'] == \"Yes\"].count()\n",
    "negative = df_temp[df_temp['Man of the Match'] == \"No\"].count()\n",
    "print( 'Man of the match =' , positive,'failed = ', negative)"
   ]
  },
  {
   "cell_type": "code",
   "execution_count": 198,
   "id": "c5e511f5",
   "metadata": {},
   "outputs": [
    {
     "data": {
      "text/plain": [
       "Date                       object\n",
       "Team                       object\n",
       "Opponent                   object\n",
       "Goal Scored                 int64\n",
       "Ball Possession %           int64\n",
       "Attempts                    int64\n",
       "On-Target                   int64\n",
       "Off-Target                  int64\n",
       "Blocked                     int64\n",
       "Corners                     int64\n",
       "Offsides                    int64\n",
       "Free Kicks                  int64\n",
       "Saves                       int64\n",
       "Pass Accuracy %             int64\n",
       "Passes                      int64\n",
       "Distance Covered (Kms)      int64\n",
       "Fouls Committed             int64\n",
       "Yellow Card                 int64\n",
       "Yellow & Red                int64\n",
       "Red                         int64\n",
       "Man of the Match           object\n",
       "1st Goal                  float64\n",
       "Round                      object\n",
       "PSO                        object\n",
       "Goals in PSO                int64\n",
       "Own goals                 float64\n",
       "Own goal Time             float64\n",
       "dtype: object"
      ]
     },
     "execution_count": 198,
     "metadata": {},
     "output_type": "execute_result"
    }
   ],
   "source": [
    "df.dtypes"
   ]
  },
  {
   "cell_type": "code",
   "execution_count": 199,
   "id": "ebed85b5",
   "metadata": {},
   "outputs": [
    {
     "data": {
      "text/plain": [
       "Index(['Date', 'Team', 'Opponent', 'Goal Scored', 'Ball Possession %',\n",
       "       'Attempts', 'On-Target', 'Off-Target', 'Blocked', 'Corners', 'Offsides',\n",
       "       'Free Kicks', 'Saves', 'Pass Accuracy %', 'Passes',\n",
       "       'Distance Covered (Kms)', 'Fouls Committed', 'Yellow Card',\n",
       "       'Yellow & Red', 'Red', 'Man of the Match', '1st Goal', 'Round', 'PSO',\n",
       "       'Goals in PSO', 'Own goals', 'Own goal Time'],\n",
       "      dtype='object')"
      ]
     },
     "execution_count": 199,
     "metadata": {},
     "output_type": "execute_result"
    }
   ],
   "source": [
    "df_temp.columns"
   ]
  },
  {
   "cell_type": "markdown",
   "id": "a93d0cb8",
   "metadata": {},
   "source": [
    "define features and outcome"
   ]
  },
  {
   "cell_type": "code",
   "execution_count": 200,
   "id": "502a8c3f",
   "metadata": {},
   "outputs": [],
   "source": [
    "# Selecting the features to test for the RandomForestRegressor\n",
    "features = ['Goal Scored', 'Attempts', 'On-Target', \n",
    "            'Ball Possession %','Free Kicks', \n",
    "            'Passes', 'Pass Accuracy %',\n",
    "            'Distance Covered (Kms)']\n",
    "\n",
    "outcome = 'Man of the Match'\n",
    "\n",
    "# convert categorical data to numerical\n",
    "manofmatch = {'Yes':1, 'No':0}\n",
    "df_temp['Man of the Match'] = [manofmatch[item] for item in df_temp['Man of the Match']]"
   ]
  },
  {
   "cell_type": "markdown",
   "id": "12a8b6c3",
   "metadata": {},
   "source": [
    "Create the Random Forest "
   ]
  },
  {
   "cell_type": "code",
   "execution_count": 201,
   "id": "2a23b559",
   "metadata": {},
   "outputs": [],
   "source": [
    "# Preprocessing the data and splitting into features and labels\n",
    "#X = df_temp.iloc[:,[3, 5, 6, 7, 15]].values\n",
    "#Y = df_temp.iloc[:,18].values\n",
    "#X = X.reshape(-1, 5)\n",
    "\n",
    "X = df_temp[features]\n",
    "Y = df_temp[outcome]"
   ]
  },
  {
   "cell_type": "code",
   "execution_count": 202,
   "id": "f31325f1",
   "metadata": {},
   "outputs": [
    {
     "data": {
      "text/plain": [
       "Index(['Goal Scored', 'Attempts', 'On-Target', 'Ball Possession %',\n",
       "       'Free Kicks', 'Passes', 'Pass Accuracy %', 'Distance Covered (Kms)'],\n",
       "      dtype='object')"
      ]
     },
     "execution_count": 202,
     "metadata": {},
     "output_type": "execute_result"
    }
   ],
   "source": [
    "X.columns"
   ]
  },
  {
   "cell_type": "markdown",
   "id": "9add67f2",
   "metadata": {},
   "source": [
    "#### Split the train/test data\n"
   ]
  },
  {
   "cell_type": "code",
   "execution_count": 203,
   "id": "13571be1",
   "metadata": {},
   "outputs": [],
   "source": [
    "X_train,X_test,Y_train,Y_test=model_selection.train_test_split(X,Y,test_size=0.2,random_state=400)"
   ]
  },
  {
   "cell_type": "markdown",
   "id": "e282d0e3",
   "metadata": {},
   "source": [
    "#### Build the Random Forest model"
   ]
  },
  {
   "cell_type": "code",
   "execution_count": 204,
   "id": "283f714b",
   "metadata": {},
   "outputs": [],
   "source": [
    "\n",
    "# Random Forest\n",
    "from sklearn.ensemble import RandomForestRegressor\n",
    "\n",
    "# Create regressor\n",
    "regressor = RandomForestRegressor(n_estimators=100,\n",
    "                                  max_depth=5,\n",
    "                                  max_features=\"sqrt\",\n",
    "                                  oob_score=True, \n",
    "                                  random_state=41)\n",
    "\n",
    "#Fit model for (X,y) dataset\n",
    "regressor.fit(X_train, Y_train)\n",
    "\n",
    "#Test the model on output data\n",
    "Y_pred = regressor.predict(X_test)"
   ]
  },
  {
   "cell_type": "code",
   "execution_count": 205,
   "id": "5ed8d108",
   "metadata": {},
   "outputs": [
    {
     "data": {
      "text/plain": [
       "0.027184105164341443"
      ]
     },
     "execution_count": 205,
     "metadata": {},
     "output_type": "execute_result"
    }
   ],
   "source": [
    "regressor.score(X_test, Y_test)"
   ]
  },
  {
   "cell_type": "markdown",
   "id": "9179cea5",
   "metadata": {},
   "source": [
    "#### Find the feature importance\n",
    "Show the importance of each feature to make accurate predictions, relative to the others in a trained model.\n",
    "Find out which features are important to drive the model's predictions, interpreting resutls and tendencies of model and providing aid in featuring engineering exercises."
   ]
  },
  {
   "cell_type": "code",
   "execution_count": 206,
   "id": "736dc065",
   "metadata": {},
   "outputs": [
    {
     "data": {
      "text/plain": [
       "<BarContainer object of 8 artists>"
      ]
     },
     "execution_count": 206,
     "metadata": {},
     "output_type": "execute_result"
    },
    {
     "data": {
      "image/png": "[encoded data removed]",
      "text/plain": [
       "<Figure size 640x480 with 1 Axes>"
      ]
     },
     "metadata": {},
     "output_type": "display_data"
    }
   ],
   "source": [
    "# Extract feature importance and plot\n",
    "#feature_names = df_temp.columns[[3,5,6,11, 15,20]].tolist()\n",
    "#feature_names\n",
    "importances = regressor.feature_importances_\n",
    "plt.barh(features, importances)"
   ]
  },
  {
   "cell_type": "markdown",
   "id": "0a11b88d",
   "metadata": {},
   "source": [
    "Partial dependence plot:\n",
    "- Used to visualize the way changing one feature affects the predicted outcome by keeping other features constant. \n",
    "- Useful to see how the predictions will vary by changing one input over a broad range in a systematic way where other changes are limited.\n",
    "- x-axis is the grid(feature) values chosen\n",
    "- y-axis is a change in model prediction relative to leftmost value."
   ]
  },
  {
   "cell_type": "code",
   "execution_count": 214,
   "id": "6800145d",
   "metadata": {},
   "outputs": [
    {
     "name": "stdout",
     "output_type": "stream",
     "text": [
      "0 ['Goal Scored']\n"
     ]
    },
    {
     "data": {
      "image/png": "[encoded data removed]",
      "text/plain": [
       "<Figure size 640x480 with 2 Axes>"
      ]
     },
     "metadata": {},
     "output_type": "display_data"
    },
    {
     "name": "stdout",
     "output_type": "stream",
     "text": [
      "1 ['Distance Covered (Kms)']\n"
     ]
    },
    {
     "data": {
      "image/png": "[encoded data removed]",
      "text/plain": [
       "<Figure size 640x480 with 2 Axes>"
      ]
     },
     "metadata": {},
     "output_type": "display_data"
    }
   ],
   "source": [
    "# Plot goals scored dependence from random forest model\n",
    "# the first set is from the RandomRegressor tree\n",
    "from sklearn.inspection import PartialDependenceDisplay\n",
    "\n",
    "feature_list = [['Goal Scored'],['Distance Covered (Kms)']]\n",
    "for i, var in enumerate(feature_list):\n",
    "    print(i, var)\n",
    "    Display1 = PartialDependenceDisplay.from_estimator(regressor, \n",
    "                                                   X_train, feature_list[i])\n",
    "    plt.show()"
   ]
  },
  {
   "cell_type": "code",
   "execution_count": 217,
   "id": "79d15e38",
   "metadata": {},
   "outputs": [
    {
     "data": {
      "text/plain": [
       "0.6538461538461539"
      ]
     },
     "execution_count": 217,
     "metadata": {},
     "output_type": "execute_result"
    }
   ],
   "source": [
    "# Plot goals scored dependence from classic decision model\n",
    "from sklearn.tree import DecisionTreeClassifier\n",
    "from sklearn.ensemble import RandomForestClassifier\n",
    "# Create a decision tree classifier\n",
    "clf = DecisionTreeClassifier(random_state=42, max_depth=3,\n",
    "                             min_samples_leaf=5)\n",
    "clf.fit(X_train, Y_train)\n",
    "Y_pred = clf.predict(X_test)\n",
    "clf.score(X_test, Y_test)"
   ]
  },
  {
   "cell_type": "code",
   "execution_count": 218,
   "id": "b08a3dc4",
   "metadata": {},
   "outputs": [
    {
     "name": "stdout",
     "output_type": "stream",
     "text": [
      "0 ['Goal Scored']\n"
     ]
    },
    {
     "data": {
      "image/png": "[encoded data removed]",
      "text/plain": [
       "<Figure size 640x480 with 2 Axes>"
      ]
     },
     "metadata": {},
     "output_type": "display_data"
    },
    {
     "name": "stdout",
     "output_type": "stream",
     "text": [
      "1 ['Distance Covered (Kms)']\n"
     ]
    },
    {
     "data": {
      "image/png": "[encoded data removed]",
      "text/plain": [
       "<Figure size 640x480 with 2 Axes>"
      ]
     },
     "metadata": {},
     "output_type": "display_data"
    }
   ],
   "source": [
    "feature_list = [['Goal Scored'],['Distance Covered (Kms)']]\n",
    "for i, var in enumerate(feature_list):\n",
    "    print(i, var)\n",
    "    Display2 = PartialDependenceDisplay.from_estimator(clf, \n",
    "                                                   X_train, feature_list[i])\n",
    "    plt.show()"
   ]
  },
  {
   "cell_type": "code",
   "execution_count": 220,
   "id": "38c4f3ac",
   "metadata": {},
   "outputs": [
    {
     "data": {
      "text/plain": [
       "0.6538461538461539"
      ]
     },
     "execution_count": 220,
     "metadata": {},
     "output_type": "execute_result"
    }
   ],
   "source": [
    "# Get the score from the  random forest model and test it\n",
    "rfc = RandomForestClassifier( max_depth=3,\n",
    "                         n_estimators=10, random_state=0)\n",
    "rfc.fit(X_train, Y_train)\n",
    "Y_pred = rfc.predict(X_test)\n",
    "rfc.score(X_test, Y_test)"
   ]
  },
  {
   "cell_type": "code",
   "execution_count": 211,
   "id": "c6390209",
   "metadata": {},
   "outputs": [
    {
     "name": "stdout",
     "output_type": "stream",
     "text": [
      "0 ['Goal Scored']\n"
     ]
    },
    {
     "data": {
      "image/png": "[encoded data removed]",
      "text/plain": [
       "<Figure size 640x480 with 2 Axes>"
      ]
     },
     "metadata": {},
     "output_type": "display_data"
    },
    {
     "name": "stdout",
     "output_type": "stream",
     "text": [
      "1 ['Distance Covered (Kms)']\n"
     ]
    },
    {
     "data": {
      "image/png": "[encoded data removed]",
      "text/plain": [
       "<Figure size 640x480 with 2 Axes>"
      ]
     },
     "metadata": {},
     "output_type": "display_data"
    }
   ],
   "source": [
    "feature_list = [['Goal Scored'],['Distance Covered (Kms)']]\n",
    "for i, var in enumerate(feature_list):\n",
    "    print(i, var)\n",
    "    Display3 = PartialDependenceDisplay.from_estimator(rfc, \n",
    "                                                   X_train, feature_list[i])\n",
    "    plt.show()"
   ]
  },
  {
   "cell_type": "markdown",
   "id": "ab2614a9",
   "metadata": {},
   "source": [
    "From the above, we can see if a player scores their first goal,it significantly boosts their chances to win the award. For the distance\n",
    "covered, we can see a pretty unrealistic result from decision tree classifier model and much less piece-wise relationship from RandomForestRegressor model compared to the other two."
   ]
  },
  {
   "cell_type": "markdown",
   "id": "2d4fddc3",
   "metadata": {},
   "source": [
    "### Tree model visualization\n",
    "Visualizing a few individual trees can help in understanding the decision-making  process.\n",
    "Looking at one specific tree is of limited value and it is best to have some key things to inspect over a small selection of trees: analyze splits across several tress, evaluate complexity trees on the validation set  or bad performance to understand yout model behavior."
   ]
  },
  {
   "cell_type": "code",
   "execution_count": 159,
   "id": "c110abd0",
   "metadata": {},
   "outputs": [
    {
     "name": "stdout",
     "output_type": "stream",
     "text": [
      "Requirement already satisfied: graphviz in /home/conmec/miniconda3/lib/python3.9/site-packages (0.21)\n"
     ]
    }
   ],
   "source": [
    "!pip3 install graphviz"
   ]
  },
  {
   "cell_type": "markdown",
   "id": "1965d675",
   "metadata": {},
   "source": [
    "Tree Visualizations:\n",
    "Plot the flowchart-like structure with the internal nodes that represent decisions based on feature values,\n",
    "leading to terminal leaves which signify predictions. The visualisation, helps in understanding the decision-making process."
   ]
  },
  {
   "cell_type": "code",
   "execution_count": 221,
   "id": "1de2e04f",
   "metadata": {},
   "outputs": [
    {
     "data": {
      "image/svg+xml": [
       "<?xml version=\"1.0\" encoding=\"UTF-8\" standalone=\"no\"?>\n",
       "<!DOCTYPE svg PUBLIC \"-//W3C//DTD SVG 1.1//EN\"\n",
       " \"http://www.w3.org/Graphics/SVG/1.1/DTD/svg11.dtd\">\n",
       "<!-- Generated by graphviz version 2.50.0 (0)\n",
       " -->\n",
       "<!-- Title: Tree Pages: 1 -->\n",
       "<svg width=\"837pt\" height=\"373pt\"\n",
       " viewBox=\"0.00 0.00 836.50 373.00\" xmlns=\"http://www.w3.org/2000/svg\" xmlns:xlink=\"http://www.w3.org/1999/xlink\">\n",
       "<g id=\"graph0\" class=\"graph\" transform=\"scale(1 1) rotate(0) translate(4 369)\">\n",
       "<title>Tree</title>\n",
       "<polygon fill=\"white\" stroke=\"transparent\" points=\"-4,4 -4,-369 832.5,-369 832.5,4 -4,4\"/>\n",
       "<!-- 0 -->\n",
       "<g id=\"node1\" class=\"node\">\n",
       "<title>0</title>\n",
       "<path fill=\"#fbede2\" stroke=\"black\" d=\"M352.5,-365C352.5,-365 233.5,-365 233.5,-365 227.5,-365 221.5,-359 221.5,-353 221.5,-353 221.5,-309 221.5,-309 221.5,-303 227.5,-297 233.5,-297 233.5,-297 352.5,-297 352.5,-297 358.5,-297 364.5,-303 364.5,-309 364.5,-309 364.5,-353 364.5,-353 364.5,-359 358.5,-365 352.5,-365\"/>\n",
       "<text text-anchor=\"start\" x=\"229.5\" y=\"-349.8\" font-family=\"Helvetica,sans-Serif\" font-size=\"14.00\">Goal Scored ≤ 0.5</text>\n",
       "<text text-anchor=\"start\" x=\"249\" y=\"-334.8\" font-family=\"Helvetica,sans-Serif\" font-size=\"14.00\">gini = 0.497</text>\n",
       "<text text-anchor=\"start\" x=\"240\" y=\"-319.8\" font-family=\"Helvetica,sans-Serif\" font-size=\"14.00\">samples = 102</text>\n",
       "<text text-anchor=\"start\" x=\"235.5\" y=\"-304.8\" font-family=\"Helvetica,sans-Serif\" font-size=\"14.00\">value = [55, 47]</text>\n",
       "</g>\n",
       "<!-- 1 -->\n",
       "<g id=\"node2\" class=\"node\">\n",
       "<title>1</title>\n",
       "<path fill=\"#e78a47\" stroke=\"black\" d=\"M278.5,-261C278.5,-261 115.5,-261 115.5,-261 109.5,-261 103.5,-255 103.5,-249 103.5,-249 103.5,-205 103.5,-205 103.5,-199 109.5,-193 115.5,-193 115.5,-193 278.5,-193 278.5,-193 284.5,-193 290.5,-199 290.5,-205 290.5,-205 290.5,-249 290.5,-249 290.5,-255 284.5,-261 278.5,-261\"/>\n",
       "<text text-anchor=\"start\" x=\"111.5\" y=\"-245.8\" font-family=\"Helvetica,sans-Serif\" font-size=\"14.00\">Pass Accuracy % ≤ 86.5</text>\n",
       "<text text-anchor=\"start\" x=\"153\" y=\"-230.8\" font-family=\"Helvetica,sans-Serif\" font-size=\"14.00\">gini = 0.121</text>\n",
       "<text text-anchor=\"start\" x=\"148.5\" y=\"-215.8\" font-family=\"Helvetica,sans-Serif\" font-size=\"14.00\">samples = 31</text>\n",
       "<text text-anchor=\"start\" x=\"144\" y=\"-200.8\" font-family=\"Helvetica,sans-Serif\" font-size=\"14.00\">value = [29, 2]</text>\n",
       "</g>\n",
       "<!-- 0&#45;&gt;1 -->\n",
       "<g id=\"edge1\" class=\"edge\">\n",
       "<title>0&#45;&gt;1</title>\n",
       "<path fill=\"none\" stroke=\"black\" d=\"M261.83,-296.88C253.36,-287.89 244.1,-278.04 235.29,-268.68\"/>\n",
       "<polygon fill=\"black\" stroke=\"black\" points=\"237.74,-266.18 228.34,-261.3 232.65,-270.98 237.74,-266.18\"/>\n",
       "<text text-anchor=\"middle\" x=\"227.58\" y=\"-282.59\" font-family=\"Helvetica,sans-Serif\" font-size=\"14.00\">True</text>\n",
       "</g>\n",
       "<!-- 4 -->\n",
       "<g id=\"node5\" class=\"node\">\n",
       "<title>4</title>\n",
       "<path fill=\"#abd6f4\" stroke=\"black\" d=\"M443.5,-261C443.5,-261 336.5,-261 336.5,-261 330.5,-261 324.5,-255 324.5,-249 324.5,-249 324.5,-205 324.5,-205 324.5,-199 330.5,-193 336.5,-193 336.5,-193 443.5,-193 443.5,-193 449.5,-193 455.5,-199 455.5,-205 455.5,-205 455.5,-249 455.5,-249 455.5,-255 449.5,-261 443.5,-261\"/>\n",
       "<text text-anchor=\"start\" x=\"336\" y=\"-245.8\" font-family=\"Helvetica,sans-Serif\" font-size=\"14.00\">Attempts ≤ 9.5</text>\n",
       "<text text-anchor=\"start\" x=\"346\" y=\"-230.8\" font-family=\"Helvetica,sans-Serif\" font-size=\"14.00\">gini = 0.464</text>\n",
       "<text text-anchor=\"start\" x=\"341.5\" y=\"-215.8\" font-family=\"Helvetica,sans-Serif\" font-size=\"14.00\">samples = 71</text>\n",
       "<text text-anchor=\"start\" x=\"332.5\" y=\"-200.8\" font-family=\"Helvetica,sans-Serif\" font-size=\"14.00\">value = [26, 45]</text>\n",
       "</g>\n",
       "<!-- 0&#45;&gt;4 -->\n",
       "<g id=\"edge4\" class=\"edge\">\n",
       "<title>0&#45;&gt;4</title>\n",
       "<path fill=\"none\" stroke=\"black\" d=\"M324.49,-296.88C333.05,-287.89 342.41,-278.04 351.32,-268.68\"/>\n",
       "<polygon fill=\"black\" stroke=\"black\" points=\"353.98,-270.96 358.33,-261.3 348.91,-266.13 353.98,-270.96\"/>\n",
       "<text text-anchor=\"middle\" x=\"358.96\" y=\"-282.59\" font-family=\"Helvetica,sans-Serif\" font-size=\"14.00\">False</text>\n",
       "</g>\n",
       "<!-- 2 -->\n",
       "<g id=\"node3\" class=\"node\">\n",
       "<title>2</title>\n",
       "<path fill=\"#e58139\" stroke=\"black\" d=\"M110,-149.5C110,-149.5 12,-149.5 12,-149.5 6,-149.5 0,-143.5 0,-137.5 0,-137.5 0,-108.5 0,-108.5 0,-102.5 6,-96.5 12,-96.5 12,-96.5 110,-96.5 110,-96.5 116,-96.5 122,-102.5 122,-108.5 122,-108.5 122,-137.5 122,-137.5 122,-143.5 116,-149.5 110,-149.5\"/>\n",
       "<text text-anchor=\"start\" x=\"26\" y=\"-134.3\" font-family=\"Helvetica,sans-Serif\" font-size=\"14.00\">gini = 0.0</text>\n",
       "<text text-anchor=\"start\" x=\"12.5\" y=\"-119.3\" font-family=\"Helvetica,sans-Serif\" font-size=\"14.00\">samples = 25</text>\n",
       "<text text-anchor=\"start\" x=\"8\" y=\"-104.3\" font-family=\"Helvetica,sans-Serif\" font-size=\"14.00\">value = [25, 0]</text>\n",
       "</g>\n",
       "<!-- 1&#45;&gt;2 -->\n",
       "<g id=\"edge2\" class=\"edge\">\n",
       "<title>1&#45;&gt;2</title>\n",
       "<path fill=\"none\" stroke=\"black\" d=\"M152.84,-192.88C136.86,-180.9 118.87,-167.4 103.07,-155.55\"/>\n",
       "<polygon fill=\"black\" stroke=\"black\" points=\"105.13,-152.72 95.03,-149.52 100.93,-158.32 105.13,-152.72\"/>\n",
       "</g>\n",
       "<!-- 3 -->\n",
       "<g id=\"node4\" class=\"node\">\n",
       "<title>3</title>\n",
       "<path fill=\"#f2c09c\" stroke=\"black\" d=\"M241.5,-149.5C241.5,-149.5 152.5,-149.5 152.5,-149.5 146.5,-149.5 140.5,-143.5 140.5,-137.5 140.5,-137.5 140.5,-108.5 140.5,-108.5 140.5,-102.5 146.5,-96.5 152.5,-96.5 152.5,-96.5 241.5,-96.5 241.5,-96.5 247.5,-96.5 253.5,-102.5 253.5,-108.5 253.5,-108.5 253.5,-137.5 253.5,-137.5 253.5,-143.5 247.5,-149.5 241.5,-149.5\"/>\n",
       "<text text-anchor=\"start\" x=\"153\" y=\"-134.3\" font-family=\"Helvetica,sans-Serif\" font-size=\"14.00\">gini = 0.444</text>\n",
       "<text text-anchor=\"start\" x=\"153\" y=\"-119.3\" font-family=\"Helvetica,sans-Serif\" font-size=\"14.00\">samples = 6</text>\n",
       "<text text-anchor=\"start\" x=\"148.5\" y=\"-104.3\" font-family=\"Helvetica,sans-Serif\" font-size=\"14.00\">value = [4, 2]</text>\n",
       "</g>\n",
       "<!-- 1&#45;&gt;3 -->\n",
       "<g id=\"edge3\" class=\"edge\">\n",
       "<title>1&#45;&gt;3</title>\n",
       "<path fill=\"none\" stroke=\"black\" d=\"M197,-192.88C197,-182.33 197,-170.6 197,-159.85\"/>\n",
       "<polygon fill=\"black\" stroke=\"black\" points=\"200.5,-159.52 197,-149.52 193.5,-159.52 200.5,-159.52\"/>\n",
       "</g>\n",
       "<!-- 5 -->\n",
       "<g id=\"node6\" class=\"node\">\n",
       "<title>5</title>\n",
       "<path fill=\"#f8ddc9\" stroke=\"black\" d=\"M496,-157C496,-157 284,-157 284,-157 278,-157 272,-151 272,-145 272,-145 272,-101 272,-101 272,-95 278,-89 284,-89 284,-89 496,-89 496,-89 502,-89 508,-95 508,-101 508,-101 508,-145 508,-145 508,-151 502,-157 496,-157\"/>\n",
       "<text text-anchor=\"start\" x=\"280\" y=\"-141.8\" font-family=\"Helvetica,sans-Serif\" font-size=\"14.00\">Distance Covered (Kms) ≤ 99.0</text>\n",
       "<text text-anchor=\"start\" x=\"346\" y=\"-126.8\" font-family=\"Helvetica,sans-Serif\" font-size=\"14.00\">gini = 0.488</text>\n",
       "<text text-anchor=\"start\" x=\"341.5\" y=\"-111.8\" font-family=\"Helvetica,sans-Serif\" font-size=\"14.00\">samples = 19</text>\n",
       "<text text-anchor=\"start\" x=\"337\" y=\"-96.8\" font-family=\"Helvetica,sans-Serif\" font-size=\"14.00\">value = [11, 8]</text>\n",
       "</g>\n",
       "<!-- 4&#45;&gt;5 -->\n",
       "<g id=\"edge5\" class=\"edge\">\n",
       "<title>4&#45;&gt;5</title>\n",
       "<path fill=\"none\" stroke=\"black\" d=\"M390,-192.88C390,-184.78 390,-175.98 390,-167.47\"/>\n",
       "<polygon fill=\"black\" stroke=\"black\" points=\"393.5,-167.3 390,-157.3 386.5,-167.3 393.5,-167.3\"/>\n",
       "</g>\n",
       "<!-- 8 -->\n",
       "<g id=\"node9\" class=\"node\">\n",
       "<title>8</title>\n",
       "<path fill=\"#89c5f0\" stroke=\"black\" d=\"M759.5,-157C759.5,-157 538.5,-157 538.5,-157 532.5,-157 526.5,-151 526.5,-145 526.5,-145 526.5,-101 526.5,-101 526.5,-95 532.5,-89 538.5,-89 538.5,-89 759.5,-89 759.5,-89 765.5,-89 771.5,-95 771.5,-101 771.5,-101 771.5,-145 771.5,-145 771.5,-151 765.5,-157 759.5,-157\"/>\n",
       "<text text-anchor=\"start\" x=\"534.5\" y=\"-141.8\" font-family=\"Helvetica,sans-Serif\" font-size=\"14.00\">Distance Covered (Kms) ≤ 105.5</text>\n",
       "<text text-anchor=\"start\" x=\"605\" y=\"-126.8\" font-family=\"Helvetica,sans-Serif\" font-size=\"14.00\">gini = 0.411</text>\n",
       "<text text-anchor=\"start\" x=\"600.5\" y=\"-111.8\" font-family=\"Helvetica,sans-Serif\" font-size=\"14.00\">samples = 52</text>\n",
       "<text text-anchor=\"start\" x=\"578\" y=\"-96.8\" font-family=\"Helvetica,sans-Serif\" font-size=\"14.00\">value = [15.0, 37.0]</text>\n",
       "</g>\n",
       "<!-- 4&#45;&gt;8 -->\n",
       "<g id=\"edge8\" class=\"edge\">\n",
       "<title>4&#45;&gt;8</title>\n",
       "<path fill=\"none\" stroke=\"black\" d=\"M455.69,-200.13C485.84,-188.26 522.13,-173.96 555.09,-160.98\"/>\n",
       "<polygon fill=\"black\" stroke=\"black\" points=\"556.72,-164.1 564.74,-157.18 554.16,-157.59 556.72,-164.1\"/>\n",
       "</g>\n",
       "<!-- 6 -->\n",
       "<g id=\"node7\" class=\"node\">\n",
       "<title>6</title>\n",
       "<path fill=\"#eca06a\" stroke=\"black\" d=\"M334.5,-53C334.5,-53 245.5,-53 245.5,-53 239.5,-53 233.5,-47 233.5,-41 233.5,-41 233.5,-12 233.5,-12 233.5,-6 239.5,0 245.5,0 245.5,0 334.5,0 334.5,0 340.5,0 346.5,-6 346.5,-12 346.5,-12 346.5,-41 346.5,-41 346.5,-47 340.5,-53 334.5,-53\"/>\n",
       "<text text-anchor=\"start\" x=\"250.5\" y=\"-37.8\" font-family=\"Helvetica,sans-Serif\" font-size=\"14.00\">gini = 0.32</text>\n",
       "<text text-anchor=\"start\" x=\"246\" y=\"-22.8\" font-family=\"Helvetica,sans-Serif\" font-size=\"14.00\">samples = 5</text>\n",
       "<text text-anchor=\"start\" x=\"241.5\" y=\"-7.8\" font-family=\"Helvetica,sans-Serif\" font-size=\"14.00\">value = [4, 1]</text>\n",
       "</g>\n",
       "<!-- 5&#45;&gt;6 -->\n",
       "<g id=\"edge6\" class=\"edge\">\n",
       "<title>5&#45;&gt;6</title>\n",
       "<path fill=\"none\" stroke=\"black\" d=\"M355.02,-88.95C345.15,-79.62 334.41,-69.47 324.57,-60.16\"/>\n",
       "<polygon fill=\"black\" stroke=\"black\" points=\"326.91,-57.56 317.23,-53.24 322.1,-62.65 326.91,-57.56\"/>\n",
       "</g>\n",
       "<!-- 7 -->\n",
       "<g id=\"node8\" class=\"node\">\n",
       "<title>7</title>\n",
       "<path fill=\"#ffffff\" stroke=\"black\" d=\"M465.5,-53C465.5,-53 376.5,-53 376.5,-53 370.5,-53 364.5,-47 364.5,-41 364.5,-41 364.5,-12 364.5,-12 364.5,-6 370.5,0 376.5,0 376.5,0 465.5,0 465.5,0 471.5,0 477.5,-6 477.5,-12 477.5,-12 477.5,-41 477.5,-41 477.5,-47 471.5,-53 465.5,-53\"/>\n",
       "<text text-anchor=\"start\" x=\"386\" y=\"-37.8\" font-family=\"Helvetica,sans-Serif\" font-size=\"14.00\">gini = 0.5</text>\n",
       "<text text-anchor=\"start\" x=\"372.5\" y=\"-22.8\" font-family=\"Helvetica,sans-Serif\" font-size=\"14.00\">samples = 14</text>\n",
       "<text text-anchor=\"start\" x=\"372.5\" y=\"-7.8\" font-family=\"Helvetica,sans-Serif\" font-size=\"14.00\">value = [7, 7]</text>\n",
       "</g>\n",
       "<!-- 5&#45;&gt;7 -->\n",
       "<g id=\"edge7\" class=\"edge\">\n",
       "<title>5&#45;&gt;7</title>\n",
       "<path fill=\"none\" stroke=\"black\" d=\"M400.84,-88.95C403.6,-80.53 406.58,-71.45 409.38,-62.92\"/>\n",
       "<polygon fill=\"black\" stroke=\"black\" points=\"412.77,-63.83 412.56,-53.24 406.11,-61.65 412.77,-63.83\"/>\n",
       "</g>\n",
       "<!-- 9 -->\n",
       "<g id=\"node10\" class=\"node\">\n",
       "<title>9</title>\n",
       "<path fill=\"#5aade9\" stroke=\"black\" d=\"M667,-53C667,-53 569,-53 569,-53 563,-53 557,-47 557,-41 557,-41 557,-12 557,-12 557,-6 563,0 569,0 569,0 667,0 667,0 673,0 679,-6 679,-12 679,-12 679,-41 679,-41 679,-47 673,-53 667,-53\"/>\n",
       "<text text-anchor=\"start\" x=\"574\" y=\"-37.8\" font-family=\"Helvetica,sans-Serif\" font-size=\"14.00\">gini = 0.245</text>\n",
       "<text text-anchor=\"start\" x=\"569.5\" y=\"-22.8\" font-family=\"Helvetica,sans-Serif\" font-size=\"14.00\">samples = 28</text>\n",
       "<text text-anchor=\"start\" x=\"565\" y=\"-7.8\" font-family=\"Helvetica,sans-Serif\" font-size=\"14.00\">value = [4, 24]</text>\n",
       "</g>\n",
       "<!-- 8&#45;&gt;9 -->\n",
       "<g id=\"edge9\" class=\"edge\">\n",
       "<title>8&#45;&gt;9</title>\n",
       "<path fill=\"none\" stroke=\"black\" d=\"M638.16,-88.95C635.4,-80.53 632.42,-71.45 629.62,-62.92\"/>\n",
       "<polygon fill=\"black\" stroke=\"black\" points=\"632.89,-61.65 626.44,-53.24 626.23,-63.83 632.89,-61.65\"/>\n",
       "</g>\n",
       "<!-- 10 -->\n",
       "<g id=\"node11\" class=\"node\">\n",
       "<title>10</title>\n",
       "<path fill=\"#e1f0fb\" stroke=\"black\" d=\"M816.5,-53C816.5,-53 709.5,-53 709.5,-53 703.5,-53 697.5,-47 697.5,-41 697.5,-41 697.5,-12 697.5,-12 697.5,-6 703.5,0 709.5,0 709.5,0 816.5,0 816.5,0 822.5,0 828.5,-6 828.5,-12 828.5,-12 828.5,-41 828.5,-41 828.5,-47 822.5,-53 816.5,-53\"/>\n",
       "<text text-anchor=\"start\" x=\"719\" y=\"-37.8\" font-family=\"Helvetica,sans-Serif\" font-size=\"14.00\">gini = 0.497</text>\n",
       "<text text-anchor=\"start\" x=\"714.5\" y=\"-22.8\" font-family=\"Helvetica,sans-Serif\" font-size=\"14.00\">samples = 24</text>\n",
       "<text text-anchor=\"start\" x=\"705.5\" y=\"-7.8\" font-family=\"Helvetica,sans-Serif\" font-size=\"14.00\">value = [11, 13]</text>\n",
       "</g>\n",
       "<!-- 8&#45;&gt;10 -->\n",
       "<g id=\"edge10\" class=\"edge\">\n",
       "<title>8&#45;&gt;10</title>\n",
       "<path fill=\"none\" stroke=\"black\" d=\"M688.87,-88.95C700.24,-79.53 712.61,-69.27 723.93,-59.89\"/>\n",
       "<polygon fill=\"black\" stroke=\"black\" points=\"726.49,-62.31 731.95,-53.24 722.02,-56.92 726.49,-62.31\"/>\n",
       "</g>\n",
       "</g>\n",
       "</svg>\n"
      ],
      "text/plain": [
       "<graphviz.sources.Source at 0x7f6c8087a880>"
      ]
     },
     "execution_count": 221,
     "metadata": {},
     "output_type": "execute_result"
    }
   ],
   "source": [
    "# Splitting criteria is shown at the top\n",
    "# The bracketed values at the bottom indicate the count\n",
    "# which go either True or False\n",
    "import graphviz\n",
    "from sklearn.tree import export_graphviz\n",
    "\n",
    "# Assuming 'model' is your trained decision tree classifier\n",
    "dot_data = export_graphviz(clf, out_file=None, \n",
    "                           feature_names=features,\n",
    "                           filled=True, rounded=True,  \n",
    "                           special_characters=True)\n",
    "graph = graphviz.Source(dot_data)\n",
    "graph\n",
    "\n",
    "#from sklearn.tree import plot_tree\n",
    "#import matplotlib.pyplot as plt\n",
    "#\n",
    "## Assuming 'model' is your trained decision tree classifier\n",
    "#fig, axes = plt.subplots(nrows=1, ncols=1, figsize=(4, 4), dpi=300)\n",
    "#plot_tree(clf, feature_names=features, filled=True)\n",
    "#fig.savefig('clf.png')"
   ]
  },
  {
   "cell_type": "markdown",
   "id": "88bb4a51",
   "metadata": {},
   "source": [
    "Analyzing the splits of the about visualisation from a particular feature, could indicate a strong pattern and the performance of the tree."
   ]
  },
  {
   "cell_type": "code",
   "execution_count": 161,
   "id": "5cef96a2",
   "metadata": {},
   "outputs": [
    {
     "name": "stdout",
     "output_type": "stream",
     "text": [
      "/home/conmec/Python/Machine_learning_Deep_learning\n"
     ]
    }
   ],
   "source": [
    "!pwd"
   ]
  },
  {
   "cell_type": "markdown",
   "id": "458d4709",
   "metadata": {},
   "source": [
    "#### Out-of-Bag(OOB) Error Rate Plot:\n",
    "Using the OOB samples to estimate error and plot the OOB error rate as more trees are added.\n",
    "Understanding if adding more trees improves the model and can help conserve compute resources by not adding more trees than necessary when error has plateaued."
   ]
  },
  {
   "cell_type": "code",
   "execution_count": 162,
   "id": "20c9bec8",
   "metadata": {},
   "outputs": [
    {
     "name": "stdout",
     "output_type": "stream",
     "text": [
      "OOB error: 0.402\n"
     ]
    }
   ],
   "source": [
    "# Create a random forest tree classifier with OOB\n",
    "rfc = RandomForestClassifier(n_estimators=100, \n",
    "                             oob_score=True, \n",
    "                             random_state=42)\n",
    "rfc.fit(X_train, Y_train)\n",
    "oob_error = 1 - rfc.oob_score_\n",
    "print(f'OOB error: {oob_error:.3f}')"
   ]
  },
  {
   "cell_type": "code",
   "execution_count": 163,
   "id": "7ef5d80f",
   "metadata": {},
   "outputs": [
    {
     "name": "stderr",
     "output_type": "stream",
     "text": [
      "/home/conmec/miniconda3/lib/python3.9/site-packages/sklearn/ensemble/_forest.py:612: UserWarning: Some inputs do not have OOB scores. This probably means too few trees were used to compute any reliable OOB estimates.\n",
      "  warn(\n"
     ]
    },
    {
     "name": "stdout",
     "output_type": "stream",
     "text": [
      "For n_estimators = 1\n",
      "OOB score is 0.5196078431372549\n",
      "************************\n",
      "For n_estimators = 1\n",
      "OOB score is 0.5980392156862745\n",
      "************************\n",
      "For n_estimators = 1\n",
      "OOB score is 0.6078431372549019\n",
      "************************\n",
      "For n_estimators = 1\n",
      "OOB score is 0.6862745098039216\n",
      "************************\n",
      "For n_estimators = 1\n",
      "OOB score is 0.6666666666666666\n",
      "************************\n",
      "For n_estimators = 1\n",
      "OOB score is 0.6666666666666666\n",
      "************************\n",
      "For n_estimators = 1\n",
      "OOB score is 0.6372549019607843\n",
      "************************\n",
      "For n_estimators = 1\n",
      "OOB score is 0.6568627450980392\n",
      "************************\n",
      "For n_estimators = 1\n",
      "OOB score is 0.6470588235294118\n",
      "************************\n",
      "For n_estimators = 1\n",
      "OOB score is 0.6274509803921569\n",
      "************************\n"
     ]
    },
    {
     "data": {
      "image/png": "[encoded data removed]",
      "text/plain": [
       "<Figure size 400x400 with 1 Axes>"
      ]
     },
     "metadata": {},
     "output_type": "display_data"
    }
   ],
   "source": [
    "# Define the rannge of trees to evaluate\n",
    "n_trees_range = range(1, 100, 10)\n",
    "oob_error_rates = []\n",
    "for n_trees in n_trees_range:\n",
    "    # Train a random forest with OOB score enabled\n",
    "    rf = RandomForestClassifier(n_estimators=n_trees,\n",
    "                                oob_score=True, \n",
    "                                random_state=42)\n",
    "                                \n",
    "    rf.fit(X_train, Y_train)\n",
    "\n",
    "     # Compute the OOB error rate\n",
    "    oob_error = 1 - rf.oob_score_\n",
    "    oob_error_rates.append(oob_error)\n",
    "    print('For n_estimators = '+str(i))\n",
    "    print('OOB score is '+str(rf.oob_score_))\n",
    "    print('************************')\n",
    "\n",
    "#oob_error_rates\n",
    "fig, axes = plt.subplots(nrows=1, ncols=1, figsize=(4, 4), dpi=100)\n",
    "plt.plot(n_trees_range, oob_error_rates)\n",
    "plt.ylabel(\"OOB Error Rate\")\n",
    "plt.xlabel(\"Number of Trees\")\n",
    "\n",
    "\n",
    "plt.show()\n",
    "#fig.savefig('clf.png')"
   ]
  },
  {
   "cell_type": "code",
   "execution_count": 164,
   "id": "be353997",
   "metadata": {},
   "outputs": [
    {
     "data": {
      "text/plain": [
       "0.6153846153846154"
      ]
     },
     "execution_count": 164,
     "metadata": {},
     "output_type": "execute_result"
    }
   ],
   "source": [
    "Y_pred = rfc.predict(X_test)\n",
    "rfc.score(X_test, Y_test)"
   ]
  },
  {
   "cell_type": "code",
   "execution_count": 165,
   "id": "fbbf176b",
   "metadata": {},
   "outputs": [
    {
     "data": {
      "text/plain": [
       "array([0.204861  , 0.14807706, 0.09537015, 0.11100703, 0.10894735,\n",
       "       0.13569448, 0.09609178, 0.09995114])"
      ]
     },
     "execution_count": 165,
     "metadata": {},
     "output_type": "execute_result"
    }
   ],
   "source": [
    "rfc.feature_importances_"
   ]
  },
  {
   "cell_type": "code",
   "execution_count": 166,
   "id": "9a6d1924",
   "metadata": {},
   "outputs": [],
   "source": [
    "imp_feat=pd.Series(rfc.feature_importances_,index=X.columns.tolist())"
   ]
  },
  {
   "cell_type": "code",
   "execution_count": 167,
   "id": "6baeb6b9",
   "metadata": {},
   "outputs": [
    {
     "data": {
      "text/plain": [
       "Goal Scored               0.204861\n",
       "Attempts                  0.148077\n",
       "Passes                    0.135694\n",
       "Ball Possession %         0.111007\n",
       "Free Kicks                0.108947\n",
       "Distance Covered (Kms)    0.099951\n",
       "Pass Accuracy %           0.096092\n",
       "On-Target                 0.095370\n",
       "dtype: float64"
      ]
     },
     "execution_count": 167,
     "metadata": {},
     "output_type": "execute_result"
    }
   ],
   "source": [
    "imp_feat.sort_values(ascending=False)"
   ]
  },
  {
   "cell_type": "code",
   "execution_count": 168,
   "id": "615f6fc1",
   "metadata": {},
   "outputs": [
    {
     "data": {
      "image/png": "[encoded data removed]",
      "text/plain": [
       "<Figure size 640x480 with 1 Axes>"
      ]
     },
     "metadata": {},
     "output_type": "display_data"
    }
   ],
   "source": [
    "graph=imp_feat.sort_values(ascending=False).plot(kind='bar')"
   ]
  },
  {
   "cell_type": "code",
   "execution_count": 169,
   "id": "b1290668",
   "metadata": {},
   "outputs": [
    {
     "name": "stdout",
     "output_type": "stream",
     "text": [
      "Accuracy: 0.6153846153846154\n",
      "Confusion Matrix:\n",
      "[[ 6  3]\n",
      " [ 7 10]]\n",
      "Classification Report:\n",
      "              precision    recall  f1-score   support\n",
      "\n",
      "           0       0.46      0.67      0.55         9\n",
      "           1       0.77      0.59      0.67        17\n",
      "\n",
      "    accuracy                           0.62        26\n",
      "   macro avg       0.62      0.63      0.61        26\n",
      "weighted avg       0.66      0.62      0.62        26\n",
      "\n"
     ]
    }
   ],
   "source": [
    "from sklearn.metrics import accuracy_score, classification_report, confusion_matrix\n",
    "\n",
    "# Evaluate the model\n",
    "accuracy = accuracy_score(Y_test, Y_pred)\n",
    "conf_matrix = confusion_matrix(Y_test, Y_pred)\n",
    "class_report = classification_report(Y_test, Y_pred)\n",
    "\n",
    "print(f\"Accuracy: {accuracy}\")\n",
    "print(\"Confusion Matrix:\")\n",
    "print(conf_matrix)\n",
    "print(\"Classification Report:\")\n",
    "print(class_report)"
   ]
  },
  {
   "cell_type": "markdown",
   "id": "bbf5f93c",
   "metadata": {},
   "source": [
    "# Summary\n",
    "- Random forect performs better than the Randomregressor tree with a 68%.\n",
    "- Random forest tree combat overfitting to training data compared to decision trees.\n",
    "- XGBoost (Extreme Gradient Boosting) can be used for ensemple multiple decision trees, each trained on a random subset of the data,\n",
    "to produce more generalised predictions. It takes a gradient boosting approach, iteratively adding new trees that correct the errors of the \n",
    "existing ensemble. This method can improve performance and efficiency of the previous models.\n",
    "- Using OOB and training more trees in a random forest, requires more CPU time."
   ]
  }
 ],
 "metadata": {
  "kernelspec": {
   "display_name": "base",
   "language": "python",
   "name": "python3"
  },
  "language_info": {
   "codemirror_mode": {
    "name": "ipython",
    "version": 3
   },
   "file_extension": ".py",
   "mimetype": "text/x-python",
   "name": "python",
   "nbconvert_exporter": "python",
   "pygments_lexer": "ipython3",
   "version": "3.9.18"
  }
 },
 "nbformat": 4,
 "nbformat_minor": 5
}
