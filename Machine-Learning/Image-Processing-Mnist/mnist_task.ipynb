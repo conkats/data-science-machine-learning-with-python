{
 "cells": [
  {
   "cell_type": "markdown",
   "metadata": {},
   "source": [
    "In this task, we will use the MNIST database. As stated by the creators of the dataset, “The MNIST database of handwritten digits, available from this page, has a training set of 60,000 examples, and a test set of 10,000 examples. It is a subset of a\n",
    "larger set available from NIST. The digits have been size-normalised and centred in a fixed-size image.”\n",
    "Follow these steps:\n",
    "● Create a file called mnist_task.ipynb.\n",
    "● Load the MNIST dataset. You may download the files or use a library such\n",
    "as Keras to access the dataset (e.g. from keras.datasets import mnist).\n",
    "●Split the training data into a training and development(test) set.\n",
    "○Add a comment explaining the purpose of the train, development(test) and test(validation) sets\n",
    "●Use the RandomForestClassifier built into sklearn to create a classification model.\n",
    "● Pick one parameter to tune, and explain why you chose this parameter.\n",
    "● Choose which value for the parameter to set for testing on the test data and explain why.\n",
    "● Print the confusion matrix for your Random Forest model on the test set.\n",
    "● Report which classes the model struggles with the most.\n",
    "● Report the accuracy, precision, recall, and f1-score."
   ]
  },
  {
   "cell_type": "markdown",
   "metadata": {},
   "source": [
    "In this task, we will use the MNIST database. As stated by the creators of the\n",
    "dataset, “The MNIST database of handwritten digits, available from this page, has a\n",
    "training set of 60,000 examples, and a test set of 10,000 examples. It is a subset of a\n",
    "larger set available from NIST. The digits have been size-normalised and centred in\n",
    "a fixed-size image.”\n",
    "First read and run the MNIST.pynb example file to explore the MNIST test set\n",
    "provided by sklearn. Then, follow the instructions to create a random forest model\n",
    "using the mnist data. Use the MNIST training set for training and development and\n",
    "the MNIST test set as the validation set\n",
    "MNIST is the basic for Deep learnign\n",
    "\n",
    "ref:\n",
    "https://www.digitalocean.com/community/tutorials/mnist-dataset-in-python\n",
    "https://www.analyticsvidhya.com/blog/2021/06/mnist-dataset-prediction-using-keras/\n",
    "https://paperswithcode.com/paper/meta-pseudo-labels#code\n",
    "\n",
    "https://www.kaggle.com/code/ashwani07/mnist-classification-using-random-forest\n",
    "\n",
    "https://yann.lecun.com/exdb/mnist/\n",
    "\n",
    "https://www.kaggle.com/code/ashwani07/mnist-classification-using-random-forest\n",
    "\n",
    "\n",
    "https://medium.com/analytics-vidhya/knn-vs-decision-tree-vs-random-forest-for-handwritten-digit-recognition-470e864c75bc"
   ]
  },
  {
   "cell_type": "code",
   "execution_count": 15,
   "metadata": {},
   "outputs": [],
   "source": [
    "#conmec@constantinos-Inspiron-5567:~$ conda activate\n",
    "#(base) conmec@constantinos-Inspiron-5567:~$ activate tf\n",
    "#(base) conmec@constantinos-Inspiron-5567:~$ activate tf\n",
    "#(base) conmec@constantinos-Inspiron-5567:~$ conda activate tf\n",
    "#(tf) conmec@constantinos-Inspiron-5567:~$ python -c \"import tensorflow\"\n",
    "\n",
    "#from keras.datasets import mnist\n",
    "import tensorflow as tf\n",
    "from tensorflow.keras.models import Sequential\n",
    "mnist = tf.keras.datasets.mnist"
   ]
  },
  {
   "cell_type": "markdown",
   "metadata": {},
   "source": [
    "1.Load ans split the data"
   ]
  },
  {
   "cell_type": "code",
   "execution_count": 17,
   "metadata": {},
   "outputs": [
    {
     "name": "stdout",
     "output_type": "stream",
     "text": [
      "Epoch 1/10\n",
      "600/600 [==============================] - 8s 12ms/step - loss: 0.3753 - accuracy: 0.8905\n",
      "Epoch 2/10\n",
      "600/600 [==============================] - 7s 11ms/step - loss: 0.1816 - accuracy: 0.9463\n",
      "Epoch 3/10\n",
      "600/600 [==============================] - 7s 11ms/step - loss: 0.1351 - accuracy: 0.9599\n",
      "Epoch 4/10\n",
      "600/600 [==============================] - 6s 11ms/step - loss: 0.1114 - accuracy: 0.9669\n",
      "Epoch 5/10\n",
      "600/600 [==============================] - 7s 11ms/step - loss: 0.0929 - accuracy: 0.9724\n",
      "Epoch 6/10\n",
      "600/600 [==============================] - 6s 10ms/step - loss: 0.0836 - accuracy: 0.9746\n",
      "Epoch 7/10\n",
      "600/600 [==============================] - 7s 11ms/step - loss: 0.0741 - accuracy: 0.9778\n",
      "Epoch 8/10\n",
      "600/600 [==============================] - 6s 10ms/step - loss: 0.0643 - accuracy: 0.9802\n",
      "Epoch 9/10\n",
      "600/600 [==============================] - 5s 9ms/step - loss: 0.0593 - accuracy: 0.9817\n",
      "Epoch 10/10\n",
      "600/600 [==============================] - 6s 10ms/step - loss: 0.0538 - accuracy: 0.9831\n",
      "313/313 [==============================] - 3s 8ms/step - loss: 0.0733 - accuracy: 0.9770\n"
     ]
    },
    {
     "data": {
      "text/plain": [
       "[0.07325155287981033, 0.9769999980926514]"
      ]
     },
     "execution_count": 17,
     "metadata": {},
     "output_type": "execute_result"
    }
   ],
   "source": [
    "(x_train, y_train),(x_test, y_test) = mnist.load_data()\n",
    "#convert all the values from 0 to 255 for every pixel to a range of values from 0 to 1.\n",
    "x_train, x_test = x_train / 255.0, x_test / 255.0\n",
    "\n",
    "\n",
    "# Building the model\n",
    "# Sequential to execute Deep Learning which is available under the Keras library.\n",
    "# But this is not directly available for which we need to understand this simple line chart:\n",
    "# Keras -> Models -> Sequential\n",
    "# store the function in the variable model as \n",
    "# it makes it easier to access the function \n",
    "# every time instead of typing the \n",
    "# function every time, we can use the variable and call the function.\n",
    "# convert the image into a dense pool of layers \n",
    "# and stack each layer one above the other and we use \n",
    "# ‘relu’ \n",
    "# as our activation function. \n",
    "# Then again, we stack a few more layers with ‘softmax’ as our activation function. \n",
    "model = tf.keras.models.Sequential([\n",
    "  tf.keras.layers.Flatten(input_shape=(28, 28)),\n",
    "  tf.keras.layers.Dense(128, activation='relu'),\n",
    "  tf.keras.layers.Dropout(0.2),\n",
    "  tf.keras.layers.Dense(10, activation='softmax')\n",
    "])\n",
    "\n",
    "# Compile the entire model\n",
    "# and use cross-entropy as our loss function, \n",
    "# to optimize our model use adam as our optimizer \n",
    "# and use accuracy as our metrics to evaluate our model.\n",
    "model.compile(optimizer='adam',\n",
    "              loss='sparse_categorical_crossentropy',\n",
    "              metrics=['accuracy'])\n",
    "# Train the Model\n",
    "# using .fit() function which\n",
    "# takes the train set of the dependent \n",
    "# and the independent and dependent variable \n",
    "# as the input, and set epochs = 10, and set batch_size as 100. \n",
    "model.fit(x_train, y_train, epochs=10, batch_size = 100)\n",
    "model.evaluate(x_test, y_test)"
   ]
  },
  {
   "cell_type": "markdown",
   "metadata": {},
   "source": [
    "Train set => X_train; y_train\n",
    "\n",
    "Epochs => An epoch means training the neural network with all the training data for one cycle. An epoch is made up of one or more batches, where we use a part of the dataset to train the neural network. Meaning we send the model to train 10 times to get high accuracy. You could also change the number of epochs depending on how the model performs.\n",
    "\n",
    "Batch_size => Batch size is a term used in machine learning and refers to the number of training examples utilized in one iteration. So basically, we send 100 images to train as a batch per iteration."
   ]
  },
  {
   "cell_type": "markdown",
   "metadata": {},
   "source": [
    "Predict accuracy\n",
    "After training the model we have achieved an accuracy of 97.88% for the training data set. "
   ]
  },
  {
   "cell_type": "code",
   "execution_count": 18,
   "metadata": {},
   "outputs": [
    {
     "name": "stdout",
     "output_type": "stream",
     "text": [
      "Model: \"sequential_1\"\n",
      "_________________________________________________________________\n",
      " Layer (type)                Output Shape              Param #   \n",
      "=================================================================\n",
      " flatten_1 (Flatten)         (None, 784)               0         \n",
      "                                                                 \n",
      " dense_2 (Dense)             (None, 128)               100480    \n",
      "                                                                 \n",
      " dropout_1 (Dropout)         (None, 128)               0         \n",
      "                                                                 \n",
      " dense_3 (Dense)             (None, 10)                1290      \n",
      "                                                                 \n",
      "=================================================================\n",
      "Total params: 101,770\n",
      "Trainable params: 101,770\n",
      "Non-trainable params: 0\n",
      "_________________________________________________________________\n"
     ]
    }
   ],
   "source": [
    "#get an overview of our model we use\n",
    "model.summary()"
   ]
  },
  {
   "cell_type": "code",
   "execution_count": 19,
   "metadata": {},
   "outputs": [
    {
     "name": "stdout",
     "output_type": "stream",
     "text": [
      "313/313 [==============================] - 3s 8ms/step - loss: 0.0733 - accuracy: 0.9770\n",
      "Accuracy: 97.69999980926514\n"
     ]
    }
   ],
   "source": [
    "# how well the model works in the testing\n",
    "# dataset I use the scores variable to store\n",
    "# the value and use the .evaluate() function \n",
    "# which takes the test set of the dependent and \n",
    "# the independent variables as the input.\n",
    "# This computes the loss and the accuracy of the model\n",
    "#  in the test set.\n",
    "scores = model.evaluate(x_test, y_test)\n",
    "print('Accuracy:', scores[1] * 100)"
   ]
  },
  {
   "cell_type": "markdown",
   "metadata": {},
   "source": [
    "we have achieved the result and we secured an accuracy of more than 96% in the test set which is very much appreciable, and the motive of the blog is achieved."
   ]
  },
  {
   "cell_type": "markdown",
   "metadata": {},
   "source": [
    "## Trying the sklearn approach and RandomForest classifier  "
   ]
  },
  {
   "cell_type": "code",
   "execution_count": 1,
   "metadata": {},
   "outputs": [
    {
     "name": "stderr",
     "output_type": "stream",
     "text": [
      "2024-09-05 18:31:43.986523: I tensorflow/core/platform/cpu_feature_guard.cc:182] This TensorFlow binary is optimized to use available CPU instructions in performance-critical operations.\n",
      "To enable the following instructions: SSE4.1 SSE4.2 AVX AVX2 FMA, in other operations, rebuild TensorFlow with the appropriate compiler flags.\n"
     ]
    }
   ],
   "source": [
    "from keras.datasets import mnist\n",
    "import numpy as np\n",
    "import matplotlib.pyplot as plt"
   ]
  },
  {
   "cell_type": "code",
   "execution_count": 2,
   "metadata": {},
   "outputs": [
    {
     "data": {
      "text/plain": [
       "tuple"
      ]
     },
     "execution_count": 2,
     "metadata": {},
     "output_type": "execute_result"
    }
   ],
   "source": [
    "data = mnist.load_data()\n",
    "type(data)"
   ]
  },
  {
   "cell_type": "markdown",
   "metadata": {},
   "source": [
    "Split the dataset into train and test\n"
   ]
  },
  {
   "cell_type": "code",
   "execution_count": 6,
   "metadata": {},
   "outputs": [
    {
     "name": "stdout",
     "output_type": "stream",
     "text": [
      "MNIST Dataset Shape:\n",
      "X_train: (60000, 28, 28)\n",
      "The pixels of the image: (28, 28)\n",
      "y_train: (60000,)\n",
      "X_test:  (10000, 28, 28)\n",
      "y_test:  (10000,)\n"
     ]
    }
   ],
   "source": [
    "(X_train, y_train), (X_test, y_test) = data\n",
    "print('MNIST Dataset Shape:')\n",
    "print('X_train: ' + str(X_train.shape))\n",
    "print('The pixels of the image: ' + str(X_train[0].shape))\n",
    "print('y_train: ' + str(y_train.shape))\n",
    "print('X_test:  '  + str(X_test.shape))\n",
    "print('y_test:  '  + str(y_test.shape))"
   ]
  },
  {
   "cell_type": "code",
   "execution_count": 7,
   "metadata": {},
   "outputs": [
    {
     "data": {
      "image/png": "[encoded data removed]",
      "text/plain": [
       "<Figure size 432x288 with 1 Axes>"
      ]
     },
     "metadata": {
      "needs_background": "light"
     },
     "output_type": "display_data"
    },
    {
     "name": "stdout",
     "output_type": "stream",
     "text": [
      "2\n"
     ]
    }
   ],
   "source": [
    "# view an image (e.g. 25) and print its corresponding label\n",
    "img_index = 25\n",
    "plt.imshow(X_train[img_index,:,:])\n",
    "plt.show()\n",
    "print(y_train[img_index])\n",
    "%matplotlib inline"
   ]
  },
  {
   "cell_type": "markdown",
   "metadata": {},
   "source": [
    "Reshape and store so we can have access to every pixel of the image.  The reason to access every pixel is that only then we can apply deep learning ideas and can assign color code to every pixel."
   ]
  },
  {
   "cell_type": "code",
   "execution_count": 8,
   "metadata": {},
   "outputs": [],
   "source": [
    "X_train = X_train.reshape((X_train.shape[0], 28*28)).astype('float32')\n",
    "X_test = X_test.reshape((X_test.shape[0], 28*28)).astype('float32')"
   ]
  },
  {
   "cell_type": "markdown",
   "metadata": {},
   "source": [
    "We already know that each pixel has its unique color code and also we know that it has a maximum value of 255. To perform Machine Learning, it is important to convert all the values from 0 to 255 for every pixel to a range of values from 0 to 1. The simplest way is to divide the value of every pixel by 255 to get the values in the range of 0 to 1."
   ]
  },
  {
   "cell_type": "code",
   "execution_count": 9,
   "metadata": {},
   "outputs": [],
   "source": [
    "X_train = X_train / 255\n",
    "X_test = X_test / 255"
   ]
  },
  {
   "cell_type": "markdown",
   "metadata": {},
   "source": [
    "Now we are done with splitting the data into test and train as well as making the data ready for further use."
   ]
  },
  {
   "cell_type": "markdown",
   "metadata": {},
   "source": [
    "##Step 3-  Train the model"
   ]
  },
  {
   "cell_type": "code",
   "execution_count": 10,
   "metadata": {},
   "outputs": [
    {
     "data": {
      "text/html": [
       "<style>#sk-container-id-1 {color: black;}#sk-container-id-1 pre{padding: 0;}#sk-container-id-1 div.sk-toggleable {background-color: white;}#sk-container-id-1 label.sk-toggleable__label {cursor: pointer;display: block;width: 100%;margin-bottom: 0;padding: 0.3em;box-sizing: border-box;text-align: center;}#sk-container-id-1 label.sk-toggleable__label-arrow:before {content: \"▸\";float: left;margin-right: 0.25em;color: #696969;}#sk-container-id-1 label.sk-toggleable__label-arrow:hover:before {color: black;}#sk-container-id-1 div.sk-estimator:hover label.sk-toggleable__label-arrow:before {color: black;}#sk-container-id-1 div.sk-toggleable__content {max-height: 0;max-width: 0;overflow: hidden;text-align: left;background-color: #f0f8ff;}#sk-container-id-1 div.sk-toggleable__content pre {margin: 0.2em;color: black;border-radius: 0.25em;background-color: #f0f8ff;}#sk-container-id-1 input.sk-toggleable__control:checked~div.sk-toggleable__content {max-height: 200px;max-width: 100%;overflow: auto;}#sk-container-id-1 input.sk-toggleable__control:checked~label.sk-toggleable__label-arrow:before {content: \"▾\";}#sk-container-id-1 div.sk-estimator input.sk-toggleable__control:checked~label.sk-toggleable__label {background-color: #d4ebff;}#sk-container-id-1 div.sk-label input.sk-toggleable__control:checked~label.sk-toggleable__label {background-color: #d4ebff;}#sk-container-id-1 input.sk-hidden--visually {border: 0;clip: rect(1px 1px 1px 1px);clip: rect(1px, 1px, 1px, 1px);height: 1px;margin: -1px;overflow: hidden;padding: 0;position: absolute;width: 1px;}#sk-container-id-1 div.sk-estimator {font-family: monospace;background-color: #f0f8ff;border: 1px dotted black;border-radius: 0.25em;box-sizing: border-box;margin-bottom: 0.5em;}#sk-container-id-1 div.sk-estimator:hover {background-color: #d4ebff;}#sk-container-id-1 div.sk-parallel-item::after {content: \"\";width: 100%;border-bottom: 1px solid gray;flex-grow: 1;}#sk-container-id-1 div.sk-label:hover label.sk-toggleable__label {background-color: #d4ebff;}#sk-container-id-1 div.sk-serial::before {content: \"\";position: absolute;border-left: 1px solid gray;box-sizing: border-box;top: 0;bottom: 0;left: 50%;z-index: 0;}#sk-container-id-1 div.sk-serial {display: flex;flex-direction: column;align-items: center;background-color: white;padding-right: 0.2em;padding-left: 0.2em;position: relative;}#sk-container-id-1 div.sk-item {position: relative;z-index: 1;}#sk-container-id-1 div.sk-parallel {display: flex;align-items: stretch;justify-content: center;background-color: white;position: relative;}#sk-container-id-1 div.sk-item::before, #sk-container-id-1 div.sk-parallel-item::before {content: \"\";position: absolute;border-left: 1px solid gray;box-sizing: border-box;top: 0;bottom: 0;left: 50%;z-index: -1;}#sk-container-id-1 div.sk-parallel-item {display: flex;flex-direction: column;z-index: 1;position: relative;background-color: white;}#sk-container-id-1 div.sk-parallel-item:first-child::after {align-self: flex-end;width: 50%;}#sk-container-id-1 div.sk-parallel-item:last-child::after {align-self: flex-start;width: 50%;}#sk-container-id-1 div.sk-parallel-item:only-child::after {width: 0;}#sk-container-id-1 div.sk-dashed-wrapped {border: 1px dashed gray;margin: 0 0.4em 0.5em 0.4em;box-sizing: border-box;padding-bottom: 0.4em;background-color: white;}#sk-container-id-1 div.sk-label label {font-family: monospace;font-weight: bold;display: inline-block;line-height: 1.2em;}#sk-container-id-1 div.sk-label-container {text-align: center;}#sk-container-id-1 div.sk-container {/* jupyter's `normalize.less` sets `[hidden] { display: none; }` but bootstrap.min.css set `[hidden] { display: none !important; }` so we also need the `!important` here to be able to override the default hidden behavior on the sphinx rendered scikit-learn.org. See: https://github.com/scikit-learn/scikit-learn/issues/21755 */display: inline-block !important;position: relative;}#sk-container-id-1 div.sk-text-repr-fallback {display: none;}</style><div id=\"sk-container-id-1\" class=\"sk-top-container\"><div class=\"sk-text-repr-fallback\"><pre>RandomForestClassifier()</pre><b>In a Jupyter environment, please rerun this cell to show the HTML representation or trust the notebook. <br />On GitHub, the HTML representation is unable to render, please try loading this page with nbviewer.org.</b></div><div class=\"sk-container\" hidden><div class=\"sk-item\"><div class=\"sk-estimator sk-toggleable\"><input class=\"sk-toggleable__control sk-hidden--visually\" id=\"sk-estimator-id-1\" type=\"checkbox\" checked><label for=\"sk-estimator-id-1\" class=\"sk-toggleable__label sk-toggleable__label-arrow\">RandomForestClassifier</label><div class=\"sk-toggleable__content\"><pre>RandomForestClassifier()</pre></div></div></div></div></div>"
      ],
      "text/plain": [
       "RandomForestClassifier()"
      ]
     },
     "execution_count": 10,
     "metadata": {},
     "output_type": "execute_result"
    }
   ],
   "source": [
    "from sklearn.ensemble import RandomForestClassifier\n",
    "\n",
    "#instantiate the model\n",
    "clf = RandomForestClassifier()\n",
    "clf.fit(X_train, y_train)\n",
    "\n",
    "#X2_train = X_train.transpose(2, 0, 1).reshape(-1, 28*28)\n",
    "#X2_train = X_train.reshape(-1, 2)\n",
    "#y2_train=y_train.reshape(-1)\n",
    "#clf.fit(X2_train, y2_train)"
   ]
  },
  {
   "cell_type": "markdown",
   "metadata": {},
   "source": [
    "### Test results"
   ]
  },
  {
   "cell_type": "code",
   "execution_count": 11,
   "metadata": {},
   "outputs": [
    {
     "data": {
      "text/plain": [
       "(10000, 784)"
      ]
     },
     "execution_count": 11,
     "metadata": {},
     "output_type": "execute_result"
    }
   ],
   "source": [
    "from sklearn.metrics import accuracy_score\n",
    "X_test.shape\n"
   ]
  },
  {
   "cell_type": "code",
   "execution_count": 21,
   "metadata": {},
   "outputs": [
    {
     "name": "stdout",
     "output_type": "stream",
     "text": [
      "Accuracy: 0.9704\n"
     ]
    }
   ],
   "source": [
    "y_test.shape\n",
    "\n",
    "#= X_test.transpose(2, 0, 1).reshape(-1, 28*28)\n",
    "#y_test = y_test.reshape(-1)\n",
    "\n",
    "\n",
    "y_pred = clf.predict(X_test)\n",
    "print(\"Accuracy:\", accuracy_score(y_test, y_pred))"
   ]
  },
  {
   "cell_type": "code",
   "execution_count": 25,
   "metadata": {},
   "outputs": [
    {
     "name": "stdout",
     "output_type": "stream",
     "text": [
      "0.9704\n"
     ]
    }
   ],
   "source": [
    "from sklearn.metrics import f1_score, precision_score, recall_score\n",
    "\n",
    "# average f1 score\n",
    "av_f1 = f1_score(y_test, y_pred, average='micro')\n",
    "print(av_f1)\n"
   ]
  },
  {
   "cell_type": "code",
   "execution_count": 32,
   "metadata": {},
   "outputs": [
    {
     "data": {
      "image/png": "[encoded data removed]",
      "text/plain": [
       "<Figure size 432x288 with 9 Axes>"
      ]
     },
     "metadata": {
      "needs_background": "light"
     },
     "output_type": "display_data"
    }
   ],
   "source": [
    "from matplotlib import pyplot\n",
    "for i in range(9):  \n",
    "    pyplot.subplot(330 + 1 + i)\n",
    "    pyplot.imshow(x_train[i], cmap=pyplot.get_cmap('gray'))\n",
    "pyplot.show()"
   ]
  },
  {
   "cell_type": "markdown",
   "metadata": {},
   "source": [
    "Trying to tune the model"
   ]
  },
  {
   "cell_type": "code",
   "execution_count": 40,
   "metadata": {},
   "outputs": [
    {
     "name": "stdout",
     "output_type": "stream",
     "text": [
      "0.9661333333333333\n"
     ]
    }
   ],
   "source": [
    "from sklearn.model_selection import cross_val_score\n",
    "# tried to tune the model\n",
    "# Cross validation\n",
    "clf2=RandomForestClassifier(n_estimators=100)\n",
    "clf2.fit(X_train, y_train)\n",
    "score = cross_val_score(clf2, X_train, y_train)\n",
    "print (np.mean(score))"
   ]
  },
  {
   "cell_type": "code",
   "execution_count": 41,
   "metadata": {},
   "outputs": [
    {
     "name": "stdout",
     "output_type": "stream",
     "text": [
      "Classification Report\n",
      "              precision    recall  f1-score   support\n",
      "\n",
      "           0       0.98      0.99      0.98       980\n",
      "           1       0.99      0.99      0.99      1135\n",
      "           2       0.96      0.97      0.96      1032\n",
      "           3       0.96      0.97      0.96      1010\n",
      "           4       0.98      0.97      0.98       982\n",
      "           5       0.98      0.96      0.97       892\n",
      "           6       0.98      0.98      0.98       958\n",
      "           7       0.97      0.96      0.97      1028\n",
      "           8       0.96      0.96      0.96       974\n",
      "           9       0.96      0.95      0.95      1009\n",
      "\n",
      "    accuracy                           0.97     10000\n",
      "   macro avg       0.97      0.97      0.97     10000\n",
      "weighted avg       0.97      0.97      0.97     10000\n",
      "\n",
      "Confusion Report\n",
      "[[ 971    1    0    0    0    3    1    1    2    1]\n",
      " [   0 1123    2    4    0    1    2    0    2    1]\n",
      " [   5    0 1001    5    3    0    4    8    6    0]\n",
      " [   0    0   12  975    0    5    0    8    8    2]\n",
      " [   1    0    1    0  957    0    5    0    4   14]\n",
      " [   2    0    1   13    2  860    4    2    5    3]\n",
      " [   5    3    1    0    3    3  940    0    3    0]\n",
      " [   1    3   23    2    0    0    0  987    1   11]\n",
      " [   4    0    6    8    4    5    3    3  933    8]\n",
      " [   4    5    1   12   11    4    1    5    9  957]]\n"
     ]
    }
   ],
   "source": [
    "from sklearn.metrics import classification_report, confusion_matrix\n",
    "print (\"Classification Report\")\n",
    "print(classification_report(y_test, y_pred))\n",
    "print (\"Confusion Report\")\n",
    "print(confusion_matrix(y_test, y_pred))"
   ]
  },
  {
   "cell_type": "code",
   "execution_count": 47,
   "metadata": {},
   "outputs": [
    {
     "data": {
      "text/plain": [
       "Text(69.0, 0.5, 'Truth')"
      ]
     },
     "execution_count": 47,
     "metadata": {},
     "output_type": "execute_result"
    },
    {
     "data": {
      "image/png": "[encoded data removed]",
      "text/plain": [
       "<Figure size 720x504 with 2 Axes>"
      ]
     },
     "metadata": {
      "needs_background": "light"
     },
     "output_type": "display_data"
    }
   ],
   "source": [
    "clf2 = confusion_matrix(y_test , y_pred)\n",
    "import seaborn as sn\n",
    "plt.figure(figsize=(10,7))\n",
    "sn.heatmap(clf2,annot=True , fmt = 'd')\n",
    "plt.xlabel('Predicted')\n",
    "plt.ylabel('Truth')\n"
   ]
  },
  {
   "cell_type": "code",
   "execution_count": null,
   "metadata": {},
   "outputs": [],
   "source": []
  }
 ],
 "metadata": {
  "kernelspec": {
   "display_name": "wind-floris",
   "language": "python",
   "name": "wind-floris"
  },
  "language_info": {
   "codemirror_mode": {
    "name": "ipython",
    "version": 3
   },
   "file_extension": ".py",
   "mimetype": "text/x-python",
   "name": "python",
   "nbconvert_exporter": "python",
   "pygments_lexer": "ipython3",
   "version": "3.11.3"
  }
 },
 "nbformat": 4,
 "nbformat_minor": 2
}
