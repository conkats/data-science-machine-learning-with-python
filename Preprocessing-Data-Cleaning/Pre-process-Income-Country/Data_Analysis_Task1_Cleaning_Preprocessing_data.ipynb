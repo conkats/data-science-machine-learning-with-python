{
 "cells": [
  {
   "cell_type": "markdown",
   "metadata": {},
   "source": [
    "## Data Analysis- Data cleaning / Pre-processing\n",
    "\n",
    "Clean the country column and parse the date_measured column in the **store_income_data_task.csv** file."
   ]
  },
  {
   "cell_type": "code",
   "execution_count": 1,
   "metadata": {},
   "outputs": [],
   "source": [
    "import numpy as np\n",
    "import pandas as pd\n",
    "from datetime import datetime"
   ]
  },
  {
   "cell_type": "code",
   "execution_count": 2,
   "metadata": {},
   "outputs": [],
   "source": [
    "#Load up store store_income_date.csv\n",
    "store_income = pd.read_csv(\"store_income_data_example.csv\")"
   ]
  },
  {
   "cell_type": "code",
   "execution_count": 3,
   "metadata": {},
   "outputs": [
    {
     "data": {
      "text/html": [
       "<div>\n",
       "<style scoped>\n",
       "    .dataframe tbody tr th:only-of-type {\n",
       "        vertical-align: middle;\n",
       "    }\n",
       "\n",
       "    .dataframe tbody tr th {\n",
       "        vertical-align: top;\n",
       "    }\n",
       "\n",
       "    .dataframe thead th {\n",
       "        text-align: right;\n",
       "    }\n",
       "</style>\n",
       "<table border=\"1\" class=\"dataframe\">\n",
       "  <thead>\n",
       "    <tr style=\"text-align: right;\">\n",
       "      <th></th>\n",
       "      <th>id</th>\n",
       "      <th>store_name</th>\n",
       "      <th>store_email</th>\n",
       "      <th>department</th>\n",
       "      <th>income</th>\n",
       "      <th>date_measured</th>\n",
       "      <th>country</th>\n",
       "    </tr>\n",
       "  </thead>\n",
       "  <tbody>\n",
       "    <tr>\n",
       "      <th>0</th>\n",
       "      <td>1</td>\n",
       "      <td>Cullen/Frost Bankers, Inc.</td>\n",
       "      <td>NaN</td>\n",
       "      <td>Clothing</td>\n",
       "      <td>$54438554.24</td>\n",
       "      <td>14 July 2006</td>\n",
       "      <td>UK</td>\n",
       "    </tr>\n",
       "    <tr>\n",
       "      <th>1</th>\n",
       "      <td>2</td>\n",
       "      <td>Nordson Corporation</td>\n",
       "      <td>NaN</td>\n",
       "      <td>Tools</td>\n",
       "      <td>$41744177.01</td>\n",
       "      <td>3 December 2006</td>\n",
       "      <td>united states of america</td>\n",
       "    </tr>\n",
       "    <tr>\n",
       "      <th>2</th>\n",
       "      <td>3</td>\n",
       "      <td>Stag Industrial, Inc.</td>\n",
       "      <td>NaN</td>\n",
       "      <td>Beauty</td>\n",
       "      <td>$36152340.34</td>\n",
       "      <td>12 August 2003</td>\n",
       "      <td>UNITED STATES</td>\n",
       "    </tr>\n",
       "    <tr>\n",
       "      <th>3</th>\n",
       "      <td>4</td>\n",
       "      <td>FIRST REPUBLIC BANK</td>\n",
       "      <td>ecanadine3@fc2.com</td>\n",
       "      <td>Automotive</td>\n",
       "      <td>$8928350.04</td>\n",
       "      <td>26 October 2006</td>\n",
       "      <td>UK</td>\n",
       "    </tr>\n",
       "    <tr>\n",
       "      <th>4</th>\n",
       "      <td>5</td>\n",
       "      <td>Mercantile Bank Corporation</td>\n",
       "      <td>NaN</td>\n",
       "      <td>Baby</td>\n",
       "      <td>$33552742.32</td>\n",
       "      <td>24 December 1973</td>\n",
       "      <td>UK</td>\n",
       "    </tr>\n",
       "  </tbody>\n",
       "</table>\n",
       "</div>"
      ],
      "text/plain": [
       "   id                   store_name         store_email  department  \\\n",
       "0   1   Cullen/Frost Bankers, Inc.                 NaN    Clothing   \n",
       "1   2          Nordson Corporation                 NaN       Tools   \n",
       "2   3        Stag Industrial, Inc.                 NaN      Beauty   \n",
       "3   4          FIRST REPUBLIC BANK  ecanadine3@fc2.com  Automotive   \n",
       "4   5  Mercantile Bank Corporation                 NaN        Baby   \n",
       "\n",
       "         income     date_measured                   country  \n",
       "0  $54438554.24      14 July 2006                       UK   \n",
       "1  $41744177.01   3 December 2006  united states of america  \n",
       "2  $36152340.34    12 August 2003             UNITED STATES  \n",
       "3   $8928350.04   26 October 2006                       UK   \n",
       "4  $33552742.32  24 December 1973                       UK   "
      ]
     },
     "execution_count": 3,
     "metadata": {},
     "output_type": "execute_result"
    }
   ],
   "source": [
    "#check the data\n",
    "store_income.head(5)"
   ]
  },
  {
   "cell_type": "code",
   "execution_count": 4,
   "metadata": {},
   "outputs": [
    {
     "data": {
      "text/plain": [
       "(1000, 7)"
      ]
     },
     "execution_count": 4,
     "metadata": {},
     "output_type": "execute_result"
    }
   ],
   "source": [
    "store_income.shape"
   ]
  },
  {
   "cell_type": "code",
   "execution_count": 5,
   "metadata": {},
   "outputs": [
    {
     "data": {
      "text/plain": [
       "Index(['id', 'store_name', 'store_email', 'department', 'income',\n",
       "       'date_measured', 'country'],\n",
       "      dtype='object')"
      ]
     },
     "execution_count": 5,
     "metadata": {},
     "output_type": "execute_result"
    }
   ],
   "source": [
    "store_income.columns"
   ]
  },
  {
   "cell_type": "code",
   "execution_count": 6,
   "metadata": {},
   "outputs": [
    {
     "name": "stdout",
     "output_type": "stream",
     "text": [
      "<class 'pandas.core.frame.DataFrame'>\n",
      "RangeIndex: 1000 entries, 0 to 999\n",
      "Data columns (total 7 columns):\n",
      " #   Column         Non-Null Count  Dtype \n",
      "---  ------         --------------  ----- \n",
      " 0   id             1000 non-null   int64 \n",
      " 1   store_name     1000 non-null   object\n",
      " 2   store_email    413 non-null    object\n",
      " 3   department     973 non-null    object\n",
      " 4   income         1000 non-null   object\n",
      " 5   date_measured  1000 non-null   object\n",
      " 6   country        1000 non-null   object\n",
      "dtypes: int64(1), object(6)\n",
      "memory usage: 54.8+ KB\n"
     ]
    }
   ],
   "source": [
    "store_income.info()"
   ]
  },
  {
   "cell_type": "markdown",
   "metadata": {},
   "source": [
    "1. Take a look at all the unique values in the \"country\" column. Then, convert the column to lowercase and remove any trailing white spaces."
   ]
  },
  {
   "cell_type": "code",
   "execution_count": 7,
   "metadata": {},
   "outputs": [
    {
     "name": "stdout",
     "output_type": "stream",
     "text": [
      "There are 34 unique countries\n"
     ]
    },
    {
     "data": {
      "text/plain": [
       "array(['UK ', 'united states of america', 'UNITED STATES', 'uk',\n",
       "       ' United States of America', 'South Africa ', 'United States.',\n",
       "       'United States', 'South Africa/', 'United States ',\n",
       "       'United States of America', 'South Africa.', 'United Kingdom ',\n",
       "       'United States of America ', 'United States of America/',\n",
       "       'south africa', 'UK/', 'United Kingdom.', ' United Kingdom',\n",
       "       ' South Africa', 'United Kingdom/', 'SOUTH AFRICA', ' UK',\n",
       "       'united kingdom', 'UNITED KINGDOM', ' United States',\n",
       "       'UNITED STATES OF AMERICA', 'South Africa', 'United States/',\n",
       "       'united states', 'United States of America.', 'UK',\n",
       "       'United Kingdom', 'UK.'], dtype=object)"
      ]
     },
     "execution_count": 7,
     "metadata": {},
     "output_type": "execute_result"
    }
   ],
   "source": [
    "#look at the unique values in the \"country\" col\n",
    "countries = store_income['country'].unique()\n",
    "print(f\"There are {len(countries)} unique countries\")\n",
    "countries"
   ]
  },
  {
   "cell_type": "code",
   "execution_count": 8,
   "metadata": {},
   "outputs": [
    {
     "name": "stdout",
     "output_type": "stream",
     "text": [
      "There are 15 unique countries\n"
     ]
    },
    {
     "data": {
      "text/plain": [
       "array(['uk', 'united states of america', 'united states', 'south africa',\n",
       "       'united states.', 'south africa/', 'south africa.',\n",
       "       'united kingdom', 'united states of america/', 'uk/',\n",
       "       'united kingdom.', 'united kingdom/', 'united states/',\n",
       "       'united states of america.', 'uk.'], dtype=object)"
      ]
     },
     "execution_count": 8,
     "metadata": {},
     "output_type": "execute_result"
    }
   ],
   "source": [
    "#convecrt to lowercase and remove trailing white spaces\n",
    "store_income['country'] = store_income['country'].str.lower()\n",
    "store_income['country'] = store_income['country'].str.strip()\n",
    "\n",
    "# Let us view the data\n",
    "country = store_income['country'].unique()\n",
    "print(f\"There are {len(country)} unique countries\")\n",
    "country"
   ]
  },
  {
   "cell_type": "code",
   "execution_count": 9,
   "metadata": {},
   "outputs": [
    {
     "name": "stderr",
     "output_type": "stream",
     "text": [
      "/tmp/ipykernel_3496/1026784093.py:2: FutureWarning: The default value of regex will change from True to False in a future version. In addition, single character regular expressions will *not* be treated as literal strings when regex=True.\n",
      "  store_income['country'] = store_income['country'].str.replace(\".\",\"\")\n"
     ]
    }
   ],
   "source": [
    "#clean up the country column so there are three distinct countries\n",
    "store_income['country'] = store_income['country'].str.replace(\".\",\"\")"
   ]
  },
  {
   "cell_type": "code",
   "execution_count": 10,
   "metadata": {},
   "outputs": [
    {
     "data": {
      "text/plain": [
       "array(['uk', 'united states of america', 'united states', 'south africa',\n",
       "       'south africa/', 'united kingdom', 'united states of america/',\n",
       "       'uk/', 'united kingdom/', 'united states/'], dtype=object)"
      ]
     },
     "execution_count": 10,
     "metadata": {},
     "output_type": "execute_result"
    }
   ],
   "source": [
    "#view if removed \".\"\n",
    "store_income['country'].unique()"
   ]
  },
  {
   "cell_type": "code",
   "execution_count": 11,
   "metadata": {},
   "outputs": [
    {
     "data": {
      "text/plain": [
       "array(['uk', 'united states of america', 'united states', 'south africa',\n",
       "       'united kingdom'], dtype=object)"
      ]
     },
     "execution_count": 11,
     "metadata": {},
     "output_type": "execute_result"
    }
   ],
   "source": [
    "store_income['country'] = store_income['country'].str.replace(\"/\", \"\")\n",
    "store_income['country'].unique()"
   ]
  },
  {
   "cell_type": "markdown",
   "metadata": {},
   "source": [
    "2. Note that there should only be three separate countries. Eliminate all variations, so that 'South Africa', 'United Kingdom' and 'United States' are the only three countries."
   ]
  },
  {
   "cell_type": "code",
   "execution_count": 12,
   "metadata": {},
   "outputs": [
    {
     "data": {
      "text/plain": [
       "[('uk', 100),\n",
       " ('uk/', 100),\n",
       " ('uk.', 100),\n",
       " ('south africa', 14),\n",
       " ('south africa/', 14),\n",
       " ('south africa.', 14),\n",
       " ('united states', 13),\n",
       " ('united states.', 13),\n",
       " ('united states/', 13),\n",
       " ('united kingdom', 12)]"
      ]
     },
     "execution_count": 12,
     "metadata": {},
     "output_type": "execute_result"
    }
   ],
   "source": [
    "# helpful libraries\n",
    "import fuzzywuzzy\n",
    "from fuzzywuzzy import process\n",
    "import chardet\n",
    "\n",
    "# set seed for reproducibility\n",
    "np.random.seed(0)\n",
    "\n",
    "# get the top 10 closest matches to \"united kingdom\"\n",
    "matches_uk = fuzzywuzzy.process.extract(\"uk\", country, limit=10, scorer=fuzzywuzzy.fuzz.token_sort_ratio)\n",
    "\n",
    "# take a look at them\n",
    "matches_uk"
   ]
  },
  {
   "cell_type": "code",
   "execution_count": 13,
   "metadata": {},
   "outputs": [],
   "source": [
    "# function to replace rows in the provided column of the provided dataframe\n",
    "# that match the provided string above the provided ratio with the provided string\n",
    "def replace_matches_in_col(df, column, string_to_match, min_ratio = 90):\n",
    "    # get a list of unique strings\n",
    "    strings = df[column].unique()\n",
    "    \n",
    "    # get the top 10 closest matches to our input string\n",
    "    matches = fuzzywuzzy.process.extract(string_to_match,\n",
    "                                         strings,\n",
    "                                         limit=10, scorer=fuzzywuzzy.fuzz.token_sort_ratio)\n",
    "    # only get matches with a ratio >90\n",
    "    close_matches = [matches[0] for matches in matches if matches[1] >=min_ratio]\n",
    "\n",
    "    # get the rows of all the close matches in our dataframe\n",
    "    rows_with_matches = df[column].isin(close_matches)\n",
    "\n",
    "    # replace all rows with close matches with the input matches\n",
    "    df.loc[rows_with_matches, column] = string_to_match\n",
    "\n",
    "    # let us know the function is done\n",
    "    print(\"All done\")"
   ]
  },
  {
   "cell_type": "code",
   "execution_count": 14,
   "metadata": {},
   "outputs": [
    {
     "name": "stdout",
     "output_type": "stream",
     "text": [
      "All done\n",
      "All done\n",
      "All done\n",
      "All done\n",
      "All done\n"
     ]
    }
   ],
   "source": [
    "replace_matches_in_col(df=store_income, column='country', string_to_match=\"united kingdom\")\n",
    "replace_matches_in_col(df=store_income, column='country', string_to_match=\"united states\")\n",
    "replace_matches_in_col(df=store_income, column='country', string_to_match=\"united states of america\")\n",
    "replace_matches_in_col(df=store_income, column='country', string_to_match=\"south africa\")\n",
    "replace_matches_in_col(df=store_income, column='country', string_to_match=\"uk\")"
   ]
  },
  {
   "cell_type": "code",
   "execution_count": 15,
   "metadata": {},
   "outputs": [
    {
     "name": "stdout",
     "output_type": "stream",
     "text": [
      "There are 5 unique countries\n"
     ]
    },
    {
     "data": {
      "text/plain": [
       "array(['uk', 'united states of america', 'united states', 'south africa',\n",
       "       'united kingdom'], dtype=object)"
      ]
     },
     "execution_count": 15,
     "metadata": {},
     "output_type": "execute_result"
    }
   ],
   "source": [
    "# get all the unique values in the 'country' column\n",
    "countries = store_income['country'].unique()\n",
    "\n",
    "print(f\"There are {len(countries)} unique countries\")\n",
    "countries\n"
   ]
  },
  {
   "cell_type": "code",
   "execution_count": 16,
   "metadata": {},
   "outputs": [
    {
     "name": "stdout",
     "output_type": "stream",
     "text": [
      "There are 3 unique countries\n"
     ]
    },
    {
     "data": {
      "text/plain": [
       "array(['United_Kingdom', 'United_States', 'south africa'], dtype=object)"
      ]
     },
     "execution_count": 16,
     "metadata": {},
     "output_type": "execute_result"
    }
   ],
   "source": [
    "store_income.replace('uk', 'United_Kingdom', inplace=True)\n",
    "store_income.replace('england', 'United_Kingdom', inplace=True)\n",
    "store_income.replace('britain', 'United_Kingdom', inplace=True)\n",
    "store_income.replace('united kingdom', 'United_Kingdom', inplace=True)\n",
    "store_income.replace('sa', 'South_Africa', inplace=True)\n",
    "store_income.replace('s africasouth africa', 'South_Africa', inplace=True)\n",
    "store_income.replace('united states of america', 'United_States', inplace=True)\n",
    "store_income.replace('united states', 'United_States', inplace=True)\n",
    "store_income.replace('america', 'United_States', inplace=True)\n",
    "\n",
    "# get all the unique values in the 'country' column\n",
    "countries = store_income['country'].unique()\n",
    "\n",
    "print(f\"There are {len(countries)} unique countries\")\n",
    "countries"
   ]
  },
  {
   "cell_type": "code",
   "execution_count": 17,
   "metadata": {},
   "outputs": [
    {
     "data": {
      "text/plain": [
       "array(['United_Kingdom', 'United_States', 'south africa'], dtype=object)"
      ]
     },
     "execution_count": 17,
     "metadata": {},
     "output_type": "execute_result"
    }
   ],
   "source": [
    "#Fill empty values with NaN and then\n",
    "store_income.replace('', np.nan, inplace=True)\n",
    "store_income.replace('nan', np.nan, inplace=True)\n",
    "\n",
    "store_income[\"country\"].unique()\n",
    "#There are only 3 contries as shown and the empty values\n",
    "#if needed we can drop the empty NaN values using the following:\n",
    "#store_income.dropna(subset = [\"country\"],inplace=True) without inplace=True will drop the whole row of the missing values\n",
    "\n"
   ]
  },
  {
   "cell_type": "code",
   "execution_count": 18,
   "metadata": {},
   "outputs": [
    {
     "data": {
      "text/html": [
       "<div>\n",
       "<style scoped>\n",
       "    .dataframe tbody tr th:only-of-type {\n",
       "        vertical-align: middle;\n",
       "    }\n",
       "\n",
       "    .dataframe tbody tr th {\n",
       "        vertical-align: top;\n",
       "    }\n",
       "\n",
       "    .dataframe thead th {\n",
       "        text-align: right;\n",
       "    }\n",
       "</style>\n",
       "<table border=\"1\" class=\"dataframe\">\n",
       "  <thead>\n",
       "    <tr style=\"text-align: right;\">\n",
       "      <th></th>\n",
       "      <th>id</th>\n",
       "      <th>store_name</th>\n",
       "      <th>store_email</th>\n",
       "      <th>department</th>\n",
       "      <th>income</th>\n",
       "      <th>date_measured</th>\n",
       "      <th>country</th>\n",
       "    </tr>\n",
       "  </thead>\n",
       "  <tbody>\n",
       "    <tr>\n",
       "      <th>0</th>\n",
       "      <td>1</td>\n",
       "      <td>Cullen/Frost Bankers, Inc.</td>\n",
       "      <td>NaN</td>\n",
       "      <td>Clothing</td>\n",
       "      <td>$54438554.24</td>\n",
       "      <td>14 July 2006</td>\n",
       "      <td>United_Kingdom</td>\n",
       "    </tr>\n",
       "    <tr>\n",
       "      <th>1</th>\n",
       "      <td>2</td>\n",
       "      <td>Nordson Corporation</td>\n",
       "      <td>NaN</td>\n",
       "      <td>Tools</td>\n",
       "      <td>$41744177.01</td>\n",
       "      <td>3 December 2006</td>\n",
       "      <td>United_States</td>\n",
       "    </tr>\n",
       "    <tr>\n",
       "      <th>2</th>\n",
       "      <td>3</td>\n",
       "      <td>Stag Industrial, Inc.</td>\n",
       "      <td>NaN</td>\n",
       "      <td>Beauty</td>\n",
       "      <td>$36152340.34</td>\n",
       "      <td>12 August 2003</td>\n",
       "      <td>United_States</td>\n",
       "    </tr>\n",
       "    <tr>\n",
       "      <th>3</th>\n",
       "      <td>4</td>\n",
       "      <td>FIRST REPUBLIC BANK</td>\n",
       "      <td>ecanadine3@fc2.com</td>\n",
       "      <td>Automotive</td>\n",
       "      <td>$8928350.04</td>\n",
       "      <td>26 October 2006</td>\n",
       "      <td>United_Kingdom</td>\n",
       "    </tr>\n",
       "    <tr>\n",
       "      <th>4</th>\n",
       "      <td>5</td>\n",
       "      <td>Mercantile Bank Corporation</td>\n",
       "      <td>NaN</td>\n",
       "      <td>Baby</td>\n",
       "      <td>$33552742.32</td>\n",
       "      <td>24 December 1973</td>\n",
       "      <td>United_Kingdom</td>\n",
       "    </tr>\n",
       "  </tbody>\n",
       "</table>\n",
       "</div>"
      ],
      "text/plain": [
       "   id                   store_name         store_email  department  \\\n",
       "0   1   Cullen/Frost Bankers, Inc.                 NaN    Clothing   \n",
       "1   2          Nordson Corporation                 NaN       Tools   \n",
       "2   3        Stag Industrial, Inc.                 NaN      Beauty   \n",
       "3   4          FIRST REPUBLIC BANK  ecanadine3@fc2.com  Automotive   \n",
       "4   5  Mercantile Bank Corporation                 NaN        Baby   \n",
       "\n",
       "         income     date_measured         country  \n",
       "0  $54438554.24      14 July 2006  United_Kingdom  \n",
       "1  $41744177.01   3 December 2006   United_States  \n",
       "2  $36152340.34    12 August 2003   United_States  \n",
       "3   $8928350.04   26 October 2006  United_Kingdom  \n",
       "4  $33552742.32  24 December 1973  United_Kingdom  "
      ]
     },
     "execution_count": 18,
     "metadata": {},
     "output_type": "execute_result"
    }
   ],
   "source": [
    "store_income.head(5)"
   ]
  },
  {
   "cell_type": "markdown",
   "metadata": {},
   "source": [
    "3. Create a new column called `days_ago` in the DataFrame that is a copy of the 'date_measured' column, but instead it is a number that shows how many days ago it was measured from the current date. Note that the current date can be obtained using `datetime.date.today()`."
   ]
  },
  {
   "cell_type": "code",
   "execution_count": 28,
   "metadata": {},
   "outputs": [],
   "source": [
    "# Convert 'date_measured' column to datetime objects \n",
    "# Copy the \"date_measured column\" and name it \"days_ago\"\n",
    "\n",
    "# module we 'll use\n",
    "from datetime import date\n",
    "store_income['days_ago'] = pd.to_datetime(store_income['date_measured'], infer_datetime_format=True)\n",
    "\n",
    "store_income['date_measured'] = pd.to_datetime(store_income['date_measured'], format='%d %B %Y')\n"
   ]
  },
  {
   "cell_type": "code",
   "execution_count": 31,
   "metadata": {},
   "outputs": [
    {
     "data": {
      "text/plain": [
       "dtype('<M8[ns]')"
      ]
     },
     "execution_count": 31,
     "metadata": {},
     "output_type": "execute_result"
    }
   ],
   "source": [
    "#store_income['days_ago'].head(5)\n",
    "store_income[\"days_ago\"].dtype\n",
    "# '<M8[ns]'type is the same as 'datetime64[ns]'"
   ]
  },
  {
   "cell_type": "code",
   "execution_count": 53,
   "metadata": {},
   "outputs": [
    {
     "name": "stdout",
     "output_type": "stream",
     "text": [
      "0      -6547 days\n",
      "1      -6405 days\n",
      "2      -7614 days\n",
      "3      -6443 days\n",
      "4     -18437 days\n",
      "          ...    \n",
      "995    -6831 days\n",
      "996   -12347 days\n",
      "997    -5488 days\n",
      "998    -4755 days\n",
      "999    -4700 days\n",
      "Length: 1000, dtype: timedelta64[ns]\n"
     ]
    }
   ],
   "source": [
    "# Calculate the number of days ago for each date\n",
    "import datetime\n",
    "from datetime import datetime, date\n",
    "\n",
    "#Create a function to convert datetime onject:\n",
    "#def convert_to_datetime(date):\n",
    "#    #for date in date_int:\n",
    "#    date = str(date)\n",
    "#    #if date != \"%Y-%m-%d\":\n",
    "#    return datetime.strptime(date, '%d-%m-%Y')\n",
    " \n",
    "# Convert the specific date string to a datetime object\n",
    "#store_income['days_ago'] = convert_to_datetime(store_income['days_ago'])\n",
    "\n",
    "#Convert everything to pandas type \n",
    "# and extract the times for the comparison\n",
    "#Ensure that dtypes of the columns are something\n",
    "# like datetime64[ns] and timedelta64[ns]. \n",
    "# For that, try converting them explicitly using \n",
    "# pd.to_datetime and pd.to_timedelta.\n",
    "#Find the current day\n",
    "current_day = pd.to_datetime(date.today())\n",
    "#store it in the col \n",
    "store_income[\"days_ago\"] = current_day\n",
    "#Calculate the number of days passed from the current day\n",
    "print(store_income[\"date_measured\"]-store_income[\"days_ago\"])\n"
   ]
  },
  {
   "cell_type": "markdown",
   "metadata": {},
   "source": []
  },
  {
   "cell_type": "code",
   "execution_count": null,
   "metadata": {},
   "outputs": [],
   "source": []
  }
 ],
 "metadata": {
  "kernelspec": {
   "display_name": "wind-floris",
   "language": "python",
   "name": "wind-floris"
  },
  "language_info": {
   "codemirror_mode": {
    "name": "ipython",
    "version": 3
   },
   "file_extension": ".py",
   "mimetype": "text/x-python",
   "name": "python",
   "nbconvert_exporter": "python",
   "pygments_lexer": "ipython3",
   "version": "3.11.3"
  }
 },
 "nbformat": 4,
 "nbformat_minor": 2
}
