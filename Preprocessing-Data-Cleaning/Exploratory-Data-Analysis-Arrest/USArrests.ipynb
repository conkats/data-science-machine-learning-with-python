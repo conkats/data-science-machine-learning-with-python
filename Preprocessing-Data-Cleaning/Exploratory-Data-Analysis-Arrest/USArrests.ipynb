{
 "cells": [
  {
   "cell_type": "markdown",
   "metadata": {},
   "source": [
    "# Data Analysis -  Capstone Project for US arrests dataset"
   ]
  },
  {
   "cell_type": "markdown",
   "metadata": {},
   "source": [
    "### Get some stats of the data and if needed clean it"
   ]
  },
  {
   "cell_type": "code",
   "execution_count": 119,
   "metadata": {},
   "outputs": [],
   "source": [
    "import pandas as pd\n",
    "import numpy as np\n",
    "from scipy import stats \n",
    "import seaborn as sns\n",
    "import matplotlib.pyplot as plt\n",
    "%matplotlib inline\n",
    "from wordcloud import WordCloud"
   ]
  },
  {
   "cell_type": "code",
   "execution_count": 8,
   "metadata": {},
   "outputs": [],
   "source": [
    "# Load up the diabetes dataset.csv\n",
    "arrests_df = pd.read_csv("UsArrests.csv")"
   ]
  },
  {
   "cell_type": "code",
   "execution_count": 9,
   "metadata": {},
   "outputs": [
    {
     "data": {
      "text/html": [
       "<div>\n",
       "<style scoped>\n",
       "    .dataframe tbody tr th:only-of-type {\n",
       "        vertical-align: middle;\n",
       "    }\n",
       "\n",
       "    .dataframe tbody tr th {\n",
       "        vertical-align: top;\n",
       "    }\n",
       "\n",
       "    .dataframe thead th {\n",
       "        text-align: right;\n",
       "    }\n",
       "</style>\n",
       "<table border=\"1\" class=\"dataframe\">\n",
       "  <thead>\n",
       "    <tr style=\"text-align: right;\">\n",
       "      <th></th>\n",
       "      <th>City</th>\n",
       "      <th>Murder</th>\n",
       "      <th>Assault</th>\n",
       "      <th>UrbanPop</th>\n",
       "      <th>Rape</th>\n",
       "    </tr>\n",
       "  </thead>\n",
       "  <tbody>\n",
       "    <tr>\n",
       "      <th>0</th>\n",
       "      <td>Alabama</td>\n",
       "      <td>13.2</td>\n",
       "      <td>236</td>\n",
       "      <td>58</td>\n",
       "      <td>21.2</td>\n",
       "    </tr>\n",
       "    <tr>\n",
       "      <th>1</th>\n",
       "      <td>Alaska</td>\n",
       "      <td>10.0</td>\n",
       "      <td>263</td>\n",
       "      <td>48</td>\n",
       "      <td>44.5</td>\n",
       "    </tr>\n",
       "    <tr>\n",
       "      <th>2</th>\n",
       "      <td>Arizona</td>\n",
       "      <td>8.1</td>\n",
       "      <td>294</td>\n",
       "      <td>80</td>\n",
       "      <td>31.0</td>\n",
       "    </tr>\n",
       "    <tr>\n",
       "      <th>3</th>\n",
       "      <td>Arkansas</td>\n",
       "      <td>8.8</td>\n",
       "      <td>190</td>\n",
       "      <td>50</td>\n",
       "      <td>19.5</td>\n",
       "    </tr>\n",
       "    <tr>\n",
       "      <th>4</th>\n",
       "      <td>California</td>\n",
       "      <td>9.0</td>\n",
       "      <td>276</td>\n",
       "      <td>91</td>\n",
       "      <td>40.6</td>\n",
       "    </tr>\n",
       "  </tbody>\n",
       "</table>\n",
       "</div>"
      ],
      "text/plain": [
       "         City  Murder  Assault  UrbanPop  Rape\n",
       "0     Alabama    13.2      236        58  21.2\n",
       "1      Alaska    10.0      263        48  44.5\n",
       "2     Arizona     8.1      294        80  31.0\n",
       "3    Arkansas     8.8      190        50  19.5\n",
       "4  California     9.0      276        91  40.6"
      ]
     },
     "execution_count": 9,
     "metadata": {},
     "output_type": "execute_result"
    }
   ],
   "source": [
    "arrests_df.head()"
   ]
  },
  {
   "cell_type": "code",
   "execution_count": 10,
   "metadata": {},
   "outputs": [
    {
     "name": "stdout",
     "output_type": "stream",
     "text": [
      "<class 'pandas.core.frame.DataFrame'>\n",
      "RangeIndex: 50 entries, 0 to 49\n",
      "Data columns (total 5 columns):\n",
      " #   Column    Non-Null Count  Dtype  \n",
      "---  ------    --------------  -----  \n",
      " 0   City      50 non-null     object \n",
      " 1   Murder    50 non-null     float64\n",
      " 2   Assault   50 non-null     int64  \n",
      " 3   UrbanPop  50 non-null     int64  \n",
      " 4   Rape      50 non-null     float64\n",
      "dtypes: float64(2), int64(2), object(1)\n",
      "memory usage: 2.1+ KB\n"
     ]
    }
   ],
   "source": [
    "arrests_df.info()"
   ]
  },
  {
   "cell_type": "code",
   "execution_count": 12,
   "metadata": {},
   "outputs": [
    {
     "data": {
      "text/plain": [
       "<bound method NDFrame.describe of               City  Murder  Assault  UrbanPop  Rape\n",
       "0          Alabama    13.2      236        58  21.2\n",
       "1           Alaska    10.0      263        48  44.5\n",
       "2          Arizona     8.1      294        80  31.0\n",
       "3         Arkansas     8.8      190        50  19.5\n",
       "4       California     9.0      276        91  40.6\n",
       "5         Colorado     7.9      204        78  38.7\n",
       "6      Connecticut     3.3      110        77  11.1\n",
       "7         Delaware     5.9      238        72  15.8\n",
       "8          Florida    15.4      335        80  31.9\n",
       "9          Georgia    17.4      211        60  25.8\n",
       "10          Hawaii     5.3       46        83  20.2\n",
       "11           Idaho     2.6      120        54  14.2\n",
       "12        Illinois    10.4      249        83  24.0\n",
       "13         Indiana     7.2      113        65  21.0\n",
       "14            Iowa     2.2       56        57  11.3\n",
       "15          Kansas     6.0      115        66  18.0\n",
       "16        Kentucky     9.7      109        52  16.3\n",
       "17       Louisiana    15.4      249        66  22.2\n",
       "18           Maine     2.1       83        51   7.8\n",
       "19        Maryland    11.3      300        67  27.8\n",
       "20   Massachusetts     4.4      149        85  16.3\n",
       "21        Michigan    12.1      255        74  35.1\n",
       "22       Minnesota     2.7       72        66  14.9\n",
       "23     Mississippi    16.1      259        44  17.1\n",
       "24        Missouri     9.0      178        70  28.2\n",
       "25         Montana     6.0      109        53  16.4\n",
       "26        Nebraska     4.3      102        62  16.5\n",
       "27          Nevada    12.2      252        81  46.0\n",
       "28   New Hampshire     2.1       57        56   9.5\n",
       "29      New Jersey     7.4      159        89  18.8\n",
       "30      New Mexico    11.4      285        70  32.1\n",
       "31        New York    11.1      254        86  26.1\n",
       "32  North Carolina    13.0      337        45  16.1\n",
       "33    North Dakota     0.8       45        44   7.3\n",
       "34            Ohio     7.3      120        75  21.4\n",
       "35        Oklahoma     6.6      151        68  20.0\n",
       "36          Oregon     4.9      159        67  29.3\n",
       "37    Pennsylvania     6.3      106        72  14.9\n",
       "38    Rhode Island     3.4      174        87   8.3\n",
       "39  South Carolina    14.4      279        48  22.5\n",
       "40    South Dakota     3.8       86        45  12.8\n",
       "41       Tennessee    13.2      188        59  26.9\n",
       "42           Texas    12.7      201        80  25.5\n",
       "43            Utah     3.2      120        80  22.9\n",
       "44         Vermont     2.2       48        32  11.2\n",
       "45        Virginia     8.5      156        63  20.7\n",
       "46      Washington     4.0      145        73  26.2\n",
       "47   West Virginia     5.7       81        39   9.3\n",
       "48       Wisconsin     2.6       53        66  10.8\n",
       "49         Wyoming     6.8      161        60  15.6>"
      ]
     },
     "execution_count": 12,
     "metadata": {},
     "output_type": "execute_result"
    }
   ],
   "source": [
    "arrests_df.describe"
   ]
  },
  {
   "cell_type": "code",
   "execution_count": 23,
   "metadata": {},
   "outputs": [
    {
     "name": "stdout",
     "output_type": "stream",
     "text": [
      "The number of cols in the df are: Index(['City', 'Murder', 'Assault', 'UrbanPop', 'Rape'], dtype='object') and the dimensions of the df are (50, 5)\n"
     ]
    }
   ],
   "source": [
    "print(f\"The number of cols in the df are: {arrests_df.columns} \\\n",
    "and the dimensions of the df are {arrests_df.shape}\")"
   ]
  },
  {
   "cell_type": "markdown",
   "metadata": {},
   "source": [
    "### Let's take a look at all the unique values in the City column. Then, convert the column to lowercase and remove any trailing white space"
   ]
  },
  {
   "cell_type": "code",
   "execution_count": 25,
   "metadata": {},
   "outputs": [
    {
     "data": {
      "text/plain": [
       "array(['Alabama', 'Alaska', 'Arizona', 'Arkansas', 'California',\n",
       "       'Colorado', 'Connecticut', 'Delaware', 'Florida', 'Georgia',\n",
       "       'Hawaii', 'Idaho', 'Illinois', 'Indiana', 'Iowa', 'Kansas',\n",
       "       'Kentucky', 'Louisiana', 'Maine', 'Maryland', 'Massachusetts',\n",
       "       'Michigan', 'Minnesota', 'Mississippi', 'Missouri', 'Montana',\n",
       "       'Nebraska', 'Nevada', 'New Hampshire', 'New Jersey', 'New Mexico',\n",
       "       'New York', 'North Carolina', 'North Dakota', 'Ohio', 'Oklahoma',\n",
       "       'Oregon', 'Pennsylvania', 'Rhode Island', 'South Carolina',\n",
       "       'South Dakota', 'Tennessee', 'Texas', 'Utah', 'Vermont',\n",
       "       'Virginia', 'Washington', 'West Virginia', 'Wisconsin', 'Wyoming'],\n",
       "      dtype=object)"
      ]
     },
     "execution_count": 25,
     "metadata": {},
     "output_type": "execute_result"
    }
   ],
   "source": [
    "city = arrests_df['City'].unique()\n",
    "city"
   ]
  },
  {
   "cell_type": "code",
   "execution_count": 27,
   "metadata": {},
   "outputs": [
    {
     "data": {
      "text/plain": [
       "0            alabama\n",
       "1             alaska\n",
       "2            arizona\n",
       "3           arkansas\n",
       "4         california\n",
       "5           colorado\n",
       "6        connecticut\n",
       "7           delaware\n",
       "8            florida\n",
       "9            georgia\n",
       "10            hawaii\n",
       "11             idaho\n",
       "12          illinois\n",
       "13           indiana\n",
       "14              iowa\n",
       "15            kansas\n",
       "16          kentucky\n",
       "17         louisiana\n",
       "18             maine\n",
       "19          maryland\n",
       "20     massachusetts\n",
       "21          michigan\n",
       "22         minnesota\n",
       "23       mississippi\n",
       "24          missouri\n",
       "25           montana\n",
       "26          nebraska\n",
       "27            nevada\n",
       "28     new hampshire\n",
       "29        new jersey\n",
       "30        new mexico\n",
       "31          new york\n",
       "32    north carolina\n",
       "33      north dakota\n",
       "34              ohio\n",
       "35          oklahoma\n",
       "36            oregon\n",
       "37      pennsylvania\n",
       "38      rhode island\n",
       "39    south carolina\n",
       "40      south dakota\n",
       "41         tennessee\n",
       "42             texas\n",
       "43              utah\n",
       "44           vermont\n",
       "45          virginia\n",
       "46        washington\n",
       "47     west virginia\n",
       "48         wisconsin\n",
       "49           wyoming\n",
       "Name: City, dtype: object"
      ]
     },
     "execution_count": 27,
     "metadata": {},
     "output_type": "execute_result"
    }
   ],
   "source": [
    "arrests_df['City'] = arrests_df['City'].str.lower()\n",
    "arrests_df['City'] = arrests_df['City'].str.strip()\n",
    "arrests_df['City']"
   ]
  },
  {
   "cell_type": "markdown",
   "metadata": {},
   "source": [
    "#### Let's check if there are any NULL or NaN values in the dataset"
   ]
  },
  {
   "cell_type": "code",
   "execution_count": 31,
   "metadata": {},
   "outputs": [
    {
     "data": {
      "text/plain": [
       "City        0\n",
       "Murder      0\n",
       "Assault     0\n",
       "UrbanPop    0\n",
       "Rape        0\n",
       "dtype: int64"
      ]
     },
     "execution_count": 31,
     "metadata": {},
     "output_type": "execute_result"
    }
   ],
   "source": [
    "arrests_df.isna().sum()"
   ]
  },
  {
   "cell_type": "code",
   "execution_count": 36,
   "metadata": {},
   "outputs": [
    {
     "data": {
      "text/plain": [
       "City        0\n",
       "Murder      0\n",
       "Assault     0\n",
       "UrbanPop    0\n",
       "Rape        0\n",
       "dtype: int64"
      ]
     },
     "execution_count": 36,
     "metadata": {},
     "output_type": "execute_result"
    }
   ],
   "source": [
    "missing_values_cnt = arrests_df.isnull().sum()\n",
    "\n",
    "missing_values_cnt"
   ]
  },
  {
   "cell_type": "markdown",
   "metadata": {},
   "source": [
    "As seen, there are no missing values or NaN data so we were lucky and escaped the cleaning of the dataset but refer to T32 for imputations method in a such scenarios"
   ]
  },
  {
   "cell_type": "code",
   "execution_count": 40,
   "metadata": {},
   "outputs": [],
   "source": [
    "# if needed cleaning, we could have use option 1. i.e. dropped the column i.e.\n",
    "# arrests_df = arrests_df.drop(columns=[\"Assault\"], axis =1)\n",
    "# arrests_df.isna().sum()"
   ]
  },
  {
   "cell_type": "code",
   "execution_count": null,
   "metadata": {},
   "outputs": [],
   "source": [
    "# Option 2 -Imputation\n",
    "# Filling in missing values automatically using Panda's fillna() function\n",
    "# temp_df = arrests_df.fillna(0)"
   ]
  },
  {
   "cell_type": "code",
   "execution_count": 34,
   "metadata": {},
   "outputs": [
    {
     "data": {
      "text/plain": [
       "0     False\n",
       "1     False\n",
       "2     False\n",
       "3     False\n",
       "4     False\n",
       "5     False\n",
       "6     False\n",
       "7     False\n",
       "8     False\n",
       "9     False\n",
       "10    False\n",
       "11    False\n",
       "12    False\n",
       "13    False\n",
       "14    False\n",
       "15    False\n",
       "16    False\n",
       "17    False\n",
       "18    False\n",
       "19    False\n",
       "20    False\n",
       "21    False\n",
       "22    False\n",
       "23    False\n",
       "24    False\n",
       "25    False\n",
       "26    False\n",
       "27    False\n",
       "28    False\n",
       "29    False\n",
       "30    False\n",
       "31    False\n",
       "32    False\n",
       "33    False\n",
       "34    False\n",
       "35    False\n",
       "36    False\n",
       "37    False\n",
       "38    False\n",
       "39    False\n",
       "40    False\n",
       "41    False\n",
       "42    False\n",
       "43    False\n",
       "44    False\n",
       "45    False\n",
       "46    False\n",
       "47    False\n",
       "48    False\n",
       "49    False\n",
       "dtype: bool"
      ]
     },
     "execution_count": 34,
     "metadata": {},
     "output_type": "execute_result"
    }
   ],
   "source": [
    "#let's check for duplicates in the dataset\n",
    "arrests_df.duplicated()"
   ]
  },
  {
   "cell_type": "markdown",
   "metadata": {},
   "source": [
    "No duplicates entries were found in the dataset"
   ]
  },
  {
   "cell_type": "markdown",
   "metadata": {},
   "source": [
    "### EDA starts"
   ]
  },
  {
   "cell_type": "markdown",
   "metadata": {},
   "source": [
    "Sort the values of the crimes by city in ascending order"
   ]
  },
  {
   "cell_type": "code",
   "execution_count": 39,
   "metadata": {},
   "outputs": [
    {
     "data": {
      "text/html": [
       "<div>\n",
       "<style scoped>\n",
       "    .dataframe tbody tr th:only-of-type {\n",
       "        vertical-align: middle;\n",
       "    }\n",
       "\n",
       "    .dataframe tbody tr th {\n",
       "        vertical-align: top;\n",
       "    }\n",
       "\n",
       "    .dataframe thead th {\n",
       "        text-align: right;\n",
       "    }\n",
       "</style>\n",
       "<table border=\"1\" class=\"dataframe\">\n",
       "  <thead>\n",
       "    <tr style=\"text-align: right;\">\n",
       "      <th></th>\n",
       "      <th>City</th>\n",
       "      <th>Murder</th>\n",
       "      <th>Assault</th>\n",
       "      <th>UrbanPop</th>\n",
       "      <th>Rape</th>\n",
       "    </tr>\n",
       "  </thead>\n",
       "  <tbody>\n",
       "    <tr>\n",
       "      <th>0</th>\n",
       "      <td>alabama</td>\n",
       "      <td>13.2</td>\n",
       "      <td>236</td>\n",
       "      <td>58</td>\n",
       "      <td>21.2</td>\n",
       "    </tr>\n",
       "    <tr>\n",
       "      <th>1</th>\n",
       "      <td>alaska</td>\n",
       "      <td>10.0</td>\n",
       "      <td>263</td>\n",
       "      <td>48</td>\n",
       "      <td>44.5</td>\n",
       "    </tr>\n",
       "    <tr>\n",
       "      <th>2</th>\n",
       "      <td>arizona</td>\n",
       "      <td>8.1</td>\n",
       "      <td>294</td>\n",
       "      <td>80</td>\n",
       "      <td>31.0</td>\n",
       "    </tr>\n",
       "    <tr>\n",
       "      <th>3</th>\n",
       "      <td>arkansas</td>\n",
       "      <td>8.8</td>\n",
       "      <td>190</td>\n",
       "      <td>50</td>\n",
       "      <td>19.5</td>\n",
       "    </tr>\n",
       "    <tr>\n",
       "      <th>4</th>\n",
       "      <td>california</td>\n",
       "      <td>9.0</td>\n",
       "      <td>276</td>\n",
       "      <td>91</td>\n",
       "      <td>40.6</td>\n",
       "    </tr>\n",
       "    <tr>\n",
       "      <th>5</th>\n",
       "      <td>colorado</td>\n",
       "      <td>7.9</td>\n",
       "      <td>204</td>\n",
       "      <td>78</td>\n",
       "      <td>38.7</td>\n",
       "    </tr>\n",
       "    <tr>\n",
       "      <th>6</th>\n",
       "      <td>connecticut</td>\n",
       "      <td>3.3</td>\n",
       "      <td>110</td>\n",
       "      <td>77</td>\n",
       "      <td>11.1</td>\n",
       "    </tr>\n",
       "    <tr>\n",
       "      <th>7</th>\n",
       "      <td>delaware</td>\n",
       "      <td>5.9</td>\n",
       "      <td>238</td>\n",
       "      <td>72</td>\n",
       "      <td>15.8</td>\n",
       "    </tr>\n",
       "    <tr>\n",
       "      <th>8</th>\n",
       "      <td>florida</td>\n",
       "      <td>15.4</td>\n",
       "      <td>335</td>\n",
       "      <td>80</td>\n",
       "      <td>31.9</td>\n",
       "    </tr>\n",
       "    <tr>\n",
       "      <th>9</th>\n",
       "      <td>georgia</td>\n",
       "      <td>17.4</td>\n",
       "      <td>211</td>\n",
       "      <td>60</td>\n",
       "      <td>25.8</td>\n",
       "    </tr>\n",
       "    <tr>\n",
       "      <th>10</th>\n",
       "      <td>hawaii</td>\n",
       "      <td>5.3</td>\n",
       "      <td>46</td>\n",
       "      <td>83</td>\n",
       "      <td>20.2</td>\n",
       "    </tr>\n",
       "    <tr>\n",
       "      <th>11</th>\n",
       "      <td>idaho</td>\n",
       "      <td>2.6</td>\n",
       "      <td>120</td>\n",
       "      <td>54</td>\n",
       "      <td>14.2</td>\n",
       "    </tr>\n",
       "    <tr>\n",
       "      <th>12</th>\n",
       "      <td>illinois</td>\n",
       "      <td>10.4</td>\n",
       "      <td>249</td>\n",
       "      <td>83</td>\n",
       "      <td>24.0</td>\n",
       "    </tr>\n",
       "    <tr>\n",
       "      <th>13</th>\n",
       "      <td>indiana</td>\n",
       "      <td>7.2</td>\n",
       "      <td>113</td>\n",
       "      <td>65</td>\n",
       "      <td>21.0</td>\n",
       "    </tr>\n",
       "    <tr>\n",
       "      <th>14</th>\n",
       "      <td>iowa</td>\n",
       "      <td>2.2</td>\n",
       "      <td>56</td>\n",
       "      <td>57</td>\n",
       "      <td>11.3</td>\n",
       "    </tr>\n",
       "    <tr>\n",
       "      <th>15</th>\n",
       "      <td>kansas</td>\n",
       "      <td>6.0</td>\n",
       "      <td>115</td>\n",
       "      <td>66</td>\n",
       "      <td>18.0</td>\n",
       "    </tr>\n",
       "    <tr>\n",
       "      <th>16</th>\n",
       "      <td>kentucky</td>\n",
       "      <td>9.7</td>\n",
       "      <td>109</td>\n",
       "      <td>52</td>\n",
       "      <td>16.3</td>\n",
       "    </tr>\n",
       "    <tr>\n",
       "      <th>17</th>\n",
       "      <td>louisiana</td>\n",
       "      <td>15.4</td>\n",
       "      <td>249</td>\n",
       "      <td>66</td>\n",
       "      <td>22.2</td>\n",
       "    </tr>\n",
       "    <tr>\n",
       "      <th>18</th>\n",
       "      <td>maine</td>\n",
       "      <td>2.1</td>\n",
       "      <td>83</td>\n",
       "      <td>51</td>\n",
       "      <td>7.8</td>\n",
       "    </tr>\n",
       "    <tr>\n",
       "      <th>19</th>\n",
       "      <td>maryland</td>\n",
       "      <td>11.3</td>\n",
       "      <td>300</td>\n",
       "      <td>67</td>\n",
       "      <td>27.8</td>\n",
       "    </tr>\n",
       "    <tr>\n",
       "      <th>20</th>\n",
       "      <td>massachusetts</td>\n",
       "      <td>4.4</td>\n",
       "      <td>149</td>\n",
       "      <td>85</td>\n",
       "      <td>16.3</td>\n",
       "    </tr>\n",
       "    <tr>\n",
       "      <th>21</th>\n",
       "      <td>michigan</td>\n",
       "      <td>12.1</td>\n",
       "      <td>255</td>\n",
       "      <td>74</td>\n",
       "      <td>35.1</td>\n",
       "    </tr>\n",
       "    <tr>\n",
       "      <th>22</th>\n",
       "      <td>minnesota</td>\n",
       "      <td>2.7</td>\n",
       "      <td>72</td>\n",
       "      <td>66</td>\n",
       "      <td>14.9</td>\n",
       "    </tr>\n",
       "    <tr>\n",
       "      <th>23</th>\n",
       "      <td>mississippi</td>\n",
       "      <td>16.1</td>\n",
       "      <td>259</td>\n",
       "      <td>44</td>\n",
       "      <td>17.1</td>\n",
       "    </tr>\n",
       "    <tr>\n",
       "      <th>24</th>\n",
       "      <td>missouri</td>\n",
       "      <td>9.0</td>\n",
       "      <td>178</td>\n",
       "      <td>70</td>\n",
       "      <td>28.2</td>\n",
       "    </tr>\n",
       "    <tr>\n",
       "      <th>25</th>\n",
       "      <td>montana</td>\n",
       "      <td>6.0</td>\n",
       "      <td>109</td>\n",
       "      <td>53</td>\n",
       "      <td>16.4</td>\n",
       "    </tr>\n",
       "    <tr>\n",
       "      <th>26</th>\n",
       "      <td>nebraska</td>\n",
       "      <td>4.3</td>\n",
       "      <td>102</td>\n",
       "      <td>62</td>\n",
       "      <td>16.5</td>\n",
       "    </tr>\n",
       "    <tr>\n",
       "      <th>27</th>\n",
       "      <td>nevada</td>\n",
       "      <td>12.2</td>\n",
       "      <td>252</td>\n",
       "      <td>81</td>\n",
       "      <td>46.0</td>\n",
       "    </tr>\n",
       "    <tr>\n",
       "      <th>28</th>\n",
       "      <td>new hampshire</td>\n",
       "      <td>2.1</td>\n",
       "      <td>57</td>\n",
       "      <td>56</td>\n",
       "      <td>9.5</td>\n",
       "    </tr>\n",
       "    <tr>\n",
       "      <th>29</th>\n",
       "      <td>new jersey</td>\n",
       "      <td>7.4</td>\n",
       "      <td>159</td>\n",
       "      <td>89</td>\n",
       "      <td>18.8</td>\n",
       "    </tr>\n",
       "    <tr>\n",
       "      <th>30</th>\n",
       "      <td>new mexico</td>\n",
       "      <td>11.4</td>\n",
       "      <td>285</td>\n",
       "      <td>70</td>\n",
       "      <td>32.1</td>\n",
       "    </tr>\n",
       "    <tr>\n",
       "      <th>31</th>\n",
       "      <td>new york</td>\n",
       "      <td>11.1</td>\n",
       "      <td>254</td>\n",
       "      <td>86</td>\n",
       "      <td>26.1</td>\n",
       "    </tr>\n",
       "    <tr>\n",
       "      <th>32</th>\n",
       "      <td>north carolina</td>\n",
       "      <td>13.0</td>\n",
       "      <td>337</td>\n",
       "      <td>45</td>\n",
       "      <td>16.1</td>\n",
       "    </tr>\n",
       "    <tr>\n",
       "      <th>33</th>\n",
       "      <td>north dakota</td>\n",
       "      <td>0.8</td>\n",
       "      <td>45</td>\n",
       "      <td>44</td>\n",
       "      <td>7.3</td>\n",
       "    </tr>\n",
       "    <tr>\n",
       "      <th>34</th>\n",
       "      <td>ohio</td>\n",
       "      <td>7.3</td>\n",
       "      <td>120</td>\n",
       "      <td>75</td>\n",
       "      <td>21.4</td>\n",
       "    </tr>\n",
       "    <tr>\n",
       "      <th>35</th>\n",
       "      <td>oklahoma</td>\n",
       "      <td>6.6</td>\n",
       "      <td>151</td>\n",
       "      <td>68</td>\n",
       "      <td>20.0</td>\n",
       "    </tr>\n",
       "    <tr>\n",
       "      <th>36</th>\n",
       "      <td>oregon</td>\n",
       "      <td>4.9</td>\n",
       "      <td>159</td>\n",
       "      <td>67</td>\n",
       "      <td>29.3</td>\n",
       "    </tr>\n",
       "    <tr>\n",
       "      <th>37</th>\n",
       "      <td>pennsylvania</td>\n",
       "      <td>6.3</td>\n",
       "      <td>106</td>\n",
       "      <td>72</td>\n",
       "      <td>14.9</td>\n",
       "    </tr>\n",
       "    <tr>\n",
       "      <th>38</th>\n",
       "      <td>rhode island</td>\n",
       "      <td>3.4</td>\n",
       "      <td>174</td>\n",
       "      <td>87</td>\n",
       "      <td>8.3</td>\n",
       "    </tr>\n",
       "    <tr>\n",
       "      <th>39</th>\n",
       "      <td>south carolina</td>\n",
       "      <td>14.4</td>\n",
       "      <td>279</td>\n",
       "      <td>48</td>\n",
       "      <td>22.5</td>\n",
       "    </tr>\n",
       "    <tr>\n",
       "      <th>40</th>\n",
       "      <td>south dakota</td>\n",
       "      <td>3.8</td>\n",
       "      <td>86</td>\n",
       "      <td>45</td>\n",
       "      <td>12.8</td>\n",
       "    </tr>\n",
       "    <tr>\n",
       "      <th>41</th>\n",
       "      <td>tennessee</td>\n",
       "      <td>13.2</td>\n",
       "      <td>188</td>\n",
       "      <td>59</td>\n",
       "      <td>26.9</td>\n",
       "    </tr>\n",
       "    <tr>\n",
       "      <th>42</th>\n",
       "      <td>texas</td>\n",
       "      <td>12.7</td>\n",
       "      <td>201</td>\n",
       "      <td>80</td>\n",
       "      <td>25.5</td>\n",
       "    </tr>\n",
       "    <tr>\n",
       "      <th>43</th>\n",
       "      <td>utah</td>\n",
       "      <td>3.2</td>\n",
       "      <td>120</td>\n",
       "      <td>80</td>\n",
       "      <td>22.9</td>\n",
       "    </tr>\n",
       "    <tr>\n",
       "      <th>44</th>\n",
       "      <td>vermont</td>\n",
       "      <td>2.2</td>\n",
       "      <td>48</td>\n",
       "      <td>32</td>\n",
       "      <td>11.2</td>\n",
       "    </tr>\n",
       "    <tr>\n",
       "      <th>45</th>\n",
       "      <td>virginia</td>\n",
       "      <td>8.5</td>\n",
       "      <td>156</td>\n",
       "      <td>63</td>\n",
       "      <td>20.7</td>\n",
       "    </tr>\n",
       "    <tr>\n",
       "      <th>46</th>\n",
       "      <td>washington</td>\n",
       "      <td>4.0</td>\n",
       "      <td>145</td>\n",
       "      <td>73</td>\n",
       "      <td>26.2</td>\n",
       "    </tr>\n",
       "    <tr>\n",
       "      <th>47</th>\n",
       "      <td>west virginia</td>\n",
       "      <td>5.7</td>\n",
       "      <td>81</td>\n",
       "      <td>39</td>\n",
       "      <td>9.3</td>\n",
       "    </tr>\n",
       "    <tr>\n",
       "      <th>48</th>\n",
       "      <td>wisconsin</td>\n",
       "      <td>2.6</td>\n",
       "      <td>53</td>\n",
       "      <td>66</td>\n",
       "      <td>10.8</td>\n",
       "    </tr>\n",
       "    <tr>\n",
       "      <th>49</th>\n",
       "      <td>wyoming</td>\n",
       "      <td>6.8</td>\n",
       "      <td>161</td>\n",
       "      <td>60</td>\n",
       "      <td>15.6</td>\n",
       "    </tr>\n",
       "  </tbody>\n",
       "</table>\n",
       "</div>"
      ],
      "text/plain": [
       "              City  Murder  Assault  UrbanPop  Rape\n",
       "0          alabama    13.2      236        58  21.2\n",
       "1           alaska    10.0      263        48  44.5\n",
       "2          arizona     8.1      294        80  31.0\n",
       "3         arkansas     8.8      190        50  19.5\n",
       "4       california     9.0      276        91  40.6\n",
       "5         colorado     7.9      204        78  38.7\n",
       "6      connecticut     3.3      110        77  11.1\n",
       "7         delaware     5.9      238        72  15.8\n",
       "8          florida    15.4      335        80  31.9\n",
       "9          georgia    17.4      211        60  25.8\n",
       "10          hawaii     5.3       46        83  20.2\n",
       "11           idaho     2.6      120        54  14.2\n",
       "12        illinois    10.4      249        83  24.0\n",
       "13         indiana     7.2      113        65  21.0\n",
       "14            iowa     2.2       56        57  11.3\n",
       "15          kansas     6.0      115        66  18.0\n",
       "16        kentucky     9.7      109        52  16.3\n",
       "17       louisiana    15.4      249        66  22.2\n",
       "18           maine     2.1       83        51   7.8\n",
       "19        maryland    11.3      300        67  27.8\n",
       "20   massachusetts     4.4      149        85  16.3\n",
       "21        michigan    12.1      255        74  35.1\n",
       "22       minnesota     2.7       72        66  14.9\n",
       "23     mississippi    16.1      259        44  17.1\n",
       "24        missouri     9.0      178        70  28.2\n",
       "25         montana     6.0      109        53  16.4\n",
       "26        nebraska     4.3      102        62  16.5\n",
       "27          nevada    12.2      252        81  46.0\n",
       "28   new hampshire     2.1       57        56   9.5\n",
       "29      new jersey     7.4      159        89  18.8\n",
       "30      new mexico    11.4      285        70  32.1\n",
       "31        new york    11.1      254        86  26.1\n",
       "32  north carolina    13.0      337        45  16.1\n",
       "33    north dakota     0.8       45        44   7.3\n",
       "34            ohio     7.3      120        75  21.4\n",
       "35        oklahoma     6.6      151        68  20.0\n",
       "36          oregon     4.9      159        67  29.3\n",
       "37    pennsylvania     6.3      106        72  14.9\n",
       "38    rhode island     3.4      174        87   8.3\n",
       "39  south carolina    14.4      279        48  22.5\n",
       "40    south dakota     3.8       86        45  12.8\n",
       "41       tennessee    13.2      188        59  26.9\n",
       "42           texas    12.7      201        80  25.5\n",
       "43            utah     3.2      120        80  22.9\n",
       "44         vermont     2.2       48        32  11.2\n",
       "45        virginia     8.5      156        63  20.7\n",
       "46      washington     4.0      145        73  26.2\n",
       "47   west virginia     5.7       81        39   9.3\n",
       "48       wisconsin     2.6       53        66  10.8\n",
       "49         wyoming     6.8      161        60  15.6"
      ]
     },
     "execution_count": 39,
     "metadata": {},
     "output_type": "execute_result"
    }
   ],
   "source": [
    "sort_city = arrests_df.sort_values([\"City\"],ascending=True) \n",
    "sort_city"
   ]
  },
  {
   "cell_type": "code",
   "execution_count": 47,
   "metadata": {},
   "outputs": [
    {
     "name": "stderr",
     "output_type": "stream",
     "text": [
      "/tmp/ipykernel_28574/3199268170.py:8: UserWarning: \n",
      "\n",
      "`distplot` is a deprecated function and will be removed in seaborn v0.14.0.\n",
      "\n",
      "Please adapt your code to use either `displot` (a figure-level function with\n",
      "similar flexibility) or `histplot` (an axes-level function for histograms).\n",
      "\n",
      "For a guide to updating your code to use the new functions, please see\n",
      "https://gist.github.com/mwaskom/de44147ed2974457ad6372750bbe5751\n",
      "\n",
      "  sns.distplot(original_murder, ax=ax[0])\n",
      "/tmp/ipykernel_28574/3199268170.py:10: UserWarning: \n",
      "\n",
      "`distplot` is a deprecated function and will be removed in seaborn v0.14.0.\n",
      "\n",
      "Please adapt your code to use either `displot` (a figure-level function with\n",
      "similar flexibility) or `histplot` (an axes-level function for histograms).\n",
      "\n",
      "For a guide to updating your code to use the new functions, please see\n",
      "https://gist.github.com/mwaskom/de44147ed2974457ad6372750bbe5751\n",
      "\n",
      "  sns.distplot(normalised_murder, ax=ax[1])\n"
     ]
    },
    {
     "data": {
      "text/plain": [
       "Text(0.5, 1.0, 'Normalised data')"
      ]
     },
     "execution_count": 47,
     "metadata": {},
     "output_type": "execute_result"
    },
    {
     "data": {
      "image/png": "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",
      "text/plain": [
       "<Figure size 640x480 with 2 Axes>"
      ]
     },
     "metadata": {},
     "output_type": "display_data"
    }
   ],
   "source": [
    "# Attempt to normalize the data\n",
    "# normalise the Murder (w/ Box-Cox)\n",
    "original_murder = arrests_df['Murder']\n",
    "normalised_murder = stats.boxcox(original_murder)[0]\n",
    "\n",
    "# plot both together to compare\n",
    "fig, ax=plt.subplots(1,2)\n",
    "sns.distplot(original_murder, ax=ax[0])\n",
    "ax[0].set_title(\"Original Data\")\n",
    "sns.distplot(normalised_murder, ax=ax[1])\n",
    "ax[1].set_title(\"Normalised data\")"
   ]
  },
  {
   "cell_type": "markdown",
   "metadata": {},
   "source": [
    "Not very helpful to normalise the murder data"
   ]
  },
  {
   "cell_type": "code",
   "execution_count": 87,
   "metadata": {},
   "outputs": [
    {
     "data": {
      "text/plain": [
       "City\n",
       "nevada            46.0\n",
       "alaska            44.5\n",
       "california        40.6\n",
       "colorado          38.7\n",
       "michigan          35.1\n",
       "new mexico        32.1\n",
       "florida           31.9\n",
       "arizona           31.0\n",
       "oregon            29.3\n",
       "missouri          28.2\n",
       "maryland          27.8\n",
       "tennessee         26.9\n",
       "washington        26.2\n",
       "new york          26.1\n",
       "georgia           25.8\n",
       "texas             25.5\n",
       "illinois          24.0\n",
       "utah              22.9\n",
       "south carolina    22.5\n",
       "louisiana         22.2\n",
       "ohio              21.4\n",
       "alabama           21.2\n",
       "indiana           21.0\n",
       "virginia          20.7\n",
       "hawaii            20.2\n",
       "oklahoma          20.0\n",
       "arkansas          19.5\n",
       "new jersey        18.8\n",
       "kansas            18.0\n",
       "mississippi       17.1\n",
       "nebraska          16.5\n",
       "montana           16.4\n",
       "kentucky          16.3\n",
       "massachusetts     16.3\n",
       "north carolina    16.1\n",
       "delaware          15.8\n",
       "wyoming           15.6\n",
       "minnesota         14.9\n",
       "pennsylvania      14.9\n",
       "idaho             14.2\n",
       "south dakota      12.8\n",
       "iowa              11.3\n",
       "vermont           11.2\n",
       "connecticut       11.1\n",
       "wisconsin         10.8\n",
       "new hampshire      9.5\n",
       "west virginia      9.3\n",
       "rhode island       8.3\n",
       "maine              7.8\n",
       "north dakota       7.3\n",
       "Name: Rape, dtype: float64"
      ]
     },
     "execution_count": 87,
     "metadata": {},
     "output_type": "execute_result"
    }
   ],
   "source": [
    "# Sum and group by the Rape rate for each city\n",
    "# Sort with highest\n",
    "rape_df = arrests_df.groupby(by = \"City\").sum()\n",
    "rape_df['Rape'].sort_values(ascending=False)"
   ]
  },
  {
   "cell_type": "code",
   "execution_count": 101,
   "metadata": {},
   "outputs": [
    {
     "data": {
      "text/html": [
       "<div>\n",
       "<style scoped>\n",
       "    .dataframe tbody tr th:only-of-type {\n",
       "        vertical-align: middle;\n",
       "    }\n",
       "\n",
       "    .dataframe tbody tr th {\n",
       "        vertical-align: top;\n",
       "    }\n",
       "\n",
       "    .dataframe thead th {\n",
       "        text-align: right;\n",
       "    }\n",
       "</style>\n",
       "<table border=\"1\" class=\"dataframe\">\n",
       "  <thead>\n",
       "    <tr style=\"text-align: right;\">\n",
       "      <th></th>\n",
       "      <th>City</th>\n",
       "      <th>Murder</th>\n",
       "      <th>Assault</th>\n",
       "      <th>UrbanPop</th>\n",
       "      <th>Rape</th>\n",
       "    </tr>\n",
       "  </thead>\n",
       "  <tbody>\n",
       "    <tr>\n",
       "      <th>27</th>\n",
       "      <td>nevada</td>\n",
       "      <td>12.2</td>\n",
       "      <td>252</td>\n",
       "      <td>81</td>\n",
       "      <td>46.0</td>\n",
       "    </tr>\n",
       "    <tr>\n",
       "      <th>1</th>\n",
       "      <td>alaska</td>\n",
       "      <td>10.0</td>\n",
       "      <td>263</td>\n",
       "      <td>48</td>\n",
       "      <td>44.5</td>\n",
       "    </tr>\n",
       "    <tr>\n",
       "      <th>4</th>\n",
       "      <td>california</td>\n",
       "      <td>9.0</td>\n",
       "      <td>276</td>\n",
       "      <td>91</td>\n",
       "      <td>40.6</td>\n",
       "    </tr>\n",
       "    <tr>\n",
       "      <th>5</th>\n",
       "      <td>colorado</td>\n",
       "      <td>7.9</td>\n",
       "      <td>204</td>\n",
       "      <td>78</td>\n",
       "      <td>38.7</td>\n",
       "    </tr>\n",
       "    <tr>\n",
       "      <th>21</th>\n",
       "      <td>michigan</td>\n",
       "      <td>12.1</td>\n",
       "      <td>255</td>\n",
       "      <td>74</td>\n",
       "      <td>35.1</td>\n",
       "    </tr>\n",
       "    <tr>\n",
       "      <th>30</th>\n",
       "      <td>new mexico</td>\n",
       "      <td>11.4</td>\n",
       "      <td>285</td>\n",
       "      <td>70</td>\n",
       "      <td>32.1</td>\n",
       "    </tr>\n",
       "    <tr>\n",
       "      <th>8</th>\n",
       "      <td>florida</td>\n",
       "      <td>15.4</td>\n",
       "      <td>335</td>\n",
       "      <td>80</td>\n",
       "      <td>31.9</td>\n",
       "    </tr>\n",
       "    <tr>\n",
       "      <th>2</th>\n",
       "      <td>arizona</td>\n",
       "      <td>8.1</td>\n",
       "      <td>294</td>\n",
       "      <td>80</td>\n",
       "      <td>31.0</td>\n",
       "    </tr>\n",
       "    <tr>\n",
       "      <th>36</th>\n",
       "      <td>oregon</td>\n",
       "      <td>4.9</td>\n",
       "      <td>159</td>\n",
       "      <td>67</td>\n",
       "      <td>29.3</td>\n",
       "    </tr>\n",
       "    <tr>\n",
       "      <th>24</th>\n",
       "      <td>missouri</td>\n",
       "      <td>9.0</td>\n",
       "      <td>178</td>\n",
       "      <td>70</td>\n",
       "      <td>28.2</td>\n",
       "    </tr>\n",
       "  </tbody>\n",
       "</table>\n",
       "</div>"
      ],
      "text/plain": [
       "          City  Murder  Assault  UrbanPop  Rape\n",
       "27      nevada    12.2      252        81  46.0\n",
       "1       alaska    10.0      263        48  44.5\n",
       "4   california     9.0      276        91  40.6\n",
       "5     colorado     7.9      204        78  38.7\n",
       "21    michigan    12.1      255        74  35.1\n",
       "30  new mexico    11.4      285        70  32.1\n",
       "8      florida    15.4      335        80  31.9\n",
       "2      arizona     8.1      294        80  31.0\n",
       "36      oregon     4.9      159        67  29.3\n",
       "24    missouri     9.0      178        70  28.2"
      ]
     },
     "execution_count": 101,
     "metadata": {},
     "output_type": "execute_result"
    }
   ],
   "source": [
    "#find 5 highest rape and murders\n",
    "most_rapes = arrests_df.sort_values(['Rape'],ascending=False).head(10)\n",
    "most_rapes"
   ]
  },
  {
   "cell_type": "code",
   "execution_count": 167,
   "metadata": {},
   "outputs": [
    {
     "data": {
      "text/plain": [
       "City\n",
       "alabama           1\n",
       "alaska            1\n",
       "arizona           1\n",
       "arkansas          1\n",
       "california        1\n",
       "colorado          1\n",
       "connecticut       1\n",
       "delaware          1\n",
       "florida           1\n",
       "georgia           1\n",
       "hawaii            1\n",
       "idaho             1\n",
       "illinois          1\n",
       "indiana           1\n",
       "iowa              1\n",
       "kansas            1\n",
       "kentucky          1\n",
       "louisiana         1\n",
       "maine             1\n",
       "maryland          1\n",
       "massachusetts     1\n",
       "michigan          1\n",
       "minnesota         1\n",
       "mississippi       1\n",
       "missouri          1\n",
       "montana           1\n",
       "nebraska          1\n",
       "nevada            1\n",
       "new hampshire     1\n",
       "new jersey        1\n",
       "new mexico        1\n",
       "new york          1\n",
       "north carolina    1\n",
       "north dakota      1\n",
       "ohio              1\n",
       "oklahoma          1\n",
       "oregon            1\n",
       "pennsylvania      1\n",
       "rhode island      1\n",
       "south carolina    1\n",
       "south dakota      1\n",
       "tennessee         1\n",
       "texas             1\n",
       "utah              1\n",
       "vermont           1\n",
       "virginia          1\n",
       "washington        1\n",
       "west virginia     1\n",
       "wisconsin         1\n",
       "wyoming           1\n",
       "Name: Rape, dtype: int64"
      ]
     },
     "execution_count": 167,
     "metadata": {},
     "output_type": "execute_result"
    }
   ],
   "source": [
    "counts = arrests_df.groupby([\"City\"])[\"Rape\"].count()#\n",
    "counts"
   ]
  },
  {
   "cell_type": "code",
   "execution_count": 102,
   "metadata": {},
   "outputs": [
    {
     "data": {
      "image/png": "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",
      "text/plain": [
       "<Figure size 640x480 with 1 Axes>"
      ]
     },
     "metadata": {},
     "output_type": "display_data"
    }
   ],
   "source": [
    "#Set grid behind graph\n",
    "sns.set(style=\"whitegrid\")\n",
    "\n",
    "#Create the barplot figure\n",
    "fig1 = sns.barplot(data = most_rapes,\n",
    "                   y = most_rapes[\"City\"],\n",
    "                   x = most_rapes[\"Murder\"],\n",
    "                   hue_order = most_rapes[\"Murder\"],\n",
    "                   palette=\"Set2\")\n",
    "#Add title\n",
    "fig1.set_title(\"Actual 10 dangerous cities for Murder based on highest Rapes\")\n",
    "\n",
    "#Add exact values for each basr:\n",
    "fig1.bar_label(fig1.containers[0], fontsize=10)\n",
    "#Remove y axis\n",
    "fig1.set(ylabel=\"City\")\n",
    "\n",
    "#Change x axis\n",
    "fig1.set(xlabel=\"Murders\")\n",
    "\n",
    "#Show plot\n",
    "plt.show()\n"
   ]
  },
  {
   "cell_type": "markdown",
   "metadata": {},
   "source": [
    "- Highest murders rates based on highest rates occur in Nevada, Michigan and Florida"
   ]
  },
  {
   "cell_type": "code",
   "execution_count": 108,
   "metadata": {},
   "outputs": [
    {
     "data": {
      "text/plain": [
       "<seaborn.axisgrid.PairGrid at 0x7f484266ceb0>"
      ]
     },
     "execution_count": 108,
     "metadata": {},
     "output_type": "execute_result"
    },
    {
     "data": {
      "image/png": "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",
      "text/plain": [
       "<Figure size 1440x1200 with 14 Axes>"
      ]
     },
     "metadata": {},
     "output_type": "display_data"
    }
   ],
   "source": [
    "#Pairplot: showing the relationships between each numeric feature\n",
    "sns.pairplot(arrests_df, diag_kind = \"hist\", height = 3, aspect = 1.2, corner = True)"
   ]
  },
  {
   "cell_type": "code",
   "execution_count": 125,
   "metadata": {},
   "outputs": [
    {
     "data": {
      "image/png": "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",
      "text/plain": [
       "<Figure size 600x1200 with 3 Axes>"
      ]
     },
     "metadata": {},
     "output_type": "display_data"
    }
   ],
   "source": [
    "fig, axes = plt.subplots(3, 1, figsize=(6, 12))  # 3 rows, 1 column\n",
    "\n",
    "# Create the 1st boxplot on the first plot\n",
    "sns.scatterplot(data=arrests_df,\n",
    "            x=arrests_df[\"Assault\"],\n",
    "            y=arrests_df[\"Rape\"],\n",
    "            ax =axes[0]\n",
    "            )\n",
    "axes[0].set_title(\"Rape vs Assault\")\n",
    "\n",
    "# Create the second boxplot on the first plot\n",
    "sns.scatterplot(data=arrests_df,\n",
    "            x=arrests_df[\"Assault\"],\n",
    "            y=arrests_df[\"UrbanPop\"],\n",
    "            ax=axes[1]\n",
    "            )\n",
    "\n",
    "axes[1].set_title(\"UrbanPop vs Assault\")\n",
    "\n",
    "\n",
    "# Create the second boxplot on the first plot\n",
    "sns.scatterplot(data=arrests_df,\n",
    "            x=arrests_df[\"Assault\"],\n",
    "            y=arrests_df[\"Murder\"],\n",
    "            ax =axes[2]\n",
    "            )\n",
    "\n",
    "axes[2].set_title(\"Murder vs Assault\")\n",
    "\n",
    "# Adjust spacing between subplots\n",
    "plt.tight_layout()\n",
    "\n",
    "# Save the figure as a .png image\n",
    "#plt.savefig(\"boxplots.png\")\n",
    "\n",
    "# Show the plot\n",
    "plt.show()"
   ]
  },
  {
   "cell_type": "markdown",
   "metadata": {},
   "source": [
    "Further observations:\n",
    "* The Rape vs Murder, Assault and UrbanPop show a positive correlation, i.e. increase in Assaults has highest Rapes\n",
    "* Positive correlation is seen between Murders and Assault, i.e. those that perform most Murders, have caused highest assault\n",
    "* Stronger relation between assault and murder or rapes than UrbanPop which the correlation is not strong/more scatter in the data"
   ]
  },
  {
   "cell_type": "code",
   "execution_count": 120,
   "metadata": {},
   "outputs": [
    {
     "data": {
      "image/png": "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",
      "text/plain": [
       "<Figure size 640x480 with 1 Axes>"
      ]
     },
     "metadata": {},
     "output_type": "display_data"
    }
   ],
   "source": [
    "#Create text\n",
    "text = ('Nevada, Michigan and Florida are the most dangerous cities')\n",
    "\n",
    "#Create Visualisation\n",
    "wordcloud = WordCloud(width = 500, height = 500, margin = 10).generate(text)\n",
    "plt.imshow(wordcloud, interpolation = \"bilinear\")\n",
    "plt.axis(\"off\")\n",
    "plt.margins(x = 0, y = 0)\n",
    "plt.show()"
   ]
  },
  {
   "cell_type": "code",
   "execution_count": 128,
   "metadata": {},
   "outputs": [
    {
     "data": {
      "text/html": [
       "<div>\n",
       "<style scoped>\n",
       "    .dataframe tbody tr th:only-of-type {\n",
       "        vertical-align: middle;\n",
       "    }\n",
       "\n",
       "    .dataframe tbody tr th {\n",
       "        vertical-align: top;\n",
       "    }\n",
       "\n",
       "    .dataframe thead th {\n",
       "        text-align: right;\n",
       "    }\n",
       "</style>\n",
       "<table border=\"1\" class=\"dataframe\">\n",
       "  <thead>\n",
       "    <tr style=\"text-align: right;\">\n",
       "      <th></th>\n",
       "      <th>City</th>\n",
       "      <th>Murder</th>\n",
       "      <th>Rape</th>\n",
       "    </tr>\n",
       "  </thead>\n",
       "  <tbody>\n",
       "    <tr>\n",
       "      <th>33</th>\n",
       "      <td>north dakota</td>\n",
       "      <td>0.8</td>\n",
       "      <td>7.3</td>\n",
       "    </tr>\n",
       "    <tr>\n",
       "      <th>10</th>\n",
       "      <td>hawaii</td>\n",
       "      <td>5.3</td>\n",
       "      <td>20.2</td>\n",
       "    </tr>\n",
       "    <tr>\n",
       "      <th>44</th>\n",
       "      <td>vermont</td>\n",
       "      <td>2.2</td>\n",
       "      <td>11.2</td>\n",
       "    </tr>\n",
       "    <tr>\n",
       "      <th>48</th>\n",
       "      <td>wisconsin</td>\n",
       "      <td>2.6</td>\n",
       "      <td>10.8</td>\n",
       "    </tr>\n",
       "    <tr>\n",
       "      <th>14</th>\n",
       "      <td>iowa</td>\n",
       "      <td>2.2</td>\n",
       "      <td>11.3</td>\n",
       "    </tr>\n",
       "    <tr>\n",
       "      <th>28</th>\n",
       "      <td>new hampshire</td>\n",
       "      <td>2.1</td>\n",
       "      <td>9.5</td>\n",
       "    </tr>\n",
       "    <tr>\n",
       "      <th>22</th>\n",
       "      <td>minnesota</td>\n",
       "      <td>2.7</td>\n",
       "      <td>14.9</td>\n",
       "    </tr>\n",
       "    <tr>\n",
       "      <th>47</th>\n",
       "      <td>west virginia</td>\n",
       "      <td>5.7</td>\n",
       "      <td>9.3</td>\n",
       "    </tr>\n",
       "    <tr>\n",
       "      <th>18</th>\n",
       "      <td>maine</td>\n",
       "      <td>2.1</td>\n",
       "      <td>7.8</td>\n",
       "    </tr>\n",
       "    <tr>\n",
       "      <th>40</th>\n",
       "      <td>south dakota</td>\n",
       "      <td>3.8</td>\n",
       "      <td>12.8</td>\n",
       "    </tr>\n",
       "  </tbody>\n",
       "</table>\n",
       "</div>"
      ],
      "text/plain": [
       "             City  Murder  Rape\n",
       "33   north dakota     0.8   7.3\n",
       "10         hawaii     5.3  20.2\n",
       "44        vermont     2.2  11.2\n",
       "48      wisconsin     2.6  10.8\n",
       "14           iowa     2.2  11.3\n",
       "28  new hampshire     2.1   9.5\n",
       "22      minnesota     2.7  14.9\n",
       "47  west virginia     5.7   9.3\n",
       "18          maine     2.1   7.8\n",
       "40   south dakota     3.8  12.8"
      ]
     },
     "execution_count": 128,
     "metadata": {},
     "output_type": "execute_result"
    }
   ],
   "source": [
    "## Find Cities which are rate above 10 assaults\n",
    "most_assaults = arrests_df[arrests_df[\"Assault\"]>10]\n",
    "most_assaults.sort_values([\"Assault\"],ascending=True)[[\"City\", \"Murder\", \"Rape\"]].head(10)"
   ]
  },
  {
   "cell_type": "code",
   "execution_count": 129,
   "metadata": {},
   "outputs": [
    {
     "data": {
      "text/plain": [
       "(50, 5)"
      ]
     },
     "execution_count": 129,
     "metadata": {},
     "output_type": "execute_result"
    }
   ],
   "source": [
    "most_assaults.shape"
   ]
  },
  {
   "cell_type": "markdown",
   "metadata": {},
   "source": [
    "* There are 10 cities rated with >10 assaults"
   ]
  },
  {
   "cell_type": "code",
   "execution_count": 136,
   "metadata": {},
   "outputs": [],
   "source": [
    "#Filtered the data\n",
    "selected_cities = [\n",
    "    \"winscosin\", \n",
    "    \"hawai\", \n",
    "    \"minnesota\",\n",
    "    \"iowa\"]\n",
    "filtered_data = arrests_df[arrests_df['Murder'].isin(selected_cities)]\n"
   ]
  },
  {
   "cell_type": "code",
   "execution_count": 148,
   "metadata": {},
   "outputs": [
    {
     "data": {
      "image/png": "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",
      "text/plain": [
       "<Figure size 2000x1000 with 1 Axes>"
      ]
     },
     "metadata": {},
     "output_type": "display_data"
    }
   ],
   "source": [
    "fig = plt.figure(figsize=(20,10))\n",
    "sns.countplot(y=arrests_df['Murder'], data=arrests_df);"
   ]
  },
  {
   "cell_type": "code",
   "execution_count": 154,
   "metadata": {},
   "outputs": [
    {
     "data": {
      "image/png": "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",
      "text/plain": [
       "<Figure size 1000x1000 with 1 Axes>"
      ]
     },
     "metadata": {},
     "output_type": "display_data"
    }
   ],
   "source": [
    "fig = plt.figure(figsize=(10,10))\n",
    "sns.histplot(arrests_df.loc[arrests_df['Murder'] > 10]['Assault'], kde_kws={'label': 'Murder 2'});\n"
   ]
  },
  {
   "cell_type": "markdown",
   "metadata": {},
   "source": [
    "* Those arrested for Murder have cause 200-300 assaults"
   ]
  },
  {
   "cell_type": "code",
   "execution_count": 157,
   "metadata": {},
   "outputs": [
    {
     "name": "stdout",
     "output_type": "stream",
     "text": [
      "13.2    1\n",
      "10.0    1\n",
      "8.1     1\n",
      "8.8     1\n",
      "9.0     1\n",
      "Name: Murder, dtype: int64\n"
     ]
    }
   ],
   "source": [
    "print(arrests_df.Murder.head(5).value_counts())"
   ]
  },
  {
   "cell_type": "code",
   "execution_count": 159,
   "metadata": {},
   "outputs": [
    {
     "name": "stdout",
     "output_type": "stream",
     "text": [
      "Collecting plotly\n",
      "  Downloading plotly-5.23.0-py3-none-any.whl.metadata (7.3 kB)\n",
      "Collecting tenacity>=6.2.0 (from plotly)\n",
      "  Downloading tenacity-8.5.0-py3-none-any.whl.metadata (1.2 kB)\n",
      "Requirement already satisfied: packaging in /home/conmec/miniconda3/lib/python3.9/site-packages (from plotly) (23.1)\n",
      "Downloading plotly-5.23.0-py3-none-any.whl (17.3 MB)\n",
      "\u001b[2K   \u001b[38;2;114;156;31m━━━━━━━━━━━━━━━━━━━━━━━━━━━━━━━━━━━━━━━━\u001b[0m \u001b[32m17.3/17.3 MB\u001b[0m \u001b[31m2.6 MB/s\u001b[0m eta \u001b[36m0:00:00\u001b[0mm eta \u001b[36m0:00:01\u001b[0m[36m0:00:01\u001b[0m\n",
      "\u001b[?25hDownloading tenacity-8.5.0-py3-none-any.whl (28 kB)\n",
      "Installing collected packages: tenacity, plotly\n",
      "Successfully installed plotly-5.23.0 tenacity-8.5.0\n",
      "\u001b[33mWARNING: There was an error checking the latest version of pip.\u001b[0m\u001b[33m\n",
      "\u001b[0m"
     ]
    }
   ],
   "source": [
    "!pip install plotly"
   ]
  },
  {
   "cell_type": "code",
   "execution_count": 163,
   "metadata": {},
   "outputs": [
    {
     "data": {
      "application/vnd.plotly.v1+json": {
       "config": {
        "plotlyServerURL": "https://plot.ly"
       },
       "data": [
        {
         "hovertemplate": "City=alabama<br>UrbanPop=%{x}<br>Murder=%{y}<extra></extra>",
         "legendgroup": "alabama",
         "marker": {
          "color": "#1F77B4",
          "symbol": "circle"
         },
         "mode": "markers",
         "name": "alabama",
         "orientation": "v",
         "showlegend": true,
         "type": "scatter",
         "x": [
          58
         ],
         "xaxis": "x",
         "y": [
          13.2
         ],
         "yaxis": "y"
        },
        {
         "alignmentgroup": "True",
         "hovertemplate": "City=alabama<br>UrbanPop=%{x}<extra></extra>",
         "legendgroup": "alabama",
         "marker": {
          "color": "#1F77B4",
          "symbol": "circle"
         },
         "name": "alabama",
         "notched": true,
         "offsetgroup": "alabama",
         "showlegend": false,
         "type": "box",
         "x": [
          58
         ],
         "xaxis": "x2",
         "yaxis": "y2"
        },
        {
         "hovertemplate": "City=alabama<extra></extra>",
         "legendgroup": "alabama",
         "marker": {
          "color": "#1F77B4",
          "symbol": "circle"
         },
         "mode": "lines",
         "name": "alabama",
         "showlegend": false,
         "type": "scatter",
         "xaxis": "x",
         "yaxis": "y"
        },
        {
         "hovertemplate": "City=alaska<br>UrbanPop=%{x}<br>Murder=%{y}<extra></extra>",
         "legendgroup": "alaska",
         "marker": {
          "color": "#FF7F0E",
          "symbol": "circle"
         },
         "mode": "markers",
         "name": "alaska",
         "orientation": "v",
         "showlegend": true,
         "type": "scatter",
         "x": [
          48
         ],
         "xaxis": "x",
         "y": [
          10
         ],
         "yaxis": "y"
        },
        {
         "alignmentgroup": "True",
         "hovertemplate": "City=alaska<br>UrbanPop=%{x}<extra></extra>",
         "legendgroup": "alaska",
         "marker": {
          "color": "#FF7F0E",
          "symbol": "circle"
         },
         "name": "alaska",
         "notched": true,
         "offsetgroup": "alaska",
         "showlegend": false,
         "type": "box",
         "x": [
          48
         ],
         "xaxis": "x2",
         "yaxis": "y2"
        },
        {
         "hovertemplate": "City=alaska<extra></extra>",
         "legendgroup": "alaska",
         "marker": {
          "color": "#FF7F0E",
          "symbol": "circle"
         },
         "mode": "lines",
         "name": "alaska",
         "showlegend": false,
         "type": "scatter",
         "xaxis": "x",
         "yaxis": "y"
        },
        {
         "hovertemplate": "City=arizona<br>UrbanPop=%{x}<br>Murder=%{y}<extra></extra>",
         "legendgroup": "arizona",
         "marker": {
          "color": "#2CA02C",
          "symbol": "circle"
         },
         "mode": "markers",
         "name": "arizona",
         "orientation": "v",
         "showlegend": true,
         "type": "scatter",
         "x": [
          80
         ],
         "xaxis": "x",
         "y": [
          8.1
         ],
         "yaxis": "y"
        },
        {
         "alignmentgroup": "True",
         "hovertemplate": "City=arizona<br>UrbanPop=%{x}<extra></extra>",
         "legendgroup": "arizona",
         "marker": {
          "color": "#2CA02C",
          "symbol": "circle"
         },
         "name": "arizona",
         "notched": true,
         "offsetgroup": "arizona",
         "showlegend": false,
         "type": "box",
         "x": [
          80
         ],
         "xaxis": "x2",
         "yaxis": "y2"
        },
        {
         "hovertemplate": "City=arizona<extra></extra>",
         "legendgroup": "arizona",
         "marker": {
          "color": "#2CA02C",
          "symbol": "circle"
         },
         "mode": "lines",
         "name": "arizona",
         "showlegend": false,
         "type": "scatter",
         "xaxis": "x",
         "yaxis": "y"
        },
        {
         "hovertemplate": "City=arkansas<br>UrbanPop=%{x}<br>Murder=%{y}<extra></extra>",
         "legendgroup": "arkansas",
         "marker": {
          "color": "#D62728",
          "symbol": "circle"
         },
         "mode": "markers",
         "name": "arkansas",
         "orientation": "v",
         "showlegend": true,
         "type": "scatter",
         "x": [
          50
         ],
         "xaxis": "x",
         "y": [
          8.8
         ],
         "yaxis": "y"
        },
        {
         "alignmentgroup": "True",
         "hovertemplate": "City=arkansas<br>UrbanPop=%{x}<extra></extra>",
         "legendgroup": "arkansas",
         "marker": {
          "color": "#D62728",
          "symbol": "circle"
         },
         "name": "arkansas",
         "notched": true,
         "offsetgroup": "arkansas",
         "showlegend": false,
         "type": "box",
         "x": [
          50
         ],
         "xaxis": "x2",
         "yaxis": "y2"
        },
        {
         "hovertemplate": "City=arkansas<extra></extra>",
         "legendgroup": "arkansas",
         "marker": {
          "color": "#D62728",
          "symbol": "circle"
         },
         "mode": "lines",
         "name": "arkansas",
         "showlegend": false,
         "type": "scatter",
         "xaxis": "x",
         "yaxis": "y"
        },
        {
         "hovertemplate": "City=california<br>UrbanPop=%{x}<br>Murder=%{y}<extra></extra>",
         "legendgroup": "california",
         "marker": {
          "color": "#9467BD",
          "symbol": "circle"
         },
         "mode": "markers",
         "name": "california",
         "orientation": "v",
         "showlegend": true,
         "type": "scatter",
         "x": [
          91
         ],
         "xaxis": "x",
         "y": [
          9
         ],
         "yaxis": "y"
        },
        {
         "alignmentgroup": "True",
         "hovertemplate": "City=california<br>UrbanPop=%{x}<extra></extra>",
         "legendgroup": "california",
         "marker": {
          "color": "#9467BD",
          "symbol": "circle"
         },
         "name": "california",
         "notched": true,
         "offsetgroup": "california",
         "showlegend": false,
         "type": "box",
         "x": [
          91
         ],
         "xaxis": "x2",
         "yaxis": "y2"
        },
        {
         "hovertemplate": "City=california<extra></extra>",
         "legendgroup": "california",
         "marker": {
          "color": "#9467BD",
          "symbol": "circle"
         },
         "mode": "lines",
         "name": "california",
         "showlegend": false,
         "type": "scatter",
         "xaxis": "x",
         "yaxis": "y"
        },
        {
         "hovertemplate": "City=colorado<br>UrbanPop=%{x}<br>Murder=%{y}<extra></extra>",
         "legendgroup": "colorado",
         "marker": {
          "color": "#8C564B",
          "symbol": "circle"
         },
         "mode": "markers",
         "name": "colorado",
         "orientation": "v",
         "showlegend": true,
         "type": "scatter",
         "x": [
          78
         ],
         "xaxis": "x",
         "y": [
          7.9
         ],
         "yaxis": "y"
        },
        {
         "alignmentgroup": "True",
         "hovertemplate": "City=colorado<br>UrbanPop=%{x}<extra></extra>",
         "legendgroup": "colorado",
         "marker": {
          "color": "#8C564B",
          "symbol": "circle"
         },
         "name": "colorado",
         "notched": true,
         "offsetgroup": "colorado",
         "showlegend": false,
         "type": "box",
         "x": [
          78
         ],
         "xaxis": "x2",
         "yaxis": "y2"
        },
        {
         "hovertemplate": "City=colorado<extra></extra>",
         "legendgroup": "colorado",
         "marker": {
          "color": "#8C564B",
          "symbol": "circle"
         },
         "mode": "lines",
         "name": "colorado",
         "showlegend": false,
         "type": "scatter",
         "xaxis": "x",
         "yaxis": "y"
        },
        {
         "hovertemplate": "City=connecticut<br>UrbanPop=%{x}<br>Murder=%{y}<extra></extra>",
         "legendgroup": "connecticut",
         "marker": {
          "color": "#E377C2",
          "symbol": "circle"
         },
         "mode": "markers",
         "name": "connecticut",
         "orientation": "v",
         "showlegend": true,
         "type": "scatter",
         "x": [
          77
         ],
         "xaxis": "x",
         "y": [
          3.3
         ],
         "yaxis": "y"
        },
        {
         "alignmentgroup": "True",
         "hovertemplate": "City=connecticut<br>UrbanPop=%{x}<extra></extra>",
         "legendgroup": "connecticut",
         "marker": {
          "color": "#E377C2",
          "symbol": "circle"
         },
         "name": "connecticut",
         "notched": true,
         "offsetgroup": "connecticut",
         "showlegend": false,
         "type": "box",
         "x": [
          77
         ],
         "xaxis": "x2",
         "yaxis": "y2"
        },
        {
         "hovertemplate": "City=connecticut<extra></extra>",
         "legendgroup": "connecticut",
         "marker": {
          "color": "#E377C2",
          "symbol": "circle"
         },
         "mode": "lines",
         "name": "connecticut",
         "showlegend": false,
         "type": "scatter",
         "xaxis": "x",
         "yaxis": "y"
        },
        {
         "hovertemplate": "City=delaware<br>UrbanPop=%{x}<br>Murder=%{y}<extra></extra>",
         "legendgroup": "delaware",
         "marker": {
          "color": "#7F7F7F",
          "symbol": "circle"
         },
         "mode": "markers",
         "name": "delaware",
         "orientation": "v",
         "showlegend": true,
         "type": "scatter",
         "x": [
          72
         ],
         "xaxis": "x",
         "y": [
          5.9
         ],
         "yaxis": "y"
        },
        {
         "alignmentgroup": "True",
         "hovertemplate": "City=delaware<br>UrbanPop=%{x}<extra></extra>",
         "legendgroup": "delaware",
         "marker": {
          "color": "#7F7F7F",
          "symbol": "circle"
         },
         "name": "delaware",
         "notched": true,
         "offsetgroup": "delaware",
         "showlegend": false,
         "type": "box",
         "x": [
          72
         ],
         "xaxis": "x2",
         "yaxis": "y2"
        },
        {
         "hovertemplate": "City=delaware<extra></extra>",
         "legendgroup": "delaware",
         "marker": {
          "color": "#7F7F7F",
          "symbol": "circle"
         },
         "mode": "lines",
         "name": "delaware",
         "showlegend": false,
         "type": "scatter",
         "xaxis": "x",
         "yaxis": "y"
        },
        {
         "hovertemplate": "City=florida<br>UrbanPop=%{x}<br>Murder=%{y}<extra></extra>",
         "legendgroup": "florida",
         "marker": {
          "color": "#BCBD22",
          "symbol": "circle"
         },
         "mode": "markers",
         "name": "florida",
         "orientation": "v",
         "showlegend": true,
         "type": "scatter",
         "x": [
          80
         ],
         "xaxis": "x",
         "y": [
          15.4
         ],
         "yaxis": "y"
        },
        {
         "alignmentgroup": "True",
         "hovertemplate": "City=florida<br>UrbanPop=%{x}<extra></extra>",
         "legendgroup": "florida",
         "marker": {
          "color": "#BCBD22",
          "symbol": "circle"
         },
         "name": "florida",
         "notched": true,
         "offsetgroup": "florida",
         "showlegend": false,
         "type": "box",
         "x": [
          80
         ],
         "xaxis": "x2",
         "yaxis": "y2"
        },
        {
         "hovertemplate": "City=florida<extra></extra>",
         "legendgroup": "florida",
         "marker": {
          "color": "#BCBD22",
          "symbol": "circle"
         },
         "mode": "lines",
         "name": "florida",
         "showlegend": false,
         "type": "scatter",
         "xaxis": "x",
         "yaxis": "y"
        },
        {
         "hovertemplate": "City=georgia<br>UrbanPop=%{x}<br>Murder=%{y}<extra></extra>",
         "legendgroup": "georgia",
         "marker": {
          "color": "#17BECF",
          "symbol": "circle"
         },
         "mode": "markers",
         "name": "georgia",
         "orientation": "v",
         "showlegend": true,
         "type": "scatter",
         "x": [
          60
         ],
         "xaxis": "x",
         "y": [
          17.4
         ],
         "yaxis": "y"
        },
        {
         "alignmentgroup": "True",
         "hovertemplate": "City=georgia<br>UrbanPop=%{x}<extra></extra>",
         "legendgroup": "georgia",
         "marker": {
          "color": "#17BECF",
          "symbol": "circle"
         },
         "name": "georgia",
         "notched": true,
         "offsetgroup": "georgia",
         "showlegend": false,
         "type": "box",
         "x": [
          60
         ],
         "xaxis": "x2",
         "yaxis": "y2"
        },
        {
         "hovertemplate": "City=georgia<extra></extra>",
         "legendgroup": "georgia",
         "marker": {
          "color": "#17BECF",
          "symbol": "circle"
         },
         "mode": "lines",
         "name": "georgia",
         "showlegend": false,
         "type": "scatter",
         "xaxis": "x",
         "yaxis": "y"
        },
        {
         "hovertemplate": "City=hawaii<br>UrbanPop=%{x}<br>Murder=%{y}<extra></extra>",
         "legendgroup": "hawaii",
         "marker": {
          "color": "#1F77B4",
          "symbol": "circle"
         },
         "mode": "markers",
         "name": "hawaii",
         "orientation": "v",
         "showlegend": true,
         "type": "scatter",
         "x": [
          83
         ],
         "xaxis": "x",
         "y": [
          5.3
         ],
         "yaxis": "y"
        },
        {
         "alignmentgroup": "True",
         "hovertemplate": "City=hawaii<br>UrbanPop=%{x}<extra></extra>",
         "legendgroup": "hawaii",
         "marker": {
          "color": "#1F77B4",
          "symbol": "circle"
         },
         "name": "hawaii",
         "notched": true,
         "offsetgroup": "hawaii",
         "showlegend": false,
         "type": "box",
         "x": [
          83
         ],
         "xaxis": "x2",
         "yaxis": "y2"
        },
        {
         "hovertemplate": "City=hawaii<extra></extra>",
         "legendgroup": "hawaii",
         "marker": {
          "color": "#1F77B4",
          "symbol": "circle"
         },
         "mode": "lines",
         "name": "hawaii",
         "showlegend": false,
         "type": "scatter",
         "xaxis": "x",
         "yaxis": "y"
        },
        {
         "hovertemplate": "City=idaho<br>UrbanPop=%{x}<br>Murder=%{y}<extra></extra>",
         "legendgroup": "idaho",
         "marker": {
          "color": "#FF7F0E",
          "symbol": "circle"
         },
         "mode": "markers",
         "name": "idaho",
         "orientation": "v",
         "showlegend": true,
         "type": "scatter",
         "x": [
          54
         ],
         "xaxis": "x",
         "y": [
          2.6
         ],
         "yaxis": "y"
        },
        {
         "alignmentgroup": "True",
         "hovertemplate": "City=idaho<br>UrbanPop=%{x}<extra></extra>",
         "legendgroup": "idaho",
         "marker": {
          "color": "#FF7F0E",
          "symbol": "circle"
         },
         "name": "idaho",
         "notched": true,
         "offsetgroup": "idaho",
         "showlegend": false,
         "type": "box",
         "x": [
          54
         ],
         "xaxis": "x2",
         "yaxis": "y2"
        },
        {
         "hovertemplate": "City=idaho<extra></extra>",
         "legendgroup": "idaho",
         "marker": {
          "color": "#FF7F0E",
          "symbol": "circle"
         },
         "mode": "lines",
         "name": "idaho",
         "showlegend": false,
         "type": "scatter",
         "xaxis": "x",
         "yaxis": "y"
        },
        {
         "hovertemplate": "City=illinois<br>UrbanPop=%{x}<br>Murder=%{y}<extra></extra>",
         "legendgroup": "illinois",
         "marker": {
          "color": "#2CA02C",
          "symbol": "circle"
         },
         "mode": "markers",
         "name": "illinois",
         "orientation": "v",
         "showlegend": true,
         "type": "scatter",
         "x": [
          83
         ],
         "xaxis": "x",
         "y": [
          10.4
         ],
         "yaxis": "y"
        },
        {
         "alignmentgroup": "True",
         "hovertemplate": "City=illinois<br>UrbanPop=%{x}<extra></extra>",
         "legendgroup": "illinois",
         "marker": {
          "color": "#2CA02C",
          "symbol": "circle"
         },
         "name": "illinois",
         "notched": true,
         "offsetgroup": "illinois",
         "showlegend": false,
         "type": "box",
         "x": [
          83
         ],
         "xaxis": "x2",
         "yaxis": "y2"
        },
        {
         "hovertemplate": "City=illinois<extra></extra>",
         "legendgroup": "illinois",
         "marker": {
          "color": "#2CA02C",
          "symbol": "circle"
         },
         "mode": "lines",
         "name": "illinois",
         "showlegend": false,
         "type": "scatter",
         "xaxis": "x",
         "yaxis": "y"
        },
        {
         "hovertemplate": "City=indiana<br>UrbanPop=%{x}<br>Murder=%{y}<extra></extra>",
         "legendgroup": "indiana",
         "marker": {
          "color": "#D62728",
          "symbol": "circle"
         },
         "mode": "markers",
         "name": "indiana",
         "orientation": "v",
         "showlegend": true,
         "type": "scatter",
         "x": [
          65
         ],
         "xaxis": "x",
         "y": [
          7.2
         ],
         "yaxis": "y"
        },
        {
         "alignmentgroup": "True",
         "hovertemplate": "City=indiana<br>UrbanPop=%{x}<extra></extra>",
         "legendgroup": "indiana",
         "marker": {
          "color": "#D62728",
          "symbol": "circle"
         },
         "name": "indiana",
         "notched": true,
         "offsetgroup": "indiana",
         "showlegend": false,
         "type": "box",
         "x": [
          65
         ],
         "xaxis": "x2",
         "yaxis": "y2"
        },
        {
         "hovertemplate": "City=indiana<extra></extra>",
         "legendgroup": "indiana",
         "marker": {
          "color": "#D62728",
          "symbol": "circle"
         },
         "mode": "lines",
         "name": "indiana",
         "showlegend": false,
         "type": "scatter",
         "xaxis": "x",
         "yaxis": "y"
        },
        {
         "hovertemplate": "City=iowa<br>UrbanPop=%{x}<br>Murder=%{y}<extra></extra>",
         "legendgroup": "iowa",
         "marker": {
          "color": "#9467BD",
          "symbol": "circle"
         },
         "mode": "markers",
         "name": "iowa",
         "orientation": "v",
         "showlegend": true,
         "type": "scatter",
         "x": [
          57
         ],
         "xaxis": "x",
         "y": [
          2.2
         ],
         "yaxis": "y"
        },
        {
         "alignmentgroup": "True",
         "hovertemplate": "City=iowa<br>UrbanPop=%{x}<extra></extra>",
         "legendgroup": "iowa",
         "marker": {
          "color": "#9467BD",
          "symbol": "circle"
         },
         "name": "iowa",
         "notched": true,
         "offsetgroup": "iowa",
         "showlegend": false,
         "type": "box",
         "x": [
          57
         ],
         "xaxis": "x2",
         "yaxis": "y2"
        },
        {
         "hovertemplate": "City=iowa<extra></extra>",
         "legendgroup": "iowa",
         "marker": {
          "color": "#9467BD",
          "symbol": "circle"
         },
         "mode": "lines",
         "name": "iowa",
         "showlegend": false,
         "type": "scatter",
         "xaxis": "x",
         "yaxis": "y"
        },
        {
         "hovertemplate": "City=kansas<br>UrbanPop=%{x}<br>Murder=%{y}<extra></extra>",
         "legendgroup": "kansas",
         "marker": {
          "color": "#8C564B",
          "symbol": "circle"
         },
         "mode": "markers",
         "name": "kansas",
         "orientation": "v",
         "showlegend": true,
         "type": "scatter",
         "x": [
          66
         ],
         "xaxis": "x",
         "y": [
          6
         ],
         "yaxis": "y"
        },
        {
         "alignmentgroup": "True",
         "hovertemplate": "City=kansas<br>UrbanPop=%{x}<extra></extra>",
         "legendgroup": "kansas",
         "marker": {
          "color": "#8C564B",
          "symbol": "circle"
         },
         "name": "kansas",
         "notched": true,
         "offsetgroup": "kansas",
         "showlegend": false,
         "type": "box",
         "x": [
          66
         ],
         "xaxis": "x2",
         "yaxis": "y2"
        },
        {
         "hovertemplate": "City=kansas<extra></extra>",
         "legendgroup": "kansas",
         "marker": {
          "color": "#8C564B",
          "symbol": "circle"
         },
         "mode": "lines",
         "name": "kansas",
         "showlegend": false,
         "type": "scatter",
         "xaxis": "x",
         "yaxis": "y"
        },
        {
         "hovertemplate": "City=kentucky<br>UrbanPop=%{x}<br>Murder=%{y}<extra></extra>",
         "legendgroup": "kentucky",
         "marker": {
          "color": "#E377C2",
          "symbol": "circle"
         },
         "mode": "markers",
         "name": "kentucky",
         "orientation": "v",
         "showlegend": true,
         "type": "scatter",
         "x": [
          52
         ],
         "xaxis": "x",
         "y": [
          9.7
         ],
         "yaxis": "y"
        },
        {
         "alignmentgroup": "True",
         "hovertemplate": "City=kentucky<br>UrbanPop=%{x}<extra></extra>",
         "legendgroup": "kentucky",
         "marker": {
          "color": "#E377C2",
          "symbol": "circle"
         },
         "name": "kentucky",
         "notched": true,
         "offsetgroup": "kentucky",
         "showlegend": false,
         "type": "box",
         "x": [
          52
         ],
         "xaxis": "x2",
         "yaxis": "y2"
        },
        {
         "hovertemplate": "City=kentucky<extra></extra>",
         "legendgroup": "kentucky",
         "marker": {
          "color": "#E377C2",
          "symbol": "circle"
         },
         "mode": "lines",
         "name": "kentucky",
         "showlegend": false,
         "type": "scatter",
         "xaxis": "x",
         "yaxis": "y"
        },
        {
         "hovertemplate": "City=louisiana<br>UrbanPop=%{x}<br>Murder=%{y}<extra></extra>",
         "legendgroup": "louisiana",
         "marker": {
          "color": "#7F7F7F",
          "symbol": "circle"
         },
         "mode": "markers",
         "name": "louisiana",
         "orientation": "v",
         "showlegend": true,
         "type": "scatter",
         "x": [
          66
         ],
         "xaxis": "x",
         "y": [
          15.4
         ],
         "yaxis": "y"
        },
        {
         "alignmentgroup": "True",
         "hovertemplate": "City=louisiana<br>UrbanPop=%{x}<extra></extra>",
         "legendgroup": "louisiana",
         "marker": {
          "color": "#7F7F7F",
          "symbol": "circle"
         },
         "name": "louisiana",
         "notched": true,
         "offsetgroup": "louisiana",
         "showlegend": false,
         "type": "box",
         "x": [
          66
         ],
         "xaxis": "x2",
         "yaxis": "y2"
        },
        {
         "hovertemplate": "City=louisiana<extra></extra>",
         "legendgroup": "louisiana",
         "marker": {
          "color": "#7F7F7F",
          "symbol": "circle"
         },
         "mode": "lines",
         "name": "louisiana",
         "showlegend": false,
         "type": "scatter",
         "xaxis": "x",
         "yaxis": "y"
        },
        {
         "hovertemplate": "City=maine<br>UrbanPop=%{x}<br>Murder=%{y}<extra></extra>",
         "legendgroup": "maine",
         "marker": {
          "color": "#BCBD22",
          "symbol": "circle"
         },
         "mode": "markers",
         "name": "maine",
         "orientation": "v",
         "showlegend": true,
         "type": "scatter",
         "x": [
          51
         ],
         "xaxis": "x",
         "y": [
          2.1
         ],
         "yaxis": "y"
        },
        {
         "alignmentgroup": "True",
         "hovertemplate": "City=maine<br>UrbanPop=%{x}<extra></extra>",
         "legendgroup": "maine",
         "marker": {
          "color": "#BCBD22",
          "symbol": "circle"
         },
         "name": "maine",
         "notched": true,
         "offsetgroup": "maine",
         "showlegend": false,
         "type": "box",
         "x": [
          51
         ],
         "xaxis": "x2",
         "yaxis": "y2"
        },
        {
         "hovertemplate": "City=maine<extra></extra>",
         "legendgroup": "maine",
         "marker": {
          "color": "#BCBD22",
          "symbol": "circle"
         },
         "mode": "lines",
         "name": "maine",
         "showlegend": false,
         "type": "scatter",
         "xaxis": "x",
         "yaxis": "y"
        },
        {
         "hovertemplate": "City=maryland<br>UrbanPop=%{x}<br>Murder=%{y}<extra></extra>",
         "legendgroup": "maryland",
         "marker": {
          "color": "#17BECF",
          "symbol": "circle"
         },
         "mode": "markers",
         "name": "maryland",
         "orientation": "v",
         "showlegend": true,
         "type": "scatter",
         "x": [
          67
         ],
         "xaxis": "x",
         "y": [
          11.3
         ],
         "yaxis": "y"
        },
        {
         "alignmentgroup": "True",
         "hovertemplate": "City=maryland<br>UrbanPop=%{x}<extra></extra>",
         "legendgroup": "maryland",
         "marker": {
          "color": "#17BECF",
          "symbol": "circle"
         },
         "name": "maryland",
         "notched": true,
         "offsetgroup": "maryland",
         "showlegend": false,
         "type": "box",
         "x": [
          67
         ],
         "xaxis": "x2",
         "yaxis": "y2"
        },
        {
         "hovertemplate": "City=maryland<extra></extra>",
         "legendgroup": "maryland",
         "marker": {
          "color": "#17BECF",
          "symbol": "circle"
         },
         "mode": "lines",
         "name": "maryland",
         "showlegend": false,
         "type": "scatter",
         "xaxis": "x",
         "yaxis": "y"
        },
        {
         "hovertemplate": "City=massachusetts<br>UrbanPop=%{x}<br>Murder=%{y}<extra></extra>",
         "legendgroup": "massachusetts",
         "marker": {
          "color": "#1F77B4",
          "symbol": "circle"
         },
         "mode": "markers",
         "name": "massachusetts",
         "orientation": "v",
         "showlegend": true,
         "type": "scatter",
         "x": [
          85
         ],
         "xaxis": "x",
         "y": [
          4.4
         ],
         "yaxis": "y"
        },
        {
         "alignmentgroup": "True",
         "hovertemplate": "City=massachusetts<br>UrbanPop=%{x}<extra></extra>",
         "legendgroup": "massachusetts",
         "marker": {
          "color": "#1F77B4",
          "symbol": "circle"
         },
         "name": "massachusetts",
         "notched": true,
         "offsetgroup": "massachusetts",
         "showlegend": false,
         "type": "box",
         "x": [
          85
         ],
         "xaxis": "x2",
         "yaxis": "y2"
        },
        {
         "hovertemplate": "City=massachusetts<extra></extra>",
         "legendgroup": "massachusetts",
         "marker": {
          "color": "#1F77B4",
          "symbol": "circle"
         },
         "mode": "lines",
         "name": "massachusetts",
         "showlegend": false,
         "type": "scatter",
         "xaxis": "x",
         "yaxis": "y"
        },
        {
         "hovertemplate": "City=michigan<br>UrbanPop=%{x}<br>Murder=%{y}<extra></extra>",
         "legendgroup": "michigan",
         "marker": {
          "color": "#FF7F0E",
          "symbol": "circle"
         },
         "mode": "markers",
         "name": "michigan",
         "orientation": "v",
         "showlegend": true,
         "type": "scatter",
         "x": [
          74
         ],
         "xaxis": "x",
         "y": [
          12.1
         ],
         "yaxis": "y"
        },
        {
         "alignmentgroup": "True",
         "hovertemplate": "City=michigan<br>UrbanPop=%{x}<extra></extra>",
         "legendgroup": "michigan",
         "marker": {
          "color": "#FF7F0E",
          "symbol": "circle"
         },
         "name": "michigan",
         "notched": true,
         "offsetgroup": "michigan",
         "showlegend": false,
         "type": "box",
         "x": [
          74
         ],
         "xaxis": "x2",
         "yaxis": "y2"
        },
        {
         "hovertemplate": "City=michigan<extra></extra>",
         "legendgroup": "michigan",
         "marker": {
          "color": "#FF7F0E",
          "symbol": "circle"
         },
         "mode": "lines",
         "name": "michigan",
         "showlegend": false,
         "type": "scatter",
         "xaxis": "x",
         "yaxis": "y"
        },
        {
         "hovertemplate": "City=minnesota<br>UrbanPop=%{x}<br>Murder=%{y}<extra></extra>",
         "legendgroup": "minnesota",
         "marker": {
          "color": "#2CA02C",
          "symbol": "circle"
         },
         "mode": "markers",
         "name": "minnesota",
         "orientation": "v",
         "showlegend": true,
         "type": "scatter",
         "x": [
          66
         ],
         "xaxis": "x",
         "y": [
          2.7
         ],
         "yaxis": "y"
        },
        {
         "alignmentgroup": "True",
         "hovertemplate": "City=minnesota<br>UrbanPop=%{x}<extra></extra>",
         "legendgroup": "minnesota",
         "marker": {
          "color": "#2CA02C",
          "symbol": "circle"
         },
         "name": "minnesota",
         "notched": true,
         "offsetgroup": "minnesota",
         "showlegend": false,
         "type": "box",
         "x": [
          66
         ],
         "xaxis": "x2",
         "yaxis": "y2"
        },
        {
         "hovertemplate": "City=minnesota<extra></extra>",
         "legendgroup": "minnesota",
         "marker": {
          "color": "#2CA02C",
          "symbol": "circle"
         },
         "mode": "lines",
         "name": "minnesota",
         "showlegend": false,
         "type": "scatter",
         "xaxis": "x",
         "yaxis": "y"
        },
        {
         "hovertemplate": "City=mississippi<br>UrbanPop=%{x}<br>Murder=%{y}<extra></extra>",
         "legendgroup": "mississippi",
         "marker": {
          "color": "#D62728",
          "symbol": "circle"
         },
         "mode": "markers",
         "name": "mississippi",
         "orientation": "v",
         "showlegend": true,
         "type": "scatter",
         "x": [
          44
         ],
         "xaxis": "x",
         "y": [
          16.1
         ],
         "yaxis": "y"
        },
        {
         "alignmentgroup": "True",
         "hovertemplate": "City=mississippi<br>UrbanPop=%{x}<extra></extra>",
         "legendgroup": "mississippi",
         "marker": {
          "color": "#D62728",
          "symbol": "circle"
         },
         "name": "mississippi",
         "notched": true,
         "offsetgroup": "mississippi",
         "showlegend": false,
         "type": "box",
         "x": [
          44
         ],
         "xaxis": "x2",
         "yaxis": "y2"
        },
        {
         "hovertemplate": "City=mississippi<extra></extra>",
         "legendgroup": "mississippi",
         "marker": {
          "color": "#D62728",
          "symbol": "circle"
         },
         "mode": "lines",
         "name": "mississippi",
         "showlegend": false,
         "type": "scatter",
         "xaxis": "x",
         "yaxis": "y"
        },
        {
         "hovertemplate": "City=missouri<br>UrbanPop=%{x}<br>Murder=%{y}<extra></extra>",
         "legendgroup": "missouri",
         "marker": {
          "color": "#9467BD",
          "symbol": "circle"
         },
         "mode": "markers",
         "name": "missouri",
         "orientation": "v",
         "showlegend": true,
         "type": "scatter",
         "x": [
          70
         ],
         "xaxis": "x",
         "y": [
          9
         ],
         "yaxis": "y"
        },
        {
         "alignmentgroup": "True",
         "hovertemplate": "City=missouri<br>UrbanPop=%{x}<extra></extra>",
         "legendgroup": "missouri",
         "marker": {
          "color": "#9467BD",
          "symbol": "circle"
         },
         "name": "missouri",
         "notched": true,
         "offsetgroup": "missouri",
         "showlegend": false,
         "type": "box",
         "x": [
          70
         ],
         "xaxis": "x2",
         "yaxis": "y2"
        },
        {
         "hovertemplate": "City=missouri<extra></extra>",
         "legendgroup": "missouri",
         "marker": {
          "color": "#9467BD",
          "symbol": "circle"
         },
         "mode": "lines",
         "name": "missouri",
         "showlegend": false,
         "type": "scatter",
         "xaxis": "x",
         "yaxis": "y"
        },
        {
         "hovertemplate": "City=montana<br>UrbanPop=%{x}<br>Murder=%{y}<extra></extra>",
         "legendgroup": "montana",
         "marker": {
          "color": "#8C564B",
          "symbol": "circle"
         },
         "mode": "markers",
         "name": "montana",
         "orientation": "v",
         "showlegend": true,
         "type": "scatter",
         "x": [
          53
         ],
         "xaxis": "x",
         "y": [
          6
         ],
         "yaxis": "y"
        },
        {
         "alignmentgroup": "True",
         "hovertemplate": "City=montana<br>UrbanPop=%{x}<extra></extra>",
         "legendgroup": "montana",
         "marker": {
          "color": "#8C564B",
          "symbol": "circle"
         },
         "name": "montana",
         "notched": true,
         "offsetgroup": "montana",
         "showlegend": false,
         "type": "box",
         "x": [
          53
         ],
         "xaxis": "x2",
         "yaxis": "y2"
        },
        {
         "hovertemplate": "City=montana<extra></extra>",
         "legendgroup": "montana",
         "marker": {
          "color": "#8C564B",
          "symbol": "circle"
         },
         "mode": "lines",
         "name": "montana",
         "showlegend": false,
         "type": "scatter",
         "xaxis": "x",
         "yaxis": "y"
        },
        {
         "hovertemplate": "City=nebraska<br>UrbanPop=%{x}<br>Murder=%{y}<extra></extra>",
         "legendgroup": "nebraska",
         "marker": {
          "color": "#E377C2",
          "symbol": "circle"
         },
         "mode": "markers",
         "name": "nebraska",
         "orientation": "v",
         "showlegend": true,
         "type": "scatter",
         "x": [
          62
         ],
         "xaxis": "x",
         "y": [
          4.3
         ],
         "yaxis": "y"
        },
        {
         "alignmentgroup": "True",
         "hovertemplate": "City=nebraska<br>UrbanPop=%{x}<extra></extra>",
         "legendgroup": "nebraska",
         "marker": {
          "color": "#E377C2",
          "symbol": "circle"
         },
         "name": "nebraska",
         "notched": true,
         "offsetgroup": "nebraska",
         "showlegend": false,
         "type": "box",
         "x": [
          62
         ],
         "xaxis": "x2",
         "yaxis": "y2"
        },
        {
         "hovertemplate": "City=nebraska<extra></extra>",
         "legendgroup": "nebraska",
         "marker": {
          "color": "#E377C2",
          "symbol": "circle"
         },
         "mode": "lines",
         "name": "nebraska",
         "showlegend": false,
         "type": "scatter",
         "xaxis": "x",
         "yaxis": "y"
        },
        {
         "hovertemplate": "City=nevada<br>UrbanPop=%{x}<br>Murder=%{y}<extra></extra>",
         "legendgroup": "nevada",
         "marker": {
          "color": "#7F7F7F",
          "symbol": "circle"
         },
         "mode": "markers",
         "name": "nevada",
         "orientation": "v",
         "showlegend": true,
         "type": "scatter",
         "x": [
          81
         ],
         "xaxis": "x",
         "y": [
          12.2
         ],
         "yaxis": "y"
        },
        {
         "alignmentgroup": "True",
         "hovertemplate": "City=nevada<br>UrbanPop=%{x}<extra></extra>",
         "legendgroup": "nevada",
         "marker": {
          "color": "#7F7F7F",
          "symbol": "circle"
         },
         "name": "nevada",
         "notched": true,
         "offsetgroup": "nevada",
         "showlegend": false,
         "type": "box",
         "x": [
          81
         ],
         "xaxis": "x2",
         "yaxis": "y2"
        },
        {
         "hovertemplate": "City=nevada<extra></extra>",
         "legendgroup": "nevada",
         "marker": {
          "color": "#7F7F7F",
          "symbol": "circle"
         },
         "mode": "lines",
         "name": "nevada",
         "showlegend": false,
         "type": "scatter",
         "xaxis": "x",
         "yaxis": "y"
        },
        {
         "hovertemplate": "City=new hampshire<br>UrbanPop=%{x}<br>Murder=%{y}<extra></extra>",
         "legendgroup": "new hampshire",
         "marker": {
          "color": "#BCBD22",
          "symbol": "circle"
         },
         "mode": "markers",
         "name": "new hampshire",
         "orientation": "v",
         "showlegend": true,
         "type": "scatter",
         "x": [
          56
         ],
         "xaxis": "x",
         "y": [
          2.1
         ],
         "yaxis": "y"
        },
        {
         "alignmentgroup": "True",
         "hovertemplate": "City=new hampshire<br>UrbanPop=%{x}<extra></extra>",
         "legendgroup": "new hampshire",
         "marker": {
          "color": "#BCBD22",
          "symbol": "circle"
         },
         "name": "new hampshire",
         "notched": true,
         "offsetgroup": "new hampshire",
         "showlegend": false,
         "type": "box",
         "x": [
          56
         ],
         "xaxis": "x2",
         "yaxis": "y2"
        },
        {
         "hovertemplate": "City=new hampshire<extra></extra>",
         "legendgroup": "new hampshire",
         "marker": {
          "color": "#BCBD22",
          "symbol": "circle"
         },
         "mode": "lines",
         "name": "new hampshire",
         "showlegend": false,
         "type": "scatter",
         "xaxis": "x",
         "yaxis": "y"
        },
        {
         "hovertemplate": "City=new jersey<br>UrbanPop=%{x}<br>Murder=%{y}<extra></extra>",
         "legendgroup": "new jersey",
         "marker": {
          "color": "#17BECF",
          "symbol": "circle"
         },
         "mode": "markers",
         "name": "new jersey",
         "orientation": "v",
         "showlegend": true,
         "type": "scatter",
         "x": [
          89
         ],
         "xaxis": "x",
         "y": [
          7.4
         ],
         "yaxis": "y"
        },
        {
         "alignmentgroup": "True",
         "hovertemplate": "City=new jersey<br>UrbanPop=%{x}<extra></extra>",
         "legendgroup": "new jersey",
         "marker": {
          "color": "#17BECF",
          "symbol": "circle"
         },
         "name": "new jersey",
         "notched": true,
         "offsetgroup": "new jersey",
         "showlegend": false,
         "type": "box",
         "x": [
          89
         ],
         "xaxis": "x2",
         "yaxis": "y2"
        },
        {
         "hovertemplate": "City=new jersey<extra></extra>",
         "legendgroup": "new jersey",
         "marker": {
          "color": "#17BECF",
          "symbol": "circle"
         },
         "mode": "lines",
         "name": "new jersey",
         "showlegend": false,
         "type": "scatter",
         "xaxis": "x",
         "yaxis": "y"
        },
        {
         "hovertemplate": "City=new mexico<br>UrbanPop=%{x}<br>Murder=%{y}<extra></extra>",
         "legendgroup": "new mexico",
         "marker": {
          "color": "#1F77B4",
          "symbol": "circle"
         },
         "mode": "markers",
         "name": "new mexico",
         "orientation": "v",
         "showlegend": true,
         "type": "scatter",
         "x": [
          70
         ],
         "xaxis": "x",
         "y": [
          11.4
         ],
         "yaxis": "y"
        },
        {
         "alignmentgroup": "True",
         "hovertemplate": "City=new mexico<br>UrbanPop=%{x}<extra></extra>",
         "legendgroup": "new mexico",
         "marker": {
          "color": "#1F77B4",
          "symbol": "circle"
         },
         "name": "new mexico",
         "notched": true,
         "offsetgroup": "new mexico",
         "showlegend": false,
         "type": "box",
         "x": [
          70
         ],
         "xaxis": "x2",
         "yaxis": "y2"
        },
        {
         "hovertemplate": "City=new mexico<extra></extra>",
         "legendgroup": "new mexico",
         "marker": {
          "color": "#1F77B4",
          "symbol": "circle"
         },
         "mode": "lines",
         "name": "new mexico",
         "showlegend": false,
         "type": "scatter",
         "xaxis": "x",
         "yaxis": "y"
        },
        {
         "hovertemplate": "City=new york<br>UrbanPop=%{x}<br>Murder=%{y}<extra></extra>",
         "legendgroup": "new york",
         "marker": {
          "color": "#FF7F0E",
          "symbol": "circle"
         },
         "mode": "markers",
         "name": "new york",
         "orientation": "v",
         "showlegend": true,
         "type": "scatter",
         "x": [
          86
         ],
         "xaxis": "x",
         "y": [
          11.1
         ],
         "yaxis": "y"
        },
        {
         "alignmentgroup": "True",
         "hovertemplate": "City=new york<br>UrbanPop=%{x}<extra></extra>",
         "legendgroup": "new york",
         "marker": {
          "color": "#FF7F0E",
          "symbol": "circle"
         },
         "name": "new york",
         "notched": true,
         "offsetgroup": "new york",
         "showlegend": false,
         "type": "box",
         "x": [
          86
         ],
         "xaxis": "x2",
         "yaxis": "y2"
        },
        {
         "hovertemplate": "City=new york<extra></extra>",
         "legendgroup": "new york",
         "marker": {
          "color": "#FF7F0E",
          "symbol": "circle"
         },
         "mode": "lines",
         "name": "new york",
         "showlegend": false,
         "type": "scatter",
         "xaxis": "x",
         "yaxis": "y"
        },
        {
         "hovertemplate": "City=north carolina<br>UrbanPop=%{x}<br>Murder=%{y}<extra></extra>",
         "legendgroup": "north carolina",
         "marker": {
          "color": "#2CA02C",
          "symbol": "circle"
         },
         "mode": "markers",
         "name": "north carolina",
         "orientation": "v",
         "showlegend": true,
         "type": "scatter",
         "x": [
          45
         ],
         "xaxis": "x",
         "y": [
          13
         ],
         "yaxis": "y"
        },
        {
         "alignmentgroup": "True",
         "hovertemplate": "City=north carolina<br>UrbanPop=%{x}<extra></extra>",
         "legendgroup": "north carolina",
         "marker": {
          "color": "#2CA02C",
          "symbol": "circle"
         },
         "name": "north carolina",
         "notched": true,
         "offsetgroup": "north carolina",
         "showlegend": false,
         "type": "box",
         "x": [
          45
         ],
         "xaxis": "x2",
         "yaxis": "y2"
        },
        {
         "hovertemplate": "City=north carolina<extra></extra>",
         "legendgroup": "north carolina",
         "marker": {
          "color": "#2CA02C",
          "symbol": "circle"
         },
         "mode": "lines",
         "name": "north carolina",
         "showlegend": false,
         "type": "scatter",
         "xaxis": "x",
         "yaxis": "y"
        },
        {
         "hovertemplate": "City=north dakota<br>UrbanPop=%{x}<br>Murder=%{y}<extra></extra>",
         "legendgroup": "north dakota",
         "marker": {
          "color": "#D62728",
          "symbol": "circle"
         },
         "mode": "markers",
         "name": "north dakota",
         "orientation": "v",
         "showlegend": true,
         "type": "scatter",
         "x": [
          44
         ],
         "xaxis": "x",
         "y": [
          0.8
         ],
         "yaxis": "y"
        },
        {
         "alignmentgroup": "True",
         "hovertemplate": "City=north dakota<br>UrbanPop=%{x}<extra></extra>",
         "legendgroup": "north dakota",
         "marker": {
          "color": "#D62728",
          "symbol": "circle"
         },
         "name": "north dakota",
         "notched": true,
         "offsetgroup": "north dakota",
         "showlegend": false,
         "type": "box",
         "x": [
          44
         ],
         "xaxis": "x2",
         "yaxis": "y2"
        },
        {
         "hovertemplate": "City=north dakota<extra></extra>",
         "legendgroup": "north dakota",
         "marker": {
          "color": "#D62728",
          "symbol": "circle"
         },
         "mode": "lines",
         "name": "north dakota",
         "showlegend": false,
         "type": "scatter",
         "xaxis": "x",
         "yaxis": "y"
        },
        {
         "hovertemplate": "City=ohio<br>UrbanPop=%{x}<br>Murder=%{y}<extra></extra>",
         "legendgroup": "ohio",
         "marker": {
          "color": "#9467BD",
          "symbol": "circle"
         },
         "mode": "markers",
         "name": "ohio",
         "orientation": "v",
         "showlegend": true,
         "type": "scatter",
         "x": [
          75
         ],
         "xaxis": "x",
         "y": [
          7.3
         ],
         "yaxis": "y"
        },
        {
         "alignmentgroup": "True",
         "hovertemplate": "City=ohio<br>UrbanPop=%{x}<extra></extra>",
         "legendgroup": "ohio",
         "marker": {
          "color": "#9467BD",
          "symbol": "circle"
         },
         "name": "ohio",
         "notched": true,
         "offsetgroup": "ohio",
         "showlegend": false,
         "type": "box",
         "x": [
          75
         ],
         "xaxis": "x2",
         "yaxis": "y2"
        },
        {
         "hovertemplate": "City=ohio<extra></extra>",
         "legendgroup": "ohio",
         "marker": {
          "color": "#9467BD",
          "symbol": "circle"
         },
         "mode": "lines",
         "name": "ohio",
         "showlegend": false,
         "type": "scatter",
         "xaxis": "x",
         "yaxis": "y"
        },
        {
         "hovertemplate": "City=oklahoma<br>UrbanPop=%{x}<br>Murder=%{y}<extra></extra>",
         "legendgroup": "oklahoma",
         "marker": {
          "color": "#8C564B",
          "symbol": "circle"
         },
         "mode": "markers",
         "name": "oklahoma",
         "orientation": "v",
         "showlegend": true,
         "type": "scatter",
         "x": [
          68
         ],
         "xaxis": "x",
         "y": [
          6.6
         ],
         "yaxis": "y"
        },
        {
         "alignmentgroup": "True",
         "hovertemplate": "City=oklahoma<br>UrbanPop=%{x}<extra></extra>",
         "legendgroup": "oklahoma",
         "marker": {
          "color": "#8C564B",
          "symbol": "circle"
         },
         "name": "oklahoma",
         "notched": true,
         "offsetgroup": "oklahoma",
         "showlegend": false,
         "type": "box",
         "x": [
          68
         ],
         "xaxis": "x2",
         "yaxis": "y2"
        },
        {
         "hovertemplate": "City=oklahoma<extra></extra>",
         "legendgroup": "oklahoma",
         "marker": {
          "color": "#8C564B",
          "symbol": "circle"
         },
         "mode": "lines",
         "name": "oklahoma",
         "showlegend": false,
         "type": "scatter",
         "xaxis": "x",
         "yaxis": "y"
        },
        {
         "hovertemplate": "City=oregon<br>UrbanPop=%{x}<br>Murder=%{y}<extra></extra>",
         "legendgroup": "oregon",
         "marker": {
          "color": "#E377C2",
          "symbol": "circle"
         },
         "mode": "markers",
         "name": "oregon",
         "orientation": "v",
         "showlegend": true,
         "type": "scatter",
         "x": [
          67
         ],
         "xaxis": "x",
         "y": [
          4.9
         ],
         "yaxis": "y"
        },
        {
         "alignmentgroup": "True",
         "hovertemplate": "City=oregon<br>UrbanPop=%{x}<extra></extra>",
         "legendgroup": "oregon",
         "marker": {
          "color": "#E377C2",
          "symbol": "circle"
         },
         "name": "oregon",
         "notched": true,
         "offsetgroup": "oregon",
         "showlegend": false,
         "type": "box",
         "x": [
          67
         ],
         "xaxis": "x2",
         "yaxis": "y2"
        },
        {
         "hovertemplate": "City=oregon<extra></extra>",
         "legendgroup": "oregon",
         "marker": {
          "color": "#E377C2",
          "symbol": "circle"
         },
         "mode": "lines",
         "name": "oregon",
         "showlegend": false,
         "type": "scatter",
         "xaxis": "x",
         "yaxis": "y"
        },
        {
         "hovertemplate": "City=pennsylvania<br>UrbanPop=%{x}<br>Murder=%{y}<extra></extra>",
         "legendgroup": "pennsylvania",
         "marker": {
          "color": "#7F7F7F",
          "symbol": "circle"
         },
         "mode": "markers",
         "name": "pennsylvania",
         "orientation": "v",
         "showlegend": true,
         "type": "scatter",
         "x": [
          72
         ],
         "xaxis": "x",
         "y": [
          6.3
         ],
         "yaxis": "y"
        },
        {
         "alignmentgroup": "True",
         "hovertemplate": "City=pennsylvania<br>UrbanPop=%{x}<extra></extra>",
         "legendgroup": "pennsylvania",
         "marker": {
          "color": "#7F7F7F",
          "symbol": "circle"
         },
         "name": "pennsylvania",
         "notched": true,
         "offsetgroup": "pennsylvania",
         "showlegend": false,
         "type": "box",
         "x": [
          72
         ],
         "xaxis": "x2",
         "yaxis": "y2"
        },
        {
         "hovertemplate": "City=pennsylvania<extra></extra>",
         "legendgroup": "pennsylvania",
         "marker": {
          "color": "#7F7F7F",
          "symbol": "circle"
         },
         "mode": "lines",
         "name": "pennsylvania",
         "showlegend": false,
         "type": "scatter",
         "xaxis": "x",
         "yaxis": "y"
        },
        {
         "hovertemplate": "City=rhode island<br>UrbanPop=%{x}<br>Murder=%{y}<extra></extra>",
         "legendgroup": "rhode island",
         "marker": {
          "color": "#BCBD22",
          "symbol": "circle"
         },
         "mode": "markers",
         "name": "rhode island",
         "orientation": "v",
         "showlegend": true,
         "type": "scatter",
         "x": [
          87
         ],
         "xaxis": "x",
         "y": [
          3.4
         ],
         "yaxis": "y"
        },
        {
         "alignmentgroup": "True",
         "hovertemplate": "City=rhode island<br>UrbanPop=%{x}<extra></extra>",
         "legendgroup": "rhode island",
         "marker": {
          "color": "#BCBD22",
          "symbol": "circle"
         },
         "name": "rhode island",
         "notched": true,
         "offsetgroup": "rhode island",
         "showlegend": false,
         "type": "box",
         "x": [
          87
         ],
         "xaxis": "x2",
         "yaxis": "y2"
        },
        {
         "hovertemplate": "City=rhode island<extra></extra>",
         "legendgroup": "rhode island",
         "marker": {
          "color": "#BCBD22",
          "symbol": "circle"
         },
         "mode": "lines",
         "name": "rhode island",
         "showlegend": false,
         "type": "scatter",
         "xaxis": "x",
         "yaxis": "y"
        },
        {
         "hovertemplate": "City=south carolina<br>UrbanPop=%{x}<br>Murder=%{y}<extra></extra>",
         "legendgroup": "south carolina",
         "marker": {
          "color": "#17BECF",
          "symbol": "circle"
         },
         "mode": "markers",
         "name": "south carolina",
         "orientation": "v",
         "showlegend": true,
         "type": "scatter",
         "x": [
          48
         ],
         "xaxis": "x",
         "y": [
          14.4
         ],
         "yaxis": "y"
        },
        {
         "alignmentgroup": "True",
         "hovertemplate": "City=south carolina<br>UrbanPop=%{x}<extra></extra>",
         "legendgroup": "south carolina",
         "marker": {
          "color": "#17BECF",
          "symbol": "circle"
         },
         "name": "south carolina",
         "notched": true,
         "offsetgroup": "south carolina",
         "showlegend": false,
         "type": "box",
         "x": [
          48
         ],
         "xaxis": "x2",
         "yaxis": "y2"
        },
        {
         "hovertemplate": "City=south carolina<extra></extra>",
         "legendgroup": "south carolina",
         "marker": {
          "color": "#17BECF",
          "symbol": "circle"
         },
         "mode": "lines",
         "name": "south carolina",
         "showlegend": false,
         "type": "scatter",
         "xaxis": "x",
         "yaxis": "y"
        },
        {
         "hovertemplate": "City=south dakota<br>UrbanPop=%{x}<br>Murder=%{y}<extra></extra>",
         "legendgroup": "south dakota",
         "marker": {
          "color": "#1F77B4",
          "symbol": "circle"
         },
         "mode": "markers",
         "name": "south dakota",
         "orientation": "v",
         "showlegend": true,
         "type": "scatter",
         "x": [
          45
         ],
         "xaxis": "x",
         "y": [
          3.8
         ],
         "yaxis": "y"
        },
        {
         "alignmentgroup": "True",
         "hovertemplate": "City=south dakota<br>UrbanPop=%{x}<extra></extra>",
         "legendgroup": "south dakota",
         "marker": {
          "color": "#1F77B4",
          "symbol": "circle"
         },
         "name": "south dakota",
         "notched": true,
         "offsetgroup": "south dakota",
         "showlegend": false,
         "type": "box",
         "x": [
          45
         ],
         "xaxis": "x2",
         "yaxis": "y2"
        },
        {
         "hovertemplate": "City=south dakota<extra></extra>",
         "legendgroup": "south dakota",
         "marker": {
          "color": "#1F77B4",
          "symbol": "circle"
         },
         "mode": "lines",
         "name": "south dakota",
         "showlegend": false,
         "type": "scatter",
         "xaxis": "x",
         "yaxis": "y"
        },
        {
         "hovertemplate": "City=tennessee<br>UrbanPop=%{x}<br>Murder=%{y}<extra></extra>",
         "legendgroup": "tennessee",
         "marker": {
          "color": "#FF7F0E",
          "symbol": "circle"
         },
         "mode": "markers",
         "name": "tennessee",
         "orientation": "v",
         "showlegend": true,
         "type": "scatter",
         "x": [
          59
         ],
         "xaxis": "x",
         "y": [
          13.2
         ],
         "yaxis": "y"
        },
        {
         "alignmentgroup": "True",
         "hovertemplate": "City=tennessee<br>UrbanPop=%{x}<extra></extra>",
         "legendgroup": "tennessee",
         "marker": {
          "color": "#FF7F0E",
          "symbol": "circle"
         },
         "name": "tennessee",
         "notched": true,
         "offsetgroup": "tennessee",
         "showlegend": false,
         "type": "box",
         "x": [
          59
         ],
         "xaxis": "x2",
         "yaxis": "y2"
        },
        {
         "hovertemplate": "City=tennessee<extra></extra>",
         "legendgroup": "tennessee",
         "marker": {
          "color": "#FF7F0E",
          "symbol": "circle"
         },
         "mode": "lines",
         "name": "tennessee",
         "showlegend": false,
         "type": "scatter",
         "xaxis": "x",
         "yaxis": "y"
        },
        {
         "hovertemplate": "City=texas<br>UrbanPop=%{x}<br>Murder=%{y}<extra></extra>",
         "legendgroup": "texas",
         "marker": {
          "color": "#2CA02C",
          "symbol": "circle"
         },
         "mode": "markers",
         "name": "texas",
         "orientation": "v",
         "showlegend": true,
         "type": "scatter",
         "x": [
          80
         ],
         "xaxis": "x",
         "y": [
          12.7
         ],
         "yaxis": "y"
        },
        {
         "alignmentgroup": "True",
         "hovertemplate": "City=texas<br>UrbanPop=%{x}<extra></extra>",
         "legendgroup": "texas",
         "marker": {
          "color": "#2CA02C",
          "symbol": "circle"
         },
         "name": "texas",
         "notched": true,
         "offsetgroup": "texas",
         "showlegend": false,
         "type": "box",
         "x": [
          80
         ],
         "xaxis": "x2",
         "yaxis": "y2"
        },
        {
         "hovertemplate": "City=texas<extra></extra>",
         "legendgroup": "texas",
         "marker": {
          "color": "#2CA02C",
          "symbol": "circle"
         },
         "mode": "lines",
         "name": "texas",
         "showlegend": false,
         "type": "scatter",
         "xaxis": "x",
         "yaxis": "y"
        },
        {
         "hovertemplate": "City=utah<br>UrbanPop=%{x}<br>Murder=%{y}<extra></extra>",
         "legendgroup": "utah",
         "marker": {
          "color": "#D62728",
          "symbol": "circle"
         },
         "mode": "markers",
         "name": "utah",
         "orientation": "v",
         "showlegend": true,
         "type": "scatter",
         "x": [
          80
         ],
         "xaxis": "x",
         "y": [
          3.2
         ],
         "yaxis": "y"
        },
        {
         "alignmentgroup": "True",
         "hovertemplate": "City=utah<br>UrbanPop=%{x}<extra></extra>",
         "legendgroup": "utah",
         "marker": {
          "color": "#D62728",
          "symbol": "circle"
         },
         "name": "utah",
         "notched": true,
         "offsetgroup": "utah",
         "showlegend": false,
         "type": "box",
         "x": [
          80
         ],
         "xaxis": "x2",
         "yaxis": "y2"
        },
        {
         "hovertemplate": "City=utah<extra></extra>",
         "legendgroup": "utah",
         "marker": {
          "color": "#D62728",
          "symbol": "circle"
         },
         "mode": "lines",
         "name": "utah",
         "showlegend": false,
         "type": "scatter",
         "xaxis": "x",
         "yaxis": "y"
        },
        {
         "hovertemplate": "City=vermont<br>UrbanPop=%{x}<br>Murder=%{y}<extra></extra>",
         "legendgroup": "vermont",
         "marker": {
          "color": "#9467BD",
          "symbol": "circle"
         },
         "mode": "markers",
         "name": "vermont",
         "orientation": "v",
         "showlegend": true,
         "type": "scatter",
         "x": [
          32
         ],
         "xaxis": "x",
         "y": [
          2.2
         ],
         "yaxis": "y"
        },
        {
         "alignmentgroup": "True",
         "hovertemplate": "City=vermont<br>UrbanPop=%{x}<extra></extra>",
         "legendgroup": "vermont",
         "marker": {
          "color": "#9467BD",
          "symbol": "circle"
         },
         "name": "vermont",
         "notched": true,
         "offsetgroup": "vermont",
         "showlegend": false,
         "type": "box",
         "x": [
          32
         ],
         "xaxis": "x2",
         "yaxis": "y2"
        },
        {
         "hovertemplate": "City=vermont<extra></extra>",
         "legendgroup": "vermont",
         "marker": {
          "color": "#9467BD",
          "symbol": "circle"
         },
         "mode": "lines",
         "name": "vermont",
         "showlegend": false,
         "type": "scatter",
         "xaxis": "x",
         "yaxis": "y"
        },
        {
         "hovertemplate": "City=virginia<br>UrbanPop=%{x}<br>Murder=%{y}<extra></extra>",
         "legendgroup": "virginia",
         "marker": {
          "color": "#8C564B",
          "symbol": "circle"
         },
         "mode": "markers",
         "name": "virginia",
         "orientation": "v",
         "showlegend": true,
         "type": "scatter",
         "x": [
          63
         ],
         "xaxis": "x",
         "y": [
          8.5
         ],
         "yaxis": "y"
        },
        {
         "alignmentgroup": "True",
         "hovertemplate": "City=virginia<br>UrbanPop=%{x}<extra></extra>",
         "legendgroup": "virginia",
         "marker": {
          "color": "#8C564B",
          "symbol": "circle"
         },
         "name": "virginia",
         "notched": true,
         "offsetgroup": "virginia",
         "showlegend": false,
         "type": "box",
         "x": [
          63
         ],
         "xaxis": "x2",
         "yaxis": "y2"
        },
        {
         "hovertemplate": "City=virginia<extra></extra>",
         "legendgroup": "virginia",
         "marker": {
          "color": "#8C564B",
          "symbol": "circle"
         },
         "mode": "lines",
         "name": "virginia",
         "showlegend": false,
         "type": "scatter",
         "xaxis": "x",
         "yaxis": "y"
        },
        {
         "hovertemplate": "City=washington<br>UrbanPop=%{x}<br>Murder=%{y}<extra></extra>",
         "legendgroup": "washington",
         "marker": {
          "color": "#E377C2",
          "symbol": "circle"
         },
         "mode": "markers",
         "name": "washington",
         "orientation": "v",
         "showlegend": true,
         "type": "scatter",
         "x": [
          73
         ],
         "xaxis": "x",
         "y": [
          4
         ],
         "yaxis": "y"
        },
        {
         "alignmentgroup": "True",
         "hovertemplate": "City=washington<br>UrbanPop=%{x}<extra></extra>",
         "legendgroup": "washington",
         "marker": {
          "color": "#E377C2",
          "symbol": "circle"
         },
         "name": "washington",
         "notched": true,
         "offsetgroup": "washington",
         "showlegend": false,
         "type": "box",
         "x": [
          73
         ],
         "xaxis": "x2",
         "yaxis": "y2"
        },
        {
         "hovertemplate": "City=washington<extra></extra>",
         "legendgroup": "washington",
         "marker": {
          "color": "#E377C2",
          "symbol": "circle"
         },
         "mode": "lines",
         "name": "washington",
         "showlegend": false,
         "type": "scatter",
         "xaxis": "x",
         "yaxis": "y"
        },
        {
         "hovertemplate": "City=west virginia<br>UrbanPop=%{x}<br>Murder=%{y}<extra></extra>",
         "legendgroup": "west virginia",
         "marker": {
          "color": "#7F7F7F",
          "symbol": "circle"
         },
         "mode": "markers",
         "name": "west virginia",
         "orientation": "v",
         "showlegend": true,
         "type": "scatter",
         "x": [
          39
         ],
         "xaxis": "x",
         "y": [
          5.7
         ],
         "yaxis": "y"
        },
        {
         "alignmentgroup": "True",
         "hovertemplate": "City=west virginia<br>UrbanPop=%{x}<extra></extra>",
         "legendgroup": "west virginia",
         "marker": {
          "color": "#7F7F7F",
          "symbol": "circle"
         },
         "name": "west virginia",
         "notched": true,
         "offsetgroup": "west virginia",
         "showlegend": false,
         "type": "box",
         "x": [
          39
         ],
         "xaxis": "x2",
         "yaxis": "y2"
        },
        {
         "hovertemplate": "City=west virginia<extra></extra>",
         "legendgroup": "west virginia",
         "marker": {
          "color": "#7F7F7F",
          "symbol": "circle"
         },
         "mode": "lines",
         "name": "west virginia",
         "showlegend": false,
         "type": "scatter",
         "xaxis": "x",
         "yaxis": "y"
        },
        {
         "hovertemplate": "City=wisconsin<br>UrbanPop=%{x}<br>Murder=%{y}<extra></extra>",
         "legendgroup": "wisconsin",
         "marker": {
          "color": "#BCBD22",
          "symbol": "circle"
         },
         "mode": "markers",
         "name": "wisconsin",
         "orientation": "v",
         "showlegend": true,
         "type": "scatter",
         "x": [
          66
         ],
         "xaxis": "x",
         "y": [
          2.6
         ],
         "yaxis": "y"
        },
        {
         "alignmentgroup": "True",
         "hovertemplate": "City=wisconsin<br>UrbanPop=%{x}<extra></extra>",
         "legendgroup": "wisconsin",
         "marker": {
          "color": "#BCBD22",
          "symbol": "circle"
         },
         "name": "wisconsin",
         "notched": true,
         "offsetgroup": "wisconsin",
         "showlegend": false,
         "type": "box",
         "x": [
          66
         ],
         "xaxis": "x2",
         "yaxis": "y2"
        },
        {
         "hovertemplate": "City=wisconsin<extra></extra>",
         "legendgroup": "wisconsin",
         "marker": {
          "color": "#BCBD22",
          "symbol": "circle"
         },
         "mode": "lines",
         "name": "wisconsin",
         "showlegend": false,
         "type": "scatter",
         "xaxis": "x",
         "yaxis": "y"
        },
        {
         "hovertemplate": "City=wyoming<br>UrbanPop=%{x}<br>Murder=%{y}<extra></extra>",
         "legendgroup": "wyoming",
         "marker": {
          "color": "#17BECF",
          "symbol": "circle"
         },
         "mode": "markers",
         "name": "wyoming",
         "orientation": "v",
         "showlegend": true,
         "type": "scatter",
         "x": [
          60
         ],
         "xaxis": "x",
         "y": [
          6.8
         ],
         "yaxis": "y"
        },
        {
         "alignmentgroup": "True",
         "hovertemplate": "City=wyoming<br>UrbanPop=%{x}<extra></extra>",
         "legendgroup": "wyoming",
         "marker": {
          "color": "#17BECF",
          "symbol": "circle"
         },
         "name": "wyoming",
         "notched": true,
         "offsetgroup": "wyoming",
         "showlegend": false,
         "type": "box",
         "x": [
          60
         ],
         "xaxis": "x2",
         "yaxis": "y2"
        },
        {
         "hovertemplate": "City=wyoming<extra></extra>",
         "legendgroup": "wyoming",
         "marker": {
          "color": "#17BECF",
          "symbol": "circle"
         },
         "mode": "lines",
         "name": "wyoming",
         "showlegend": false,
         "type": "scatter",
         "xaxis": "x",
         "yaxis": "y"
        }
       ],
       "layout": {
        "legend": {
         "title": {
          "text": "City"
         },
         "tracegroupgap": 0
        },
        "margin": {
         "t": 60
        },
        "template": {
         "data": {
          "bar": [
           {
            "error_x": {
             "color": "rgb(36,36,36)"
            },
            "error_y": {
             "color": "rgb(36,36,36)"
            },
            "marker": {
             "line": {
              "color": "white",
              "width": 0.5
             },
             "pattern": {
              "fillmode": "overlay",
              "size": 10,
              "solidity": 0.2
             }
            },
            "type": "bar"
           }
          ],
          "barpolar": [
           {
            "marker": {
             "line": {
              "color": "white",
              "width": 0.5
             },
             "pattern": {
              "fillmode": "overlay",
              "size": 10,
              "solidity": 0.2
             }
            },
            "type": "barpolar"
           }
          ],
          "carpet": [
           {
            "aaxis": {
             "endlinecolor": "rgb(36,36,36)",
             "gridcolor": "white",
             "linecolor": "white",
             "minorgridcolor": "white",
             "startlinecolor": "rgb(36,36,36)"
            },
            "baxis": {
             "endlinecolor": "rgb(36,36,36)",
             "gridcolor": "white",
             "linecolor": "white",
             "minorgridcolor": "white",
             "startlinecolor": "rgb(36,36,36)"
            },
            "type": "carpet"
           }
          ],
          "choropleth": [
           {
            "colorbar": {
             "outlinewidth": 1,
             "tickcolor": "rgb(36,36,36)",
             "ticks": "outside"
            },
            "type": "choropleth"
           }
          ],
          "contour": [
           {
            "colorbar": {
             "outlinewidth": 1,
             "tickcolor": "rgb(36,36,36)",
             "ticks": "outside"
            },
            "colorscale": [
             [
              0,
              "#440154"
             ],
             [
              0.1111111111111111,
              "#482878"
             ],
             [
              0.2222222222222222,
              "#3e4989"
             ],
             [
              0.3333333333333333,
              "#31688e"
             ],
             [
              0.4444444444444444,
              "#26828e"
             ],
             [
              0.5555555555555556,
              "#1f9e89"
             ],
             [
              0.6666666666666666,
              "#35b779"
             ],
             [
              0.7777777777777778,
              "#6ece58"
             ],
             [
              0.8888888888888888,
              "#b5de2b"
             ],
             [
              1,
              "#fde725"
             ]
            ],
            "type": "contour"
           }
          ],
          "contourcarpet": [
           {
            "colorbar": {
             "outlinewidth": 1,
             "tickcolor": "rgb(36,36,36)",
             "ticks": "outside"
            },
            "type": "contourcarpet"
           }
          ],
          "heatmap": [
           {
            "colorbar": {
             "outlinewidth": 1,
             "tickcolor": "rgb(36,36,36)",
             "ticks": "outside"
            },
            "colorscale": [
             [
              0,
              "#440154"
             ],
             [
              0.1111111111111111,
              "#482878"
             ],
             [
              0.2222222222222222,
              "#3e4989"
             ],
             [
              0.3333333333333333,
              "#31688e"
             ],
             [
              0.4444444444444444,
              "#26828e"
             ],
             [
              0.5555555555555556,
              "#1f9e89"
             ],
             [
              0.6666666666666666,
              "#35b779"
             ],
             [
              0.7777777777777778,
              "#6ece58"
             ],
             [
              0.8888888888888888,
              "#b5de2b"
             ],
             [
              1,
              "#fde725"
             ]
            ],
            "type": "heatmap"
           }
          ],
          "heatmapgl": [
           {
            "colorbar": {
             "outlinewidth": 1,
             "tickcolor": "rgb(36,36,36)",
             "ticks": "outside"
            },
            "colorscale": [
             [
              0,
              "#440154"
             ],
             [
              0.1111111111111111,
              "#482878"
             ],
             [
              0.2222222222222222,
              "#3e4989"
             ],
             [
              0.3333333333333333,
              "#31688e"
             ],
             [
              0.4444444444444444,
              "#26828e"
             ],
             [
              0.5555555555555556,
              "#1f9e89"
             ],
             [
              0.6666666666666666,
              "#35b779"
             ],
             [
              0.7777777777777778,
              "#6ece58"
             ],
             [
              0.8888888888888888,
              "#b5de2b"
             ],
             [
              1,
              "#fde725"
             ]
            ],
            "type": "heatmapgl"
           }
          ],
          "histogram": [
           {
            "marker": {
             "line": {
              "color": "white",
              "width": 0.6
             }
            },
            "type": "histogram"
           }
          ],
          "histogram2d": [
           {
            "colorbar": {
             "outlinewidth": 1,
             "tickcolor": "rgb(36,36,36)",
             "ticks": "outside"
            },
            "colorscale": [
             [
              0,
              "#440154"
             ],
             [
              0.1111111111111111,
              "#482878"
             ],
             [
              0.2222222222222222,
              "#3e4989"
             ],
             [
              0.3333333333333333,
              "#31688e"
             ],
             [
              0.4444444444444444,
              "#26828e"
             ],
             [
              0.5555555555555556,
              "#1f9e89"
             ],
             [
              0.6666666666666666,
              "#35b779"
             ],
             [
              0.7777777777777778,
              "#6ece58"
             ],
             [
              0.8888888888888888,
              "#b5de2b"
             ],
             [
              1,
              "#fde725"
             ]
            ],
            "type": "histogram2d"
           }
          ],
          "histogram2dcontour": [
           {
            "colorbar": {
             "outlinewidth": 1,
             "tickcolor": "rgb(36,36,36)",
             "ticks": "outside"
            },
            "colorscale": [
             [
              0,
              "#440154"
             ],
             [
              0.1111111111111111,
              "#482878"
             ],
             [
              0.2222222222222222,
              "#3e4989"
             ],
             [
              0.3333333333333333,
              "#31688e"
             ],
             [
              0.4444444444444444,
              "#26828e"
             ],
             [
              0.5555555555555556,
              "#1f9e89"
             ],
             [
              0.6666666666666666,
              "#35b779"
             ],
             [
              0.7777777777777778,
              "#6ece58"
             ],
             [
              0.8888888888888888,
              "#b5de2b"
             ],
             [
              1,
              "#fde725"
             ]
            ],
            "type": "histogram2dcontour"
           }
          ],
          "mesh3d": [
           {
            "colorbar": {
             "outlinewidth": 1,
             "tickcolor": "rgb(36,36,36)",
             "ticks": "outside"
            },
            "type": "mesh3d"
           }
          ],
          "parcoords": [
           {
            "line": {
             "colorbar": {
              "outlinewidth": 1,
              "tickcolor": "rgb(36,36,36)",
              "ticks": "outside"
             }
            },
            "type": "parcoords"
           }
          ],
          "pie": [
           {
            "automargin": true,
            "type": "pie"
           }
          ],
          "scatter": [
           {
            "fillpattern": {
             "fillmode": "overlay",
             "size": 10,
             "solidity": 0.2
            },
            "type": "scatter"
           }
          ],
          "scatter3d": [
           {
            "line": {
             "colorbar": {
              "outlinewidth": 1,
              "tickcolor": "rgb(36,36,36)",
              "ticks": "outside"
             }
            },
            "marker": {
             "colorbar": {
              "outlinewidth": 1,
              "tickcolor": "rgb(36,36,36)",
              "ticks": "outside"
             }
            },
            "type": "scatter3d"
           }
          ],
          "scattercarpet": [
           {
            "marker": {
             "colorbar": {
              "outlinewidth": 1,
              "tickcolor": "rgb(36,36,36)",
              "ticks": "outside"
             }
            },
            "type": "scattercarpet"
           }
          ],
          "scattergeo": [
           {
            "marker": {
             "colorbar": {
              "outlinewidth": 1,
              "tickcolor": "rgb(36,36,36)",
              "ticks": "outside"
             }
            },
            "type": "scattergeo"
           }
          ],
          "scattergl": [
           {
            "marker": {
             "colorbar": {
              "outlinewidth": 1,
              "tickcolor": "rgb(36,36,36)",
              "ticks": "outside"
             }
            },
            "type": "scattergl"
           }
          ],
          "scattermapbox": [
           {
            "marker": {
             "colorbar": {
              "outlinewidth": 1,
              "tickcolor": "rgb(36,36,36)",
              "ticks": "outside"
             }
            },
            "type": "scattermapbox"
           }
          ],
          "scatterpolar": [
           {
            "marker": {
             "colorbar": {
              "outlinewidth": 1,
              "tickcolor": "rgb(36,36,36)",
              "ticks": "outside"
             }
            },
            "type": "scatterpolar"
           }
          ],
          "scatterpolargl": [
           {
            "marker": {
             "colorbar": {
              "outlinewidth": 1,
              "tickcolor": "rgb(36,36,36)",
              "ticks": "outside"
             }
            },
            "type": "scatterpolargl"
           }
          ],
          "scatterternary": [
           {
            "marker": {
             "colorbar": {
              "outlinewidth": 1,
              "tickcolor": "rgb(36,36,36)",
              "ticks": "outside"
             }
            },
            "type": "scatterternary"
           }
          ],
          "surface": [
           {
            "colorbar": {
             "outlinewidth": 1,
             "tickcolor": "rgb(36,36,36)",
             "ticks": "outside"
            },
            "colorscale": [
             [
              0,
              "#440154"
             ],
             [
              0.1111111111111111,
              "#482878"
             ],
             [
              0.2222222222222222,
              "#3e4989"
             ],
             [
              0.3333333333333333,
              "#31688e"
             ],
             [
              0.4444444444444444,
              "#26828e"
             ],
             [
              0.5555555555555556,
              "#1f9e89"
             ],
             [
              0.6666666666666666,
              "#35b779"
             ],
             [
              0.7777777777777778,
              "#6ece58"
             ],
             [
              0.8888888888888888,
              "#b5de2b"
             ],
             [
              1,
              "#fde725"
             ]
            ],
            "type": "surface"
           }
          ],
          "table": [
           {
            "cells": {
             "fill": {
              "color": "rgb(237,237,237)"
             },
             "line": {
              "color": "white"
             }
            },
            "header": {
             "fill": {
              "color": "rgb(217,217,217)"
             },
             "line": {
              "color": "white"
             }
            },
            "type": "table"
           }
          ]
         },
         "layout": {
          "annotationdefaults": {
           "arrowhead": 0,
           "arrowwidth": 1
          },
          "autotypenumbers": "strict",
          "coloraxis": {
           "colorbar": {
            "outlinewidth": 1,
            "tickcolor": "rgb(36,36,36)",
            "ticks": "outside"
           }
          },
          "colorscale": {
           "diverging": [
            [
             0,
             "rgb(103,0,31)"
            ],
            [
             0.1,
             "rgb(178,24,43)"
            ],
            [
             0.2,
             "rgb(214,96,77)"
            ],
            [
             0.3,
             "rgb(244,165,130)"
            ],
            [
             0.4,
             "rgb(253,219,199)"
            ],
            [
             0.5,
             "rgb(247,247,247)"
            ],
            [
             0.6,
             "rgb(209,229,240)"
            ],
            [
             0.7,
             "rgb(146,197,222)"
            ],
            [
             0.8,
             "rgb(67,147,195)"
            ],
            [
             0.9,
             "rgb(33,102,172)"
            ],
            [
             1,
             "rgb(5,48,97)"
            ]
           ],
           "sequential": [
            [
             0,
             "#440154"
            ],
            [
             0.1111111111111111,
             "#482878"
            ],
            [
             0.2222222222222222,
             "#3e4989"
            ],
            [
             0.3333333333333333,
             "#31688e"
            ],
            [
             0.4444444444444444,
             "#26828e"
            ],
            [
             0.5555555555555556,
             "#1f9e89"
            ],
            [
             0.6666666666666666,
             "#35b779"
            ],
            [
             0.7777777777777778,
             "#6ece58"
            ],
            [
             0.8888888888888888,
             "#b5de2b"
            ],
            [
             1,
             "#fde725"
            ]
           ],
           "sequentialminus": [
            [
             0,
             "#440154"
            ],
            [
             0.1111111111111111,
             "#482878"
            ],
            [
             0.2222222222222222,
             "#3e4989"
            ],
            [
             0.3333333333333333,
             "#31688e"
            ],
            [
             0.4444444444444444,
             "#26828e"
            ],
            [
             0.5555555555555556,
             "#1f9e89"
            ],
            [
             0.6666666666666666,
             "#35b779"
            ],
            [
             0.7777777777777778,
             "#6ece58"
            ],
            [
             0.8888888888888888,
             "#b5de2b"
            ],
            [
             1,
             "#fde725"
            ]
           ]
          },
          "colorway": [
           "#1F77B4",
           "#FF7F0E",
           "#2CA02C",
           "#D62728",
           "#9467BD",
           "#8C564B",
           "#E377C2",
           "#7F7F7F",
           "#BCBD22",
           "#17BECF"
          ],
          "font": {
           "color": "rgb(36,36,36)"
          },
          "geo": {
           "bgcolor": "white",
           "lakecolor": "white",
           "landcolor": "white",
           "showlakes": true,
           "showland": true,
           "subunitcolor": "white"
          },
          "hoverlabel": {
           "align": "left"
          },
          "hovermode": "closest",
          "mapbox": {
           "style": "light"
          },
          "paper_bgcolor": "white",
          "plot_bgcolor": "white",
          "polar": {
           "angularaxis": {
            "gridcolor": "rgb(232,232,232)",
            "linecolor": "rgb(36,36,36)",
            "showgrid": false,
            "showline": true,
            "ticks": "outside"
           },
           "bgcolor": "white",
           "radialaxis": {
            "gridcolor": "rgb(232,232,232)",
            "linecolor": "rgb(36,36,36)",
            "showgrid": false,
            "showline": true,
            "ticks": "outside"
           }
          },
          "scene": {
           "xaxis": {
            "backgroundcolor": "white",
            "gridcolor": "rgb(232,232,232)",
            "gridwidth": 2,
            "linecolor": "rgb(36,36,36)",
            "showbackground": true,
            "showgrid": false,
            "showline": true,
            "ticks": "outside",
            "zeroline": false,
            "zerolinecolor": "rgb(36,36,36)"
           },
           "yaxis": {
            "backgroundcolor": "white",
            "gridcolor": "rgb(232,232,232)",
            "gridwidth": 2,
            "linecolor": "rgb(36,36,36)",
            "showbackground": true,
            "showgrid": false,
            "showline": true,
            "ticks": "outside",
            "zeroline": false,
            "zerolinecolor": "rgb(36,36,36)"
           },
           "zaxis": {
            "backgroundcolor": "white",
            "gridcolor": "rgb(232,232,232)",
            "gridwidth": 2,
            "linecolor": "rgb(36,36,36)",
            "showbackground": true,
            "showgrid": false,
            "showline": true,
            "ticks": "outside",
            "zeroline": false,
            "zerolinecolor": "rgb(36,36,36)"
           }
          },
          "shapedefaults": {
           "fillcolor": "black",
           "line": {
            "width": 0
           },
           "opacity": 0.3
          },
          "ternary": {
           "aaxis": {
            "gridcolor": "rgb(232,232,232)",
            "linecolor": "rgb(36,36,36)",
            "showgrid": false,
            "showline": true,
            "ticks": "outside"
           },
           "baxis": {
            "gridcolor": "rgb(232,232,232)",
            "linecolor": "rgb(36,36,36)",
            "showgrid": false,
            "showline": true,
            "ticks": "outside"
           },
           "bgcolor": "white",
           "caxis": {
            "gridcolor": "rgb(232,232,232)",
            "linecolor": "rgb(36,36,36)",
            "showgrid": false,
            "showline": true,
            "ticks": "outside"
           }
          },
          "title": {
           "x": 0.05
          },
          "xaxis": {
           "automargin": true,
           "gridcolor": "rgb(232,232,232)",
           "linecolor": "rgb(36,36,36)",
           "showgrid": false,
           "showline": true,
           "ticks": "outside",
           "title": {
            "standoff": 15
           },
           "zeroline": false,
           "zerolinecolor": "rgb(36,36,36)"
          },
          "yaxis": {
           "automargin": true,
           "gridcolor": "rgb(232,232,232)",
           "linecolor": "rgb(36,36,36)",
           "showgrid": false,
           "showline": true,
           "ticks": "outside",
           "title": {
            "standoff": 15
           },
           "zeroline": false,
           "zerolinecolor": "rgb(36,36,36)"
          }
         }
        },
        "xaxis": {
         "anchor": "y",
         "domain": [
          0,
          1
         ],
         "title": {
          "text": "UrbanPop"
         }
        },
        "xaxis2": {
         "anchor": "y2",
         "domain": [
          0,
          1
         ],
         "matches": "x",
         "showticklabels": false
        },
        "yaxis": {
         "anchor": "x",
         "domain": [
          0,
          0.7326
         ],
         "title": {
          "text": "Murder"
         }
        },
        "yaxis2": {
         "anchor": "x2",
         "domain": [
          0.7426,
          1
         ],
         "matches": "y2",
         "showline": false,
         "showticklabels": false,
         "ticks": ""
        }
       }
      }
     },
     "metadata": {},
     "output_type": "display_data"
    }
   ],
   "source": [
    "import plotly.express as px\n",
    "fig = px.scatter(arrests_df, x=\"UrbanPop\", y=\"Murder\",\n",
    "                color=\"City\",\n",
    "                marginal_x=\"box\", trendline=\"ols\",\n",
    "                template=\"simple_white\")\n",
    "fig.show()"
   ]
  },
  {
   "cell_type": "markdown",
   "metadata": {},
   "source": [
    "Advice based on the current data analysis for arrests by city:\n",
    "\n",
    "* The higher Murders by Ubran pop occur in new york, florida and california.  \n",
    "* Those that commited assault are most likely to commit rape or murder and being arrested, those with highest assault have also commited murder\n",
    "* Strong positive correlation is seen between assault and murder and assault and rape\n",
    "* Although the dataset is not so big, it can provide some useful insights."
   ]
  },
  {
   "cell_type": "markdown",
   "metadata": {},
   "source": []
  }
 ],
 "metadata": {
  "kernelspec": {
   "display_name": "base",
   "language": "python",
   "name": "python3"
  },
  "language_info": {
   "codemirror_mode": {
    "name": "ipython",
    "version": 3
   },
   "file_extension": ".py",
   "mimetype": "text/x-python",
   "name": "python",
   "nbconvert_exporter": "python",
   "pygments_lexer": "ipython3",
   "version": "3.9.18"
  }
 },
 "nbformat": 4,
 "nbformat_minor": 2
}
