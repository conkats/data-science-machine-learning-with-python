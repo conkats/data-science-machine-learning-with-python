{
 "cells": [
  {
   "cell_type": "markdown",
   "id": "e3ca2d56",
   "metadata": {},
   "source": [
    "## Standard Neural-Network"
   ]
  },
  {
   "cell_type": "code",
   "execution_count": 1,
   "id": "b7ff04bb",
   "metadata": {},
   "outputs": [
    {
     "name": "stderr",
     "output_type": "stream",
     "text": [
      "2025-06-22 13:21:16.170451: I external/local_xla/xla/tsl/cuda/cudart_stub.cc:32] Could not find cuda drivers on your machine, GPU will not be used.\n",
      "2025-06-22 13:21:16.410439: I external/local_xla/xla/tsl/cuda/cudart_stub.cc:32] Could not find cuda drivers on your machine, GPU will not be used.\n",
      "2025-06-22 13:21:16.614148: E external/local_xla/xla/stream_executor/cuda/cuda_fft.cc:467] Unable to register cuFFT factory: Attempting to register factory for plugin cuFFT when one has already been registered\n",
      "WARNING: All log messages before absl::InitializeLog() is called are written to STDERR\n",
      "E0000 00:00:1750594876.784791    4520 cuda_dnn.cc:8579] Unable to register cuDNN factory: Attempting to register factory for plugin cuDNN when one has already been registered\n",
      "E0000 00:00:1750594876.835349    4520 cuda_blas.cc:1407] Unable to register cuBLAS factory: Attempting to register factory for plugin cuBLAS when one has already been registered\n",
      "W0000 00:00:1750594877.240876    4520 computation_placer.cc:177] computation placer already registered. Please check linkage and avoid linking the same target more than once.\n",
      "W0000 00:00:1750594877.240939    4520 computation_placer.cc:177] computation placer already registered. Please check linkage and avoid linking the same target more than once.\n",
      "W0000 00:00:1750594877.240942    4520 computation_placer.cc:177] computation placer already registered. Please check linkage and avoid linking the same target more than once.\n",
      "W0000 00:00:1750594877.240944    4520 computation_placer.cc:177] computation placer already registered. Please check linkage and avoid linking the same target more than once.\n",
      "2025-06-22 13:21:17.287943: I tensorflow/core/platform/cpu_feature_guard.cc:210] This TensorFlow binary is optimized to use available CPU instructions in performance-critical operations.\n",
      "To enable the following instructions: AVX2 FMA, in other operations, rebuild TensorFlow with the appropriate compiler flags.\n"
     ]
    }
   ],
   "source": [
    "# Import libraries\n",
    "import numpy as np \n",
    "from numpy import loadtxt\n",
    "from tensorflow.keras.models import Sequential\n",
    "from tensorflow.keras.layers import Dense\n",
    "from sklearn.metrics import confusion_matrix, classification_report, roc_curve,auc\n",
    "import pandas as pd\n",
    "import urllib.request\n",
    "import matplotlib.pyplot as plt"
   ]
  },
  {
   "cell_type": "code",
   "execution_count": 2,
   "id": "9b5f5efa",
   "metadata": {},
   "outputs": [
    {
     "name": "stdout",
     "output_type": "stream",
     "text": [
      "[[6.000e+00 1.480e+02 7.200e+01 3.500e+01 0.000e+00 3.360e+01 6.270e-01\n",
      "  5.000e+01 1.000e+00]\n",
      " [1.000e+00 8.500e+01 6.600e+01 2.900e+01 0.000e+00 2.660e+01 3.510e-01\n",
      "  3.100e+01 0.000e+00]\n",
      " [8.000e+00 1.830e+02 6.400e+01 0.000e+00 0.000e+00 2.330e+01 6.720e-01\n",
      "  3.200e+01 1.000e+00]\n",
      " [1.000e+00 8.900e+01 6.600e+01 2.300e+01 9.400e+01 2.810e+01 1.670e-01\n",
      "  2.100e+01 0.000e+00]\n",
      " [0.000e+00 1.370e+02 4.000e+01 3.500e+01 1.680e+02 4.310e+01 2.288e+00\n",
      "  3.300e+01 1.000e+00]]\n"
     ]
    }
   ],
   "source": [
    "# URL of the dataset\n",
    "url = \"https://raw.githubusercontent.com/jbrownlee/Datasets/master/pima-indians-diabetes.data.csv\"\n",
    "\n",
    "# Open the URL and read the dataset\n",
    "with urllib.request.urlopen(url) as response:\n",
    "    dataset = np.loadtxt(response, delimiter=',')\n",
    "\n",
    "# Displaying the first few rows of the dataset to verify\n",
    "print(dataset[:5])"
   ]
  },
  {
   "cell_type": "code",
   "execution_count": 3,
   "id": "01229dcc",
   "metadata": {},
   "outputs": [],
   "source": [
    "# split into input (X) and output (y) variables\n",
    "X = dataset[:,0:8]\n",
    "y = dataset[:,8]"
   ]
  },
  {
   "cell_type": "code",
   "execution_count": 8,
   "id": "204293e3",
   "metadata": {},
   "outputs": [
    {
     "name": "stderr",
     "output_type": "stream",
     "text": [
      "/home/conmec/miniconda3/lib/python3.12/site-packages/keras/src/layers/core/dense.py:93: UserWarning: Do not pass an `input_shape`/`input_dim` argument to a layer. When using Sequential models, prefer using an `Input(shape)` object as the first layer in the model instead.\n",
      "  super().__init__(activity_regularizer=activity_regularizer, **kwargs)\n"
     ]
    }
   ],
   "source": [
    "# Define the keras model\n",
    "# layer by layer to create a Sequential model to add our layers\n",
    "# so to create an architecture of the neural network\n",
    "model = Sequential()\n",
    "model.add(Dense(12, input_dim=8, activation='relu'))  # expects 8 variables as input, as 12 neurons in the following layer \n",
    "model.add(Dense(8, activation='relu'))  # subsequent layer with 8 neurons\n",
    "model.add(Dense(1, activation='sigmoid'))  # output has 1 neuron, since it's just predicting onset of diabetes 'yes' or 'no'"
   ]
  },
  {
   "cell_type": "code",
   "execution_count": 9,
   "id": "0d09db14",
   "metadata": {},
   "outputs": [],
   "source": [
    "# Compiling the model with TensorFlow backend\n",
    "# DEfine loss function, optimizer and metrics using binary crossentropy\n",
    "model.compile(loss='binary_crossentropy', optimizer='adam', metrics=['accuracy'])"
   ]
  },
  {
   "cell_type": "code",
   "execution_count": 10,
   "id": "986bc4bd",
   "metadata": {},
   "outputs": [
    {
     "data": {
      "text/plain": [
       "<keras.src.callbacks.history.History at 0x7b83a301daf0>"
      ]
     },
     "execution_count": 10,
     "metadata": {},
     "output_type": "execute_result"
    }
   ],
   "source": [
    "# Train the Keras NN model on the input data X and target label y\n",
    "# iterate for 150 times(epochs) and process the data in batches of 10 samples each time\n",
    "# to update the weights of the model and minimize the loss & improve accuracy\n",
    "\n",
    "#train the model on the loaded dataset by calling the fit method\n",
    "model.fit(X, y, epochs=150, batch_size=10, verbose=0)"
   ]
  },
  {
   "cell_type": "code",
   "execution_count": 11,
   "id": "b23b9921",
   "metadata": {},
   "outputs": [
    {
     "name": "stdout",
     "output_type": "stream",
     "text": [
      "\u001b[1m24/24\u001b[0m \u001b[32m━━━━━━━━━━━━━━━━━━━━\u001b[0m\u001b[37m\u001b[0m \u001b[1m0s\u001b[0m 2ms/step - accuracy: 0.7546 - loss: 0.4709  \n",
      "Accuracy: 77.08\n"
     ]
    }
   ],
   "source": [
    "# Find ou the accuracy of the model to evaluate its performance after training\n",
    "# Accuracy is the ratio of correctly predicted instances to the total instances ('24' indicates the evaluation was done on '24' batches of the data samples)\n",
    "# evaluate the keras model\n",
    "_, accuracy = model.evaluate(X, y, verbose=1)\n",
    "print('Accuracy: %.2f' % (accuracy * 100))"
   ]
  },
  {
   "cell_type": "code",
   "execution_count": 13,
   "id": "69e27d70",
   "metadata": {},
   "outputs": [
    {
     "name": "stdout",
     "output_type": "stream",
     "text": [
      "\u001b[1m 1/24\u001b[0m \u001b[37m━━━━━━━━━━━━━━━━━━━━\u001b[0m \u001b[1m0s\u001b[0m 15ms/step"
     ]
    },
    {
     "name": "stdout",
     "output_type": "stream",
     "text": [
      "\u001b[1m24/24\u001b[0m \u001b[32m━━━━━━━━━━━━━━━━━━━━\u001b[0m\u001b[37m\u001b[0m \u001b[1m0s\u001b[0m 2ms/step \n",
      "[[0.58866221 1.        ]\n",
      " [0.14463241 0.        ]\n",
      " [0.93496668 1.        ]\n",
      " [0.13074079 0.        ]\n",
      " [0.81112373 1.        ]\n",
      " [0.23187117 0.        ]\n",
      " [0.23327662 1.        ]\n",
      " [0.36589715 0.        ]\n",
      " [0.99443197 1.        ]\n",
      " [0.19791114 1.        ]]\n"
     ]
    }
   ],
   "source": [
    "# Side by side comparison of the actual and predicted values\n",
    "# make probability predictions with the model and change the output to a binary nature\n",
    "# predict probabilities for the input data\n",
    "predictions = model.predict(X)\n",
    "# round predictions to class label\n",
    "rounded = [round(x[0]) for x in predictions]\n",
    "combined_matrix = np.column_stack((predictions,y))\n",
    "print(combined_matrix[0:10])  # Display first 10 rows of combined matrix"
   ]
  },
  {
   "cell_type": "code",
   "execution_count": 14,
   "id": "c84aa76d",
   "metadata": {},
   "outputs": [
    {
     "name": "stdout",
     "output_type": "stream",
     "text": [
      "Confusion Matrix:\n",
      "[[442  58]\n",
      " [118 150]]\n"
     ]
    }
   ],
   "source": [
    "# Create a confusion matrix to evaluate the performance of the model\n",
    "# commonly used for classification problems to summarize the performance of a classification algorithm\n",
    "cm = confusion_matrix(y,rounded)\n",
    "print('Confusion Matrix:')\n",
    "print(cm)"
   ]
  },
  {
   "cell_type": "code",
   "execution_count": 15,
   "id": "5e1c140f",
   "metadata": {},
   "outputs": [
    {
     "name": "stdout",
     "output_type": "stream",
     "text": [
      "Classification Report:\n",
      "              precision    recall  f1-score   support\n",
      "\n",
      "         0.0       0.79      0.88      0.83       500\n",
      "         1.0       0.72      0.56      0.63       268\n",
      "\n",
      "    accuracy                           0.77       768\n",
      "   macro avg       0.76      0.72      0.73       768\n",
      "weighted avg       0.77      0.77      0.76       768\n",
      "\n"
     ]
    }
   ],
   "source": [
    "# Classification report \n",
    "cr = classification_report(y, rounded)\n",
    "print('Classification Report:')\n",
    "print(cr)"
   ]
  },
  {
   "cell_type": "code",
   "execution_count": 16,
   "id": "9d2c5fc0",
   "metadata": {},
   "outputs": [
    {
     "data": {
      "image/png": "[encoded data removed]",
      "text/plain": [
       "<Figure size 640x480 with 1 Axes>"
      ]
     },
     "metadata": {},
     "output_type": "display_data"
    }
   ],
   "source": [
    "# Plotting the ROC curve and AUC\n",
    "# AUC (Area Under the Curve) is a performance measurement for classification problems at various threshold settings\n",
    "fpr, tpr, thresholds = roc_curve(y, predictions)\n",
    "roc_auc = auc(fpr, tpr)\n",
    "\n",
    "plt.figure()\n",
    "plt.plot(fpr, tpr, color='darkorange', lw=2, label='ROC curve (area = {:.2f})'.format(roc_auc))\n",
    "plt.plot([0, 1], [0, 1], color='navy', lw=2, linestyle='--')\n",
    "plt.xlim([0.0, 1.0])\n",
    "plt.ylim([0.0, 1.05])\n",
    "plt.xlabel('False Positive Rate')\n",
    "plt.ylabel('True Positive Rate')\n",
    "plt.title('Receiver Operating Characteristic (ROC) Curve')\n",
    "plt.legend(loc='lower right')\n",
    "plt.show()"
   ]
  },
  {
   "cell_type": "code",
   "execution_count": null,
   "id": "764caa2e",
   "metadata": {},
   "outputs": [
    {
     "data": {
      "text/html": [
       "<pre style=\"white-space:pre;overflow-x:auto;line-height:normal;font-family:Menlo,'DejaVu Sans Mono',consolas,'Courier New',monospace\"><span style=\"font-weight: bold\">Model: \"sequential_2\"</span>\n",
       "</pre>\n"
      ],
      "text/plain": [
       "\u001b[1mModel: \"sequential_2\"\u001b[0m\n"
      ]
     },
     "metadata": {},
     "output_type": "display_data"
    },
    {
     "data": {
      "text/html": [
       "<pre style=\"white-space:pre;overflow-x:auto;line-height:normal;font-family:Menlo,'DejaVu Sans Mono',consolas,'Courier New',monospace\">┏━━━━━━━━━━━━━━━━━━━━━━━━━━━━━━━━━┳━━━━━━━━━━━━━━━━━━━━━━━━┳━━━━━━━━━━━━━━━┓\n",
       "┃<span style=\"font-weight: bold\"> Layer (type)                    </span>┃<span style=\"font-weight: bold\"> Output Shape           </span>┃<span style=\"font-weight: bold\">       Param # </span>┃\n",
       "┡━━━━━━━━━━━━━━━━━━━━━━━━━━━━━━━━━╇━━━━━━━━━━━━━━━━━━━━━━━━╇━━━━━━━━━━━━━━━┩\n",
       "│ dense_3 (<span style=\"color: #0087ff; text-decoration-color: #0087ff\">Dense</span>)                 │ (<span style=\"color: #00d7ff; text-decoration-color: #00d7ff\">None</span>, <span style=\"color: #00af00; text-decoration-color: #00af00\">12</span>)             │           <span style=\"color: #00af00; text-decoration-color: #00af00\">108</span> │\n",
       "├─────────────────────────────────┼────────────────────────┼───────────────┤\n",
       "│ dense_4 (<span style=\"color: #0087ff; text-decoration-color: #0087ff\">Dense</span>)                 │ (<span style=\"color: #00d7ff; text-decoration-color: #00d7ff\">None</span>, <span style=\"color: #00af00; text-decoration-color: #00af00\">8</span>)              │           <span style=\"color: #00af00; text-decoration-color: #00af00\">104</span> │\n",
       "├─────────────────────────────────┼────────────────────────┼───────────────┤\n",
       "│ dense_5 (<span style=\"color: #0087ff; text-decoration-color: #0087ff\">Dense</span>)                 │ (<span style=\"color: #00d7ff; text-decoration-color: #00d7ff\">None</span>, <span style=\"color: #00af00; text-decoration-color: #00af00\">1</span>)              │             <span style=\"color: #00af00; text-decoration-color: #00af00\">9</span> │\n",
       "└─────────────────────────────────┴────────────────────────┴───────────────┘\n",
       "</pre>\n"
      ],
      "text/plain": [
       "┏━━━━━━━━━━━━━━━━━━━━━━━━━━━━━━━━━┳━━━━━━━━━━━━━━━━━━━━━━━━┳━━━━━━━━━━━━━━━┓\n",
       "┃\u001b[1m \u001b[0m\u001b[1mLayer (type)                   \u001b[0m\u001b[1m \u001b[0m┃\u001b[1m \u001b[0m\u001b[1mOutput Shape          \u001b[0m\u001b[1m \u001b[0m┃\u001b[1m \u001b[0m\u001b[1m      Param #\u001b[0m\u001b[1m \u001b[0m┃\n",
       "┡━━━━━━━━━━━━━━━━━━━━━━━━━━━━━━━━━╇━━━━━━━━━━━━━━━━━━━━━━━━╇━━━━━━━━━━━━━━━┩\n",
       "│ dense_3 (\u001b[38;5;33mDense\u001b[0m)                 │ (\u001b[38;5;45mNone\u001b[0m, \u001b[38;5;34m12\u001b[0m)             │           \u001b[38;5;34m108\u001b[0m │\n",
       "├─────────────────────────────────┼────────────────────────┼───────────────┤\n",
       "│ dense_4 (\u001b[38;5;33mDense\u001b[0m)                 │ (\u001b[38;5;45mNone\u001b[0m, \u001b[38;5;34m8\u001b[0m)              │           \u001b[38;5;34m104\u001b[0m │\n",
       "├─────────────────────────────────┼────────────────────────┼───────────────┤\n",
       "│ dense_5 (\u001b[38;5;33mDense\u001b[0m)                 │ (\u001b[38;5;45mNone\u001b[0m, \u001b[38;5;34m1\u001b[0m)              │             \u001b[38;5;34m9\u001b[0m │\n",
       "└─────────────────────────────────┴────────────────────────┴───────────────┘\n"
      ]
     },
     "metadata": {},
     "output_type": "display_data"
    },
    {
     "data": {
      "text/html": [
       "<pre style=\"white-space:pre;overflow-x:auto;line-height:normal;font-family:Menlo,'DejaVu Sans Mono',consolas,'Courier New',monospace\"><span style=\"font-weight: bold\"> Total params: </span><span style=\"color: #00af00; text-decoration-color: #00af00\">665</span> (2.60 KB)\n",
       "</pre>\n"
      ],
      "text/plain": [
       "\u001b[1m Total params: \u001b[0m\u001b[38;5;34m665\u001b[0m (2.60 KB)\n"
      ]
     },
     "metadata": {},
     "output_type": "display_data"
    },
    {
     "data": {
      "text/html": [
       "<pre style=\"white-space:pre;overflow-x:auto;line-height:normal;font-family:Menlo,'DejaVu Sans Mono',consolas,'Courier New',monospace\"><span style=\"font-weight: bold\"> Trainable params: </span><span style=\"color: #00af00; text-decoration-color: #00af00\">221</span> (884.00 B)\n",
       "</pre>\n"
      ],
      "text/plain": [
       "\u001b[1m Trainable params: \u001b[0m\u001b[38;5;34m221\u001b[0m (884.00 B)\n"
      ]
     },
     "metadata": {},
     "output_type": "display_data"
    },
    {
     "data": {
      "text/html": [
       "<pre style=\"white-space:pre;overflow-x:auto;line-height:normal;font-family:Menlo,'DejaVu Sans Mono',consolas,'Courier New',monospace\"><span style=\"font-weight: bold\"> Non-trainable params: </span><span style=\"color: #00af00; text-decoration-color: #00af00\">0</span> (0.00 B)\n",
       "</pre>\n"
      ],
      "text/plain": [
       "\u001b[1m Non-trainable params: \u001b[0m\u001b[38;5;34m0\u001b[0m (0.00 B)\n"
      ]
     },
     "metadata": {},
     "output_type": "display_data"
    },
    {
     "data": {
      "text/html": [
       "<pre style=\"white-space:pre;overflow-x:auto;line-height:normal;font-family:Menlo,'DejaVu Sans Mono',consolas,'Courier New',monospace\"><span style=\"font-weight: bold\"> Optimizer params: </span><span style=\"color: #00af00; text-decoration-color: #00af00\">444</span> (1.74 KB)\n",
       "</pre>\n"
      ],
      "text/plain": [
       "\u001b[1m Optimizer params: \u001b[0m\u001b[38;5;34m444\u001b[0m (1.74 KB)\n"
      ]
     },
     "metadata": {},
     "output_type": "display_data"
    }
   ],
   "source": [
    "# Summary of the neural network model and the architecure\n",
    "# number of layers, parameters, and the activation functions used\n",
    "model.summary()"
   ]
  },
  {
   "cell_type": "markdown",
   "id": "159708f4",
   "metadata": {},
   "source": [
    "the above can be useful with variational encoders in case that the neuron count per layer from high-to-low to highor there is a mismatch in shape"
   ]
  },
  {
   "cell_type": "code",
   "execution_count": 19,
   "id": "7d2ee105",
   "metadata": {},
   "outputs": [
    {
     "name": "stderr",
     "output_type": "stream",
     "text": [
      "/tmp/ipykernel_4520/4243489938.py:4: UserWarning: To copy construct from a tensor, it is recommended to use sourceTensor.clone().detach() or sourceTensor.clone().detach().requires_grad_(True), rather than torch.tensor(sourceTensor).\n",
      "  X = torch.tensor(X, dtype=torch.float32)\n",
      "/tmp/ipykernel_4520/4243489938.py:5: UserWarning: To copy construct from a tensor, it is recommended to use sourceTensor.clone().detach() or sourceTensor.clone().detach().requires_grad_(True), rather than torch.tensor(sourceTensor).\n",
      "  y = torch.tensor(y, dtype=torch.float32).reshape(-1, 1)\n"
     ]
    }
   ],
   "source": [
    "# Convert the data (numpy arrays) to Pytorch tensors\n",
    "# avoding mismatched data formats later and errors\n",
    "import torch\n",
    "X = torch.tensor(X, dtype=torch.float32)\n",
    "y = torch.tensor(y, dtype=torch.float32).reshape(-1, 1)"
   ]
  },
  {
   "cell_type": "code",
   "execution_count": 22,
   "id": "12accdb8",
   "metadata": {},
   "outputs": [
    {
     "name": "stdout",
     "output_type": "stream",
     "text": [
      "Sequential(\n",
      "  (0): Linear(in_features=8, out_features=12, bias=True)\n",
      "  (1): ReLU()\n",
      "  (2): Linear(in_features=12, out_features=8, bias=True)\n",
      "  (3): ReLU()\n",
      "  (4): Linear(in_features=8, out_features=1, bias=True)\n",
      "  (5): Sigmoid()\n",
      ")\n"
     ]
    }
   ],
   "source": [
    "# Create again a sequential model in Pytorch with the layers listed.\n",
    "# first layer needs to match the input data, i.e. match the sizes of the previous code in Keras\n",
    "import torch.nn as nn\n",
    "model = nn.Sequential(\n",
    "    nn.Linear(8, 12),  # input layer with 8 features and 12 neurons\n",
    "    nn.ReLU(),         # activation function for the first layer\n",
    "    nn.Linear(12, 8),  # second layer with 12 neurons and 8 neurons\n",
    "    nn.ReLU(),         # activation function for the second layer\n",
    "    nn.Linear(8, 1),   # output layer with 1 neuron\n",
    "    nn.Sigmoid()       # activation function for the output layer\n",
    ")\n",
    "print(model)"
   ]
  },
  {
   "cell_type": "code",
   "execution_count": 23,
   "id": "2e1ede3b",
   "metadata": {},
   "outputs": [
    {
     "name": "stdout",
     "output_type": "stream",
     "text": [
      "Finished epoch 0, latest loss 0.603904128074646\n",
      "Finished epoch 1, latest loss 0.5923048853874207\n",
      "Finished epoch 2, latest loss 0.5731387734413147\n",
      "Finished epoch 3, latest loss 0.5344749093055725\n",
      "Finished epoch 4, latest loss 0.49544966220855713\n",
      "Finished epoch 5, latest loss 0.493211954832077\n",
      "Finished epoch 6, latest loss 0.48220357298851013\n",
      "Finished epoch 7, latest loss 0.4638974070549011\n",
      "Finished epoch 8, latest loss 0.46206867694854736\n",
      "Finished epoch 9, latest loss 0.46179893612861633\n",
      "Finished epoch 10, latest loss 0.4606391489505768\n",
      "Finished epoch 11, latest loss 0.44751688838005066\n",
      "Finished epoch 12, latest loss 0.44295740127563477\n",
      "Finished epoch 13, latest loss 0.4689052999019623\n",
      "Finished epoch 14, latest loss 0.438371479511261\n",
      "Finished epoch 15, latest loss 0.42308127880096436\n",
      "Finished epoch 16, latest loss 0.43146854639053345\n",
      "Finished epoch 17, latest loss 0.4211147427558899\n",
      "Finished epoch 18, latest loss 0.4216967821121216\n",
      "Finished epoch 19, latest loss 0.41273483633995056\n",
      "Finished epoch 20, latest loss 0.4014972746372223\n",
      "Finished epoch 21, latest loss 0.45829105377197266\n",
      "Finished epoch 22, latest loss 0.3984970450401306\n",
      "Finished epoch 23, latest loss 0.39696308970451355\n",
      "Finished epoch 24, latest loss 0.40940263867378235\n",
      "Finished epoch 25, latest loss 0.3975088894367218\n",
      "Finished epoch 26, latest loss 0.3914572596549988\n",
      "Finished epoch 27, latest loss 0.3887293040752411\n",
      "Finished epoch 28, latest loss 0.3914913237094879\n",
      "Finished epoch 29, latest loss 0.38845714926719666\n",
      "Finished epoch 30, latest loss 0.39349937438964844\n",
      "Finished epoch 31, latest loss 0.38214802742004395\n",
      "Finished epoch 32, latest loss 0.3797744810581207\n",
      "Finished epoch 33, latest loss 0.3750714659690857\n",
      "Finished epoch 34, latest loss 0.37950390577316284\n",
      "Finished epoch 35, latest loss 0.3763788044452667\n",
      "Finished epoch 36, latest loss 0.3761725425720215\n",
      "Finished epoch 37, latest loss 0.3743998110294342\n",
      "Finished epoch 38, latest loss 0.37203478813171387\n",
      "Finished epoch 39, latest loss 0.3624739348888397\n",
      "Finished epoch 40, latest loss 0.3610592484474182\n",
      "Finished epoch 41, latest loss 0.35321205854415894\n",
      "Finished epoch 42, latest loss 0.35031405091285706\n",
      "Finished epoch 43, latest loss 0.3499617576599121\n",
      "Finished epoch 44, latest loss 0.3444473147392273\n",
      "Finished epoch 45, latest loss 0.3396381735801697\n",
      "Finished epoch 46, latest loss 0.3379122316837311\n",
      "Finished epoch 47, latest loss 0.33973878622055054\n",
      "Finished epoch 48, latest loss 0.3333978056907654\n",
      "Finished epoch 49, latest loss 0.33123862743377686\n",
      "Finished epoch 50, latest loss 0.32696282863616943\n",
      "Finished epoch 51, latest loss 0.32787778973579407\n",
      "Finished epoch 52, latest loss 0.32734397053718567\n",
      "Finished epoch 53, latest loss 0.3264297842979431\n",
      "Finished epoch 54, latest loss 0.32197511196136475\n",
      "Finished epoch 55, latest loss 0.3197610378265381\n",
      "Finished epoch 56, latest loss 0.31980422139167786\n",
      "Finished epoch 57, latest loss 0.31649455428123474\n",
      "Finished epoch 58, latest loss 0.3142055869102478\n",
      "Finished epoch 59, latest loss 0.3149026930332184\n",
      "Finished epoch 60, latest loss 0.3160698711872101\n",
      "Finished epoch 61, latest loss 0.3130004405975342\n",
      "Finished epoch 62, latest loss 0.3157295286655426\n",
      "Finished epoch 63, latest loss 0.31016844511032104\n",
      "Finished epoch 64, latest loss 0.31218230724334717\n",
      "Finished epoch 65, latest loss 0.31103625893592834\n",
      "Finished epoch 66, latest loss 0.30904021859169006\n",
      "Finished epoch 67, latest loss 0.309170663356781\n",
      "Finished epoch 68, latest loss 0.30842024087905884\n",
      "Finished epoch 69, latest loss 0.30588996410369873\n",
      "Finished epoch 70, latest loss 0.3067575693130493\n",
      "Finished epoch 71, latest loss 0.3068256378173828\n",
      "Finished epoch 72, latest loss 0.3060462772846222\n",
      "Finished epoch 73, latest loss 0.305806964635849\n",
      "Finished epoch 74, latest loss 0.30072295665740967\n",
      "Finished epoch 75, latest loss 0.3039515018463135\n",
      "Finished epoch 76, latest loss 0.30370640754699707\n",
      "Finished epoch 77, latest loss 0.303752601146698\n",
      "Finished epoch 78, latest loss 0.3027428686618805\n",
      "Finished epoch 79, latest loss 0.30141159892082214\n",
      "Finished epoch 80, latest loss 0.3026745021343231\n",
      "Finished epoch 81, latest loss 0.3030485212802887\n",
      "Finished epoch 82, latest loss 0.29654982686042786\n",
      "Finished epoch 83, latest loss 0.2984577715396881\n",
      "Finished epoch 84, latest loss 0.3000839352607727\n",
      "Finished epoch 85, latest loss 0.30091843008995056\n",
      "Finished epoch 86, latest loss 0.30117082595825195\n",
      "Finished epoch 87, latest loss 0.2965026795864105\n",
      "Finished epoch 88, latest loss 0.2949197292327881\n",
      "Finished epoch 89, latest loss 0.29523545503616333\n",
      "Finished epoch 90, latest loss 0.295247882604599\n",
      "Finished epoch 91, latest loss 0.29527783393859863\n",
      "Finished epoch 92, latest loss 0.29524463415145874\n",
      "Finished epoch 93, latest loss 0.3003826439380646\n",
      "Finished epoch 94, latest loss 0.2944159507751465\n",
      "Finished epoch 95, latest loss 0.2932322919368744\n",
      "Finished epoch 96, latest loss 0.28942352533340454\n",
      "Finished epoch 97, latest loss 0.2990429997444153\n",
      "Finished epoch 98, latest loss 0.2926871180534363\n",
      "Finished epoch 99, latest loss 0.2911614775657654\n"
     ]
    }
   ],
   "source": [
    "# The difference in the code below lies in the way the training is defined.\n",
    "# Pytorch offers more explicit control over the training loop, requiring to manually iterate over epochs and batches.\n",
    "# Keras is a high-level API that abstracts away many of these details, making the code more concise.\n",
    "# THe training loop is handled internally by the fit model.\n",
    "loss_fn = nn.BCELoss()  # Binary Cross-Entropy Loss for binary classification\n",
    "optimizer = torch.optim.Adam(model.parameters(), lr=0.001)  # Adam optimizer\n",
    "\n",
    "n_epochs = 100\n",
    "batch_size = 10\n",
    "\n",
    "for epoch in range(n_epochs):\n",
    "    for i in range(0, len(X), batch_size):\n",
    "        Xbatch = X[i:i+batch_size]\n",
    "        y_pred = model(Xbatch)\n",
    "        ybatch = y[i:i+batch_size]\n",
    "        loss = loss_fn(y_pred, ybatch)\n",
    "        optimizer.zero_grad()  # Zero the gradients\n",
    "        loss.backward()  # Backpropagation\n",
    "        optimizer.step()  # Update the weights\n",
    "    print(f\"Finished epoch {epoch}, latest loss {loss}\")"
   ]
  }
 ],
 "metadata": {
  "kernelspec": {
   "display_name": "base",
   "language": "python",
   "name": "python3"
  },
  "language_info": {
   "codemirror_mode": {
    "name": "ipython",
    "version": 3
   },
   "file_extension": ".py",
   "mimetype": "text/x-python",
   "name": "python",
   "nbconvert_exporter": "python",
   "pygments_lexer": "ipython3",
   "version": "3.12.9"
  }
 },
 "nbformat": 4,
 "nbformat_minor": 5
}
